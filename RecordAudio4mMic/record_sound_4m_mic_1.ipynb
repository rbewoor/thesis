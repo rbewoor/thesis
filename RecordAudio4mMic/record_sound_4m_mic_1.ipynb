{
 "cells": [
  {
   "cell_type": "code",
   "execution_count": null,
   "metadata": {},
   "outputs": [],
   "source": []
  },
  {
   "cell_type": "code",
   "execution_count": null,
   "metadata": {},
   "outputs": [],
   "source": [
    "## using pyaudio with portaudio\n",
    "\n",
    "## https://realpython.com/playing-and-recording-sound-python/\n",
    "## Playing and Recording Sound in Python\n",
    "\n",
    "## python-sounddevice and pyaudio provide bindings for the PortAudio library for cross-platform playback\n",
    "##      of WAV files."
   ]
  },
  {
   "cell_type": "code",
   "execution_count": null,
   "metadata": {},
   "outputs": [],
   "source": [
    "## anaconda environment setup\n",
    "\n",
    "uses pyaudio and portaudio\n",
    "\n",
    "\t\tconda environment setup  -- using python 3.7.7 as thats what combined execution is using already\n",
    "conda create -n ce10recsnd1 python=3.7.7\n",
    "conda install pyaudio\t\t\t-- installed portaudio automatically\n",
    "conda install jupyter"
   ]
  },
  {
   "cell_type": "code",
   "execution_count": null,
   "metadata": {},
   "outputs": [],
   "source": []
  },
  {
   "cell_type": "markdown",
   "metadata": {},
   "source": [
    "# Check soundcard status"
   ]
  },
  {
   "cell_type": "markdown",
   "metadata": {},
   "source": [
    "### Check for Soundcard with PyAudio when Soundcard is present or removed\n",
    "### https://stackoverflow.com/questions/28453240/check-for-soundcard-with-pyaudio-when-soundcard-is-present-or-removed"
   ]
  },
  {
   "cell_type": "code",
   "execution_count": 4,
   "metadata": {},
   "outputs": [],
   "source": [
    "import pyaudio"
   ]
  },
  {
   "cell_type": "code",
   "execution_count": 5,
   "metadata": {},
   "outputs": [
    {
     "data": {
      "text/plain": [
       "{'index': 22,\n",
       " 'structVersion': 2,\n",
       " 'name': 'default',\n",
       " 'hostApi': 0,\n",
       " 'maxInputChannels': 32,\n",
       " 'maxOutputChannels': 32,\n",
       " 'defaultLowInputLatency': 0.008684807256235827,\n",
       " 'defaultLowOutputLatency': 0.008684807256235827,\n",
       " 'defaultHighInputLatency': 0.034807256235827665,\n",
       " 'defaultHighOutputLatency': 0.034807256235827665,\n",
       " 'defaultSampleRate': 44100.0}"
      ]
     },
     "execution_count": 5,
     "metadata": {},
     "output_type": "execute_result"
    }
   ],
   "source": [
    "pa = pyaudio.PyAudio()\n",
    "pa.get_default_output_device_info()"
   ]
  },
  {
   "cell_type": "code",
   "execution_count": null,
   "metadata": {},
   "outputs": [],
   "source": []
  },
  {
   "cell_type": "code",
   "execution_count": null,
   "metadata": {},
   "outputs": [],
   "source": [
    "## never worked and showed anything - even when the SETTINGS in ubuntu showed fine\n",
    "\"\"\"\n",
    "def get_soundcard_dev_info():\n",
    "    pad_sc = pyaudio.PyAudio()\n",
    "    max_devs = pad_sc.get_device_count()\n",
    "    input_devices_index = []\n",
    "    output_devices_index = []\n",
    "    print(f\"max_devs = {max_devs}\")\n",
    "    \n",
    "    for i in range(max_devs):\n",
    "        devinfo = pad_sc.get_device_info_by_index(i)\n",
    "        if \"TUSBAudio ASIO Driver\" in devinfo['name']:\n",
    "            input_devices_index.append(int(devinfo['index']))\n",
    "            output_devices_index.append(int(devinfo['index']))\n",
    "        if not input_devices_index:\n",
    "            print(f\"NONE\")\n",
    "        print(\"f{input_devices_index}\")\n",
    "        pad_sc.terminate()\n",
    "\"\"\"\n",
    "get_soundcard_dev_info()"
   ]
  },
  {
   "cell_type": "code",
   "execution_count": null,
   "metadata": {},
   "outputs": [],
   "source": []
  },
  {
   "cell_type": "markdown",
   "metadata": {},
   "source": [
    "# Play wav file with pyaudio\n",
    "### pyaudio provides bindings for PortAudio, the cross-platform audio I/O library. This means that you can use pyaudio to play and record audio on a variety of platforms, including Windows, Linux, and Mac. With pyaudio, playing audio is done by writing to a .Stream\n",
    "\n",
    "### As you may have noticed, playing sounds with pyaudio is a bit more complex than playing sounds with the libraries you’ve seen earlier. This means that it may not be your first choice if you just want to play a sound effect in your Python application. However, because pyaudio gives you more low-level control, it is possible to get and set parameters for your input and output devices, and to check your CPU load and input or output latency. It also allows you to play and record audio in callback mode, where a specified callback function is called when new data is required for playback, or available for recording. These options make pyaudio a suitable library to use if your audio needs go beyond simple playback. Now that you’ve seen how you can use a number of different libraries to play audio, it’s time to see how you can use Python to record audio yourself."
   ]
  },
  {
   "cell_type": "code",
   "execution_count": 1,
   "metadata": {},
   "outputs": [],
   "source": [
    "import pyaudio\n",
    "import wave\n",
    "import os"
   ]
  },
  {
   "cell_type": "code",
   "execution_count": 7,
   "metadata": {},
   "outputs": [],
   "source": [
    "#playFile = r'/media/rohit/DATA/EverythingD/01SRH-BDBA Acads/Thesis/StoryGenerator/audio/wavs/st_1_HM_Rohit_file1.wav'\n",
    "PLAY_FILE = r'/home/rohit/PyWDUbuntu/thesis/audio/wavs/pyaudio_rec_2.wav'"
   ]
  },
  {
   "cell_type": "code",
   "execution_count": 12,
   "metadata": {},
   "outputs": [
    {
     "data": {
      "text/plain": [
       "True"
      ]
     },
     "execution_count": 12,
     "metadata": {},
     "output_type": "execute_result"
    }
   ],
   "source": [
    "os.path.exists(PLAY_FILE)"
   ]
  },
  {
   "cell_type": "code",
   "execution_count": 20,
   "metadata": {},
   "outputs": [
    {
     "name": "stdout",
     "output_type": "stream",
     "text": [
      "\n",
      "Done\n"
     ]
    }
   ],
   "source": [
    "if os.path.exists(PLAY_FILE):\n",
    "    # Set chunk size of 1024 samples per data frame\n",
    "    chunk = 1024  \n",
    "\n",
    "    # Open the sound file \n",
    "    wf = wave.open(PLAY_FILE, 'rb')\n",
    "\n",
    "    # Create an interface to PortAudio\n",
    "    p = pyaudio.PyAudio()\n",
    "\n",
    "    # Open a .Stream object to write the WAV file to\n",
    "    # 'output = True' indicates that the sound will be played rather than recorded\n",
    "    stream = p.open(format = p.get_format_from_width(wf.getsampwidth()),\n",
    "                    channels = wf.getnchannels(),\n",
    "                    rate = wf.getframerate(),\n",
    "                    output = True)\n",
    "\n",
    "    # Read data in chunks\n",
    "    data = wf.readframes(chunk)\n",
    "\n",
    "    # Play the sound by writing the audio data to the stream\n",
    "    ###########\n",
    "    ## without checking for data = b'' it never exits so changed as per this link:\n",
    "    # https://stackoverflow.com/questions/34856992/when-i-play-a-wav-in-python-the-program-doesnt-stop-when-the-file-ends-leavin\n",
    "    #while data != '':\n",
    "    #    stream.write(data)\n",
    "    #    data = wf.readframes(chunk)\n",
    "    ###########\n",
    "    while data != b'':\n",
    "        stream.write(data)\n",
    "        data = wf.readframes(chunk)\n",
    "    # Close and terminate the stream\n",
    "    stream.close()\n",
    "    p.terminate()\n",
    "else:\n",
    "    print(f\"File not found: {PLAY_FILE}\")\n",
    "\n",
    "print(f\"\\nDone\")"
   ]
  },
  {
   "cell_type": "code",
   "execution_count": null,
   "metadata": {},
   "outputs": [],
   "source": []
  },
  {
   "cell_type": "code",
   "execution_count": null,
   "metadata": {},
   "outputs": [],
   "source": []
  },
  {
   "cell_type": "markdown",
   "metadata": {},
   "source": [
    "# Record Audio as wav file - fixed time\n",
    "### The python-sounddevice and pyaudio libraries provide ways to record audio with Python. python-sounddevice records to NumPy arrays and pyaudio records to bytes objects. Both of these can be stored as WAV files using the scipy and wave libraries, respectively."
   ]
  },
  {
   "cell_type": "code",
   "execution_count": 1,
   "metadata": {},
   "outputs": [],
   "source": [
    "import pyaudio\n",
    "import wave\n",
    "import os"
   ]
  },
  {
   "cell_type": "code",
   "execution_count": 8,
   "metadata": {},
   "outputs": [],
   "source": [
    "sav2File = r'/home/rohit/PyWDUbuntu/thesis/audio/wavs/pyaudio_rec_1.wav'"
   ]
  },
  {
   "cell_type": "code",
   "execution_count": 11,
   "metadata": {},
   "outputs": [
    {
     "name": "stdout",
     "output_type": "stream",
     "text": [
      "Recording\n"
     ]
    },
    {
     "ename": "NameError",
     "evalue": "name 'sample_format' is not defined",
     "output_type": "error",
     "traceback": [
      "\u001b[0;31m---------------------------------------------------------------------------\u001b[0m",
      "\u001b[0;31mNameError\u001b[0m                                 Traceback (most recent call last)",
      "\u001b[0;32m<ipython-input-11-71fbe53ea6ca>\u001b[0m in \u001b[0;36m<module>\u001b[0;34m\u001b[0m\n\u001b[1;32m      4\u001b[0m \u001b[0;34m\u001b[0m\u001b[0m\n\u001b[1;32m      5\u001b[0m \u001b[0;31m## input = True means record\u001b[0m\u001b[0;34m\u001b[0m\u001b[0;34m\u001b[0m\u001b[0;34m\u001b[0m\u001b[0m\n\u001b[0;32m----> 6\u001b[0;31m stream = p.open(format=sample_format,\n\u001b[0m\u001b[1;32m      7\u001b[0m                 \u001b[0mchannels\u001b[0m\u001b[0;34m=\u001b[0m\u001b[0mchannels\u001b[0m\u001b[0;34m,\u001b[0m\u001b[0;34m\u001b[0m\u001b[0;34m\u001b[0m\u001b[0m\n\u001b[1;32m      8\u001b[0m                 \u001b[0mrate\u001b[0m\u001b[0;34m=\u001b[0m\u001b[0mfs\u001b[0m\u001b[0;34m,\u001b[0m\u001b[0;34m\u001b[0m\u001b[0;34m\u001b[0m\u001b[0m\n",
      "\u001b[0;31mNameError\u001b[0m: name 'sample_format' is not defined"
     ]
    }
   ],
   "source": [
    "listen_for_secs = 5\n",
    "chunk = 1024  # Record in chunks of 1024 samples\n",
    "sample_format = pyaudio.paInt16  # 16 bits per sample\n",
    "channels = 1 # mono\n",
    "fs = 16000  # Record at 16kHz\n",
    "\n",
    "p = pyaudio.PyAudio()  # Create an interface to PortAudio\n",
    "\n",
    "print('Recording')\n",
    "\n",
    "## input = True means record\n",
    "stream = p.open(format=sample_format,\n",
    "                channels=channels,\n",
    "                rate=fs,\n",
    "                frames_per_buffer=chunk,\n",
    "                input=True)\n",
    "\n",
    "frames = []  # Initialize array to store frames\n",
    "\n",
    "# Store data in chunks for 3 seconds\n",
    "for i in range(0, int(fs / chunk * listen_for_secs)):\n",
    "    data = stream.read(chunk)\n",
    "    frames.append(data)\n",
    "\n",
    "# Stop and close the stream \n",
    "stream.stop_stream()\n",
    "stream.close()\n",
    "# Terminate the PortAudio interface\n",
    "p.terminate()\n",
    "\n",
    "print('Finished recording')\n",
    "\n",
    "# Save the recorded data as a WAV file\n",
    "wf = wave.open(sav2File, 'wb')\n",
    "wf.setnchannels(channels)\n",
    "wf.setsampwidth(p.get_sample_size(sample_format))\n",
    "wf.setframerate(fs)\n",
    "wf.writeframes(b''.join(frames))\n",
    "wf.close()\n",
    "\n",
    "print(f\"\\nDone\")"
   ]
  },
  {
   "cell_type": "code",
   "execution_count": null,
   "metadata": {},
   "outputs": [],
   "source": []
  },
  {
   "cell_type": "code",
   "execution_count": null,
   "metadata": {},
   "outputs": [],
   "source": []
  },
  {
   "cell_type": "markdown",
   "metadata": {},
   "source": [
    "# Record Audio as wav file - fixed min time and then stop at silence or max time\n",
    "\n",
    "### Approach per: https://github.com/jeysonmc/python-google-speech-scripts/blob/master/stt_google.py   (link obtained from SO: https://stackoverflow.com/questions/19070290/pyaudio-listen-until-voice-is-detected-and-then-record-to-a-wav-file )\n",
    "### The python-sounddevice and pyaudio libraries provide ways to record audio with Python. python-sounddevice records to NumPy arrays and pyaudio records to bytes objects. Both of these can be stored as WAV files using the scipy and wave libraries, respectively."
   ]
  },
  {
   "cell_type": "code",
   "execution_count": 1,
   "metadata": {},
   "outputs": [],
   "source": [
    "import pyaudio\n",
    "import wave\n",
    "import os\n",
    "import datetime\n",
    "import time"
   ]
  },
  {
   "cell_type": "code",
   "execution_count": 2,
   "metadata": {},
   "outputs": [],
   "source": [
    "SAV2FILE = r'/home/rohit/PyWDUbuntu/thesis/audio/wavs/pyaudio_rec_2.wav'"
   ]
  },
  {
   "cell_type": "code",
   "execution_count": 17,
   "metadata": {},
   "outputs": [],
   "source": [
    "DATA_APPEND_SECS = 2\n",
    "LISTEN_MIN_SECS = 3\n",
    "LISTEN_MAX_SECS = 10\n",
    "MIN_VOLUME = 500"
   ]
  },
  {
   "cell_type": "code",
   "execution_count": 18,
   "metadata": {},
   "outputs": [],
   "source": [
    "def listen_and_save_file(_specs_listen_list, _sav2File):\n",
    "    _append_every_secs, _min_secs, _max_secs, _min_vol  = _specs_listen_list\n",
    "    \n",
    "    start_tick = time.time()\n",
    "    \n",
    "    ## setup recording parameters for deepspeech = 16kHz, mono channel, 16-bit, wav file for inference\n",
    "    SAMPLE_FORMAT = pyaudio.paInt16  # 16 bits per sample\n",
    "    CHANNELS = 1 # mono\n",
    "    FS = 16000  # Record at 16kHz\n",
    "    \n",
    "    ## setup parameters for pyaudio\n",
    "    CHUNCK = 1024  # Record in chunks of 1024 samples\n",
    "    \n",
    "    myStr = '\\n'.join([\n",
    "        f\"\\nListen parameters:\",\n",
    "        f\"chunk = {CHUNCK}\",\n",
    "        f\"channels = {CHANNELS}\"\n",
    "        f\"sampling frequency = {FS} Hz\",\n",
    "        f\"sample_format = 16 bit\"\n",
    "        f\"append_every_secs = {_append_every_secs}\",\n",
    "        f\"Listen Min secs = {_min_secs}\",\n",
    "        f\"Listen Max secs = {_max_secs}\",\n",
    "        f\"Threshold Min volume = {_min_vol}\"\n",
    "    ])\n",
    "    print(f\"{myStr}\")\n",
    "    myStr = None\n",
    "    \n",
    "    ## Initialize array to store frames\n",
    "    frames = []  \n",
    "    \n",
    "    ## Create an interface to PortAudio\n",
    "    p = pyaudio.PyAudio()\n",
    "    stream = p.open(format=SAMPLE_FORMAT,\n",
    "                    channels=CHANNELS,\n",
    "                    rate=FS,\n",
    "                    frames_per_buffer=CHUNCK,\n",
    "                    input=True) ## input = True means record\n",
    "    \n",
    "    start_time = time.time()\n",
    "    print(f\"\\nStarted listening....\\n\")\n",
    "    while True:\n",
    "        for i in range(0, int(FS / CHUNCK * _append_every_secs)):\n",
    "            data = stream.read(CHUNCK)\n",
    "            frames.append(data)\n",
    "        vol = max(data)\n",
    "        if (vol < _min_vol) and ( (time.time() - start_tick) > _min_secs ):\n",
    "            print(f\"\\nStopped recording: in last {_append_every_secs} seconds, volume was below threshold\")\n",
    "            print(f\"vol ({vol}) < threshold value ({_min_vol})\")\n",
    "            break\n",
    "        elif (time.time() - start_tick) > _max_secs:\n",
    "            print(f\"\\nStopped recording: reached max recording time limit = {_max_secs} seconds\")\n",
    "            break\n",
    "    \n",
    "    # Stop and close the stream \n",
    "    stream.stop_stream()\n",
    "    stream.close()\n",
    "    # Terminate the PortAudio interface\n",
    "    p.terminate()\n",
    "    \n",
    "    rec_secs = time.time() - start_time\n",
    "    \n",
    "    print(f\"\\nStopped listening....\\n\")\n",
    "    \n",
    "    # Save data to WAV file\n",
    "    wf = wave.open(_sav2File, 'wb')\n",
    "    wf.setnchannels(CHANNELS)\n",
    "    wf.setsampwidth(p.get_sample_size(SAMPLE_FORMAT))\n",
    "    wf.setframerate(FS)\n",
    "    wf.writeframes(b''.join(frames))\n",
    "    wf.close()\n",
    "    \n",
    "    print(f\"\\nAudio of {rec_secs:.2f} seconds saved to wav file: {_sav2File}\\n\")\n",
    "    \n",
    "    return"
   ]
  },
  {
   "cell_type": "code",
   "execution_count": 19,
   "metadata": {},
   "outputs": [
    {
     "name": "stdout",
     "output_type": "stream",
     "text": [
      "\n",
      "Listen parameters:\n",
      "chunk = 1024\n",
      "channels = 1sampling frequency = 16000 Hz\n",
      "sample_format = 16 bitappend_every_secs = 2\n",
      "Listen Min secs = 3\n",
      "Listen Max secs = 10\n",
      "Threshold Min volume = 500\n",
      "\n",
      "Started listening....\n",
      "\n",
      "\n",
      "Stopped recording: in last 2 seconds, volume was below threshold\n",
      "vol (255) < threshold value (500)\n",
      "\n",
      "Stopped listening....\n",
      "\n",
      "\n",
      "Audio of 3.96 seconds saved to wav file: /home/rohit/PyWDUbuntu/thesis/audio/wavs/pyaudio_rec_2.wav\n",
      "\n",
      "\n",
      "Done\n"
     ]
    }
   ],
   "source": [
    "specs_listen_list = [\n",
    "    DATA_APPEND_SECS,\n",
    "    LISTEN_MIN_SECS,\n",
    "    LISTEN_MAX_SECS,\n",
    "    MIN_VOLUME \n",
    "]\n",
    "\n",
    "listen_and_save_file(specs_listen_list, SAV2FILE)\n",
    "\n",
    "print(f\"\\nDone\")"
   ]
  },
  {
   "cell_type": "code",
   "execution_count": null,
   "metadata": {},
   "outputs": [],
   "source": []
  }
 ],
 "metadata": {
  "kernelspec": {
   "display_name": "Python 3",
   "language": "python",
   "name": "python3"
  },
  "language_info": {
   "codemirror_mode": {
    "name": "ipython",
    "version": 3
   },
   "file_extension": ".py",
   "mimetype": "text/x-python",
   "name": "python",
   "nbconvert_exporter": "python",
   "pygments_lexer": "ipython3",
   "version": "3.7.7"
  }
 },
 "nbformat": 4,
 "nbformat_minor": 4
}
