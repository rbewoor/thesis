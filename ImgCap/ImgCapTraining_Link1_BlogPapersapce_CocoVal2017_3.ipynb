{
  "nbformat": 4,
  "nbformat_minor": 0,
  "metadata": {
    "colab": {
      "name": "ImgCapTraining_Link1_BlogPapersapce_CocoVal2017_3.ipynb",
      "provenance": [],
      "collapsed_sections": [
        "AWnU8cGjH7Rh",
        "1xBjxTXYGkFR",
        "x4C22xXusYtk",
        "Hrej2EBES6K5",
        "P7Lmh8eeQzPn",
        "4JCI5otNTKKb",
        "Q_AAKliCGXtc",
        "UiuCDq-xcqlH",
        "-NO6tGXnFzCh",
        "y8rjoRQ2f_d9",
        "vth7V8Ll0UjK",
        "zkbT2AkO4w7R",
        "FpxOwVOvDGMK"
      ]
    },
    "kernelspec": {
      "name": "python3",
      "display_name": "Python 3"
    }
  },
  "cells": [
    {
      "cell_type": "code",
      "metadata": {
        "id": "sPasdiU_9WNp",
        "colab_type": "code",
        "colab": {}
      },
      "source": [
        ""
      ],
      "execution_count": null,
      "outputs": []
    },
    {
      "cell_type": "markdown",
      "metadata": {
        "id": "AWnU8cGjH7Rh",
        "colab_type": "text"
      },
      "source": [
        "## Misc Testing - SKIP"
      ]
    },
    {
      "cell_type": "code",
      "metadata": {
        "id": "fSQuyKW7H4vk",
        "colab_type": "code",
        "colab": {}
      },
      "source": [
        "#############################################################################################################\n",
        "## notes on the coco train and val IMAGES 2017 dataset - links here - https://cocodataset.org/#download\n",
        "## train 2017 has 118287 images, 18GB - http://images.cocodataset.org/zips/train2017.zip\n",
        "## val   2017 has 5000   images, 1GB  - http://images.cocodataset.org/zips/val2017.zip\n",
        "## test  2017 has 40670  images, 6GB  - http://images.cocodataset.org/zips/test2017.zip\n",
        "\n",
        "## notes on the coco train+val 2017 annotations\n",
        "## combined file of 241MB - http://images.cocodataset.org/annotations/annotations_trainval2017.zip\n",
        "## is a huge json - see the data exploration notes below\n",
        "#############################################################################################################"
      ],
      "execution_count": null,
      "outputs": []
    },
    {
      "cell_type": "code",
      "metadata": {
        "id": "GinHjXnqAVHk",
        "colab_type": "code",
        "colab": {}
      },
      "source": [
        "# mount gdrive and verify the folder contents"
      ],
      "execution_count": null,
      "outputs": []
    },
    {
      "cell_type": "code",
      "metadata": {
        "id": "HSqsH9sh93ra",
        "colab_type": "code",
        "colab": {
          "base_uri": "https://localhost:8080/",
          "height": 51
        },
        "outputId": "2436b616-6655-4f01-87dc-5690a1c5dc72"
      },
      "source": [
        "from google.colab import drive\n",
        "drive.flush_and_unmount()\n",
        "drive.mount('/content/gdrive')"
      ],
      "execution_count": null,
      "outputs": [
        {
          "output_type": "stream",
          "text": [
            "Drive not mounted, so nothing to flush and unmount.\n",
            "Mounted at /content/gdrive\n"
          ],
          "name": "stdout"
        }
      ]
    },
    {
      "cell_type": "code",
      "metadata": {
        "id": "bwqiBjkI-MhE",
        "colab_type": "code",
        "colab": {
          "base_uri": "https://localhost:8080/",
          "height": 34
        },
        "outputId": "69aaea27-e136-453b-88cd-1c8231518098"
      },
      "source": [
        "!ls"
      ],
      "execution_count": null,
      "outputs": [
        {
          "output_type": "stream",
          "text": [
            "gdrive\tsample_data\n"
          ],
          "name": "stdout"
        }
      ]
    },
    {
      "cell_type": "code",
      "metadata": {
        "id": "h5-H66cO-Mj-",
        "colab_type": "code",
        "colab": {
          "base_uri": "https://localhost:8080/",
          "height": 34
        },
        "outputId": "5b8bcd03-9b58-4c19-a38d-5d15102e3a50"
      },
      "source": [
        "! ls ./gdrive"
      ],
      "execution_count": null,
      "outputs": [
        {
          "output_type": "stream",
          "text": [
            "'My Drive'\n"
          ],
          "name": "stdout"
        }
      ]
    },
    {
      "cell_type": "code",
      "metadata": {
        "id": "Q4cP0Q2y-MnO",
        "colab_type": "code",
        "colab": {
          "base_uri": "https://localhost:8080/",
          "height": 119
        },
        "outputId": "2352f944-975b-4ea4-b67a-df40c525b24b"
      },
      "source": [
        "! ls './gdrive/My Drive/ThesisStoryGen/Data/'"
      ],
      "execution_count": null,
      "outputs": [
        {
          "output_type": "stream",
          "text": [
            "audio\t\t\t\t\t    coco_train2017_wget_1\n",
            "coco_annotations_trainval2017\t\t    coco_val2017_wget_1\n",
            "coco_test_2017_40k_images_op4neo_1_1_5k     DatasetsNotes-20200517.xlsx\n",
            "coco_test_2017_40k_images_op4neo_1_15k_20k  flickr30k_images.tar.gz\n",
            "coco_test_2017_40k_images_op4neo_1_5k_10k   ImgCapTraining\n",
            "coco_test2017_wget_1\t\t\t    saved_keras_model\n"
          ],
          "name": "stdout"
        }
      ]
    },
    {
      "cell_type": "code",
      "metadata": {
        "id": "SaygYywI-QiP",
        "colab_type": "code",
        "colab": {
          "base_uri": "https://localhost:8080/",
          "height": 34
        },
        "outputId": "cd4f7550-ad5d-4020-db36-f8993b618343"
      },
      "source": [
        "! ls './gdrive/My Drive/ThesisStoryGen/Data/coco_val2017_wget_1/'"
      ],
      "execution_count": null,
      "outputs": [
        {
          "output_type": "stream",
          "text": [
            "val2017  val2017.zip\n"
          ],
          "name": "stdout"
        }
      ]
    },
    {
      "cell_type": "code",
      "metadata": {
        "id": "s2c8iIGwmAhi",
        "colab_type": "code",
        "colab": {
          "base_uri": "https://localhost:8080/",
          "height": 34
        },
        "outputId": "9cc5ab10-3c26-42c6-d0f3-ed3cbd87edaa"
      },
      "source": [
        "! ls './gdrive/My Drive/ThesisStoryGen/Data/coco_val2017_wget_1/val2017/' | wc -l"
      ],
      "execution_count": null,
      "outputs": [
        {
          "output_type": "stream",
          "text": [
            "5000\n"
          ],
          "name": "stdout"
        }
      ]
    },
    {
      "cell_type": "code",
      "metadata": {
        "id": "1r74kOmX9Hgk",
        "colab_type": "code",
        "colab": {}
      },
      "source": [
        ""
      ],
      "execution_count": null,
      "outputs": []
    },
    {
      "cell_type": "code",
      "metadata": {
        "id": "gzp5ATJ-ksEZ",
        "colab_type": "code",
        "colab": {}
      },
      "source": [
        ""
      ],
      "execution_count": null,
      "outputs": []
    },
    {
      "cell_type": "code",
      "metadata": {
        "id": "guGz-uP02P6K",
        "colab_type": "code",
        "colab": {}
      },
      "source": [
        "################################################\n",
        "## data exploration on the annotations dataset\n",
        "################################################\n",
        "\n",
        "## about val2017 ::::\n",
        "## max caption length = 247 for val2017    'A large square concrete wall, which shows peo...'\n",
        "## 25014 caption entries for the 5000 images\n",
        "\n",
        "## about train2017 ::::\n",
        "## 591753 caption entries for the 118287 images\n",
        "## max caption length = 250 for train2017  - multiple entries\n",
        "##      'Front view of person holding animal spotted pr...'\n",
        "##      'The image shows an entertainment cubby in the ...'\n",
        "##      'The vee shaped part of a white-walled room sho...'\n",
        "##      'The scene shows outdoors, furthest to closest,...'\n",
        "##      'Black and white of two women sitting on a marb...'\n",
        "##      'From furthest to nearest, the view shows, clou...'\n",
        "##      'From below view of the head, neck, and paws of...'\n",
        "##      'A room with long table with widescreen televis...'\n",
        "##      'Two men holding tennis rackets up in a hand on...'\n",
        "##      'Restaurant table top with logo in middle and a...'\n",
        "##      'A near-ground shot shows logo-covered wall and...'\n",
        "##      'An apartment with an open floor plan,  that al...'\n",
        "##      'A black and white shot shows a  bus interior w...'\n",
        "##      'An image from a copyrighted foodie site shows ...'"
      ],
      "execution_count": null,
      "outputs": []
    },
    {
      "cell_type": "code",
      "metadata": {
        "id": "rt0Hn8vQLZ_8",
        "colab_type": "code",
        "colab": {}
      },
      "source": [
        "import os\n",
        "import json\n",
        "import pandas as pd"
      ],
      "execution_count": null,
      "outputs": []
    },
    {
      "cell_type": "code",
      "metadata": {
        "id": "yT04Md9pLaC4",
        "colab_type": "code",
        "colab": {
          "base_uri": "https://localhost:8080/",
          "height": 34
        },
        "outputId": "a00cccfb-64e6-4a89-a585-9033c66abb63"
      },
      "source": [
        "from google.colab import drive\n",
        "drive.flush_and_unmount()\n",
        "drive.mount('/content/gdrive')"
      ],
      "execution_count": null,
      "outputs": [
        {
          "output_type": "stream",
          "text": [
            "Mounted at /content/gdrive\n"
          ],
          "name": "stdout"
        }
      ]
    },
    {
      "cell_type": "code",
      "metadata": {
        "id": "fL2PLhw0bPuO",
        "colab_type": "code",
        "colab": {}
      },
      "source": [
        "OPDIR = '/content/gdrive/My Drive/ThesisStoryGen/Data/ImgCapTraining/CocoVal2017_1/'\n",
        "IPDIRIMGS = '/content/gdrive/My Drive/ThesisStoryGen/Data/coco_val2017_wget_1/val2017/'\n",
        "IPDIRANNO = '/content/gdrive/My Drive/ThesisStoryGen/Data/coco_annotations_trainval2017/'"
      ],
      "execution_count": null,
      "outputs": []
    },
    {
      "cell_type": "code",
      "metadata": {
        "id": "BL7rx5lbbPw-",
        "colab_type": "code",
        "colab": {
          "base_uri": "https://localhost:8080/",
          "height": 34
        },
        "outputId": "a7d5744d-a3c3-4849-e312-156a66ac86b6"
      },
      "source": [
        "os.listdir('/content/gdrive/My Drive/ThesisStoryGen/Data/coco_annotations_trainval2017/')"
      ],
      "execution_count": null,
      "outputs": [
        {
          "output_type": "execute_result",
          "data": {
            "text/plain": [
              "['captions_val2017.json', 'captions_train2017.json', 'sample_data_in_file.txt']"
            ]
          },
          "metadata": {
            "tags": []
          },
          "execution_count": 33
        }
      ]
    },
    {
      "cell_type": "code",
      "metadata": {
        "id": "cEVkLsD5LaKz",
        "colab_type": "code",
        "colab": {}
      },
      "source": [
        "with open(IPDIRANNO+'captions_train2017.json', 'r') as f:\n",
        "  data = json.load(f)\n",
        "  #data.keys() # dict_keys(['info', 'licenses', 'images', 'annotations'])\n",
        "  #type(data['annotations']) # is a list\n",
        "  #type(data['images'])      # also is a list"
      ],
      "execution_count": null,
      "outputs": []
    },
    {
      "cell_type": "code",
      "metadata": {
        "id": "456rGQbIwreN",
        "colab_type": "code",
        "colab": {}
      },
      "source": [
        "dfanno = pd.DataFrame(data=data['annotations'])\n",
        "# dfanno.columns = Index(['image_id', 'id', 'caption'], dtype='object') \n",
        "# dfanno.dtypes =\n",
        "#   image_id     int64\n",
        "#   id           int64\n",
        "#   caption     object\n",
        "#   dtype: object\n",
        "\n",
        "dfimages = pd.DataFrame(data=data['images'])\n",
        "# dfimages.columns = Index(['license', 'file_name', 'coco_url', 'height', 'width', 'date_captured', 'flickr_url', 'id'], dtype='object')\n",
        "# dfimages.dtypes =\n",
        "#   license           int64\n",
        "#   file_name        object\n",
        "#   coco_url         object\n",
        "#   height            int64\n",
        "#   width             int64\n",
        "#   date_captured    object\n",
        "#   flickr_url       object\n",
        "#   id                int64\n",
        "#   dtype: object\n",
        "## of above, am dropping useless columns\n",
        "dfimages.drop(['license', 'coco_url', 'date_captured', 'flickr_url'], axis = 1, inplace=True)\n",
        "\n",
        "## columns remaining in the dfs are:\n",
        "# dfanno columns are      image_id , id , caption\n",
        "#                         179765   , 38 ,\tA black Honda motorcycle parked in front of a ...\n",
        "# dfimages columns are    file_name        , height ,  width , id\n",
        "#                         000000397133.jpg , 427    ,  640   , 397133\n",
        "\n",
        "## the captions are not ordered for each image and seem to randomly placed"
      ],
      "execution_count": null,
      "outputs": []
    },
    {
      "cell_type": "code",
      "metadata": {
        "id": "TfN3LKaGwrnl",
        "colab_type": "code",
        "colab": {
          "base_uri": "https://localhost:8080/",
          "height": 34
        },
        "outputId": "e72a3c59-81fd-4b4d-eae9-ff9771fc1a66"
      },
      "source": [
        "dfanno['caplen'] = dfanno.caption.str.len()\n",
        "dfanno.caplen.max()"
      ],
      "execution_count": null,
      "outputs": [
        {
          "output_type": "execute_result",
          "data": {
            "text/plain": [
              "250"
            ]
          },
          "metadata": {
            "tags": []
          },
          "execution_count": 36
        }
      ]
    },
    {
      "cell_type": "code",
      "metadata": {
        "id": "3vqPc5ojzN5N",
        "colab_type": "code",
        "colab": {
          "base_uri": "https://localhost:8080/",
          "height": 272
        },
        "outputId": "77bc9910-2fb5-424b-daba-90c4f6bad4e3"
      },
      "source": [
        "longest_caption_len = dfanno.caption[dfanno.caplen == dfanno.caplen.max()].to_string(index=False)\n",
        "print(f\"{type(longest_caption_len)}\")\n",
        "print(f\"{longest_caption_len}\")"
      ],
      "execution_count": null,
      "outputs": [
        {
          "output_type": "stream",
          "text": [
            "<class 'str'>\n",
            " Front view of person holding animal spotted pr...\n",
            " The image shows an entertainment cubby in the ...\n",
            " The vee shaped part of a white-walled room sho...\n",
            " The scene shows outdoors, furthest to closest,...\n",
            " Black and white of two women sitting on a marb...\n",
            " From furthest to nearest, the view shows, clou...\n",
            " From below view of the head, neck, and paws of...\n",
            " A room with long table with widescreen televis...\n",
            " Two men holding tennis rackets up in a hand on...\n",
            " Restaurant table top with logo in middle and a...\n",
            " A near-ground shot shows logo-covered wall and...\n",
            " An apartment with an open floor plan,  that al...\n",
            " A black and white shot shows a  bus interior w...\n",
            " An image from a copyrighted foodie site shows ...\n"
          ],
          "name": "stdout"
        }
      ]
    },
    {
      "cell_type": "code",
      "metadata": {
        "id": "4MORaqFnzN-0",
        "colab_type": "code",
        "colab": {
          "base_uri": "https://localhost:8080/",
          "height": 111
        },
        "outputId": "dd778695-188f-420b-87be-9ff702867aff"
      },
      "source": [
        "dfanno.head(2)"
      ],
      "execution_count": null,
      "outputs": [
        {
          "output_type": "execute_result",
          "data": {
            "text/html": [
              "<div>\n",
              "<style scoped>\n",
              "    .dataframe tbody tr th:only-of-type {\n",
              "        vertical-align: middle;\n",
              "    }\n",
              "\n",
              "    .dataframe tbody tr th {\n",
              "        vertical-align: top;\n",
              "    }\n",
              "\n",
              "    .dataframe thead th {\n",
              "        text-align: right;\n",
              "    }\n",
              "</style>\n",
              "<table border=\"1\" class=\"dataframe\">\n",
              "  <thead>\n",
              "    <tr style=\"text-align: right;\">\n",
              "      <th></th>\n",
              "      <th>image_id</th>\n",
              "      <th>id</th>\n",
              "      <th>caption</th>\n",
              "      <th>caplen</th>\n",
              "    </tr>\n",
              "  </thead>\n",
              "  <tbody>\n",
              "    <tr>\n",
              "      <th>0</th>\n",
              "      <td>203564</td>\n",
              "      <td>37</td>\n",
              "      <td>A bicycle replica with a clock as the front wh...</td>\n",
              "      <td>50</td>\n",
              "    </tr>\n",
              "    <tr>\n",
              "      <th>1</th>\n",
              "      <td>322141</td>\n",
              "      <td>49</td>\n",
              "      <td>A room with blue walls and a white sink and door.</td>\n",
              "      <td>49</td>\n",
              "    </tr>\n",
              "  </tbody>\n",
              "</table>\n",
              "</div>"
            ],
            "text/plain": [
              "   image_id  id                                            caption  caplen\n",
              "0    203564  37  A bicycle replica with a clock as the front wh...      50\n",
              "1    322141  49  A room with blue walls and a white sink and door.      49"
            ]
          },
          "metadata": {
            "tags": []
          },
          "execution_count": 28
        }
      ]
    },
    {
      "cell_type": "code",
      "metadata": {
        "id": "xiXmp9mkkJ-b",
        "colab_type": "code",
        "colab": {
          "base_uri": "https://localhost:8080/",
          "height": 34
        },
        "outputId": "f413a1fa-5cc0-4616-df9b-ac1c23e8e3b4"
      },
      "source": [
        "dfanno = dfanno.merge(dfimages, left_on='image_id', right_on='id', how='inner')\n",
        "dfanno.drop(['id_y'], axis=1, inplace=True)\n",
        "dfanno.rename(columns={'id_x':'id'}, inplace=True)\n",
        "dfanno.columns"
      ],
      "execution_count": null,
      "outputs": [
        {
          "output_type": "execute_result",
          "data": {
            "text/plain": [
              "Index(['image_id', 'id', 'caption', 'caplen', 'file_name', 'height', 'width'], dtype='object')"
            ]
          },
          "metadata": {
            "tags": []
          },
          "execution_count": 29
        }
      ]
    },
    {
      "cell_type": "code",
      "metadata": {
        "id": "EpdzGC1wkKBS",
        "colab_type": "code",
        "colab": {
          "base_uri": "https://localhost:8080/",
          "height": 204
        },
        "outputId": "0351a92e-378c-462e-cefc-86b7f3959865"
      },
      "source": [
        "dfanno.head(5)"
      ],
      "execution_count": null,
      "outputs": [
        {
          "output_type": "execute_result",
          "data": {
            "text/html": [
              "<div>\n",
              "<style scoped>\n",
              "    .dataframe tbody tr th:only-of-type {\n",
              "        vertical-align: middle;\n",
              "    }\n",
              "\n",
              "    .dataframe tbody tr th {\n",
              "        vertical-align: top;\n",
              "    }\n",
              "\n",
              "    .dataframe thead th {\n",
              "        text-align: right;\n",
              "    }\n",
              "</style>\n",
              "<table border=\"1\" class=\"dataframe\">\n",
              "  <thead>\n",
              "    <tr style=\"text-align: right;\">\n",
              "      <th></th>\n",
              "      <th>image_id</th>\n",
              "      <th>id</th>\n",
              "      <th>caption</th>\n",
              "      <th>caplen</th>\n",
              "      <th>file_name</th>\n",
              "      <th>height</th>\n",
              "      <th>width</th>\n",
              "    </tr>\n",
              "  </thead>\n",
              "  <tbody>\n",
              "    <tr>\n",
              "      <th>0</th>\n",
              "      <td>203564</td>\n",
              "      <td>37</td>\n",
              "      <td>A bicycle replica with a clock as the front wh...</td>\n",
              "      <td>50</td>\n",
              "      <td>000000203564.jpg</td>\n",
              "      <td>400</td>\n",
              "      <td>400</td>\n",
              "    </tr>\n",
              "    <tr>\n",
              "      <th>1</th>\n",
              "      <td>203564</td>\n",
              "      <td>181</td>\n",
              "      <td>The bike has a clock as a tire.</td>\n",
              "      <td>31</td>\n",
              "      <td>000000203564.jpg</td>\n",
              "      <td>400</td>\n",
              "      <td>400</td>\n",
              "    </tr>\n",
              "    <tr>\n",
              "      <th>2</th>\n",
              "      <td>203564</td>\n",
              "      <td>478</td>\n",
              "      <td>A black metal bicycle with a clock inside the ...</td>\n",
              "      <td>58</td>\n",
              "      <td>000000203564.jpg</td>\n",
              "      <td>400</td>\n",
              "      <td>400</td>\n",
              "    </tr>\n",
              "    <tr>\n",
              "      <th>3</th>\n",
              "      <td>203564</td>\n",
              "      <td>6637</td>\n",
              "      <td>A bicycle figurine in which the front wheel is...</td>\n",
              "      <td>69</td>\n",
              "      <td>000000203564.jpg</td>\n",
              "      <td>400</td>\n",
              "      <td>400</td>\n",
              "    </tr>\n",
              "    <tr>\n",
              "      <th>4</th>\n",
              "      <td>203564</td>\n",
              "      <td>6802</td>\n",
              "      <td>A clock with the appearance of the wheel of a ...</td>\n",
              "      <td>54</td>\n",
              "      <td>000000203564.jpg</td>\n",
              "      <td>400</td>\n",
              "      <td>400</td>\n",
              "    </tr>\n",
              "  </tbody>\n",
              "</table>\n",
              "</div>"
            ],
            "text/plain": [
              "   image_id    id  ... height  width\n",
              "0    203564    37  ...    400    400\n",
              "1    203564   181  ...    400    400\n",
              "2    203564   478  ...    400    400\n",
              "3    203564  6637  ...    400    400\n",
              "4    203564  6802  ...    400    400\n",
              "\n",
              "[5 rows x 7 columns]"
            ]
          },
          "metadata": {
            "tags": []
          },
          "execution_count": 30
        }
      ]
    },
    {
      "cell_type": "code",
      "metadata": {
        "id": "64750op2mJBe",
        "colab_type": "code",
        "colab": {
          "base_uri": "https://localhost:8080/",
          "height": 34
        },
        "outputId": "b6caa3de-7a1a-4e1d-bfe1-8b8e915709e9"
      },
      "source": [
        "len(dfanno)"
      ],
      "execution_count": null,
      "outputs": [
        {
          "output_type": "execute_result",
          "data": {
            "text/plain": [
              "591753"
            ]
          },
          "metadata": {
            "tags": []
          },
          "execution_count": 31
        }
      ]
    },
    {
      "cell_type": "code",
      "metadata": {
        "id": "7TVPhOnymJEO",
        "colab_type": "code",
        "colab": {
          "base_uri": "https://localhost:8080/",
          "height": 34
        },
        "outputId": "61de95c3-7b66-4d89-ae05-11c588383e92"
      },
      "source": [
        "dfanno['file_name'].nunique()"
      ],
      "execution_count": null,
      "outputs": [
        {
          "output_type": "execute_result",
          "data": {
            "text/plain": [
              "118287"
            ]
          },
          "metadata": {
            "tags": []
          },
          "execution_count": 32
        }
      ]
    },
    {
      "cell_type": "code",
      "metadata": {
        "id": "BtQ2H-fFjcxB",
        "colab_type": "code",
        "colab": {}
      },
      "source": [
        ""
      ],
      "execution_count": null,
      "outputs": []
    },
    {
      "cell_type": "code",
      "metadata": {
        "id": "ua2Wa77vjc0M",
        "colab_type": "code",
        "colab": {}
      },
      "source": [
        ""
      ],
      "execution_count": null,
      "outputs": []
    },
    {
      "cell_type": "code",
      "metadata": {
        "id": "BBp-n7evQ7ug",
        "colab_type": "code",
        "colab": {}
      },
      "source": [
        ""
      ],
      "execution_count": null,
      "outputs": []
    },
    {
      "cell_type": "code",
      "metadata": {
        "id": "SGxkgfm0Q73Y",
        "colab_type": "code",
        "colab": {}
      },
      "source": [
        ""
      ],
      "execution_count": null,
      "outputs": []
    },
    {
      "cell_type": "markdown",
      "metadata": {
        "id": "5Hu_85TNQ8dO",
        "colab_type": "text"
      },
      "source": [
        "# Training a NEW model - using COCO val2017 full data"
      ]
    },
    {
      "cell_type": "code",
      "metadata": {
        "id": "jTzvu_ZQe3C6",
        "colab_type": "code",
        "colab": {}
      },
      "source": [
        "###############################################################################\n",
        "## Training a NEW model based on this code:\n",
        "##\n",
        "## Image Captionining with AI\n",
        "## Link 1: https://blog.paperspace.com/image-captioning-with-ai/\n",
        "## This code used Flickr8k dataset.\n",
        "##\n",
        "## Understanding RNNs with an example of assigning an emoji to a sentence\n",
        "## Link 2: https://iq.opengenus.org/recurrent-neural-networks-with-emoji-sentence-example/\n",
        "## This code used Flickr8k dataset.\n",
        "##\n",
        "## Using full 5k images data of COCO-VAL2017\n",
        "###############################################################################"
      ],
      "execution_count": null,
      "outputs": []
    },
    {
      "cell_type": "code",
      "metadata": {
        "id": "dGE6TVcUlHv0",
        "colab_type": "code",
        "colab": {}
      },
      "source": [
        "import os\n",
        "import sys\n",
        "import json\n",
        "import pandas as pd\n",
        "import numpy as np\n",
        "import time\n",
        "import tensorflow as tf\n",
        "from tensorflow import keras\n",
        "from tensorflow.keras import layers\n",
        "import matplotlib.pyplot as plt\n",
        "import re\n",
        "import pickle\n",
        "#import itertools\n",
        "from sklearn.model_selection import train_test_split\n",
        "import PIL\n",
        "import PIL.Image"
      ],
      "execution_count": 1,
      "outputs": []
    },
    {
      "cell_type": "code",
      "metadata": {
        "id": "ARGu8OC9lHzC",
        "colab_type": "code",
        "colab": {
          "base_uri": "https://localhost:8080/",
          "height": 34
        },
        "outputId": "93e91754-8fcd-49a6-d8cf-20a4ce2876b4"
      },
      "source": [
        "from google.colab import drive\n",
        "drive.flush_and_unmount()\n",
        "drive.mount('/content/gdrive')"
      ],
      "execution_count": 2,
      "outputs": [
        {
          "output_type": "stream",
          "text": [
            "Mounted at /content/gdrive\n"
          ],
          "name": "stdout"
        }
      ]
    },
    {
      "cell_type": "code",
      "metadata": {
        "id": "ujlzgVc8lH17",
        "colab_type": "code",
        "colab": {}
      },
      "source": [
        "OPDIR = '/content/gdrive/My Drive/ThesisStoryGen/Data/ImgCapTraining/CocoVal2017_1/'\n",
        "IPDIRIMGS = '/content/gdrive/My Drive/ThesisStoryGen/Data/coco_val2017_wget_1/val2017/'\n",
        "IPDIRANNO = '/content/gdrive/My Drive/ThesisStoryGen/Data/coco_annotations_trainval2017/'\n",
        "WORD_EMBEDDINGS_DIR = '/content/gdrive/My Drive/ThesisStoryGen/Data/WordEmbeddings/'"
      ],
      "execution_count": 3,
      "outputs": []
    },
    {
      "cell_type": "code",
      "metadata": {
        "id": "1YC-wuTrJ5ep",
        "colab_type": "code",
        "colab": {}
      },
      "source": [
        ""
      ],
      "execution_count": null,
      "outputs": []
    },
    {
      "cell_type": "markdown",
      "metadata": {
        "id": "LYlWfq18sWIt",
        "colab_type": "text"
      },
      "source": [
        ""
      ]
    },
    {
      "cell_type": "markdown",
      "metadata": {
        "id": "1xBjxTXYGkFR",
        "colab_type": "text"
      },
      "source": [
        "## ONLY ONCE: Start with the COCO_2017 Annodations json file. Preprocess the captions and make entries in the hashmap datastructure of {'image_filename_without_extension': ['caption_1', 'etc']}. Finally pickle hashmap for reloading"
      ]
    },
    {
      "cell_type": "markdown",
      "metadata": {
        "id": "x4C22xXusYtk",
        "colab_type": "text"
      },
      "source": [
        "### Load Captions"
      ]
    },
    {
      "cell_type": "code",
      "metadata": {
        "id": "Wwxje0hYlOky",
        "colab_type": "code",
        "colab": {
          "base_uri": "https://localhost:8080/"
        },
        "outputId": "1cb1b67b-29a4-4cdd-e4f0-a1b55847c2b8"
      },
      "source": [
        "os.listdir('/content/gdrive/My Drive/ThesisStoryGen/Data/coco_annotations_trainval2017/')"
      ],
      "execution_count": null,
      "outputs": [
        {
          "output_type": "execute_result",
          "data": {
            "text/plain": [
              "['captions_val2017.json', 'captions_train2017.json', 'sample_data_in_file.txt']"
            ]
          },
          "metadata": {
            "tags": []
          },
          "execution_count": 4
        }
      ]
    },
    {
      "cell_type": "code",
      "metadata": {
        "id": "7JeRY9RilOnq",
        "colab_type": "code",
        "colab": {
          "base_uri": "https://localhost:8080/"
        },
        "outputId": "a20d1abb-ba25-46ad-c5ed-63fd2bfa5550"
      },
      "source": [
        "## from the annotations file, load the captions\n",
        "\n",
        "with open(IPDIRANNO+'captions_val2017.json', 'r') as f:\n",
        "  data = json.load(f)\n",
        "  #data.keys() # dict_keys(['info', 'licenses', 'images', 'annotations'])\n",
        "  #type(data['annotations']) # is a list\n",
        "  #type(data['images'])      # also is a list\n",
        "\n",
        "dfanno = pd.DataFrame(data=data['annotations'])\n",
        "# dfanno.columns = Index(['image_id', 'id', 'caption'], dtype='object') \n",
        "# dfanno.dtypes =\n",
        "#   image_id     int64\n",
        "#   id           int64\n",
        "#   caption     object\n",
        "#   dtype: object\n",
        "\n",
        "dfimages = pd.DataFrame(data=data['images'])\n",
        "# dfimages.columns = Index(['license', 'file_name', 'coco_url', 'height', 'width', 'date_captured', 'flickr_url', 'id'], dtype='object')\n",
        "# dfimages.dtypes =\n",
        "#   license           int64\n",
        "#   file_name        object\n",
        "#   coco_url         object\n",
        "#   height            int64\n",
        "#   width             int64\n",
        "#   date_captured    object\n",
        "#   flickr_url       object\n",
        "#   id                int64\n",
        "#   dtype: object\n",
        "## of above, am dropping useless columns\n",
        "dfimages.drop(['license', 'coco_url', 'date_captured', 'flickr_url'], axis = 1, inplace=True)\n",
        "\n",
        "## columns remaining in the dfs are:\n",
        "# dfanno columns are      image_id , id , caption\n",
        "#                         179765   , 38 ,\tA black Honda motorcycle parked in front of a ...\n",
        "# dfimages columns are    file_name        , height ,  width , id\n",
        "#                         000000397133.jpg , 427    ,  640   , 397133\n",
        "\n",
        "## the captions are not ordered for each image and seem to be randomly placed\n",
        "\n",
        "dfanno.head(3)"
      ],
      "execution_count": null,
      "outputs": [
        {
          "output_type": "execute_result",
          "data": {
            "text/html": [
              "<div>\n",
              "<style scoped>\n",
              "    .dataframe tbody tr th:only-of-type {\n",
              "        vertical-align: middle;\n",
              "    }\n",
              "\n",
              "    .dataframe tbody tr th {\n",
              "        vertical-align: top;\n",
              "    }\n",
              "\n",
              "    .dataframe thead th {\n",
              "        text-align: right;\n",
              "    }\n",
              "</style>\n",
              "<table border=\"1\" class=\"dataframe\">\n",
              "  <thead>\n",
              "    <tr style=\"text-align: right;\">\n",
              "      <th></th>\n",
              "      <th>image_id</th>\n",
              "      <th>id</th>\n",
              "      <th>caption</th>\n",
              "    </tr>\n",
              "  </thead>\n",
              "  <tbody>\n",
              "    <tr>\n",
              "      <th>0</th>\n",
              "      <td>179765</td>\n",
              "      <td>38</td>\n",
              "      <td>A black Honda motorcycle parked in front of a ...</td>\n",
              "    </tr>\n",
              "    <tr>\n",
              "      <th>1</th>\n",
              "      <td>179765</td>\n",
              "      <td>182</td>\n",
              "      <td>A Honda motorcycle parked in a grass driveway</td>\n",
              "    </tr>\n",
              "    <tr>\n",
              "      <th>2</th>\n",
              "      <td>190236</td>\n",
              "      <td>401</td>\n",
              "      <td>An office cubicle with four different types of...</td>\n",
              "    </tr>\n",
              "  </tbody>\n",
              "</table>\n",
              "</div>"
            ],
            "text/plain": [
              "   image_id   id                                            caption\n",
              "0    179765   38  A black Honda motorcycle parked in front of a ...\n",
              "1    179765  182      A Honda motorcycle parked in a grass driveway\n",
              "2    190236  401  An office cubicle with four different types of..."
            ]
          },
          "metadata": {
            "tags": []
          },
          "execution_count": 5
        }
      ]
    },
    {
      "cell_type": "code",
      "metadata": {
        "id": "XGvJDal_MS2L",
        "colab_type": "code",
        "colab": {
          "base_uri": "https://localhost:8080/"
        },
        "outputId": "97dc636f-d431-4243-e12d-59f88a21162d"
      },
      "source": [
        "## bring the actual filename from the other dataframe and clean up columns\n",
        "dfanno = dfanno.merge(dfimages, how=\"inner\", left_on='image_id', right_on='id')\n",
        "dfanno.drop(['height', 'width', 'id_y'], axis = 1, inplace=True)\n",
        "dfanno.rename(columns={'id_x':'id'}, inplace=True)\n",
        "dfanno.head(3)"
      ],
      "execution_count": null,
      "outputs": [
        {
          "output_type": "execute_result",
          "data": {
            "text/html": [
              "<div>\n",
              "<style scoped>\n",
              "    .dataframe tbody tr th:only-of-type {\n",
              "        vertical-align: middle;\n",
              "    }\n",
              "\n",
              "    .dataframe tbody tr th {\n",
              "        vertical-align: top;\n",
              "    }\n",
              "\n",
              "    .dataframe thead th {\n",
              "        text-align: right;\n",
              "    }\n",
              "</style>\n",
              "<table border=\"1\" class=\"dataframe\">\n",
              "  <thead>\n",
              "    <tr style=\"text-align: right;\">\n",
              "      <th></th>\n",
              "      <th>image_id</th>\n",
              "      <th>id</th>\n",
              "      <th>caption</th>\n",
              "      <th>file_name</th>\n",
              "    </tr>\n",
              "  </thead>\n",
              "  <tbody>\n",
              "    <tr>\n",
              "      <th>0</th>\n",
              "      <td>179765</td>\n",
              "      <td>38</td>\n",
              "      <td>A black Honda motorcycle parked in front of a ...</td>\n",
              "      <td>000000179765.jpg</td>\n",
              "    </tr>\n",
              "    <tr>\n",
              "      <th>1</th>\n",
              "      <td>179765</td>\n",
              "      <td>182</td>\n",
              "      <td>A Honda motorcycle parked in a grass driveway</td>\n",
              "      <td>000000179765.jpg</td>\n",
              "    </tr>\n",
              "    <tr>\n",
              "      <th>2</th>\n",
              "      <td>179765</td>\n",
              "      <td>479</td>\n",
              "      <td>A black Honda motorcycle with a dark burgundy ...</td>\n",
              "      <td>000000179765.jpg</td>\n",
              "    </tr>\n",
              "  </tbody>\n",
              "</table>\n",
              "</div>"
            ],
            "text/plain": [
              "   image_id  ...         file_name\n",
              "0    179765  ...  000000179765.jpg\n",
              "1    179765  ...  000000179765.jpg\n",
              "2    179765  ...  000000179765.jpg\n",
              "\n",
              "[3 rows x 4 columns]"
            ]
          },
          "metadata": {
            "tags": []
          },
          "execution_count": 6
        }
      ]
    },
    {
      "cell_type": "code",
      "metadata": {
        "id": "Oi4SKtG6MS5D",
        "colab_type": "code",
        "colab": {}
      },
      "source": [
        ""
      ],
      "execution_count": null,
      "outputs": []
    },
    {
      "cell_type": "markdown",
      "metadata": {
        "id": "Hrej2EBES6K5",
        "colab_type": "text"
      },
      "source": [
        "### Data preprocess part 1  for captions"
      ]
    },
    {
      "cell_type": "code",
      "metadata": {
        "id": "wxhBYLVYMuqC",
        "colab_type": "code",
        "colab": {}
      },
      "source": [
        "## preprocess part 1 using pandas\n",
        "##      lowercase, remove whitespaces in lead, end and mid\n",
        "## update the captions in the df"
      ],
      "execution_count": null,
      "outputs": []
    },
    {
      "cell_type": "code",
      "metadata": {
        "id": "KLql6eBoMS-b",
        "colab_type": "code",
        "colab": {
          "base_uri": "https://localhost:8080/"
        },
        "outputId": "33bd2ecf-ac34-47c0-a5c1-e91f82dbf598"
      },
      "source": [
        "dfanno['caption'].head(15)"
      ],
      "execution_count": null,
      "outputs": [
        {
          "output_type": "execute_result",
          "data": {
            "text/plain": [
              "0     A black Honda motorcycle parked in front of a ...\n",
              "1         A Honda motorcycle parked in a grass driveway\n",
              "2     A black Honda motorcycle with a dark burgundy ...\n",
              "3     Ma motorcycle parked on the gravel in front of...\n",
              "4     A motorcycle with its brake extended standing ...\n",
              "5     An office cubicle with four different types of...\n",
              "6     The home office space seems to be very cluttered.\n",
              "7     an office with desk computer and chair and lap...\n",
              "8        Office setting with a lot of computer screens.\n",
              "9                A desk and chair in an office cubicle.\n",
              "10            A small closed toilet in a cramped space.\n",
              "11    A tan toilet and sink combination in a small r...\n",
              "12    This is an advanced toilet with a sink and con...\n",
              "13      A close-up picture of a toilet with a fountain.\n",
              "14        Off white toilet with a faucet and controls. \n",
              "Name: caption, dtype: object"
            ]
          },
          "metadata": {
            "tags": []
          },
          "execution_count": 7
        }
      ]
    },
    {
      "cell_type": "code",
      "metadata": {
        "id": "vHk7ys8jyx6z",
        "colab_type": "code",
        "colab": {
          "base_uri": "https://localhost:8080/"
        },
        "outputId": "aa26f909-8368-487e-fdcf-191183f76c74"
      },
      "source": [
        "#for index_label, row_series in dfanno[6:13].iterrows():\n",
        "for index_label, row_series in dfanno.iterrows():\n",
        "  #inCap = row_series['caption']\n",
        "  #inCap = inCap.lower().strip()\n",
        "  #inCap = \" \".join(inCap.split())\n",
        "  #print(f\"{inCap} --- {type(inCap)}\")\n",
        "  \n",
        "  dfanno.at[index_label, 'caption'] = \" \".join( row_series['caption'].lower().strip().split() )\n",
        "dfanno['caption'].head(15)"
      ],
      "execution_count": null,
      "outputs": [
        {
          "output_type": "execute_result",
          "data": {
            "text/plain": [
              "0     a black honda motorcycle parked in front of a ...\n",
              "1         a honda motorcycle parked in a grass driveway\n",
              "2     a black honda motorcycle with a dark burgundy ...\n",
              "3     ma motorcycle parked on the gravel in front of...\n",
              "4     a motorcycle with its brake extended standing ...\n",
              "5     an office cubicle with four different types of...\n",
              "6     the home office space seems to be very cluttered.\n",
              "7     an office with desk computer and chair and lap...\n",
              "8        office setting with a lot of computer screens.\n",
              "9                a desk and chair in an office cubicle.\n",
              "10            a small closed toilet in a cramped space.\n",
              "11    a tan toilet and sink combination in a small r...\n",
              "12    this is an advanced toilet with a sink and con...\n",
              "13      a close-up picture of a toilet with a fountain.\n",
              "14         off white toilet with a faucet and controls.\n",
              "Name: caption, dtype: object"
            ]
          },
          "metadata": {
            "tags": []
          },
          "execution_count": 8
        }
      ]
    },
    {
      "cell_type": "code",
      "metadata": {
        "id": "Rv20FNXnlO7Z",
        "colab_type": "code",
        "colab": {
          "base_uri": "https://localhost:8080/"
        },
        "outputId": "2bbfecc0-f1ae-41de-8551-ede3666fece9"
      },
      "source": [
        "dfanno.head(3)"
      ],
      "execution_count": null,
      "outputs": [
        {
          "output_type": "execute_result",
          "data": {
            "text/html": [
              "<div>\n",
              "<style scoped>\n",
              "    .dataframe tbody tr th:only-of-type {\n",
              "        vertical-align: middle;\n",
              "    }\n",
              "\n",
              "    .dataframe tbody tr th {\n",
              "        vertical-align: top;\n",
              "    }\n",
              "\n",
              "    .dataframe thead th {\n",
              "        text-align: right;\n",
              "    }\n",
              "</style>\n",
              "<table border=\"1\" class=\"dataframe\">\n",
              "  <thead>\n",
              "    <tr style=\"text-align: right;\">\n",
              "      <th></th>\n",
              "      <th>image_id</th>\n",
              "      <th>id</th>\n",
              "      <th>caption</th>\n",
              "      <th>file_name</th>\n",
              "    </tr>\n",
              "  </thead>\n",
              "  <tbody>\n",
              "    <tr>\n",
              "      <th>0</th>\n",
              "      <td>179765</td>\n",
              "      <td>38</td>\n",
              "      <td>a black honda motorcycle parked in front of a ...</td>\n",
              "      <td>000000179765.jpg</td>\n",
              "    </tr>\n",
              "    <tr>\n",
              "      <th>1</th>\n",
              "      <td>179765</td>\n",
              "      <td>182</td>\n",
              "      <td>a honda motorcycle parked in a grass driveway</td>\n",
              "      <td>000000179765.jpg</td>\n",
              "    </tr>\n",
              "    <tr>\n",
              "      <th>2</th>\n",
              "      <td>179765</td>\n",
              "      <td>479</td>\n",
              "      <td>a black honda motorcycle with a dark burgundy ...</td>\n",
              "      <td>000000179765.jpg</td>\n",
              "    </tr>\n",
              "  </tbody>\n",
              "</table>\n",
              "</div>"
            ],
            "text/plain": [
              "   image_id  ...         file_name\n",
              "0    179765  ...  000000179765.jpg\n",
              "1    179765  ...  000000179765.jpg\n",
              "2    179765  ...  000000179765.jpg\n",
              "\n",
              "[3 rows x 4 columns]"
            ]
          },
          "metadata": {
            "tags": []
          },
          "execution_count": 9
        }
      ]
    },
    {
      "cell_type": "code",
      "metadata": {
        "id": "IlEni2AXROHp",
        "colab_type": "code",
        "colab": {}
      },
      "source": [
        ""
      ],
      "execution_count": null,
      "outputs": []
    },
    {
      "cell_type": "markdown",
      "metadata": {
        "id": "P7Lmh8eeQzPn",
        "colab_type": "text"
      },
      "source": [
        "### Mapping image with captions using dictionary"
      ]
    },
    {
      "cell_type": "code",
      "metadata": {
        "id": "auy-hikzPNDi",
        "colab_type": "code",
        "colab": {}
      },
      "source": [
        "## Mapping image with captions using dictionary\n",
        "\n",
        "def image_to_captions(_dfin):\n",
        "    hash_map = {}\n",
        "    for row in _dfin.itertuples():\n",
        "      rowdict = row._asdict()\n",
        "      img_filename = rowdict['file_name'].split('.')[0] # drop the .jpg part\n",
        "      img_caption = rowdict['caption']\n",
        "      if(img_filename not in hash_map):\n",
        "        hash_map[img_filename] = [img_caption]\n",
        "      else:\n",
        "        hash_map[img_filename].append(img_caption)\n",
        "    return hash_map\n",
        "\n",
        "hashmap_img_and_captions = image_to_captions(dfanno)"
      ],
      "execution_count": null,
      "outputs": []
    },
    {
      "cell_type": "code",
      "metadata": {
        "id": "cu6vlJfnYmte",
        "colab_type": "code",
        "colab": {
          "base_uri": "https://localhost:8080/"
        },
        "outputId": "9b129b82-349f-4fe5-bf78-64acda11a0ff"
      },
      "source": [
        "dict(list(hashmap_img_and_captions.items())[12:19])"
      ],
      "execution_count": null,
      "outputs": [
        {
          "output_type": "execute_result",
          "data": {
            "text/plain": [
              "{'000000012667': ['the telephone has a banana where the receiver should be.',\n",
              "  'a banana replacing the phone on an answering machine',\n",
              "  'a phone with a banana where the receiver should be.',\n",
              "  'a telephone has it receiver replaced with a banana.',\n",
              "  'a banana placed on a phone on a table.'],\n",
              " '000000065485': ['a dog driving an suv in an open grass covered field.',\n",
              "  'a dog sits in the front seat of a jeep.',\n",
              "  'a dog is sitting inside a red car.',\n",
              "  'a red truck has a black dog in the drivers chair.',\n",
              "  'a dog sitting in the front seat of a truck.'],\n",
              " '000000289393': ['set of toy animals sitting in front of a red wooden wagon.',\n",
              "  'several toy animals - a bull, giraffe, deer and parakeet.',\n",
              "  'some toy animals on the ground near a picture',\n",
              "  \"children's toy animals are strewn across a floor.\",\n",
              "  'a display of vintage animal toys on the floor.'],\n",
              " '000000338325': ['a striped plane flying up into the sky as the sun shines behind it.',\n",
              "  'an airplane is ascending into the white sky',\n",
              "  'an american airlines plane is in the sky',\n",
              "  'a red, white, and blue plane is in the sky.',\n",
              "  'a plane flies through the sky at an angle.'],\n",
              " '000000482917': ['a dog sitting between its masters feet on a footstool watching tv',\n",
              "  'a dog between the feet of a person looking at a tv.',\n",
              "  'a dog and a person are watching television together.',\n",
              "  'a person is sitting with their dog watching tv.',\n",
              "  'a man relaxing at home, watching television with his dog.'],\n",
              " '000000534605': ['man in motorcycle leathers standing in front of a group of bikes',\n",
              "  'bikers, dressed in their gear, standing near their motorcycles.',\n",
              "  'a group of men stand next to their bicycles.',\n",
              "  'three men standing around their motorcycles in a parking lot.',\n",
              "  'group of three motorcyclists standing in front of their motorcycles.'],\n",
              " '000000561256': ['a woman wearing a hat & pink top takes a selfie in front of a bathroom mirror.',\n",
              "  'a woman in a flowered dress taking a selfie in a bathroom mirror.',\n",
              "  'an older woman in a flower dress takes a self photo in the mirror.',\n",
              "  'a woman in a yellow bathroom is holding a camera.',\n",
              "  'a woman taking a picture of herself in a bathroom.']}"
            ]
          },
          "metadata": {
            "tags": []
          },
          "execution_count": 85
        }
      ]
    },
    {
      "cell_type": "code",
      "metadata": {
        "id": "MuTRT2Yt50FO",
        "colab_type": "code",
        "colab": {
          "base_uri": "https://localhost:8080/"
        },
        "outputId": "8126f569-6faa-46fc-8ccf-80275171f5de"
      },
      "source": [
        "## example of caption with a hyphen - in the text\n",
        "hashmap_img_and_captions['000000289393']"
      ],
      "execution_count": null,
      "outputs": [
        {
          "output_type": "execute_result",
          "data": {
            "text/plain": [
              "['set of toy animals sitting in front of a red wooden wagon.',\n",
              " 'several toy animals - a bull, giraffe, deer and parakeet.',\n",
              " 'some toy animals on the ground near a picture',\n",
              " \"children's toy animals are strewn across a floor.\",\n",
              " 'a display of vintage animal toys on the floor.']"
            ]
          },
          "metadata": {
            "tags": []
          },
          "execution_count": 86
        }
      ]
    },
    {
      "cell_type": "markdown",
      "metadata": {
        "id": "4JCI5otNTKKb",
        "colab_type": "text"
      },
      "source": [
        "### Data preprocess part 2  for captions and create the hashmap of images with their captions"
      ]
    },
    {
      "cell_type": "code",
      "metadata": {
        "id": "An7uy0jQSqg4",
        "colab_type": "code",
        "colab": {}
      },
      "source": [
        "## preprocess part 2 within the hashmap data structure\n",
        "##      replace all hyphen with space  i.e.   -   replaced with   space\n",
        "##      replace all comma with space   i.e.   ,   replaced with   space\n",
        "##      replace all dots with space    i.e.   .   replaced with   space\n",
        "##      remove any token with length < 2\n",
        "##      retain only alphabetic tokens\n",
        "##      NOT NOW, MAYBE DO IT LATER: add special token of end of sequence at the end represented as follows: <<EOS>>\n",
        "##      "
      ],
      "execution_count": null,
      "outputs": []
    },
    {
      "cell_type": "code",
      "metadata": {
        "id": "AHH5ufA5YwV1",
        "colab_type": "code",
        "colab": {
          "base_uri": "https://localhost:8080/"
        },
        "outputId": "8c9001b2-1450-48a5-b7e3-3f94b59c87ce"
      },
      "source": [
        "hashmap_img_and_captions['000000289393']"
      ],
      "execution_count": null,
      "outputs": [
        {
          "output_type": "execute_result",
          "data": {
            "text/plain": [
              "['set of toy animals sitting in front of a red wooden wagon.',\n",
              " 'several toy animals - a bull, giraffe, deer and parakeet.',\n",
              " 'some toy animals on the ground near a picture',\n",
              " \"children's toy animals are strewn across a floor.\",\n",
              " 'a display of vintage animal toys on the floor.']"
            ]
          },
          "metadata": {
            "tags": []
          },
          "execution_count": 88
        }
      ]
    },
    {
      "cell_type": "code",
      "metadata": {
        "id": "zXs9ZgPwOGSq",
        "colab_type": "code",
        "colab": {
          "base_uri": "https://localhost:8080/"
        },
        "outputId": "35fd4057-4a51-404f-c36f-600ebf945f80"
      },
      "source": [
        "#abc = [token for token in 'this is a sent 1923 with alpha num 32'.split() if len(token)>1 if token.isalpha()]\n",
        "#abc"
      ],
      "execution_count": null,
      "outputs": [
        {
          "output_type": "execute_result",
          "data": {
            "text/plain": [
              "['this', 'is', 'sent', 'with', 'alpha', 'num']"
            ]
          },
          "metadata": {
            "tags": []
          },
          "execution_count": 51
        }
      ]
    },
    {
      "cell_type": "code",
      "metadata": {
        "id": "HdCYr3XrPTCA",
        "colab_type": "code",
        "colab": {
          "base_uri": "https://localhost:8080/"
        },
        "outputId": "0a4ebc8e-9da9-4704-cbe8-05ac82602f85"
      },
      "source": [
        "#abc = 'this is . so-me sent with a dot'\n",
        "#abc = re.sub( r'-' , r' ' , abc )\n",
        "#abc = re.sub( r'\\.' , r' ' , abc )\n",
        "#abc"
      ],
      "execution_count": null,
      "outputs": [
        {
          "output_type": "execute_result",
          "data": {
            "application/vnd.google.colaboratory.intrinsic+json": {
              "type": "string"
            },
            "text/plain": [
              "'this is   so me sent with a dot'"
            ]
          },
          "metadata": {
            "tags": []
          },
          "execution_count": 44
        }
      ]
    },
    {
      "cell_type": "code",
      "metadata": {
        "id": "ybiys_3cT1jp",
        "colab_type": "code",
        "colab": {}
      },
      "source": [
        "def preprocess_part2(_hashmapin):\n",
        "  preprocessed_captions = []\n",
        "  for key in _hashmapin.keys():\n",
        "    for idx in range(len(_hashmapin[key])):\n",
        "      inSentence = _hashmapin[key][idx]\n",
        "      if inSentence[-1] == '.':  ## remove the period at end of caption\n",
        "        inSentence = inSentence[:-1]\n",
        "      inSentence = re.sub( r'-' , r' ' , inSentence )  ## remove -\n",
        "      inSentence = re.sub( r',' , r' ' , inSentence )  ## remove comma\n",
        "      inSentence = re.sub( r'\\.' , r' ' , inSentence )  ## remove dot\n",
        "      tokens = [token for token in inSentence.split() if len(token)>1 if token.isalpha()]\n",
        "      _hashmapin[key][idx] = ' '.join(tokens) #+ ' <<EOS>>'\n",
        "\n",
        "preprocess_part2(hashmap_img_and_captions)\n"
      ],
      "execution_count": null,
      "outputs": []
    },
    {
      "cell_type": "code",
      "metadata": {
        "id": "rnD5UN4SSqjg",
        "colab_type": "code",
        "colab": {
          "base_uri": "https://localhost:8080/"
        },
        "outputId": "cd5f1a50-29f7-49fe-8749-f9703684c4f3"
      },
      "source": [
        "hashmap_img_and_captions['000000289393']"
      ],
      "execution_count": null,
      "outputs": [
        {
          "output_type": "execute_result",
          "data": {
            "text/plain": [
              "['set of toy animals sitting in front of red wooden wagon',\n",
              " 'several toy animals bull giraffe deer and parakeet',\n",
              " 'some toy animals on the ground near picture',\n",
              " 'toy animals are strewn across floor',\n",
              " 'display of vintage animal toys on the floor']"
            ]
          },
          "metadata": {
            "tags": []
          },
          "execution_count": 92
        }
      ]
    },
    {
      "cell_type": "markdown",
      "metadata": {
        "id": "Q_AAKliCGXtc",
        "colab_type": "text"
      },
      "source": [
        "### PICKLE the hasmap data structure"
      ]
    },
    {
      "cell_type": "code",
      "metadata": {
        "id": "afZHCgdFSqmG",
        "colab_type": "code",
        "colab": {
          "base_uri": "https://localhost:8080/"
        },
        "outputId": "7d519a26-ce02-426b-fa83-540ae4e065dd"
      },
      "source": [
        "OPDIR"
      ],
      "execution_count": null,
      "outputs": [
        {
          "output_type": "execute_result",
          "data": {
            "application/vnd.google.colaboratory.intrinsic+json": {
              "type": "string"
            },
            "text/plain": [
              "'/content/gdrive/My Drive/ThesisStoryGen/Data/ImgCapTraining/CocoVal2017_1/'"
            ]
          },
          "metadata": {
            "tags": []
          },
          "execution_count": 93
        }
      ]
    },
    {
      "cell_type": "code",
      "metadata": {
        "id": "H-TVn6WiDk6n",
        "colab_type": "code",
        "colab": {
          "base_uri": "https://localhost:8080/"
        },
        "outputId": "b2ab47d4-7570-4135-cdf8-2f3762a10eba"
      },
      "source": [
        "## pickle the hashmap data\n",
        "with open(OPDIR+'val2017_all_5k_images_hashmap_pickled_1.pkl', 'wb') as handle:\n",
        "    pickle.dump(hashmap_img_and_captions, handle, protocol=pickle.HIGHEST_PROTOCOL)\n",
        "print(f\"Pickling of hashmap done\")"
      ],
      "execution_count": null,
      "outputs": [
        {
          "output_type": "stream",
          "text": [
            "Pickling of hashmap done\n"
          ],
          "name": "stdout"
        }
      ]
    },
    {
      "cell_type": "code",
      "metadata": {
        "id": "8_a2VDn4Dk9r",
        "colab_type": "code",
        "colab": {
          "base_uri": "https://localhost:8080/"
        },
        "outputId": "8b76f62c-dcd8-403b-83d7-7203a39419a2"
      },
      "source": [
        "print(f\"Size of pickled data = {sys.getsizeof(hashmap_img_and_captions)} bytes\")"
      ],
      "execution_count": null,
      "outputs": [
        {
          "output_type": "stream",
          "text": [
            "Size of pickled data = 147560 bytes\n"
          ],
          "name": "stdout"
        }
      ]
    },
    {
      "cell_type": "code",
      "metadata": {
        "id": "f2rUljPIEJ1h",
        "colab_type": "code",
        "colab": {}
      },
      "source": [
        "del hashmap_img_and_captions"
      ],
      "execution_count": null,
      "outputs": []
    },
    {
      "cell_type": "code",
      "metadata": {
        "id": "gbDJkaUEEK6G",
        "colab_type": "code",
        "colab": {
          "base_uri": "https://localhost:8080/"
        },
        "outputId": "c161201c-190d-46ca-f4d9-737fa56ddca7"
      },
      "source": [
        "print(f\"Size of pickled data = {sys.getsizeof(hashmap_img_and_captions)} bytes\")"
      ],
      "execution_count": null,
      "outputs": [
        {
          "output_type": "error",
          "ename": "NameError",
          "evalue": "ignored",
          "traceback": [
            "\u001b[0;31m---------------------------------------------------------------------------\u001b[0m",
            "\u001b[0;31mNameError\u001b[0m                                 Traceback (most recent call last)",
            "\u001b[0;32m<ipython-input-97-a64122a3b349>\u001b[0m in \u001b[0;36m<module>\u001b[0;34m()\u001b[0m\n\u001b[0;32m----> 1\u001b[0;31m \u001b[0mprint\u001b[0m\u001b[0;34m(\u001b[0m\u001b[0;34mf\"Size of pickled data = {sys.getsizeof(hashmap_img_and_captions)} bytes\"\u001b[0m\u001b[0;34m)\u001b[0m\u001b[0;34m\u001b[0m\u001b[0;34m\u001b[0m\u001b[0m\n\u001b[0m",
            "\u001b[0;31mNameError\u001b[0m: name 'hashmap_img_and_captions' is not defined"
          ]
        }
      ]
    },
    {
      "cell_type": "markdown",
      "metadata": {
        "id": "qs5nZay2Eh1T",
        "colab_type": "text"
      },
      "source": [
        "## DO EVERYTIME - RELOAD FROM PICKLE FILE: Hashmap of images and their captions\n",
        "\n",
        "#### Size of hashmap should be 147560 bytes\n",
        "\n",
        "#### Example of an entry: hashmap_img_and_captions['000000289393']   should output as below\n",
        "#### ['set of toy animals sitting in front of a red wooden wagon.',\n",
        "####  'several toy animals - a bull, giraffe, deer and parakeet.',\n",
        "####  'some toy animals on the ground near a picture',\n",
        "####  \"children's toy animals are strewn across a floor.\",\n",
        "####  'a display of vintage animal toys on the floor.']"
      ]
    },
    {
      "cell_type": "code",
      "metadata": {
        "id": "eeMnakUkDlAx",
        "colab_type": "code",
        "colab": {
          "base_uri": "https://localhost:8080/",
          "height": 102
        },
        "outputId": "550fe109-224d-4b2f-8f85-5b57966c080c"
      },
      "source": [
        "## reload from picked file\n",
        "if True:\n",
        "  with open(OPDIR+'val2017_all_5k_images_hashmap_pickled_1.pkl', 'rb') as handle:\n",
        "    hashmap_img_and_captions = pickle.load(handle)\n",
        "\n",
        "hashmap_img_and_captions['000000289393']"
      ],
      "execution_count": 4,
      "outputs": [
        {
          "output_type": "execute_result",
          "data": {
            "text/plain": [
              "['set of toy animals sitting in front of red wooden wagon',\n",
              " 'several toy animals bull giraffe deer and parakeet',\n",
              " 'some toy animals on the ground near picture',\n",
              " 'toy animals are strewn across floor',\n",
              " 'display of vintage animal toys on the floor']"
            ]
          },
          "metadata": {
            "tags": []
          },
          "execution_count": 4
        }
      ]
    },
    {
      "cell_type": "code",
      "metadata": {
        "id": "cfTacBV7DPL6",
        "colab_type": "code",
        "colab": {
          "base_uri": "https://localhost:8080/",
          "height": 34
        },
        "outputId": "bf37398c-277f-46d0-b3be-02846c7d55e0"
      },
      "source": [
        "print(f\"Size of pickled data = {sys.getsizeof(hashmap_img_and_captions)} bytes\")"
      ],
      "execution_count": 5,
      "outputs": [
        {
          "output_type": "stream",
          "text": [
            "Size of pickled data = 147560 bytes\n"
          ],
          "name": "stdout"
        }
      ]
    },
    {
      "cell_type": "code",
      "metadata": {
        "id": "38VL-OM9DPOq",
        "colab_type": "code",
        "colab": {}
      },
      "source": [
        ""
      ],
      "execution_count": null,
      "outputs": []
    },
    {
      "cell_type": "markdown",
      "metadata": {
        "id": "UiuCDq-xcqlH",
        "colab_type": "text"
      },
      "source": [
        "## ONLY ONCE - Create vocabulary (set of unique tokens) from captions files\n",
        "### HOWEVER NOTE: the vocab length specified in the model is based on the GloVe data and not this vocabulary!!!\n",
        "\n",
        "#### len(vocabulary) should = 7071\n",
        "#### make the set into a list and pickle it"
      ]
    },
    {
      "cell_type": "code",
      "metadata": {
        "id": "PnxOwOawV27Z",
        "colab_type": "code",
        "colab": {}
      },
      "source": [
        "#Create vocabulary (set of unique tokens) from captions\n",
        "\n",
        "def create_vocabulary(_hashmap):\n",
        "    vocabulary = set()\n",
        "    for img_captions in _hashmap.values(): # list of up to 5 captions for each image\n",
        "        for caption in img_captions:\n",
        "          if caption[-1] == '.':\n",
        "            caption_copy = \"\".join(caption[:-1])\n",
        "          else:\n",
        "            caption_copy = \"\".join(caption)\n",
        "            for token in caption_copy.split():\n",
        "                vocabulary.add(token)    \n",
        "    return vocabulary\n",
        "\n",
        "vocabulary = create_vocabulary(hashmap_img_and_captions)"
      ],
      "execution_count": null,
      "outputs": []
    },
    {
      "cell_type": "code",
      "metadata": {
        "id": "zpKC8b4seaX8",
        "colab_type": "code",
        "colab": {
          "base_uri": "https://localhost:8080/",
          "height": 34
        },
        "outputId": "487ede91-3980-41d6-a0c9-0a6469b3d83b"
      },
      "source": [
        "len(vocabulary)"
      ],
      "execution_count": null,
      "outputs": [
        {
          "output_type": "execute_result",
          "data": {
            "text/plain": [
              "7071"
            ]
          },
          "metadata": {
            "tags": []
          },
          "execution_count": 17
        }
      ]
    },
    {
      "cell_type": "code",
      "metadata": {
        "id": "HIbNAEeUejbS",
        "colab_type": "code",
        "colab": {
          "base_uri": "https://localhost:8080/",
          "height": 34
        },
        "outputId": "9d2ff9c2-3151-4618-8c6b-83af768d8149"
      },
      "source": [
        "## see first few entries in our vocabulary set\n",
        "[val for i, val in enumerate(vocabulary) if i < 5 ]"
      ],
      "execution_count": null,
      "outputs": [
        {
          "output_type": "execute_result",
          "data": {
            "text/plain": [
              "['hashbrowns', 'tapping', 'grapefruit', 'talkie', 'amtrak']"
            ]
          },
          "metadata": {
            "tags": []
          },
          "execution_count": 18
        }
      ]
    },
    {
      "cell_type": "code",
      "metadata": {
        "id": "kfnyivYmltxm",
        "colab_type": "code",
        "colab": {
          "base_uri": "https://localhost:8080/",
          "height": 34
        },
        "outputId": "71eb41a4-315e-4a6e-b5f3-7b622f4d811e"
      },
      "source": [
        "vocabulary = list(vocabulary)\n",
        "\n",
        "## see first few entries in our vocabulary set\n",
        "## note that after conversion to the list, the positions may have changed\n",
        "[val for i, val in enumerate(vocabulary) if i < 5 ]"
      ],
      "execution_count": null,
      "outputs": [
        {
          "output_type": "execute_result",
          "data": {
            "text/plain": [
              "['hashbrowns', 'tapping', 'grapefruit', 'talkie', 'amtrak']"
            ]
          },
          "metadata": {
            "tags": []
          },
          "execution_count": 19
        }
      ]
    },
    {
      "cell_type": "code",
      "metadata": {
        "id": "U1-hYD-pTv3I",
        "colab_type": "code",
        "colab": {
          "base_uri": "https://localhost:8080/",
          "height": 34
        },
        "outputId": "672369c4-69e8-4152-bca4-c893cafc0630"
      },
      "source": [
        "len(vocabulary)"
      ],
      "execution_count": null,
      "outputs": [
        {
          "output_type": "execute_result",
          "data": {
            "text/plain": [
              "7071"
            ]
          },
          "metadata": {
            "tags": []
          },
          "execution_count": 20
        }
      ]
    },
    {
      "cell_type": "code",
      "metadata": {
        "id": "CUxU76eRTv5z",
        "colab_type": "code",
        "colab": {
          "base_uri": "https://localhost:8080/",
          "height": 35
        },
        "outputId": "2ca5ab3b-fae5-4903-a5ef-6800189b7a41"
      },
      "source": [
        "OPDIR"
      ],
      "execution_count": null,
      "outputs": [
        {
          "output_type": "execute_result",
          "data": {
            "application/vnd.google.colaboratory.intrinsic+json": {
              "type": "string"
            },
            "text/plain": [
              "'/content/gdrive/My Drive/ThesisStoryGen/Data/ImgCapTraining/CocoVal2017_1/'"
            ]
          },
          "metadata": {
            "tags": []
          },
          "execution_count": 21
        }
      ]
    },
    {
      "cell_type": "code",
      "metadata": {
        "id": "JcgzT3x8Tv8N",
        "colab_type": "code",
        "colab": {
          "base_uri": "https://localhost:8080/",
          "height": 34
        },
        "outputId": "68754d30-9e59-4d55-9236-ca8470014d7c"
      },
      "source": [
        "## pickle the data\n",
        "with open(OPDIR+'val2017_all_5k_images_vocab_as_list_pickled_1.pkl', 'wb') as handle:\n",
        "    pickle.dump(vocabulary, handle, protocol=pickle.HIGHEST_PROTOCOL)\n",
        "print(f\"Pickling done for the vocabulary as list\")"
      ],
      "execution_count": null,
      "outputs": [
        {
          "output_type": "stream",
          "text": [
            "Pickling done for the vocabulary as list\n"
          ],
          "name": "stdout"
        }
      ]
    },
    {
      "cell_type": "code",
      "metadata": {
        "id": "UhuryxOpUgWa",
        "colab_type": "code",
        "colab": {
          "base_uri": "https://localhost:8080/",
          "height": 34
        },
        "outputId": "37c885b9-9151-428b-c329-4ee7786f754f"
      },
      "source": [
        "print(f\"Size of pickled data = {sys.getsizeof(vocabulary)} bytes\")"
      ],
      "execution_count": null,
      "outputs": [
        {
          "output_type": "stream",
          "text": [
            "Size of pickled data = 63744 bytes\n"
          ],
          "name": "stdout"
        }
      ]
    },
    {
      "cell_type": "code",
      "metadata": {
        "id": "L-i1yhg8UgY_",
        "colab_type": "code",
        "colab": {}
      },
      "source": [
        "del vocabulary"
      ],
      "execution_count": null,
      "outputs": []
    },
    {
      "cell_type": "code",
      "metadata": {
        "id": "LuDM0SZwUgbW",
        "colab_type": "code",
        "colab": {}
      },
      "source": [
        ""
      ],
      "execution_count": null,
      "outputs": []
    },
    {
      "cell_type": "markdown",
      "metadata": {
        "id": "hPrzbM5pU-13",
        "colab_type": "text"
      },
      "source": [
        "## DO EVERYTIME - RELOAD FROM PICKLE FILE: Vocabulary as list\n",
        "### HOWEVER NOTE: the vocab length specified in the model is based on the GloVe data and not this vocabulary!!!\n",
        "\n",
        "#### sys.getsizeof(vocabulary)   should be as below 63744 bytes\n",
        "#### the length should be 7071"
      ]
    },
    {
      "cell_type": "code",
      "metadata": {
        "id": "dci64UEMTwBP",
        "colab_type": "code",
        "colab": {
          "base_uri": "https://localhost:8080/",
          "height": 35
        },
        "outputId": "a5ce7ff1-d9c1-48b4-c000-228cfc2aeade"
      },
      "source": [
        "OPDIR"
      ],
      "execution_count": 6,
      "outputs": [
        {
          "output_type": "execute_result",
          "data": {
            "application/vnd.google.colaboratory.intrinsic+json": {
              "type": "string"
            },
            "text/plain": [
              "'/content/gdrive/My Drive/ThesisStoryGen/Data/ImgCapTraining/CocoVal2017_1/'"
            ]
          },
          "metadata": {
            "tags": []
          },
          "execution_count": 6
        }
      ]
    },
    {
      "cell_type": "code",
      "metadata": {
        "id": "KDFHjd0NU0pG",
        "colab_type": "code",
        "colab": {
          "base_uri": "https://localhost:8080/",
          "height": 34
        },
        "outputId": "1e667fa3-21ac-48e6-deaa-b634249aec28"
      },
      "source": [
        "## reload from picked file\n",
        "if True:\n",
        "  with open(OPDIR+'val2017_all_5k_images_vocab_as_list_pickled_1.pkl', 'rb') as handle:\n",
        "    vocabulary = pickle.load(handle)\n",
        "\n",
        "## see first few entries in our vocabulary set\n",
        "[val for i, val in enumerate(vocabulary) if i < 5 ]"
      ],
      "execution_count": 7,
      "outputs": [
        {
          "output_type": "execute_result",
          "data": {
            "text/plain": [
              "['hashbrowns', 'tapping', 'grapefruit', 'talkie', 'amtrak']"
            ]
          },
          "metadata": {
            "tags": []
          },
          "execution_count": 7
        }
      ]
    },
    {
      "cell_type": "code",
      "metadata": {
        "id": "wm8V6RJSU0sG",
        "colab_type": "code",
        "colab": {
          "base_uri": "https://localhost:8080/",
          "height": 34
        },
        "outputId": "19d0b01a-bfa0-4d22-f5a7-6adebb606d6e"
      },
      "source": [
        "print(f\"Size of pickled data = {sys.getsizeof(vocabulary)} bytes\")"
      ],
      "execution_count": 8,
      "outputs": [
        {
          "output_type": "stream",
          "text": [
            "Size of pickled data = 63112 bytes\n"
          ],
          "name": "stdout"
        }
      ]
    },
    {
      "cell_type": "code",
      "metadata": {
        "id": "D90kKIfTVxJl",
        "colab_type": "code",
        "colab": {
          "base_uri": "https://localhost:8080/",
          "height": 34
        },
        "outputId": "0f018a54-2b1d-417a-a7aa-cc905177c3f3"
      },
      "source": [
        "len(vocabulary)"
      ],
      "execution_count": 9,
      "outputs": [
        {
          "output_type": "execute_result",
          "data": {
            "text/plain": [
              "7071"
            ]
          },
          "metadata": {
            "tags": []
          },
          "execution_count": 9
        }
      ]
    },
    {
      "cell_type": "code",
      "metadata": {
        "id": "LQUhnOxfVxMR",
        "colab_type": "code",
        "colab": {}
      },
      "source": [
        ""
      ],
      "execution_count": null,
      "outputs": []
    },
    {
      "cell_type": "markdown",
      "metadata": {
        "id": "-NO6tGXnFzCh",
        "colab_type": "text"
      },
      "source": [
        "## ONLY ONCE: Process images, make Inception-v3 pre-trained model, use to create image feature vectors. Finally pickle for reloading"
      ]
    },
    {
      "cell_type": "markdown",
      "metadata": {
        "id": "y8rjoRQ2f_d9",
        "colab_type": "text"
      },
      "source": [
        "### Preprocessing of images - do this only first time, later reload from picked file"
      ]
    },
    {
      "cell_type": "code",
      "metadata": {
        "id": "sfApK_3wfRgx",
        "colab_type": "code",
        "colab": {}
      },
      "source": [
        "## Make images suitable for use by Inception-v3 model later\n",
        "##\n",
        "## Resize to (299, 299)\n",
        "## As model needs 4-dim input tensor, add one dimenion to make it (1, 299, 299, 3)\n",
        "## Preprocess the image using custom function of Inception-v3 model"
      ],
      "execution_count": null,
      "outputs": []
    },
    {
      "cell_type": "code",
      "metadata": {
        "id": "OjDBRnRbfRjz",
        "colab_type": "code",
        "colab": {}
      },
      "source": [
        "def preprocess_image_for_Incepv3(_img_path, _key = 'DUMMY', _DEBUG=False):\n",
        "  img = tf.keras.preprocessing.image.load_img(_img_path, target_size=(299, 299))\n",
        "  #print(f\"type={type(img)}\") # type(img): type=<class 'PIL.Image.Image'>\n",
        "  if _DEBUG:\n",
        "    plt.figure(figsize=(12,6))\n",
        "    plt.subplot(121)\n",
        "    plt.imshow(img)\n",
        "    plt.title('Original Image(Resized): ' + _key + '.jpg')\n",
        "\n",
        "  img = tf.keras.preprocessing.image.img_to_array(img) # Converts PIL Image instance to numpy array (299,299,3)\n",
        "  img = np.expand_dims(img, axis=0) #Add one more dimension: (1, 299, 299, 3) # Inception-V3 requires 4 dimensions\n",
        "  img = tf.keras.applications.inception_v3.preprocess_input(img) # preprocess image as per Inception-V3 model\n",
        "  if _DEBUG:\n",
        "    plt.subplot(122)\n",
        "    plt.imshow(img[0])\n",
        "    plt.title('Preprocessed image for Inception-V3: ' + _key + '.jpg')\n",
        "\n",
        "  return img  # shape will be (1, 299, 299, 3)"
      ],
      "execution_count": null,
      "outputs": []
    },
    {
      "cell_type": "code",
      "metadata": {
        "id": "ygsHl-2lodb8",
        "colab_type": "code",
        "colab": {
          "base_uri": "https://localhost:8080/",
          "height": 102
        },
        "outputId": "833726a8-c3e9-418f-8030-d620933756e4"
      },
      "source": [
        "hashmap_img_and_captions['000000289393']"
      ],
      "execution_count": null,
      "outputs": [
        {
          "output_type": "execute_result",
          "data": {
            "text/plain": [
              "['set of toy animals sitting in front of a red wooden wagon.',\n",
              " 'several toy animals - a bull, giraffe, deer and parakeet.',\n",
              " 'some toy animals on the ground near a picture',\n",
              " \"children's toy animals are strewn across a floor.\",\n",
              " 'a display of vintage animal toys on the floor.']"
            ]
          },
          "metadata": {
            "tags": []
          },
          "execution_count": 24
        }
      ]
    },
    {
      "cell_type": "code",
      "metadata": {
        "id": "cFIaQRLhl6vt",
        "colab_type": "code",
        "colab": {
          "base_uri": "https://localhost:8080/",
          "height": 51
        },
        "outputId": "cfeec5bd-91ff-4eb3-b6e1-31d1274b42ed"
      },
      "source": [
        "## test out the preprocessing function on one image\n",
        "##     while calling fuction set debug flag to true to display the original and preprocessed images\n",
        "i = 0\n",
        "for key in hashmap_img_and_captions.keys():\n",
        "  if i > 0:\n",
        "    break\n",
        "  \n",
        "  #imgpath = ''.join([IPDIRIMGS, '000000289393', '.jpg'])\n",
        "  imgpath = ''.join([IPDIRIMGS, key, '.jpg'])\n",
        "  print(f\"Image path = {imgpath}\")\n",
        "  preproc_img = preprocess_image_for_Incepv3(imgpath, _key=key, _DEBUG=False)\n",
        "  print(f\"shape after preprocessing = {preproc_img.shape}\")\n",
        "  i += 1"
      ],
      "execution_count": null,
      "outputs": [
        {
          "output_type": "stream",
          "text": [
            "Image path = /content/gdrive/My Drive/ThesisStoryGen/Data/coco_val2017_wget_1/val2017/000000179765.jpg\n",
            "shape after preprocessing = (1, 299, 299, 3)\n"
          ],
          "name": "stdout"
        }
      ]
    },
    {
      "cell_type": "code",
      "metadata": {
        "id": "-6WoGx9Ul6yz",
        "colab_type": "code",
        "colab": {}
      },
      "source": [
        ""
      ],
      "execution_count": null,
      "outputs": []
    },
    {
      "cell_type": "markdown",
      "metadata": {
        "id": "vth7V8Ll0UjK",
        "colab_type": "text"
      },
      "source": [
        "### Load pre-trained model of Inception-v3 pretrained on Imagenet"
      ]
    },
    {
      "cell_type": "code",
      "metadata": {
        "id": "HwBbfRy3ru8E",
        "colab_type": "code",
        "colab": {}
      },
      "source": [
        "#Load pre-trained model and remove the last layer (Output layer)\n",
        "\n",
        "# Load Inception-V3 model\n",
        "model_inception_v3_pretrained_imagement = tf.keras.applications.InceptionV3(weights='imagenet')\n",
        "\n",
        "# Create new model, by removing last layer (output layer) from Inception-V3\n",
        "model_CNN_encoder = keras.Model(inputs=model_inception_v3_pretrained_imagement.input, outputs=model_inception_v3_pretrained_imagement.layers[-2].output)\n",
        "\n",
        "#model_CNN_encoder.summary()"
      ],
      "execution_count": null,
      "outputs": []
    },
    {
      "cell_type": "code",
      "metadata": {
        "id": "wfdUsovYrvBZ",
        "colab_type": "code",
        "colab": {}
      },
      "source": [
        ""
      ],
      "execution_count": null,
      "outputs": []
    },
    {
      "cell_type": "markdown",
      "metadata": {
        "id": "zkbT2AkO4w7R",
        "colab_type": "text"
      },
      "source": [
        "### Encode images into feature vectors"
      ]
    },
    {
      "cell_type": "code",
      "metadata": {
        "id": "WLo0uZrrB4Db",
        "colab_type": "code",
        "colab": {}
      },
      "source": [
        "## Take each image and run it through the encoder. The feature of each image is a numpy array of 2048 values\n",
        "## Store all the info image-wise into a dict\n",
        "##       E.g. of an entry\n",
        "##            print(len(img_encodings['000000179765'])) = \n",
        "##                                                         {'000000179765': array([0.14290829, 0.14481416, 0.3019989 , ..., 0.20583093, 0.13783988,\n",
        "##                                                         0.05842407], dtype=float32), '000000190236': array([0.13693394, 0.44518015, 0.8012958 , ..., 0.09661996, 0.5428589 ,\n",
        "##                                                         0.12551732], dtype=float32)}\n",
        "## Takes forever (for 5k images took xxx seconds)\n",
        "##       So pickle for later use"
      ],
      "execution_count": null,
      "outputs": []
    },
    {
      "cell_type": "code",
      "metadata": {
        "id": "h5fgiO-r4wCe",
        "colab_type": "code",
        "colab": {}
      },
      "source": [
        "#This is the function which will encode a given image into a vector of size (2048, 0).\n",
        "\n",
        "# Function to encode given image into a vector of size (2048, )\n",
        "def encode_image(_imgpath, _key = 'DUMMY', _DEBUG=False):\n",
        "    preproc_img = preprocess_image_for_Incepv3(_imgpath, _key = 'DUMMY', _DEBUG=False) # preprocess image per Inception-v3 requirements\n",
        "    encoded_features = model_CNN_encoder.predict(preproc_img) # Get encoding vector for image\n",
        "    encoded_features = encoded_features.reshape(encoded_features.shape[1], ) # reshape from (1, 2048) to (2048, )\n",
        "    return encoded_features"
      ],
      "execution_count": null,
      "outputs": []
    },
    {
      "cell_type": "code",
      "metadata": {
        "id": "aKPXzIij4wFu",
        "colab_type": "code",
        "colab": {
          "base_uri": "https://localhost:8080/",
          "height": 204
        },
        "outputId": "a6b2b664-d1c9-47cd-9346-355b9d398ac7"
      },
      "source": [
        "## actually encode the images and capture entries in dictionary with key as the filename only without the full path or the .jpg extension\n",
        "##     using same key as the hashmap for captions uses\n",
        "\n",
        "## sending all the val2017 images\n",
        "start_time = time.time()\n",
        "img_encodings = {}\n",
        "for idx, img_filename_only in enumerate(hashmap_img_and_captions.keys()):\n",
        "  if False:  ## debugging\n",
        "    if idx > 1:\n",
        "      break\n",
        "  img_encodings[img_filename_only] = encode_image(''.join([IPDIRIMGS, img_filename_only, '.jpg']))\n",
        "  if( (idx+1)%500 == 0):\n",
        "    print(f'Count of images encoded = {idx+1}')\n",
        "\n",
        "print(f\"Encoded {idx} images; total time taken = {time.time()-start_time} seconds\")"
      ],
      "execution_count": null,
      "outputs": [
        {
          "output_type": "stream",
          "text": [
            "Count of images encoded = 500\n",
            "Count of images encoded = 1000\n",
            "Count of images encoded = 1500\n",
            "Count of images encoded = 2000\n",
            "Count of images encoded = 2500\n",
            "Count of images encoded = 3000\n",
            "Count of images encoded = 3500\n",
            "Count of images encoded = 4000\n",
            "Count of images encoded = 4500\n",
            "Count of images encoded = 5000\n",
            "Encoded 4999 images; total time taken = 2155.1622138023376 seconds\n"
          ],
          "name": "stdout"
        }
      ]
    },
    {
      "cell_type": "code",
      "metadata": {
        "id": "obqJHRsT4wIn",
        "colab_type": "code",
        "colab": {}
      },
      "source": [
        "## pickle the image feature dictionary data structure"
      ],
      "execution_count": null,
      "outputs": []
    },
    {
      "cell_type": "code",
      "metadata": {
        "id": "z9Aic7IsD1HH",
        "colab_type": "code",
        "colab": {
          "base_uri": "https://localhost:8080/",
          "height": 34
        },
        "outputId": "174b19b5-0574-4327-edf4-38c73129f98d"
      },
      "source": [
        "len(img_encodings)"
      ],
      "execution_count": null,
      "outputs": [
        {
          "output_type": "execute_result",
          "data": {
            "text/plain": [
              "5000"
            ]
          },
          "metadata": {
            "tags": []
          },
          "execution_count": 51
        }
      ]
    },
    {
      "cell_type": "code",
      "metadata": {
        "id": "Vv0aT24jCqb4",
        "colab_type": "code",
        "colab": {
          "base_uri": "https://localhost:8080/",
          "height": 35
        },
        "outputId": "b078d154-f147-4aef-9c94-9c2a4142f86e"
      },
      "source": [
        "OPDIR"
      ],
      "execution_count": null,
      "outputs": [
        {
          "output_type": "execute_result",
          "data": {
            "application/vnd.google.colaboratory.intrinsic+json": {
              "type": "string"
            },
            "text/plain": [
              "'/content/gdrive/My Drive/ThesisStoryGen/Data/ImgCapTraining/CocoVal2017_1/'"
            ]
          },
          "metadata": {
            "tags": []
          },
          "execution_count": 50
        }
      ]
    },
    {
      "cell_type": "code",
      "metadata": {
        "id": "YPnxy5UQizdV",
        "colab_type": "code",
        "colab": {
          "base_uri": "https://localhost:8080/",
          "height": 34
        },
        "outputId": "94735856-ec71-4d4a-ade2-6d1779f3f44e"
      },
      "source": [
        "## pickle the data\n",
        "with open(OPDIR+'val2017_all_5k_images_encoded_features_pickled.pkl', 'wb') as handle:\n",
        "    pickle.dump(img_encodings, handle, protocol=pickle.HIGHEST_PROTOCOL)\n",
        "print(f\"Pickling done\")"
      ],
      "execution_count": null,
      "outputs": [
        {
          "output_type": "stream",
          "text": [
            "Pickling done\n"
          ],
          "name": "stdout"
        }
      ]
    },
    {
      "cell_type": "code",
      "metadata": {
        "id": "jOTXOpXZHe5d",
        "colab_type": "code",
        "colab": {
          "base_uri": "https://localhost:8080/",
          "height": 34
        },
        "outputId": "f70eb2db-a605-43d3-e960-9cd347e0322b"
      },
      "source": [
        "print(f\"Size of pickled data = {sys.getsizeof(img_encodings)} bytes\")"
      ],
      "execution_count": null,
      "outputs": [
        {
          "output_type": "stream",
          "text": [
            "Size of pickled data = 147560 bytes\n"
          ],
          "name": "stdout"
        }
      ]
    },
    {
      "cell_type": "code",
      "metadata": {
        "id": "wqTFmKA9H1F9",
        "colab_type": "code",
        "colab": {}
      },
      "source": [
        "del img_encodings"
      ],
      "execution_count": null,
      "outputs": []
    },
    {
      "cell_type": "markdown",
      "metadata": {
        "id": "7vUFz2yRFVET",
        "colab_type": "text"
      },
      "source": [
        "## DO EVERYTIME - RELOAD FROM PICKLE FILE: Image encodings info obtained from encoder\n",
        "\n",
        "#### img_encodings['000000179765']   should be as below\n",
        "#### array([0.14290829, 0.14481416, 0.3019989 , ..., 0.20583093, 0.13783988,\n",
        "####        0.05842407], dtype=float32)"
      ]
    },
    {
      "cell_type": "code",
      "metadata": {
        "id": "-LFKNtvGizgc",
        "colab_type": "code",
        "colab": {}
      },
      "source": [
        "## reload from picked file\n",
        "if True:\n",
        "  with open(OPDIR+'val2017_all_5k_images_encoded_features_pickled.pkl', 'rb') as handle:\n",
        "    img_encodings = pickle.load(handle)\n",
        "\n",
        "#img_encodings"
      ],
      "execution_count": 10,
      "outputs": []
    },
    {
      "cell_type": "code",
      "metadata": {
        "id": "pei5ZjJVcmy5",
        "colab_type": "code",
        "colab": {
          "base_uri": "https://localhost:8080/",
          "height": 34
        },
        "outputId": "c96dddfe-8421-43c3-eac3-2ad268ae89c7"
      },
      "source": [
        "print(f\"Size of reloaded pickled data = {sys.getsizeof(img_encodings)} bytes\")"
      ],
      "execution_count": 11,
      "outputs": [
        {
          "output_type": "stream",
          "text": [
            "Size of reloaded pickled data = 147560 bytes\n"
          ],
          "name": "stdout"
        }
      ]
    },
    {
      "cell_type": "code",
      "metadata": {
        "id": "LEP9_umbDDhG",
        "colab_type": "code",
        "colab": {
          "base_uri": "https://localhost:8080/",
          "height": 51
        },
        "outputId": "af88fe60-4d10-46fd-863e-852891760bee"
      },
      "source": [
        "img_encodings['000000179765']"
      ],
      "execution_count": 12,
      "outputs": [
        {
          "output_type": "execute_result",
          "data": {
            "text/plain": [
              "array([0.14290829, 0.14481416, 0.3019989 , ..., 0.20583093, 0.13783988,\n",
              "       0.05842407], dtype=float32)"
            ]
          },
          "metadata": {
            "tags": []
          },
          "execution_count": 12
        }
      ]
    },
    {
      "cell_type": "code",
      "metadata": {
        "id": "FqjMPrOsWHva",
        "colab_type": "code",
        "colab": {}
      },
      "source": [
        ""
      ],
      "execution_count": null,
      "outputs": []
    },
    {
      "cell_type": "markdown",
      "metadata": {
        "id": "FpxOwVOvDGMK",
        "colab_type": "text"
      },
      "source": [
        "## ONLY ONCE - GloVe vectors (Global Vectors for Word Representation)\n",
        "### Citing GloVe: Jeffrey Pennington, Richard Socher, and Christopher D. Manning. 2014. GloVe: Global Vectors for Word Representation. [pdf] [bib]GloVe: Global Vectors for Word Representation. [pdf] [bib]\n",
        "### Link: More details on this here- https://nlp.stanford.edu/projects/glove/\n",
        "\n",
        "### data structures created based on code based here: https://github.com/epicalyx/Emojifier/blob/master/emo_utils.py\n",
        "\n",
        "### not really using the main link for this GloVe part i.e. https://iq.opengenus.org/image-captioning-using-keras/"
      ]
    },
    {
      "cell_type": "code",
      "metadata": {
        "id": "cJocw3c8EkGI",
        "colab_type": "code",
        "colab": {}
      },
      "source": [
        "## Download pre-trained word vectors\n",
        "###    This data is made available under the Public Domain Dedication and License v1.0 whose full text can be found at: http://www.opendatacommons.org/licenses/pddl/1.0/.\n",
        "###    Wikipedia 2014 + Gigaword 5 (6B tokens, 400K vocab, uncased, 50d, 100d, 200d, & 300d vectors, 822 MB download): glove.6B.zip\n",
        "###    Common Crawl (42B tokens, 1.9M vocab, uncased, 300d vectors, 1.75 GB download): glove.42B.300d.zip\n",
        "###    Common Crawl (840B tokens, 2.2M vocab, cased, 300d vectors, 2.03 GB download): glove.840B.300d.zip\n",
        "###    Twitter (2B tweets, 27B tokens, 1.2M vocab, uncased, 25d, 50d, 100d, & 200d vectors, 1.42 GB download): glove.twitter.27B.zip\n",
        "\n",
        "### Am using glove.6B.zip on 14.09.2020\n",
        "### Then its glove.6B.200d.txt file for the 200 dimensional word embeddings"
      ],
      "execution_count": null,
      "outputs": []
    },
    {
      "cell_type": "code",
      "metadata": {
        "id": "sIwwSzb8iJYm",
        "colab_type": "code",
        "colab": {}
      },
      "source": [
        "#Load GloVe vectors (Global Vectors for Word Representation) - 200 dimensional representation being used\n",
        "## create the various data structures for use later\n",
        "\n",
        "## following the steps in this link: https://github.com/epicalyx/Emojifier/blob/master/emo_utils.py\n",
        "\n",
        "def load_glove_file_and_prepare_data():\n",
        "  with open(WORD_EMBEDDINGS_DIR+'glove.6B.200d.txt', encoding=\"utf-8\") as fglove:\n",
        "    embeddings_dict_glove200 = {} # empty dictionary\n",
        "    words_glove = set()\n",
        "    for line in fglove:\n",
        "      line = line.strip().split()\n",
        "      curr_word = line[0]\n",
        "      words_glove.add(curr_word)\n",
        "      embeddings_dict_glove200[curr_word] = np.array(line[1:], dtype=np.float64)\n",
        "    \n",
        "    i = 1\n",
        "    words_glove_to_index = {}\n",
        "    index_to_words_glove = {}\n",
        "    for w in sorted(words_glove):\n",
        "      words_glove_to_index[w] = i\n",
        "      index_to_words_glove[i] = w\n",
        "      i += 1\n",
        "    \n",
        "    return words_glove_to_index, index_to_words_glove, embeddings_dict_glove200\n",
        "\n",
        "words_glove200_to_index, index_to_words_glove200, embeddings_dict_glove200 = load_glove_file_and_prepare_data()\n"
      ],
      "execution_count": null,
      "outputs": []
    },
    {
      "cell_type": "code",
      "metadata": {
        "id": "IW8DUpYmkN6s",
        "colab_type": "code",
        "colab": {
          "base_uri": "https://localhost:8080/",
          "height": 34
        },
        "outputId": "96461680-0927-4962-f46b-72d25d1bce2d"
      },
      "source": [
        "print(f\"Number of words in this embeddings file = {len(embeddings_dict_glove200)}\")"
      ],
      "execution_count": null,
      "outputs": [
        {
          "output_type": "stream",
          "text": [
            "Number of words in this embeddings file = 400000\n"
          ],
          "name": "stdout"
        }
      ]
    },
    {
      "cell_type": "code",
      "metadata": {
        "id": "tdBeEWDwkTBA",
        "colab_type": "code",
        "colab": {
          "base_uri": "https://localhost:8080/",
          "height": 34
        },
        "outputId": "154da53d-5158-4b85-c352-2478ddf7a99f"
      },
      "source": [
        "embeddings_dict_glove200['1917'].shape"
      ],
      "execution_count": null,
      "outputs": [
        {
          "output_type": "execute_result",
          "data": {
            "text/plain": [
              "(200,)"
            ]
          },
          "metadata": {
            "tags": []
          },
          "execution_count": 106
        }
      ]
    },
    {
      "cell_type": "code",
      "metadata": {
        "id": "X2EEktGrkTDv",
        "colab_type": "code",
        "colab": {
          "base_uri": "https://localhost:8080/",
          "height": 34
        },
        "outputId": "5e2fe58e-e52e-4f73-8c99-2d190ca5a872"
      },
      "source": [
        "embeddings_dict_glove200['sculpture'].shape"
      ],
      "execution_count": null,
      "outputs": [
        {
          "output_type": "execute_result",
          "data": {
            "text/plain": [
              "(200,)"
            ]
          },
          "metadata": {
            "tags": []
          },
          "execution_count": 107
        }
      ]
    },
    {
      "cell_type": "code",
      "metadata": {
        "id": "6WZql0NuMOdO",
        "colab_type": "code",
        "colab": {
          "base_uri": "https://localhost:8080/",
          "height": 34
        },
        "outputId": "48c8343a-762b-4b4b-beb1-a04f4567f754"
      },
      "source": [
        "words_glove200_to_index ['sculpture']"
      ],
      "execution_count": null,
      "outputs": [
        {
          "output_type": "execute_result",
          "data": {
            "text/plain": [
              "322426"
            ]
          },
          "metadata": {
            "tags": []
          },
          "execution_count": 108
        }
      ]
    },
    {
      "cell_type": "code",
      "metadata": {
        "id": "pn0NAiUnO8D2",
        "colab_type": "code",
        "colab": {
          "base_uri": "https://localhost:8080/",
          "height": 35
        },
        "outputId": "d8871c32-7f02-4f44-fb84-b9ac0defd546"
      },
      "source": [
        "index_to_words_glove200[322426]"
      ],
      "execution_count": null,
      "outputs": [
        {
          "output_type": "execute_result",
          "data": {
            "application/vnd.google.colaboratory.intrinsic+json": {
              "type": "string"
            },
            "text/plain": [
              "'sculpture'"
            ]
          },
          "metadata": {
            "tags": []
          },
          "execution_count": 109
        }
      ]
    },
    {
      "cell_type": "code",
      "metadata": {
        "id": "opuBpyagdZz4",
        "colab_type": "code",
        "colab": {
          "base_uri": "https://localhost:8080/",
          "height": 34
        },
        "outputId": "bd8b5f47-f509-4316-8b74-f6b8e49dd463"
      },
      "source": [
        "len(words_glove200_to_index)"
      ],
      "execution_count": null,
      "outputs": [
        {
          "output_type": "execute_result",
          "data": {
            "text/plain": [
              "400000"
            ]
          },
          "metadata": {
            "tags": []
          },
          "execution_count": 26
        }
      ]
    },
    {
      "cell_type": "code",
      "metadata": {
        "id": "6i9n0o0kmX0X",
        "colab_type": "code",
        "colab": {
          "base_uri": "https://localhost:8080/",
          "height": 68
        },
        "outputId": "60c6020d-f544-4feb-9b43-0631a78a30f3"
      },
      "source": [
        "print(f\"Size of embeddings_dict_glove200 = {sys.getsizeof(embeddings_dict_glove200)/1000000} MB\")\n",
        "print(f\"Size of words_glove200_to_index = {sys.getsizeof(words_glove200_to_index)/1000000} MB\")\n",
        "print(f\"Size of index_to_words_glove200 = {sys.getsizeof(index_to_words_glove200)/1000000} MB\")"
      ],
      "execution_count": null,
      "outputs": [
        {
          "output_type": "stream",
          "text": [
            "Size of embeddings_dict_glove200 = 20.971616 MB\n",
            "Size of words_glove200_to_index = 20.971616 MB\n",
            "Size of index_to_words_glove200 = 20.971616 MB\n"
          ],
          "name": "stdout"
        }
      ]
    },
    {
      "cell_type": "code",
      "metadata": {
        "id": "4NJnHnIqPA-u",
        "colab_type": "code",
        "colab": {
          "base_uri": "https://localhost:8080/",
          "height": 35
        },
        "outputId": "6f20ed63-ded1-4546-9b12-3472091ecd08"
      },
      "source": [
        "OPDIR"
      ],
      "execution_count": null,
      "outputs": [
        {
          "output_type": "execute_result",
          "data": {
            "application/vnd.google.colaboratory.intrinsic+json": {
              "type": "string"
            },
            "text/plain": [
              "'/content/gdrive/My Drive/ThesisStoryGen/Data/ImgCapTraining/CocoVal2017_1/'"
            ]
          },
          "metadata": {
            "tags": []
          },
          "execution_count": 112
        }
      ]
    },
    {
      "cell_type": "code",
      "metadata": {
        "id": "x4NqGbvQXP5d",
        "colab_type": "code",
        "colab": {
          "base_uri": "https://localhost:8080/",
          "height": 68
        },
        "outputId": "b61470b0-88af-4c86-afbc-061da393647c"
      },
      "source": [
        "## pickle the data sturctures\n",
        "\n",
        "with open(OPDIR+'val2017_all_5k_images_embeddings_dict_glove200_3.pkl', 'wb') as handle:\n",
        "    pickle.dump(embeddings_dict_glove200, handle, protocol=pickle.HIGHEST_PROTOCOL)\n",
        "print(f\"Pickling done for the embeddings_dict_glove200\")\n",
        "\n",
        "with open(OPDIR+'val2017_all_5k_images_words_glove200_to_index_1.pkl', 'wb') as handle:\n",
        "    pickle.dump(words_glove200_to_index, handle, protocol=pickle.HIGHEST_PROTOCOL)\n",
        "print(f\"Pickling done for the words_glove200_to_index\")\n",
        "\n",
        "with open(OPDIR+'val2017_all_5k_images_index_to_words_glove200_1.pkl', 'wb') as handle:\n",
        "    pickle.dump(index_to_words_glove200, handle, protocol=pickle.HIGHEST_PROTOCOL)\n",
        "print(f\"Pickling done for the index_to_words_glove200\")"
      ],
      "execution_count": null,
      "outputs": [
        {
          "output_type": "stream",
          "text": [
            "Pickling done for the embeddings_dict_glove200\n",
            "Pickling done for the words_glove200_to_index\n",
            "Pickling done for the index_to_words_glove200\n"
          ],
          "name": "stdout"
        }
      ]
    },
    {
      "cell_type": "code",
      "metadata": {
        "id": "wAltavC3XP-x",
        "colab_type": "code",
        "colab": {}
      },
      "source": [
        "del embeddings_dict_glove200 \n",
        "del words_glove200_to_index \n",
        "del index_to_words_glove200 "
      ],
      "execution_count": null,
      "outputs": []
    },
    {
      "cell_type": "code",
      "metadata": {
        "id": "_46zkSziXQBr",
        "colab_type": "code",
        "colab": {}
      },
      "source": [
        ""
      ],
      "execution_count": null,
      "outputs": []
    },
    {
      "cell_type": "markdown",
      "metadata": {
        "id": "hSuIkyK0X2qI",
        "colab_type": "text"
      },
      "source": [
        "## DO EVERYTIME - RELOAD FROM PICKLE FILE:  Reload the GloVe vectors related data structures\n",
        "\n",
        "### Sizes of reloaded pickled data should be =\n",
        "#### Size of embeddings_dict_glove200 = 20.971616 MB\n",
        "#### Size of words_glove200_to_index = 20.971616 MB\n",
        "#### Size of index_to_words_glove200 = 20.971616 MB\n",
        "\n",
        "### Citing GloVe: Jeffrey Pennington, Richard Socher, and Christopher D. Manning. 2014. GloVe: Global Vectors for Word Representation. [pdf] [bib]GloVe: Global Vectors for Word Representation. [pdf] [bib]\n",
        "### Link: More details on this here- https://nlp.stanford.edu/projects/glove/\n",
        "\n",
        "### data structures created based on code based here: https://github.com/epicalyx/Emojifier/blob/master/emo_utils.py\n",
        "\n",
        "### not really using the main link for this GloVe part i.e. https://iq.opengenus.org/image-captioning-using-keras/"
      ]
    },
    {
      "cell_type": "code",
      "metadata": {
        "id": "BHBxkU_XX192",
        "colab_type": "code",
        "colab": {}
      },
      "source": [
        "## Download pre-trained word vectors\n",
        "###    This data is made available under the Public Domain Dedication and License v1.0 whose full text can be found at: http://www.opendatacommons.org/licenses/pddl/1.0/.\n",
        "###    Wikipedia 2014 + Gigaword 5 (6B tokens, 400K vocab, uncased, 50d, 100d, 200d, & 300d vectors, 822 MB download): glove.6B.zip\n",
        "###    Common Crawl (42B tokens, 1.9M vocab, uncased, 300d vectors, 1.75 GB download): glove.42B.300d.zip\n",
        "###    Common Crawl (840B tokens, 2.2M vocab, cased, 300d vectors, 2.03 GB download): glove.840B.300d.zip\n",
        "###    Twitter (2B tweets, 27B tokens, 1.2M vocab, uncased, 25d, 50d, 100d, & 200d vectors, 1.42 GB download): glove.twitter.27B.zip\n",
        "\n",
        "### Am using glove.6B.zip on 14.09.2020\n",
        "### Then its glove.6B.200d.txt file for the 200 dimensional word embeddings"
      ],
      "execution_count": 13,
      "outputs": []
    },
    {
      "cell_type": "code",
      "metadata": {
        "id": "9wPspnUHnXeK",
        "colab_type": "code",
        "colab": {
          "base_uri": "https://localhost:8080/",
          "height": 35
        },
        "outputId": "d5d2d82e-468e-4323-8ad3-3ab7788bf4b0"
      },
      "source": [
        "OPDIR"
      ],
      "execution_count": 14,
      "outputs": [
        {
          "output_type": "execute_result",
          "data": {
            "application/vnd.google.colaboratory.intrinsic+json": {
              "type": "string"
            },
            "text/plain": [
              "'/content/gdrive/My Drive/ThesisStoryGen/Data/ImgCapTraining/CocoVal2017_1/'"
            ]
          },
          "metadata": {
            "tags": []
          },
          "execution_count": 14
        }
      ]
    },
    {
      "cell_type": "code",
      "metadata": {
        "id": "qcSZp5Z_X2Ac",
        "colab_type": "code",
        "colab": {}
      },
      "source": [
        "## reload from picked files\n",
        "\n",
        "if True:\n",
        "  with open(OPDIR+'val2017_all_5k_images_embeddings_dict_glove200_3.pkl', 'rb') as handle:\n",
        "    embeddings_dict_glove200 = pickle.load(handle)\n",
        "    \n",
        "  with open(OPDIR+'val2017_all_5k_images_words_glove200_to_index_1.pkl', 'rb') as handle:\n",
        "    words_glove200_to_index = pickle.load(handle)\n",
        "  \n",
        "  with open(OPDIR+'val2017_all_5k_images_index_to_words_glove200_1.pkl', 'rb') as handle:\n",
        "    index_to_words_glove200 = pickle.load(handle)"
      ],
      "execution_count": 15,
      "outputs": []
    },
    {
      "cell_type": "code",
      "metadata": {
        "id": "TTW5Xy8iX_3T",
        "colab_type": "code",
        "colab": {
          "base_uri": "https://localhost:8080/",
          "height": 68
        },
        "outputId": "39d9a4e3-80cd-4074-a900-f1b71a0949d6"
      },
      "source": [
        "print(f\"Size of embeddings_dict_glove200 = {sys.getsizeof(embeddings_dict_glove200)/1000000} MB\")\n",
        "print(f\"Size of words_glove200_to_index = {sys.getsizeof(words_glove200_to_index)/1000000} MB\")\n",
        "print(f\"Size of index_to_words_glove200 = {sys.getsizeof(index_to_words_glove200)/1000000} MB\")"
      ],
      "execution_count": 16,
      "outputs": [
        {
          "output_type": "stream",
          "text": [
            "Size of embeddings_dict_glove200 = 20.971616 MB\n",
            "Size of words_glove200_to_index = 20.971616 MB\n",
            "Size of index_to_words_glove200 = 20.971616 MB\n"
          ],
          "name": "stdout"
        }
      ]
    },
    {
      "cell_type": "code",
      "metadata": {
        "id": "7-2124srnrPw",
        "colab_type": "code",
        "colab": {
          "base_uri": "https://localhost:8080/",
          "height": 34
        },
        "outputId": "6f86e940-1987-44fc-8c1f-5b4730c26a8e"
      },
      "source": [
        "print(f\"Number of words in this embeddings file = {len(embeddings_dict_glove200)}\")"
      ],
      "execution_count": 17,
      "outputs": [
        {
          "output_type": "stream",
          "text": [
            "Number of words in this embeddings file = 400000\n"
          ],
          "name": "stdout"
        }
      ]
    },
    {
      "cell_type": "code",
      "metadata": {
        "id": "kwRlHoYRX_6v",
        "colab_type": "code",
        "colab": {
          "base_uri": "https://localhost:8080/",
          "height": 34
        },
        "outputId": "da04232f-c513-43b3-94ee-9f0e2cb8e6e8"
      },
      "source": [
        "embeddings_dict_glove200['1917'].shape"
      ],
      "execution_count": 18,
      "outputs": [
        {
          "output_type": "execute_result",
          "data": {
            "text/plain": [
              "(200,)"
            ]
          },
          "metadata": {
            "tags": []
          },
          "execution_count": 18
        }
      ]
    },
    {
      "cell_type": "code",
      "metadata": {
        "id": "80LdH3-vnhRn",
        "colab_type": "code",
        "colab": {
          "base_uri": "https://localhost:8080/",
          "height": 34
        },
        "outputId": "3487fe4c-7d93-4010-8e7b-4620d6293329"
      },
      "source": [
        "embeddings_dict_glove200['sculpture'].shape"
      ],
      "execution_count": 19,
      "outputs": [
        {
          "output_type": "execute_result",
          "data": {
            "text/plain": [
              "(200,)"
            ]
          },
          "metadata": {
            "tags": []
          },
          "execution_count": 19
        }
      ]
    },
    {
      "cell_type": "code",
      "metadata": {
        "id": "Vk2fT0mRX2DJ",
        "colab_type": "code",
        "colab": {
          "base_uri": "https://localhost:8080/",
          "height": 34
        },
        "outputId": "692bfc35-5136-4f87-caea-a2230fbbe852"
      },
      "source": [
        "words_glove200_to_index ['sculpture']"
      ],
      "execution_count": 20,
      "outputs": [
        {
          "output_type": "execute_result",
          "data": {
            "text/plain": [
              "322426"
            ]
          },
          "metadata": {
            "tags": []
          },
          "execution_count": 20
        }
      ]
    },
    {
      "cell_type": "code",
      "metadata": {
        "id": "oAKZUeORYNlZ",
        "colab_type": "code",
        "colab": {
          "base_uri": "https://localhost:8080/",
          "height": 35
        },
        "outputId": "4b9961fe-e025-42d3-aaa2-18d1a239e4fd"
      },
      "source": [
        "index_to_words_glove200[322426]"
      ],
      "execution_count": 21,
      "outputs": [
        {
          "output_type": "execute_result",
          "data": {
            "application/vnd.google.colaboratory.intrinsic+json": {
              "type": "string"
            },
            "text/plain": [
              "'sculpture'"
            ]
          },
          "metadata": {
            "tags": []
          },
          "execution_count": 21
        }
      ]
    },
    {
      "cell_type": "code",
      "metadata": {
        "id": "VBrcJAHuYRor",
        "colab_type": "code",
        "colab": {
          "base_uri": "https://localhost:8080/",
          "height": 34
        },
        "outputId": "bbf0b604-d298-43cf-b912-27e94d0a834a"
      },
      "source": [
        "len(words_glove200_to_index)"
      ],
      "execution_count": 22,
      "outputs": [
        {
          "output_type": "execute_result",
          "data": {
            "text/plain": [
              "400000"
            ]
          },
          "metadata": {
            "tags": []
          },
          "execution_count": 22
        }
      ]
    },
    {
      "cell_type": "code",
      "metadata": {
        "id": "0vDZ730kdUPP",
        "colab_type": "code",
        "colab": {}
      },
      "source": [
        ""
      ],
      "execution_count": null,
      "outputs": []
    },
    {
      "cell_type": "markdown",
      "metadata": {
        "id": "k7a52901TxU6",
        "colab_type": "text"
      },
      "source": [
        "## DO EVERYTIME\n",
        "### Some testing before on the hashmap data entries - convert to df first and check some stuff"
      ]
    },
    {
      "cell_type": "code",
      "metadata": {
        "id": "GJsJYikKT5W9",
        "colab_type": "code",
        "colab": {
          "base_uri": "https://localhost:8080/",
          "height": 71
        },
        "outputId": "a0fbfc82-1b11-4f4a-b59b-f903f36f519f"
      },
      "source": [
        "i = 0\n",
        "for img, cap in hashmap_img_and_captions.items():\n",
        "  i+=1\n",
        "  if i > 2:\n",
        "    break\n",
        "  print((img, cap))"
      ],
      "execution_count": 23,
      "outputs": [
        {
          "output_type": "stream",
          "text": [
            "('000000179765', ['black honda motorcycle parked in front of garage', 'honda motorcycle parked in grass driveway', 'black honda motorcycle with dark burgundy seat', 'ma motorcycle parked on the gravel in front of garage', 'motorcycle with its brake extended standing outside'])\n",
            "('000000190236', ['an office cubicle with four different types of computers', 'the home office space seems to be very cluttered', 'an office with desk computer and chair and laptop', 'office setting with lot of computer screens', 'desk and chair in an office cubicle'])\n"
          ],
          "name": "stdout"
        }
      ]
    },
    {
      "cell_type": "code",
      "metadata": {
        "id": "4Hho1M5KT5Z7",
        "colab_type": "code",
        "colab": {
          "base_uri": "https://localhost:8080/",
          "height": 376
        },
        "outputId": "b037b2f1-53ea-4eb8-83d7-7c8b3d6df7a2"
      },
      "source": [
        "i = 0\n",
        "rowdata = []\n",
        "for img, cap_list in hashmap_img_and_captions.items():\n",
        "  #i+=1\n",
        "  #if i > 2:\n",
        "  #  break\n",
        "  for cap in cap_list:\n",
        "    rowdata.append({'img': img, 'caption': cap})\n",
        "dfhash = pd.DataFrame(data=rowdata, columns=['img', 'caption'])\n",
        "dfhash['caplen'] = dfhash['caption'].str.len()\n",
        "print(f\"max caption length = {dfhash['caplen'].max()}\")\n",
        "dfhash.head(10)"
      ],
      "execution_count": 24,
      "outputs": [
        {
          "output_type": "stream",
          "text": [
            "max caption length = 233\n"
          ],
          "name": "stdout"
        },
        {
          "output_type": "execute_result",
          "data": {
            "text/html": [
              "<div>\n",
              "<style scoped>\n",
              "    .dataframe tbody tr th:only-of-type {\n",
              "        vertical-align: middle;\n",
              "    }\n",
              "\n",
              "    .dataframe tbody tr th {\n",
              "        vertical-align: top;\n",
              "    }\n",
              "\n",
              "    .dataframe thead th {\n",
              "        text-align: right;\n",
              "    }\n",
              "</style>\n",
              "<table border=\"1\" class=\"dataframe\">\n",
              "  <thead>\n",
              "    <tr style=\"text-align: right;\">\n",
              "      <th></th>\n",
              "      <th>img</th>\n",
              "      <th>caption</th>\n",
              "      <th>caplen</th>\n",
              "    </tr>\n",
              "  </thead>\n",
              "  <tbody>\n",
              "    <tr>\n",
              "      <th>0</th>\n",
              "      <td>000000179765</td>\n",
              "      <td>black honda motorcycle parked in front of garage</td>\n",
              "      <td>48</td>\n",
              "    </tr>\n",
              "    <tr>\n",
              "      <th>1</th>\n",
              "      <td>000000179765</td>\n",
              "      <td>honda motorcycle parked in grass driveway</td>\n",
              "      <td>41</td>\n",
              "    </tr>\n",
              "    <tr>\n",
              "      <th>2</th>\n",
              "      <td>000000179765</td>\n",
              "      <td>black honda motorcycle with dark burgundy seat</td>\n",
              "      <td>46</td>\n",
              "    </tr>\n",
              "    <tr>\n",
              "      <th>3</th>\n",
              "      <td>000000179765</td>\n",
              "      <td>ma motorcycle parked on the gravel in front of...</td>\n",
              "      <td>53</td>\n",
              "    </tr>\n",
              "    <tr>\n",
              "      <th>4</th>\n",
              "      <td>000000179765</td>\n",
              "      <td>motorcycle with its brake extended standing ou...</td>\n",
              "      <td>51</td>\n",
              "    </tr>\n",
              "    <tr>\n",
              "      <th>5</th>\n",
              "      <td>000000190236</td>\n",
              "      <td>an office cubicle with four different types of...</td>\n",
              "      <td>56</td>\n",
              "    </tr>\n",
              "    <tr>\n",
              "      <th>6</th>\n",
              "      <td>000000190236</td>\n",
              "      <td>the home office space seems to be very cluttered</td>\n",
              "      <td>48</td>\n",
              "    </tr>\n",
              "    <tr>\n",
              "      <th>7</th>\n",
              "      <td>000000190236</td>\n",
              "      <td>an office with desk computer and chair and laptop</td>\n",
              "      <td>49</td>\n",
              "    </tr>\n",
              "    <tr>\n",
              "      <th>8</th>\n",
              "      <td>000000190236</td>\n",
              "      <td>office setting with lot of computer screens</td>\n",
              "      <td>43</td>\n",
              "    </tr>\n",
              "    <tr>\n",
              "      <th>9</th>\n",
              "      <td>000000190236</td>\n",
              "      <td>desk and chair in an office cubicle</td>\n",
              "      <td>35</td>\n",
              "    </tr>\n",
              "  </tbody>\n",
              "</table>\n",
              "</div>"
            ],
            "text/plain": [
              "            img                                            caption  caplen\n",
              "0  000000179765   black honda motorcycle parked in front of garage      48\n",
              "1  000000179765          honda motorcycle parked in grass driveway      41\n",
              "2  000000179765     black honda motorcycle with dark burgundy seat      46\n",
              "3  000000179765  ma motorcycle parked on the gravel in front of...      53\n",
              "4  000000179765  motorcycle with its brake extended standing ou...      51\n",
              "5  000000190236  an office cubicle with four different types of...      56\n",
              "6  000000190236   the home office space seems to be very cluttered      48\n",
              "7  000000190236  an office with desk computer and chair and laptop      49\n",
              "8  000000190236        office setting with lot of computer screens      43\n",
              "9  000000190236                desk and chair in an office cubicle      35"
            ]
          },
          "metadata": {
            "tags": []
          },
          "execution_count": 24
        }
      ]
    },
    {
      "cell_type": "code",
      "metadata": {
        "id": "I_qzBVCgTwSP",
        "colab_type": "code",
        "colab": {}
      },
      "source": [
        ""
      ],
      "execution_count": null,
      "outputs": []
    },
    {
      "cell_type": "markdown",
      "metadata": {
        "id": "xj5nOYpuNd0I",
        "colab_type": "text"
      },
      "source": [
        "## Defining the DECODER RNN model"
      ]
    },
    {
      "cell_type": "markdown",
      "metadata": {
        "id": "8X9Diy1sTCSB",
        "colab_type": "text"
      },
      "source": [
        "### From link: https://iq.opengenus.org/recurrent-neural-networks-with-emoji-sentence-example/\n",
        "### \n",
        "### **NOTE: in the link\n",
        "###         \"word_to_vec_map\" is = my \"embeddings_dict_glove200\"**\n",
        "###         \"word_to_index\" is = my \"words_glove200_to_index\"\n",
        "###         \"xxx\" is = my \"index_to_words_glove200\"\n",
        "\n",
        "### About Keras Emebedding layer\n",
        "### \n",
        "#### Default initializing of this layer: https://keras.io/api/layers/core_layers/embedding/\n",
        "######tf.keras.layers.Embedding(\n",
        "######    input_dim, output_dim,\n",
        "######    embeddings_initializer=\"uniform\",\n",
        "######    embeddings_regularizer=None,\n",
        "######    activity_regularizer=None,\n",
        "######    embeddings_constraint=None,\n",
        "######    mask_zero=False,\n",
        "######    input_length=None,\n",
        "######    **kwargs\n",
        "######)\n",
        "###  \n",
        "### Let's build the embedding layer now.\n",
        "### In Keras, the embedding matrix is represented as a \"layer\", and maps positive integers (indices corresponding to words) into dense vectors of fixed size (the embedding vectors). It can be trained or initialized with a pretrained embedding. In this step, we will learn how to create an Embedding() layer in Keras, initialize it with the GloVe 50-dimensional vectors(you can find these in the notebook mentioned above).\n",
        "### Because our training set is quite small, we will not update the word embeddings but will instead leave their values fixed. But in the code below, we'll see how Keras allows us to either train or leave fixed this layer.\n",
        "###\n",
        "### **ESSENSE:**\n",
        "### The Embedding() layer takes an integer matrix of size (batch size, max input length) as input. This corresponds to sentences converted into lists of indices (integers).\n",
        "### **Step 1) using the fuction    sentences_to_indices()**\n",
        "### We want to do is to convert all our training sentences into lists of indices, and then zero-pad all these lists so that their length is the length of the longest sentence.\n",
        "### Also, we know that the largest integer (i.e. word index) in the input should be no larger than the vocabulary size.\n",
        "### The layer outputs an array of shape (batch size, max input length, dimension of word vectors).\n",
        "###\n",
        "### **Step 2) using the fuction    pretrained_embedding_layer()**\n",
        "### Build the Embedding() layer in Keras, using pre-trained word vectors. After this layer is built, we will pass the output of sentences_to_indices() to it as an input, and the Embedding() layer will return the word embeddings for a sentence.\n",
        "### This second step involves doing following:\n",
        "### 2a) Initialize the embedding matrix as a numpy array of zeros with the correct shape.\n",
        "### 2b) Till in the embedding matrix with all the word embeddings extracted from word_to_vec_map i.e. ( my embeddings_dict_glove200 ).\n",
        "### 2c) Define the Keras embedding layer. We will make this layer non-trainable, by setting trainable = False when calling Embedding(). If we were to set trainable = True, then it will allow the optimization algorithm to modify the values of the word embeddings.\n",
        "### 2d) Set the embedding weights to be equal to the embedding matrix."
      ]
    },
    {
      "cell_type": "code",
      "metadata": {
        "id": "om4N6JSnUeKV",
        "colab_type": "code",
        "colab": {}
      },
      "source": [
        "### Function to convert our sentence array into indices array, so that it can be fed into the Embedding layer.\n",
        "\n",
        "#def sentences_to_indices(X, word_to_index, max_len):\n",
        "def sentences_to_indices(X, words_glove_to_index, max_len):\n",
        "    \"\"\"\n",
        "    Converts an array of sentences (strings) into an array of indices corresponding to words in the sentences.\n",
        "    The output shape should be such that it can be given to `Embedding()` (described in Figure 4). \n",
        "    \n",
        "    Arguments:\n",
        "    X -- array of sentences (strings), of shape (m, 1)\n",
        "    word_to_index -- a dictionary containing the each word mapped to its index\n",
        "    max_len -- maximum number of words in a sentence. You can assume every sentence in X is no longer than this. \n",
        "    \n",
        "    Returns:\n",
        "    X_indices -- array of indices corresponding to words in the sentences from X, of shape (m, max_len)\n",
        "    \"\"\"\n",
        "    \n",
        "    m = X.shape[0]                                   # number of training examples\n",
        "    \n",
        "    ### START CODE HERE ###\n",
        "    # Initialize X_indices as a numpy matrix of zeros and the correct shape (≈ 1 line)\n",
        "    X_indices = np.zeros((m,max_len))\n",
        "    \n",
        "    for i in range(m):                               # loop over training examples\n",
        "        \n",
        "        # Convert the ith training sentence in lower case and split is into words. You should get a list of words.\n",
        "        sentence_words = [w.lower() for w in X[i].split()]\n",
        "        \n",
        "        # Initialize j to 0\n",
        "        j = 0\n",
        "        \n",
        "        # Loop over the words of sentence_words\n",
        "        for w in sentence_words:\n",
        "            # Set the (i,j)th entry of X_indices to the index of the correct word.\n",
        "            X_indices[i, j] = words_glove_to_index[w] #word_to_index[w]\n",
        "            # Increment j to j + 1\n",
        "            j = j+1\n",
        "            \n",
        "    ### END CODE HERE ###\n",
        "    \n",
        "    return X_indices"
      ],
      "execution_count": 41,
      "outputs": []
    },
    {
      "cell_type": "code",
      "metadata": {
        "id": "TCf0y2-zUeND",
        "colab_type": "code",
        "colab": {}
      },
      "source": [
        "## Function to take in the pre-trained Glove 50 dimensional vectors and creates an Embedding() layer.\n",
        "\n",
        "#def pretrained_embedding_layer(word_to_vec_map, word_to_index):\n",
        "def pretrained_embedding_layer(embeddings_dict_glove, words_glove_to_index):\n",
        "    \"\"\"\n",
        "    Creates a Keras Embedding() layer and loads in pre-trained GloVe 50-dimensional vectors.\n",
        "    \n",
        "    Arguments:\n",
        "    word_to_vec_map -- dictionary mapping words to their GloVe vector representation.   MY variable = embeddings_dict_glove\n",
        "    word_to_index -- dictionary mapping from words to their indices in the vocabulary (400,001 words)    MY variable = words_glove_to_index\n",
        "\n",
        "    Returns:\n",
        "    embedding_layer -- pretrained layer Keras instance\n",
        "    \"\"\"\n",
        "    \n",
        "    #vocab_len = len(word_to_index) + 1                  # adding 1 to fit Keras embedding (requirement)\n",
        "    vocab_len = len(words_glove_to_index) + 1                  # adding 1 to fit Keras embedding (requirement)\n",
        "    #emb_dim = word_to_vec_map[\"cucumber\"].shape[0]      # define dimensionality of your GloVe word vectors (= 50)\n",
        "    emb_dim = embeddings_dict_glove[\"cucumber\"].shape[0]      # define dimensionality of your GloVe word vectors (= 50)\n",
        "    \n",
        "    ### START CODE HERE ###\n",
        "    # Initialize the embedding matrix as a numpy array of zeros of shape (vocab_len, dimensions of word vectors = emb_dim)\n",
        "    emb_matrix = np.zeros((vocab_len,emb_dim))\n",
        "    \n",
        "    # Set each row \"index\" of the embedding matrix to be the word vector representation of the \"index\"th word of the vocabulary\n",
        "    #for word, index in word_to_index.items():\n",
        "    #    emb_matrix[index, :] = word_to_vec_map[word]\n",
        "    for word, index in words_glove_to_index.items():\n",
        "        emb_matrix[index, :] = embeddings_dict_glove[word]\n",
        "\n",
        "    # Define Keras embedding layer with the correct output/input sizes, make it trainable. Use Embedding(...). Make sure to set trainable=False. \n",
        "    #embedding_layer = Embedding(input_dim = vocab_len, output_dim = emb_dim, trainable = False)\n",
        "    embedding_layer = layers.Embedding(input_dim = vocab_len, output_dim = emb_dim, trainable = False, mask_zero=True)\n",
        "    ### END CODE HERE ###\n",
        "\n",
        "    # Build the embedding layer, it is required before setting the weights of the embedding layer. Do not modify the \"None\".\n",
        "    embedding_layer.build((None,))\n",
        "    \n",
        "    # Set the weights of the embedding layer to the embedding matrix. Your layer is now pretrained.\n",
        "    embedding_layer.set_weights([emb_matrix])\n",
        "    \n",
        "    return embedding_layer, vocab_len"
      ],
      "execution_count": 42,
      "outputs": []
    },
    {
      "cell_type": "code",
      "metadata": {
        "id": "guh2hCYSyATe",
        "colab_type": "code",
        "colab": {}
      },
      "source": [
        "# Actually defining the model\n",
        "\n",
        "## parameters to define model\n",
        "EMBEDDING_DIMS = 200\n",
        "#VOCAB_SIZE = returned from the function\n",
        "MAX_LENGTH_CAPTION = 256\n",
        "\n",
        "inputs1 = keras.Input(shape=(2048,))\n",
        "fe1 = layers.Dropout(0.5)(inputs1)\n",
        "fe2 = layers.Dense(256, activation='relu')(fe1)\n",
        "inputs2 = keras.Input(shape=(MAX_LENGTH_CAPTION,))\n",
        "\n",
        "## As per link: https://iq.opengenus.org/image-captioning-using-keras/ , he just created the embeddings layer like this: se1 = layers.Embedding(VOCAB_SIZE, EMBEDDING_DIMS, mask_zero=True)(inputs2)\n",
        "## But this link: https://iq.opengenus.org/recurrent-neural-networks-with-emoji-sentence-example/  , made more sense which explains how to setup the weights based on the GloVe file information. So following this approach\n",
        "#se1 = layers.Embedding(VOCAB_SIZE, EMBEDDING_DIMS, mask_zero=True)(inputs2)\n",
        "\n",
        "# Create the embedding layer pretrained with GloVe Vectors (≈1 line)\n",
        "#embedding_layer = pretrained_embedding_layer(word_to_vec_map, word_to_index)\n",
        "embedding_layer, VOCAB_SIZE = pretrained_embedding_layer(embeddings_dict_glove200,words_glove200_to_index)\n",
        "se1 = embedding_layer(inputs2)\n",
        "\n",
        "se2 = layers.Dropout(0.5)(se1)\n",
        "se3 = layers.LSTM(256)(se2)\n",
        "decoder1 = layers.add([fe2, se3])\n",
        "decoder2 = layers.Dense(256, activation='relu')(decoder1)\n",
        "outputs = layers.Dense(VOCAB_SIZE, activation='softmax')(decoder2)\n",
        "model_RNN_decoder = keras.Model(inputs=[inputs1, inputs2], outputs=outputs)"
      ],
      "execution_count": 44,
      "outputs": []
    },
    {
      "cell_type": "code",
      "metadata": {
        "id": "B1XEfGt5yAYZ",
        "colab_type": "code",
        "colab": {
          "base_uri": "https://localhost:8080/",
          "height": 510
        },
        "outputId": "e64ec170-644b-4f9f-cef4-d2888e744fe6"
      },
      "source": [
        "model_RNN_decoder.summary()"
      ],
      "execution_count": 45,
      "outputs": [
        {
          "output_type": "stream",
          "text": [
            "Model: \"functional_1\"\n",
            "__________________________________________________________________________________________________\n",
            "Layer (type)                    Output Shape         Param #     Connected to                     \n",
            "==================================================================================================\n",
            "input_6 (InputLayer)            [(None, 256)]        0                                            \n",
            "__________________________________________________________________________________________________\n",
            "input_5 (InputLayer)            [(None, 2048)]       0                                            \n",
            "__________________________________________________________________________________________________\n",
            "embedding_4 (Embedding)         (None, 256, 200)     80000200    input_6[0][0]                    \n",
            "__________________________________________________________________________________________________\n",
            "dropout_3 (Dropout)             (None, 2048)         0           input_5[0][0]                    \n",
            "__________________________________________________________________________________________________\n",
            "dropout_4 (Dropout)             (None, 256, 200)     0           embedding_4[0][0]                \n",
            "__________________________________________________________________________________________________\n",
            "dense_3 (Dense)                 (None, 256)          524544      dropout_3[0][0]                  \n",
            "__________________________________________________________________________________________________\n",
            "lstm_1 (LSTM)                   (None, 256)          467968      dropout_4[0][0]                  \n",
            "__________________________________________________________________________________________________\n",
            "add_1 (Add)                     (None, 256)          0           dense_3[0][0]                    \n",
            "                                                                 lstm_1[0][0]                     \n",
            "__________________________________________________________________________________________________\n",
            "dense_4 (Dense)                 (None, 256)          65792       add_1[0][0]                      \n",
            "__________________________________________________________________________________________________\n",
            "dense_5 (Dense)                 (None, 400001)       102800257   dense_4[0][0]                    \n",
            "==================================================================================================\n",
            "Total params: 183,858,761\n",
            "Trainable params: 103,858,561\n",
            "Non-trainable params: 80,000,200\n",
            "__________________________________________________________________________________________________\n"
          ],
          "name": "stdout"
        }
      ]
    },
    {
      "cell_type": "code",
      "metadata": {
        "id": "rRJT2GN-x_Ae",
        "colab_type": "code",
        "colab": {
          "base_uri": "https://localhost:8080/",
          "height": 35
        },
        "outputId": "2af51ec8-df78-4836-d13a-bb43d424b4e0"
      },
      "source": [
        "OPDIR"
      ],
      "execution_count": 46,
      "outputs": [
        {
          "output_type": "execute_result",
          "data": {
            "application/vnd.google.colaboratory.intrinsic+json": {
              "type": "string"
            },
            "text/plain": [
              "'/content/gdrive/My Drive/ThesisStoryGen/Data/ImgCapTraining/CocoVal2017_1/'"
            ]
          },
          "metadata": {
            "tags": []
          },
          "execution_count": 46
        }
      ]
    },
    {
      "cell_type": "code",
      "metadata": {
        "id": "3zv-tHJOx_DS",
        "colab_type": "code",
        "colab": {
          "base_uri": "https://localhost:8080/",
          "height": 754
        },
        "outputId": "e2d71d31-a345-4614-d2be-d63d12b29932"
      },
      "source": [
        "tf.keras.utils.plot_model(model_RNN_decoder, to_file=OPDIR+'RNN_decoder_model_plot_Link1Mix_approach_2.jpg', show_shapes=True, show_layer_names=True)"
      ],
      "execution_count": 47,
      "outputs": [
        {
          "output_type": "execute_result",
          "data": {
            "image/jpeg": "[encoded data removed]",
            "text/plain": [
              "<IPython.core.display.Image object>"
            ]
          },
          "metadata": {
            "tags": []
          },
          "execution_count": 47
        }
      ]
    },
    {
      "cell_type": "code",
      "metadata": {
        "id": "oZRJYbcaXVEq",
        "colab_type": "code",
        "colab": {}
      },
      "source": [
        ""
      ],
      "execution_count": null,
      "outputs": []
    },
    {
      "cell_type": "markdown",
      "metadata": {
        "id": "Hv4BLb7H1ki4",
        "colab_type": "text"
      },
      "source": [
        "## TRAINING OF MODEL"
      ]
    },
    {
      "cell_type": "code",
      "metadata": {
        "id": "J_WaDAY41iUV",
        "colab_type": "code",
        "colab": {}
      },
      "source": [
        ""
      ],
      "execution_count": null,
      "outputs": []
    },
    {
      "cell_type": "code",
      "metadata": {
        "id": "LER8P_b81iXK",
        "colab_type": "code",
        "colab": {}
      },
      "source": [
        "filepath = OPDIR + \"weights_best.hdf5\"\n",
        "checkpoint = [ModelCheckpoint(filepath, monitor='val_acc', verbose=1, save_best_only=True, mode='max')]"
      ],
      "execution_count": null,
      "outputs": []
    },
    {
      "cell_type": "code",
      "metadata": {
        "id": "-gRpXEy81iaG",
        "colab_type": "code",
        "colab": {}
      },
      "source": [
        "for i in range(epochs):\n",
        "    generator = data_generator(train_captions, train_, word_to_index, max_length_caption, number_pics_per_bath)\n",
        "    model.fit_generator(generator, epochs=1, steps_per_epoch=steps, verbose=1,callbacks=checkpoint)"
      ],
      "execution_count": null,
      "outputs": []
    },
    {
      "cell_type": "code",
      "metadata": {
        "id": "WyyZF7k11ib9",
        "colab_type": "code",
        "colab": {}
      },
      "source": [
        ""
      ],
      "execution_count": null,
      "outputs": []
    },
    {
      "cell_type": "code",
      "metadata": {
        "id": "AxUaOTnv1ieb",
        "colab_type": "code",
        "colab": {}
      },
      "source": [
        ""
      ],
      "execution_count": null,
      "outputs": []
    },
    {
      "cell_type": "code",
      "metadata": {
        "id": "w4jClpY31ihG",
        "colab_type": "code",
        "colab": {}
      },
      "source": [
        ""
      ],
      "execution_count": null,
      "outputs": []
    },
    {
      "cell_type": "code",
      "metadata": {
        "id": "CiiRU8Cf1ijw",
        "colab_type": "code",
        "colab": {}
      },
      "source": [
        ""
      ],
      "execution_count": null,
      "outputs": []
    },
    {
      "cell_type": "code",
      "metadata": {
        "id": "qdEuDDJ31imS",
        "colab_type": "code",
        "colab": {}
      },
      "source": [
        ""
      ],
      "execution_count": null,
      "outputs": []
    },
    {
      "cell_type": "code",
      "metadata": {
        "id": "vwK2UtbN1io8",
        "colab_type": "code",
        "colab": {}
      },
      "source": [
        ""
      ],
      "execution_count": null,
      "outputs": []
    },
    {
      "cell_type": "code",
      "metadata": {
        "id": "wRyROUXc1isB",
        "colab_type": "code",
        "colab": {}
      },
      "source": [
        ""
      ],
      "execution_count": null,
      "outputs": []
    },
    {
      "cell_type": "code",
      "metadata": {
        "id": "FJStiiFS1iuO",
        "colab_type": "code",
        "colab": {}
      },
      "source": [
        ""
      ],
      "execution_count": null,
      "outputs": []
    },
    {
      "cell_type": "code",
      "metadata": {
        "id": "MJ1ZS76P1i7T",
        "colab_type": "code",
        "colab": {}
      },
      "source": [
        ""
      ],
      "execution_count": null,
      "outputs": []
    },
    {
      "cell_type": "code",
      "metadata": {
        "id": "nAfngY5U1i-l",
        "colab_type": "code",
        "colab": {}
      },
      "source": [
        ""
      ],
      "execution_count": null,
      "outputs": []
    },
    {
      "cell_type": "markdown",
      "metadata": {
        "id": "u1gaRITiXVze",
        "colab_type": "text"
      },
      "source": [
        "###  KEEP FOR REFERENCE - DO NOT DELETE\n",
        "###  Based on the code of Link: https://iq.opengenus.org/image-captioning-using-keras/   which did not make complete sense\n",
        "###  Model.summary() information as table and picture\n",
        "### \n",
        "#### The original code on the link - kept only as reference - has syntax errors due to the way he imported his packages\n",
        "#### \n",
        "#### \n",
        "#####inputs1 = Input(shape=(2048,))\n",
        "#####fe1 = Dropout(0.5)(inputs1)\n",
        "#####fe2 = Dense(256, activation='relu')(fe1)\n",
        "#####inputs2 = Input(shape=(max_length_caption,))\n",
        "#####se1 = Embedding(vocab_size, embedding_dim, mask_zero=True)(inputs2)\n",
        "#####se2 = Dropout(0.5)(se1)\n",
        "#####se3 = LSTM(256)(se2)\n",
        "#####decoder1 = add([fe2, se3])\n",
        "#####decoder2 = Dense(256, activation='relu')(decoder1)\n",
        "#####outputs = Dense(vocab_size, activation='softmax')(decoder2)\n",
        "#####model = Model(inputs=[inputs1, inputs2], outputs=outputs)\n",
        "####\n",
        "####\n",
        "#### I made it this way:\n",
        "#### parameters to define model\n",
        "#### EMBEDDING_DIMS = 200\n",
        "#### VOCAB_SIZE = 400001\n",
        "#### MAX_LENGTH_CAPTION = 256\n",
        "#### inputs1 = keras.Input(shape=(2048,))\n",
        "#### fe1 = layers.Dropout(0.5)(inputs1)\n",
        "#### fe2 = layers.Dense(256, activation='relu')(fe1)\n",
        "#### inputs2 = keras.Input(shape=(MAX_LENGTH_CAPTION,))\n",
        "#### se1 = layers.Embedding(VOCAB_SIZE, EMBEDDING_DIMS, mask_zero=True)(inputs2)\n",
        "#### se2 = layers.Dropout(0.5)(se1)\n",
        "#### se3 = layers.LSTM(256)(se2)\n",
        "#### decoder1 = layers.add([fe2, se3])\n",
        "#### decoder2 = layers.Dense(256, activation='relu')(decoder1)\n",
        "#### outputs = layers.Dense(VOCAB_SIZE, activation='softmax')(decoder2)\n",
        "#### model_RNN_decoder = keras.Model(inputs=[inputs1, inputs2], outputs=outputs)\n",
        "####\n",
        "####\n",
        "#### The model summary output this:\n",
        "####\n",
        "#### Model: \"functional_5\"\n",
        "#### __________________________________________________________________________________________________\n",
        "#### Layer (type)                    Output Shape         Param #     Connected to                     \n",
        "#### ==================================================================================================\n",
        "#### input_13 (InputLayer)           [(None, 256)]        0                                            \n",
        "#### __________________________________________________________________________________________________\n",
        "#### input_12 (InputLayer)           [(None, 2048)]       0                                            \n",
        "#### __________________________________________________________________________________________________\n",
        "#### embedding_6 (Embedding)         (None, 256, 200)     80000200    input_13[0][0]                   \n",
        "#### __________________________________________________________________________________________________\n",
        "#### dropout_9 (Dropout)             (None, 2048)         0           input_12[0][0]                   \n",
        "#### __________________________________________________________________________________________________\n",
        "#### dropout_10 (Dropout)            (None, 256, 200)     0           embedding_6[0][0]                \n",
        "#### __________________________________________________________________________________________________\n",
        "#### dense_11 (Dense)                (None, 256)          524544      dropout_9[0][0]                  \n",
        "#### __________________________________________________________________________________________________\n",
        "#### lstm_3 (LSTM)                   (None, 256)          467968      dropout_10[0][0]                 \n",
        "#### __________________________________________________________________________________________________\n",
        "#### add_3 (Add)                     (None, 256)          0           dense_11[0][0]                   \n",
        "####                                                                  lstm_3[0][0]                     \n",
        "#### __________________________________________________________________________________________________\n",
        "#### dense_12 (Dense)                (None, 256)          65792       add_3[0][0]                      \n",
        "#### __________________________________________________________________________________________________\n",
        "#### dense_13 (Dense)                (None, 400001)       102800257   dense_12[0][0]                   \n",
        "#### ==================================================================================================\n",
        "#### Total params: 183,858,761\n",
        "#### Trainable params: 183,858,761\n",
        "#### Non-trainable params: 0"
      ]
    },
    {
      "cell_type": "code",
      "metadata": {
        "id": "gmx5j9y3EmeH",
        "colab_type": "code",
        "colab": {}
      },
      "source": [
        "## parameters to define model\n",
        "EMBEDDING_DIMS = 200\n",
        "VOCAB_SIZE = 400001\n",
        "MAX_LENGTH_CAPTION = 256\n",
        "\n",
        "inputs1 = keras.Input(shape=(2048,))\n",
        "fe1 = layers.Dropout(0.5)(inputs1)\n",
        "fe2 = layers.Dense(256, activation='relu')(fe1)\n",
        "inputs2 = keras.Input(shape=(MAX_LENGTH_CAPTION,))\n",
        "se1 = layers.Embedding(VOCAB_SIZE, EMBEDDING_DIMS, mask_zero=True)(inputs2)\n",
        "se2 = layers.Dropout(0.5)(se1)\n",
        "se3 = layers.LSTM(256)(se2)\n",
        "decoder1 = layers.add([fe2, se3])\n",
        "decoder2 = layers.Dense(256, activation='relu')(decoder1)\n",
        "outputs = layers.Dense(VOCAB_SIZE, activation='softmax')(decoder2)\n",
        "model_RNN_decoder = keras.Model(inputs=[inputs1, inputs2], outputs=outputs)"
      ],
      "execution_count": null,
      "outputs": []
    },
    {
      "cell_type": "code",
      "metadata": {
        "id": "TfgPqzF8AXQh",
        "colab_type": "code",
        "colab": {
          "base_uri": "https://localhost:8080/",
          "height": 510
        },
        "outputId": "6d1b25a0-af1f-4289-899a-b9068a7770a6"
      },
      "source": [
        "##  KEEP FOR REFERENCE - DO NOT DELETE\n",
        "# model_RNN_decoder.summary()   - output below based on the code of Link: https://iq.opengenus.org/image-captioning-using-keras/   which did not make complete sense\n",
        "\n",
        "#Model: \"functional_5\"\n",
        "#__________________________________________________________________________________________________\n",
        "#Layer (type)                    Output Shape         Param #     Connected to                     \n",
        "#==================================================================================================\n",
        "#input_13 (InputLayer)           [(None, 256)]        0                                            \n",
        "#__________________________________________________________________________________________________\n",
        "#input_12 (InputLayer)           [(None, 2048)]       0                                            \n",
        "#__________________________________________________________________________________________________\n",
        "#embedding_6 (Embedding)         (None, 256, 200)     80000200    input_13[0][0]                   \n",
        "#__________________________________________________________________________________________________\n",
        "#dropout_9 (Dropout)             (None, 2048)         0           input_12[0][0]                   \n",
        "#__________________________________________________________________________________________________\n",
        "#dropout_10 (Dropout)            (None, 256, 200)     0           embedding_6[0][0]                \n",
        "#__________________________________________________________________________________________________\n",
        "#dense_11 (Dense)                (None, 256)          524544      dropout_9[0][0]                  \n",
        "#__________________________________________________________________________________________________\n",
        "#lstm_3 (LSTM)                   (None, 256)          467968      dropout_10[0][0]                 \n",
        "#__________________________________________________________________________________________________\n",
        "#add_3 (Add)                     (None, 256)          0           dense_11[0][0]                   \n",
        "#                                                                 lstm_3[0][0]                     \n",
        "#__________________________________________________________________________________________________\n",
        "#dense_12 (Dense)                (None, 256)          65792       add_3[0][0]                      \n",
        "#__________________________________________________________________________________________________\n",
        "#dense_13 (Dense)                (None, 400001)       102800257   dense_12[0][0]                   \n",
        "#==================================================================================================\n",
        "#Total params: 183,858,761\n",
        "#Trainable params: 183,858,761\n",
        "#Non-trainable params: 0"
      ],
      "execution_count": 60,
      "outputs": [
        {
          "output_type": "stream",
          "text": [
            "Model: \"functional_5\"\n",
            "__________________________________________________________________________________________________\n",
            "Layer (type)                    Output Shape         Param #     Connected to                     \n",
            "==================================================================================================\n",
            "input_13 (InputLayer)           [(None, 256)]        0                                            \n",
            "__________________________________________________________________________________________________\n",
            "input_12 (InputLayer)           [(None, 2048)]       0                                            \n",
            "__________________________________________________________________________________________________\n",
            "embedding_6 (Embedding)         (None, 256, 200)     80000200    input_13[0][0]                   \n",
            "__________________________________________________________________________________________________\n",
            "dropout_9 (Dropout)             (None, 2048)         0           input_12[0][0]                   \n",
            "__________________________________________________________________________________________________\n",
            "dropout_10 (Dropout)            (None, 256, 200)     0           embedding_6[0][0]                \n",
            "__________________________________________________________________________________________________\n",
            "dense_11 (Dense)                (None, 256)          524544      dropout_9[0][0]                  \n",
            "__________________________________________________________________________________________________\n",
            "lstm_3 (LSTM)                   (None, 256)          467968      dropout_10[0][0]                 \n",
            "__________________________________________________________________________________________________\n",
            "add_3 (Add)                     (None, 256)          0           dense_11[0][0]                   \n",
            "                                                                 lstm_3[0][0]                     \n",
            "__________________________________________________________________________________________________\n",
            "dense_12 (Dense)                (None, 256)          65792       add_3[0][0]                      \n",
            "__________________________________________________________________________________________________\n",
            "dense_13 (Dense)                (None, 400001)       102800257   dense_12[0][0]                   \n",
            "==================================================================================================\n",
            "Total params: 183,858,761\n",
            "Trainable params: 183,858,761\n",
            "Non-trainable params: 0\n",
            "__________________________________________________________________________________________________\n"
          ],
          "name": "stdout"
        }
      ]
    },
    {
      "cell_type": "code",
      "metadata": {
        "id": "CxTsXMf-alxT",
        "colab_type": "code",
        "colab": {
          "base_uri": "https://localhost:8080/",
          "height": 35
        },
        "outputId": "bf559ba5-3bdd-4e9f-a146-d241e93a7dce"
      },
      "source": [
        "OPDIR"
      ],
      "execution_count": 49,
      "outputs": [
        {
          "output_type": "execute_result",
          "data": {
            "application/vnd.google.colaboratory.intrinsic+json": {
              "type": "string"
            },
            "text/plain": [
              "'/content/gdrive/My Drive/ThesisStoryGen/Data/ImgCapTraining/CocoVal2017_1/'"
            ]
          },
          "metadata": {
            "tags": []
          },
          "execution_count": 49
        }
      ]
    },
    {
      "cell_type": "code",
      "metadata": {
        "id": "5662gqyRbC48",
        "colab_type": "code",
        "colab": {
          "base_uri": "https://localhost:8080/",
          "height": 754
        },
        "outputId": "ed4b6e55-1b5c-4826-9a26-9e3edb9b65f0"
      },
      "source": [
        "#tf.keras.utils.plot_model(model_RNN_decoder, to_file=OPDIR+'RNN_decoder_model_plot_OnlyLink1_approach_1.jpg', show_shapes=True, show_layer_names=True)"
      ],
      "execution_count": 59,
      "outputs": [
        {
          "output_type": "execute_result",
          "data": {
            "image/jpeg": "[encoded data removed]",
            "text/plain": [
              "<IPython.core.display.Image object>"
            ]
          },
          "metadata": {
            "tags": []
          },
          "execution_count": 59
        }
      ]
    },
    {
      "cell_type": "code",
      "metadata": {
        "id": "Mg6SJi6ifbMG",
        "colab_type": "code",
        "colab": {}
      },
      "source": [
        ""
      ],
      "execution_count": 50,
      "outputs": []
    },
    {
      "cell_type": "code",
      "metadata": {
        "id": "QB7b_WCnfbPE",
        "colab_type": "code",
        "colab": {}
      },
      "source": [
        ""
      ],
      "execution_count": 50,
      "outputs": []
    },
    {
      "cell_type": "markdown",
      "metadata": {
        "id": "gYzi_dPBX4gY",
        "colab_type": "text"
      },
      "source": [
        "## NEXT SECTION"
      ]
    },
    {
      "cell_type": "code",
      "metadata": {
        "id": "GbnH3UKjMtbJ",
        "colab_type": "code",
        "colab": {}
      },
      "source": [
        ""
      ],
      "execution_count": null,
      "outputs": []
    },
    {
      "cell_type": "code",
      "metadata": {
        "id": "_WIUI7peMtdx",
        "colab_type": "code",
        "colab": {}
      },
      "source": [
        ""
      ],
      "execution_count": null,
      "outputs": []
    },
    {
      "cell_type": "code",
      "metadata": {
        "id": "Cn8Ae5nja_YL",
        "colab_type": "code",
        "colab": {}
      },
      "source": [
        ""
      ],
      "execution_count": null,
      "outputs": []
    },
    {
      "cell_type": "code",
      "metadata": {
        "id": "UXpo7GN2a_bn",
        "colab_type": "code",
        "colab": {}
      },
      "source": [
        ""
      ],
      "execution_count": null,
      "outputs": []
    },
    {
      "cell_type": "code",
      "metadata": {
        "id": "feJYULfga_e1",
        "colab_type": "code",
        "colab": {}
      },
      "source": [
        ""
      ],
      "execution_count": null,
      "outputs": []
    },
    {
      "cell_type": "code",
      "metadata": {
        "id": "FtOwOdnXa_hi",
        "colab_type": "code",
        "colab": {}
      },
      "source": [
        ""
      ],
      "execution_count": null,
      "outputs": []
    },
    {
      "cell_type": "code",
      "metadata": {
        "id": "pNx5cal-a_kO",
        "colab_type": "code",
        "colab": {}
      },
      "source": [
        ""
      ],
      "execution_count": null,
      "outputs": []
    }
  ]
}