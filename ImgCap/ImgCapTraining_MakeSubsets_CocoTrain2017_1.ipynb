{
  "nbformat": 4,
  "nbformat_minor": 0,
  "metadata": {
    "colab": {
      "name": "ImgCapTraining_MakeSubsets_CocoTrain2017_1.ipynb",
      "provenance": [],
      "collapsed_sections": [
        "u8A7KwS9fh_r",
        "zp8_F7MQsEef",
        "fJlfkqdu2IUe",
        "rnZWa73Z2ahH",
        "guX2RAtg2yMP",
        "Lgsw4VAfZ5l9",
        "C1xR5SaPZ977",
        "SuTqcxC6aB1q",
        "fbDtSY2LcKcK",
        "_LUocqDrcOCd",
        "reprl8YHcR7J",
        "Z0WludGRcWlV",
        "lo24aYk8caOK",
        "3eVf8vJrcepJ",
        "gTLznzbUcjNS"
      ]
    },
    "kernelspec": {
      "name": "python3",
      "display_name": "Python 3"
    }
  },
  "cells": [
    {
      "cell_type": "code",
      "metadata": {
        "id": "SjgpHvAmEQeh",
        "colab_type": "code",
        "colab": {}
      },
      "source": [
        ""
      ],
      "execution_count": null,
      "outputs": []
    },
    {
      "cell_type": "markdown",
      "metadata": {
        "id": "u8A7KwS9fh_r",
        "colab_type": "text"
      },
      "source": [
        "## ASIDE SECTION 1 - processing to verify all the train2017 files are uploaded\n",
        "### should be 118287 images\n",
        "\n",
        "### have already uploaded the files from laptop to gdrive using my own script"
      ]
    },
    {
      "cell_type": "code",
      "metadata": {
        "id": "T6VPd3bNFg4u",
        "colab_type": "code",
        "colab": {
          "base_uri": "https://localhost:8080/",
          "height": 34
        },
        "outputId": "44dfbc8b-586c-4f1c-f74f-4b3ded4b7691"
      },
      "source": [
        "from google.colab import drive\n",
        "drive.flush_and_unmount()\n",
        "drive.mount('/content/gdrive')"
      ],
      "execution_count": null,
      "outputs": [
        {
          "output_type": "stream",
          "text": [
            "Mounted at /content/gdrive\n"
          ],
          "name": "stdout"
        }
      ]
    },
    {
      "cell_type": "code",
      "metadata": {
        "id": "Tfwg4kR2Fg7Y",
        "colab_type": "code",
        "colab": {
          "base_uri": "https://localhost:8080/",
          "height": 34
        },
        "outputId": "9f6c4803-3cfb-4a77-9da1-26ea55e5ca26"
      },
      "source": [
        "!ls"
      ],
      "execution_count": null,
      "outputs": [
        {
          "output_type": "stream",
          "text": [
            "gdrive\tsample_data\n"
          ],
          "name": "stdout"
        }
      ]
    },
    {
      "cell_type": "code",
      "metadata": {
        "id": "lnPWXv2xFg-L",
        "colab_type": "code",
        "colab": {
          "base_uri": "https://localhost:8080/",
          "height": 34
        },
        "outputId": "824dac86-685a-433b-e494-46f0821cba42"
      },
      "source": [
        "!ls './gdrive/My Drive/ThesisStoryGen/Data/coco_train2017_wget_1/'"
      ],
      "execution_count": null,
      "outputs": [
        {
          "output_type": "stream",
          "text": [
            "COCO_train2017_118k  Rishabh_DO_NOT_TOUCH_PLS_1  train2017.zip\n"
          ],
          "name": "stdout"
        }
      ]
    },
    {
      "cell_type": "code",
      "metadata": {
        "id": "R0maHW2PFhAi",
        "colab_type": "code",
        "colab": {
          "base_uri": "https://localhost:8080/",
          "height": 52
        },
        "outputId": "60b906df-e314-4c67-9f32-aec042895ffe"
      },
      "source": [
        "!ls './gdrive/My Drive/ThesisStoryGen/Data/coco_train2017_wget_1/Rishabh_DO_NOT_TOUCH_PLS_1' | wc -l"
      ],
      "execution_count": null,
      "outputs": [
        {
          "output_type": "stream",
          "text": [
            "ls: cannot open directory './gdrive/My Drive/ThesisStoryGen/Data/coco_train2017_wget_1/Rishabh_DO_NOT_TOUCH_PLS_1': Input/output error\n",
            "0\n"
          ],
          "name": "stdout"
        }
      ]
    },
    {
      "cell_type": "code",
      "metadata": {
        "id": "4spKdzgmFhDL",
        "colab_type": "code",
        "colab": {}
      },
      "source": [
        "import os\n",
        "import pickle\n",
        "import sys"
      ],
      "execution_count": null,
      "outputs": []
    },
    {
      "cell_type": "code",
      "metadata": {
        "id": "DzXBulYZ9pNM",
        "colab_type": "code",
        "colab": {}
      },
      "source": [
        "IMGSDIR_COCO_TRAIN2017 = r'./gdrive/My Drive/ThesisStoryGen/Data/coco_train2017_wget_1/Rishabh_DO_NOT_TOUCH_PLS_1'\n",
        "WORKDIR_COCO_TRAIN2017 = '/content/gdrive/My Drive/ThesisStoryGen/Data/ImgCapTraining/CocoTrain2017_1/'"
      ],
      "execution_count": null,
      "outputs": []
    },
    {
      "cell_type": "code",
      "metadata": {
        "id": "m_GsXBPw9kZO",
        "colab_type": "code",
        "colab": {}
      },
      "source": [
        "gdrive_coco_train2017_118287_listdir = os.listdir(IMGSDIR_COCO_TRAIN2017)"
      ],
      "execution_count": null,
      "outputs": []
    },
    {
      "cell_type": "code",
      "metadata": {
        "id": "29fQ_x8j9kb7",
        "colab_type": "code",
        "colab": {
          "base_uri": "https://localhost:8080/",
          "height": 34
        },
        "outputId": "c74699df-851f-4da2-83b8-84a5119340c3"
      },
      "source": [
        "len(gdrive_coco_train2017_118287_listdir)"
      ],
      "execution_count": null,
      "outputs": [
        {
          "output_type": "execute_result",
          "data": {
            "text/plain": [
              "118287"
            ]
          },
          "metadata": {
            "tags": []
          },
          "execution_count": 30
        }
      ]
    },
    {
      "cell_type": "code",
      "metadata": {
        "id": "yyr28myY9ke_",
        "colab_type": "code",
        "colab": {
          "base_uri": "https://localhost:8080/",
          "height": 34
        },
        "outputId": "4c8703e0-ddf1-4b35-b310-97ebeb2acdb0"
      },
      "source": [
        "## pickle the data\n",
        "with open(WORKDIR_COCO_TRAIN2017+'gdrive_coco_train2017_118287_listdir.pkl', 'wb') as handle:\n",
        "  pickle.dump(gdrive_coco_train2017_118287_listdir, handle, protocol=pickle.HIGHEST_PROTOCOL)\n",
        "print(f\"Pickling done\")"
      ],
      "execution_count": null,
      "outputs": [
        {
          "output_type": "stream",
          "text": [
            "Pickling done\n"
          ],
          "name": "stdout"
        }
      ]
    },
    {
      "cell_type": "code",
      "metadata": {
        "id": "h4b8BYED_eVo",
        "colab_type": "code",
        "colab": {
          "base_uri": "https://localhost:8080/",
          "height": 34
        },
        "outputId": "955968c5-f007-4d43-f9ca-2e4fa31ce2c0"
      },
      "source": [
        "print(f\"Size of pickled data = {sys.getsizeof(gdrive_coco_train2017_118287_listdir)} bytes\")"
      ],
      "execution_count": null,
      "outputs": [
        {
          "output_type": "stream",
          "text": [
            "Size of pickled data = 1043560 bytes\n"
          ],
          "name": "stdout"
        }
      ]
    },
    {
      "cell_type": "code",
      "metadata": {
        "id": "bq_EW4SbkTTQ",
        "colab_type": "code",
        "colab": {}
      },
      "source": [
        "del gdrive_coco_train2017_118287_listdir"
      ],
      "execution_count": null,
      "outputs": []
    },
    {
      "cell_type": "code",
      "metadata": {
        "id": "RLfAQeaT_j1Q",
        "colab_type": "code",
        "colab": {
          "base_uri": "https://localhost:8080/",
          "height": 34
        },
        "outputId": "862eb8c2-8413-45fc-f920-6391d8ca06cf"
      },
      "source": [
        "## reload from picked file - output of listdir on google drive location\n",
        "if True:\n",
        "  with open(WORKDIR_COCO_TRAIN2017+'gdrive_coco_train2017_118287_listdir.pkl', 'rb') as handle:\n",
        "    gdrive_coco_train2017_118287_listdir = pickle.load(handle)\n",
        "\n",
        "len(gdrive_coco_train2017_118287_listdir)"
      ],
      "execution_count": null,
      "outputs": [
        {
          "output_type": "execute_result",
          "data": {
            "text/plain": [
              "118287"
            ]
          },
          "metadata": {
            "tags": []
          },
          "execution_count": 34
        }
      ]
    },
    {
      "cell_type": "code",
      "metadata": {
        "id": "Cgh8tGGIkUE5",
        "colab_type": "code",
        "colab": {
          "base_uri": "https://localhost:8080/",
          "height": 34
        },
        "outputId": "0c7bfb64-3a96-4b84-ebad-b79394774ad9"
      },
      "source": [
        "## reload from picked file - output of listdir on laptop folder\n",
        "if True:\n",
        "  with open(WORKDIR_COCO_TRAIN2017+'laptop_coco_train2017_listdir.pkl', 'rb') as handle:\n",
        "    laptop_coco_train2017_listdir = pickle.load(handle)\n",
        "\n",
        "len(laptop_coco_train2017_listdir)"
      ],
      "execution_count": null,
      "outputs": [
        {
          "output_type": "execute_result",
          "data": {
            "text/plain": [
              "118287"
            ]
          },
          "metadata": {
            "tags": []
          },
          "execution_count": 35
        }
      ]
    },
    {
      "cell_type": "code",
      "metadata": {
        "id": "NXObnjh2kVn2",
        "colab_type": "code",
        "colab": {}
      },
      "source": [
        ""
      ],
      "execution_count": null,
      "outputs": []
    },
    {
      "cell_type": "code",
      "metadata": {
        "id": "pldRsZ25ew6F",
        "colab_type": "code",
        "colab": {}
      },
      "source": [
        "upload_pending = list( set(gdrive_coco_train2017_118287_listdir) - set(laptop_coco_train2017_listdir) )"
      ],
      "execution_count": null,
      "outputs": []
    },
    {
      "cell_type": "code",
      "metadata": {
        "id": "SIPZkChVBi_9",
        "colab_type": "code",
        "colab": {
          "base_uri": "https://localhost:8080/",
          "height": 34
        },
        "outputId": "5c814a58-bd85-4a73-818e-e098701232c9"
      },
      "source": [
        "len(upload_pending)  ## if 0, then the images in the folders on the gdrive and laptop match"
      ],
      "execution_count": null,
      "outputs": [
        {
          "output_type": "execute_result",
          "data": {
            "text/plain": [
              "0"
            ]
          },
          "metadata": {
            "tags": []
          },
          "execution_count": 37
        }
      ]
    },
    {
      "cell_type": "code",
      "metadata": {
        "id": "jvRARJEKmU1Y",
        "colab_type": "code",
        "colab": {}
      },
      "source": [
        "## double check that all values in the listdir of gdrive are unique"
      ],
      "execution_count": null,
      "outputs": []
    },
    {
      "cell_type": "code",
      "metadata": {
        "id": "xC-6Kl6JBjCU",
        "colab_type": "code",
        "colab": {}
      },
      "source": [
        "import pandas as pd"
      ],
      "execution_count": null,
      "outputs": []
    },
    {
      "cell_type": "code",
      "metadata": {
        "id": "Rjr6-gjQftj5",
        "colab_type": "code",
        "colab": {
          "base_uri": "https://localhost:8080/",
          "height": 197
        },
        "outputId": "6195b3bd-b1f3-4e2b-df9e-0d8d1e7dff63"
      },
      "source": [
        "dfup = pd.DataFrame(gdrive_coco_train2017_118287_listdir, columns=['fname'])\n",
        "dfup.head()"
      ],
      "execution_count": null,
      "outputs": [
        {
          "output_type": "execute_result",
          "data": {
            "text/html": [
              "<div>\n",
              "<style scoped>\n",
              "    .dataframe tbody tr th:only-of-type {\n",
              "        vertical-align: middle;\n",
              "    }\n",
              "\n",
              "    .dataframe tbody tr th {\n",
              "        vertical-align: top;\n",
              "    }\n",
              "\n",
              "    .dataframe thead th {\n",
              "        text-align: right;\n",
              "    }\n",
              "</style>\n",
              "<table border=\"1\" class=\"dataframe\">\n",
              "  <thead>\n",
              "    <tr style=\"text-align: right;\">\n",
              "      <th></th>\n",
              "      <th>fname</th>\n",
              "    </tr>\n",
              "  </thead>\n",
              "  <tbody>\n",
              "    <tr>\n",
              "      <th>0</th>\n",
              "      <td>000000407952.jpg</td>\n",
              "    </tr>\n",
              "    <tr>\n",
              "      <th>1</th>\n",
              "      <td>000000031471.jpg</td>\n",
              "    </tr>\n",
              "    <tr>\n",
              "      <th>2</th>\n",
              "      <td>000000208524.jpg</td>\n",
              "    </tr>\n",
              "    <tr>\n",
              "      <th>3</th>\n",
              "      <td>000000480872.jpg</td>\n",
              "    </tr>\n",
              "    <tr>\n",
              "      <th>4</th>\n",
              "      <td>000000257301.jpg</td>\n",
              "    </tr>\n",
              "  </tbody>\n",
              "</table>\n",
              "</div>"
            ],
            "text/plain": [
              "              fname\n",
              "0  000000407952.jpg\n",
              "1  000000031471.jpg\n",
              "2  000000208524.jpg\n",
              "3  000000480872.jpg\n",
              "4  000000257301.jpg"
            ]
          },
          "metadata": {
            "tags": []
          },
          "execution_count": 39
        }
      ]
    },
    {
      "cell_type": "code",
      "metadata": {
        "id": "I0xxkyLQftmm",
        "colab_type": "code",
        "colab": {
          "base_uri": "https://localhost:8080/",
          "height": 34
        },
        "outputId": "3fb73d15-b525-4e02-ae6b-1f0383e35514"
      },
      "source": [
        "dfup['fname'].nunique()  ## should be 118287"
      ],
      "execution_count": null,
      "outputs": [
        {
          "output_type": "execute_result",
          "data": {
            "text/plain": [
              "118287"
            ]
          },
          "metadata": {
            "tags": []
          },
          "execution_count": 40
        }
      ]
    },
    {
      "cell_type": "code",
      "metadata": {
        "id": "OfckvUaRfto8",
        "colab_type": "code",
        "colab": {
          "base_uri": "https://localhost:8080/",
          "height": 34
        },
        "outputId": "141623d8-7c61-4256-c19c-4d5f9afa03cf"
      },
      "source": [
        "len(dfup)   ## also should be 118287"
      ],
      "execution_count": null,
      "outputs": [
        {
          "output_type": "execute_result",
          "data": {
            "text/plain": [
              "118287"
            ]
          },
          "metadata": {
            "tags": []
          },
          "execution_count": 41
        }
      ]
    },
    {
      "cell_type": "code",
      "metadata": {
        "id": "JCuKI_qgftrZ",
        "colab_type": "code",
        "colab": {}
      },
      "source": [
        ""
      ],
      "execution_count": null,
      "outputs": []
    },
    {
      "cell_type": "code",
      "metadata": {
        "id": "i4jxe65oo9l6",
        "colab_type": "code",
        "colab": {}
      },
      "source": [
        ""
      ],
      "execution_count": null,
      "outputs": []
    },
    {
      "cell_type": "markdown",
      "metadata": {
        "id": "GLyM0ATtoPMG",
        "colab_type": "text"
      },
      "source": [
        "## ASIDE SECTION 2 - BREAK COCO TRAIN2017 118k FILES INTO SMALLER PARTS IN FOLDERS\n",
        "### total images in COCO_TRAIN2017 = 118287 jpgs\n",
        "\n",
        "### using the start and end indexes, using the os.listdir output on the folder\n",
        "###     create a new folder and copy that set of images os.listdir(xxx)[sidx:eidx]"
      ]
    },
    {
      "cell_type": "code",
      "metadata": {
        "id": "--_FxWB-_j-T",
        "colab_type": "code",
        "colab": {}
      },
      "source": [
        "import pickle\n",
        "import os\n",
        "import sys\n",
        "import shutil\n",
        "import datetime\n",
        "import time"
      ],
      "execution_count": 1,
      "outputs": []
    },
    {
      "cell_type": "code",
      "metadata": {
        "id": "DWkN6taao_eh",
        "colab_type": "code",
        "colab": {
          "base_uri": "https://localhost:8080/",
          "height": 52
        },
        "outputId": "eb163231-1daf-4472-bcb5-e4509f9c9138"
      },
      "source": [
        "from google.colab import drive\n",
        "drive.flush_and_unmount()\n",
        "drive.mount('/content/gdrive')"
      ],
      "execution_count": 2,
      "outputs": [
        {
          "output_type": "stream",
          "text": [
            "Drive not mounted, so nothing to flush and unmount.\n",
            "Mounted at /content/gdrive\n"
          ],
          "name": "stdout"
        }
      ]
    },
    {
      "cell_type": "code",
      "metadata": {
        "id": "lpLmj7Ato-ap",
        "colab_type": "code",
        "colab": {}
      },
      "source": [
        "COCO_TRAIN2017_IMGSDIR = r'./gdrive/My Drive/ThesisStoryGen/Data/coco_train2017_wget_1/Rishabh_DO_NOT_TOUCH_PLS_1/'\n",
        "WORKDIR_COCO_TRAIN2017 = r'./gdrive/My Drive/ThesisStoryGen/Data/ImgCapTraining/CocoTrain2017_1/'\n",
        "TARGETDIR = r'./gdrive/My Drive/ThesisStoryGen/Data/coco_train2017_wget_1/' ## the dedicated folder for subset of images will be made here"
      ],
      "execution_count": 3,
      "outputs": []
    },
    {
      "cell_type": "code",
      "metadata": {
        "id": "3EZyFu08ovER",
        "colab_type": "code",
        "colab": {
          "base_uri": "https://localhost:8080/",
          "height": 34
        },
        "outputId": "ec246f65-0f05-4754-88bb-8ac9ea586999"
      },
      "source": [
        "## reload from picked file - output of listdir on google drive location = r'./gdrive/My Drive/ThesisStoryGen/Data/coco_train2017_wget_1/Rishabh_DO_NOT_TOUCH_PLS_1/'\n",
        "if True:\n",
        "  with open(WORKDIR_COCO_TRAIN2017+'gdrive_coco_train2017_118287_listdir.pkl', 'rb') as handle:\n",
        "    gdrive_coco_train2017_118287_listdir = pickle.load(handle)\n",
        "\n",
        "len(gdrive_coco_train2017_118287_listdir)"
      ],
      "execution_count": 4,
      "outputs": [
        {
          "output_type": "execute_result",
          "data": {
            "text/plain": [
              "118287"
            ]
          },
          "metadata": {
            "tags": []
          },
          "execution_count": 4
        }
      ]
    },
    {
      "cell_type": "code",
      "metadata": {
        "id": "Og9Cf8nsujxn",
        "colab_type": "code",
        "colab": {
          "base_uri": "https://localhost:8080/",
          "height": 34
        },
        "outputId": "0484f8f4-2ea0-47d9-dfef-e9c3f04f389e"
      },
      "source": [
        "gdrive_coco_train2017_118287_listdir[:3]"
      ],
      "execution_count": 5,
      "outputs": [
        {
          "output_type": "execute_result",
          "data": {
            "text/plain": [
              "['000000407952.jpg', '000000031471.jpg', '000000208524.jpg']"
            ]
          },
          "metadata": {
            "tags": []
          },
          "execution_count": 5
        }
      ]
    },
    {
      "cell_type": "code",
      "metadata": {
        "id": "6O5Bu0RLtzDx",
        "colab_type": "code",
        "colab": {
          "base_uri": "https://localhost:8080/",
          "height": 70
        },
        "outputId": "fb206cbb-f19a-4a18-ca88-69591fc6fa53"
      },
      "source": [
        "## add the full path to the file names\n",
        "gdrive_coco_train2017_118287_listdir = [COCO_TRAIN2017_IMGSDIR + f for f in gdrive_coco_train2017_118287_listdir]\n",
        "gdrive_coco_train2017_118287_listdir[:3]"
      ],
      "execution_count": 6,
      "outputs": [
        {
          "output_type": "execute_result",
          "data": {
            "text/plain": [
              "['./gdrive/My Drive/ThesisStoryGen/Data/coco_train2017_wget_1/Rishabh_DO_NOT_TOUCH_PLS_1/000000407952.jpg',\n",
              " './gdrive/My Drive/ThesisStoryGen/Data/coco_train2017_wget_1/Rishabh_DO_NOT_TOUCH_PLS_1/000000031471.jpg',\n",
              " './gdrive/My Drive/ThesisStoryGen/Data/coco_train2017_wget_1/Rishabh_DO_NOT_TOUCH_PLS_1/000000208524.jpg']"
            ]
          },
          "metadata": {
            "tags": []
          },
          "execution_count": 6
        }
      ]
    },
    {
      "cell_type": "code",
      "metadata": {
        "id": "p76QjcagovJh",
        "colab_type": "code",
        "colab": {}
      },
      "source": [
        "## slicing will be done on the gdrive_coco_train2017_118287_listdir array\n",
        "## i.e. gdrive_coco_train2017_118287_listdir[ sidx : eidx ]"
      ],
      "execution_count": 7,
      "outputs": []
    },
    {
      "cell_type": "code",
      "metadata": {
        "id": "zeE0IP_Xv0x_",
        "colab_type": "code",
        "colab": {}
      },
      "source": [
        "def copy_the_files(_sidx, _eidx, _files_arr, _copyTo_path, _print_freq = 50):\n",
        "    start_tick = time.time()\n",
        "    cnt_processed , cnt_copied , cnt_problem = 0, 0, 0\n",
        "    problem_files = []\n",
        "    for file_to_be_copied in _files_arr[_sidx : _eidx]:\n",
        "      if cnt_processed % _print_freq == 0:\n",
        "        print(f\"At {datetime.datetime.now().strftime('%H:%M:%S')} :: Processed = {cnt_processed} , Copied = {cnt_copied} , Problem = {cnt_problem}\")\n",
        "      cnt_processed += 1\n",
        "      try:\n",
        "        shutil.copy(file_to_be_copied, _copyTo_path)\n",
        "        cnt_copied += 1\n",
        "      except Exception as e:\n",
        "        cnt_problem += 1\n",
        "        problem_files.append(file_to_be_copied)\n",
        "        #print(f\"Error: {e}\")\n",
        "    \n",
        "    print(f\"\\n\\nExpected count of copied files = {_eidx - _sidx}\\nTime taken = { time.time() - start_tick } seconds\")\n",
        "    print(f\"\\nProcessed = {cnt_processed} , Copied = {cnt_copied} , Problem = {cnt_problem}\\n\")\n",
        "    \n",
        "    return problem_files"
      ],
      "execution_count": 8,
      "outputs": []
    },
    {
      "cell_type": "markdown",
      "metadata": {
        "id": "zp8_F7MQsEef",
        "colab_type": "text"
      },
      "source": [
        "### copying   for indexes     start = 0 , end = 5000"
      ]
    },
    {
      "cell_type": "code",
      "metadata": {
        "id": "fQvEkXTzpoAD",
        "colab_type": "code",
        "colab": {}
      },
      "source": [
        "sidx, eidx = 0, 5000"
      ],
      "execution_count": null,
      "outputs": []
    },
    {
      "cell_type": "code",
      "metadata": {
        "id": "wwVb3MGUpLIq",
        "colab_type": "code",
        "colab": {
          "base_uri": "https://localhost:8080/",
          "height": 35
        },
        "outputId": "534868ab-2de5-4cb4-8274-0c9e470e9337"
      },
      "source": [
        "copyTo_path = TARGETDIR + 'coco_test2017_subset_' + str(sidx) + '_' + str(eidx) + '/'\n",
        "copyTo_path"
      ],
      "execution_count": null,
      "outputs": [
        {
          "output_type": "execute_result",
          "data": {
            "application/vnd.google.colaboratory.intrinsic+json": {
              "type": "string"
            },
            "text/plain": [
              "'./gdrive/My Drive/ThesisStoryGen/Data/coco_train2017_wget_1/coco_test2017_subset_0_5000/'"
            ]
          },
          "metadata": {
            "tags": []
          },
          "execution_count": 12
        }
      ]
    },
    {
      "cell_type": "code",
      "metadata": {
        "id": "xPdcXv6WqKEE",
        "colab_type": "code",
        "colab": {
          "base_uri": "https://localhost:8080/",
          "height": 1000
        },
        "outputId": "6c123582-ded8-4c2c-ac85-ec2b550ccbc6"
      },
      "source": [
        "if not os.path.isdir(copyTo_path):\n",
        "    os.mkdir(copyTo_path)\n",
        "    print(f\"\\n\\nCreated folder on Google Drive for copyTo_path : {copyTo_path}\\n\\n\")\n",
        "    \n",
        "    problem_files_arr = copy_the_files(sidx, eidx, gdrive_coco_train2017_118287_listdir, copyTo_path)\n",
        "else:\n",
        "    print(f\"\\n\\nFATAL ERROR: copyTo_path already exists : {copyTo_path}\\n\\n\")\n",
        "\n",
        "if len(problem_files_arr) > 0:\n",
        "  print(f\"\\n\\nThere were problems.\\n\")\n",
        "else:\n",
        "  print(f\"\\n\\nSuccess, no problems\\n\")"
      ],
      "execution_count": null,
      "outputs": [
        {
          "output_type": "stream",
          "text": [
            "\n",
            "\n",
            "Created folder on Google Drive for copyTo_path : ./gdrive/My Drive/ThesisStoryGen/Data/coco_train2017_wget_1/coco_test2017_subset_0_5000/\n",
            "\n",
            "\n",
            "At 16:12:55 :: Processed = 0 , Copied = 0 , Problem = 0\n",
            "At 16:12:55 :: Processed = 50 , Copied = 50 , Problem = 0\n",
            "At 16:12:56 :: Processed = 100 , Copied = 100 , Problem = 0\n",
            "At 16:12:56 :: Processed = 150 , Copied = 150 , Problem = 0\n",
            "At 16:12:57 :: Processed = 200 , Copied = 200 , Problem = 0\n",
            "At 16:12:57 :: Processed = 250 , Copied = 250 , Problem = 0\n",
            "At 16:12:58 :: Processed = 300 , Copied = 300 , Problem = 0\n",
            "At 16:12:58 :: Processed = 350 , Copied = 350 , Problem = 0\n",
            "At 16:12:59 :: Processed = 400 , Copied = 400 , Problem = 0\n",
            "At 16:12:59 :: Processed = 450 , Copied = 450 , Problem = 0\n",
            "At 16:13:00 :: Processed = 500 , Copied = 500 , Problem = 0\n",
            "At 16:13:00 :: Processed = 550 , Copied = 550 , Problem = 0\n",
            "At 16:13:01 :: Processed = 600 , Copied = 600 , Problem = 0\n",
            "At 16:13:02 :: Processed = 650 , Copied = 650 , Problem = 0\n",
            "At 16:13:02 :: Processed = 700 , Copied = 700 , Problem = 0\n",
            "At 16:13:03 :: Processed = 750 , Copied = 750 , Problem = 0\n",
            "At 16:13:03 :: Processed = 800 , Copied = 800 , Problem = 0\n",
            "At 16:13:04 :: Processed = 850 , Copied = 850 , Problem = 0\n",
            "At 16:13:04 :: Processed = 900 , Copied = 900 , Problem = 0\n",
            "At 16:13:05 :: Processed = 950 , Copied = 950 , Problem = 0\n",
            "At 16:13:05 :: Processed = 1000 , Copied = 1000 , Problem = 0\n",
            "At 16:13:06 :: Processed = 1050 , Copied = 1050 , Problem = 0\n",
            "At 16:13:06 :: Processed = 1100 , Copied = 1100 , Problem = 0\n",
            "At 16:13:07 :: Processed = 1150 , Copied = 1150 , Problem = 0\n",
            "At 16:13:07 :: Processed = 1200 , Copied = 1200 , Problem = 0\n",
            "At 16:13:08 :: Processed = 1250 , Copied = 1250 , Problem = 0\n",
            "At 16:13:08 :: Processed = 1300 , Copied = 1300 , Problem = 0\n",
            "At 16:13:09 :: Processed = 1350 , Copied = 1350 , Problem = 0\n",
            "At 16:13:10 :: Processed = 1400 , Copied = 1400 , Problem = 0\n",
            "At 16:13:10 :: Processed = 1450 , Copied = 1450 , Problem = 0\n",
            "At 16:13:11 :: Processed = 1500 , Copied = 1500 , Problem = 0\n",
            "At 16:13:11 :: Processed = 1550 , Copied = 1550 , Problem = 0\n",
            "At 16:13:12 :: Processed = 1600 , Copied = 1600 , Problem = 0\n",
            "At 16:13:12 :: Processed = 1650 , Copied = 1650 , Problem = 0\n",
            "At 16:13:13 :: Processed = 1700 , Copied = 1700 , Problem = 0\n",
            "At 16:13:13 :: Processed = 1750 , Copied = 1750 , Problem = 0\n",
            "At 16:13:13 :: Processed = 1800 , Copied = 1800 , Problem = 0\n",
            "At 16:13:14 :: Processed = 1850 , Copied = 1850 , Problem = 0\n",
            "At 16:13:15 :: Processed = 1900 , Copied = 1900 , Problem = 0\n",
            "At 16:13:15 :: Processed = 1950 , Copied = 1950 , Problem = 0\n",
            "At 16:13:16 :: Processed = 2000 , Copied = 2000 , Problem = 0\n",
            "At 16:13:16 :: Processed = 2050 , Copied = 2050 , Problem = 0\n",
            "At 16:13:17 :: Processed = 2100 , Copied = 2100 , Problem = 0\n",
            "At 16:13:17 :: Processed = 2150 , Copied = 2150 , Problem = 0\n",
            "At 16:13:18 :: Processed = 2200 , Copied = 2200 , Problem = 0\n",
            "At 16:13:18 :: Processed = 2250 , Copied = 2250 , Problem = 0\n",
            "At 16:13:23 :: Processed = 2300 , Copied = 2300 , Problem = 0\n",
            "At 16:13:36 :: Processed = 2350 , Copied = 2350 , Problem = 0\n",
            "At 16:13:51 :: Processed = 2400 , Copied = 2400 , Problem = 0\n",
            "At 16:14:06 :: Processed = 2450 , Copied = 2450 , Problem = 0\n",
            "At 16:14:21 :: Processed = 2500 , Copied = 2500 , Problem = 0\n",
            "At 16:14:34 :: Processed = 2550 , Copied = 2550 , Problem = 0\n",
            "At 16:14:46 :: Processed = 2600 , Copied = 2600 , Problem = 0\n",
            "At 16:15:00 :: Processed = 2650 , Copied = 2650 , Problem = 0\n",
            "At 16:15:14 :: Processed = 2700 , Copied = 2700 , Problem = 0\n",
            "At 16:15:27 :: Processed = 2750 , Copied = 2750 , Problem = 0\n",
            "At 16:15:40 :: Processed = 2800 , Copied = 2800 , Problem = 0\n",
            "At 16:15:53 :: Processed = 2850 , Copied = 2850 , Problem = 0\n",
            "At 16:16:07 :: Processed = 2900 , Copied = 2900 , Problem = 0\n",
            "At 16:16:20 :: Processed = 2950 , Copied = 2950 , Problem = 0\n",
            "At 16:16:33 :: Processed = 3000 , Copied = 3000 , Problem = 0\n",
            "At 16:16:45 :: Processed = 3050 , Copied = 3050 , Problem = 0\n",
            "At 16:16:59 :: Processed = 3100 , Copied = 3100 , Problem = 0\n",
            "At 16:17:13 :: Processed = 3150 , Copied = 3150 , Problem = 0\n",
            "At 16:17:27 :: Processed = 3200 , Copied = 3200 , Problem = 0\n",
            "At 16:17:40 :: Processed = 3250 , Copied = 3250 , Problem = 0\n",
            "At 16:17:54 :: Processed = 3300 , Copied = 3300 , Problem = 0\n",
            "At 16:18:33 :: Processed = 3350 , Copied = 3350 , Problem = 0\n",
            "At 16:18:46 :: Processed = 3400 , Copied = 3400 , Problem = 0\n",
            "At 16:19:00 :: Processed = 3450 , Copied = 3450 , Problem = 0\n",
            "At 16:19:14 :: Processed = 3500 , Copied = 3500 , Problem = 0\n",
            "At 16:19:28 :: Processed = 3550 , Copied = 3550 , Problem = 0\n",
            "At 16:19:42 :: Processed = 3600 , Copied = 3600 , Problem = 0\n",
            "At 16:19:56 :: Processed = 3650 , Copied = 3650 , Problem = 0\n",
            "At 16:20:09 :: Processed = 3700 , Copied = 3700 , Problem = 0\n",
            "At 16:20:21 :: Processed = 3750 , Copied = 3750 , Problem = 0\n",
            "At 16:20:35 :: Processed = 3800 , Copied = 3800 , Problem = 0\n",
            "At 16:20:47 :: Processed = 3850 , Copied = 3850 , Problem = 0\n",
            "At 16:21:00 :: Processed = 3900 , Copied = 3900 , Problem = 0\n",
            "At 16:21:13 :: Processed = 3950 , Copied = 3950 , Problem = 0\n",
            "At 16:21:26 :: Processed = 4000 , Copied = 4000 , Problem = 0\n",
            "At 16:21:40 :: Processed = 4050 , Copied = 4050 , Problem = 0\n",
            "At 16:21:54 :: Processed = 4100 , Copied = 4100 , Problem = 0\n",
            "At 16:22:07 :: Processed = 4150 , Copied = 4150 , Problem = 0\n",
            "At 16:22:21 :: Processed = 4200 , Copied = 4200 , Problem = 0\n",
            "At 16:22:35 :: Processed = 4250 , Copied = 4250 , Problem = 0\n",
            "At 16:22:49 :: Processed = 4300 , Copied = 4300 , Problem = 0\n",
            "At 16:23:04 :: Processed = 4350 , Copied = 4350 , Problem = 0\n",
            "At 16:23:18 :: Processed = 4400 , Copied = 4400 , Problem = 0\n",
            "At 16:23:32 :: Processed = 4450 , Copied = 4450 , Problem = 0\n",
            "At 16:23:45 :: Processed = 4500 , Copied = 4500 , Problem = 0\n",
            "At 16:23:59 :: Processed = 4550 , Copied = 4550 , Problem = 0\n",
            "At 16:24:12 :: Processed = 4600 , Copied = 4600 , Problem = 0\n",
            "At 16:24:26 :: Processed = 4650 , Copied = 4650 , Problem = 0\n",
            "At 16:24:41 :: Processed = 4700 , Copied = 4700 , Problem = 0\n",
            "At 16:24:54 :: Processed = 4750 , Copied = 4750 , Problem = 0\n",
            "At 16:25:07 :: Processed = 4800 , Copied = 4800 , Problem = 0\n",
            "At 16:25:22 :: Processed = 4850 , Copied = 4850 , Problem = 0\n",
            "At 16:25:36 :: Processed = 4900 , Copied = 4900 , Problem = 0\n",
            "At 16:25:49 :: Processed = 4950 , Copied = 4950 , Problem = 0\n",
            "\n",
            "\n",
            "Expected count of copied files = 5000\n",
            "Time taken = 788.8924427032471 seconds\n",
            "\n",
            "Processed = 5000 , Copied = 5000 , Problem = 0\n",
            "\n",
            "\n",
            "\n",
            "Success, no problems\n",
            "\n"
          ],
          "name": "stdout"
        }
      ]
    },
    {
      "cell_type": "code",
      "metadata": {
        "id": "oUBsdf3HpLLA",
        "colab_type": "code",
        "colab": {
          "base_uri": "https://localhost:8080/",
          "height": 34
        },
        "outputId": "1bafa1a9-1ce3-47a8-de22-0a6f476ab2bd"
      },
      "source": [
        "len(os.listdir('./gdrive/My Drive/ThesisStoryGen/Data/coco_train2017_wget_1/coco_test2017_subset_0_5000/'))"
      ],
      "execution_count": null,
      "outputs": [
        {
          "output_type": "execute_result",
          "data": {
            "text/plain": [
              "5000"
            ]
          },
          "metadata": {
            "tags": []
          },
          "execution_count": 20
        }
      ]
    },
    {
      "cell_type": "code",
      "metadata": {
        "id": "KfaFEPeW7GcN",
        "colab_type": "code",
        "colab": {}
      },
      "source": [
        ""
      ],
      "execution_count": null,
      "outputs": []
    },
    {
      "cell_type": "markdown",
      "metadata": {
        "id": "fJlfkqdu2IUe",
        "colab_type": "text"
      },
      "source": [
        "### copying   for indexes     start = 5000 , end = 10000"
      ]
    },
    {
      "cell_type": "code",
      "metadata": {
        "id": "AD6_GotapLN6",
        "colab_type": "code",
        "colab": {}
      },
      "source": [
        "sidx, eidx = 5000, 10000"
      ],
      "execution_count": null,
      "outputs": []
    },
    {
      "cell_type": "code",
      "metadata": {
        "id": "7efZPDL2pLQc",
        "colab_type": "code",
        "colab": {
          "base_uri": "https://localhost:8080/",
          "height": 35
        },
        "outputId": "a49a6f0e-aaf9-41fb-9bd3-a57ae7caad30"
      },
      "source": [
        "copyTo_path = TARGETDIR + 'coco_test2017_subset_' + str(sidx) + '_' + str(eidx) + '/'\n",
        "copyTo_path"
      ],
      "execution_count": null,
      "outputs": [
        {
          "output_type": "execute_result",
          "data": {
            "application/vnd.google.colaboratory.intrinsic+json": {
              "type": "string"
            },
            "text/plain": [
              "'./gdrive/My Drive/ThesisStoryGen/Data/coco_train2017_wget_1/coco_test2017_subset_5000_10000/'"
            ]
          },
          "metadata": {
            "tags": []
          },
          "execution_count": 15
        }
      ]
    },
    {
      "cell_type": "code",
      "metadata": {
        "id": "iZACsc3EpLSx",
        "colab_type": "code",
        "colab": {
          "base_uri": "https://localhost:8080/",
          "height": 1000
        },
        "outputId": "9b027c8f-a2cb-47c7-a7af-b63a5ce015b8"
      },
      "source": [
        "if not os.path.isdir(copyTo_path):\n",
        "    os.mkdir(copyTo_path)\n",
        "    print(f\"\\n\\nCreated folder on Google Drive for copyTo_path : {copyTo_path}\\n\\n\")\n",
        "    \n",
        "    problem_files_arr = copy_the_files(sidx, eidx, gdrive_coco_train2017_118287_listdir, copyTo_path)\n",
        "else:\n",
        "    print(f\"\\n\\nFATAL ERROR: copyTo_path already exists : {copyTo_path}\\n\\n\")\n",
        "\n",
        "if len(problem_files_arr) > 0:\n",
        "  print(f\"\\n\\nThere were problems.\\n\")\n",
        "else:\n",
        "  print(f\"\\n\\nSuccess, no problems\\n\")"
      ],
      "execution_count": null,
      "outputs": [
        {
          "output_type": "stream",
          "text": [
            "\n",
            "\n",
            "Created folder on Google Drive for copyTo_path : ./gdrive/My Drive/ThesisStoryGen/Data/coco_train2017_wget_1/coco_test2017_subset_5000_10000/\n",
            "\n",
            "\n",
            "At 16:26:34 :: Processed = 0 , Copied = 0 , Problem = 0\n",
            "At 16:26:48 :: Processed = 50 , Copied = 50 , Problem = 0\n",
            "At 16:27:01 :: Processed = 100 , Copied = 100 , Problem = 0\n",
            "At 16:27:15 :: Processed = 150 , Copied = 150 , Problem = 0\n",
            "At 16:27:29 :: Processed = 200 , Copied = 200 , Problem = 0\n",
            "At 16:27:45 :: Processed = 250 , Copied = 250 , Problem = 0\n",
            "At 16:27:59 :: Processed = 300 , Copied = 300 , Problem = 0\n",
            "At 16:28:14 :: Processed = 350 , Copied = 350 , Problem = 0\n",
            "At 16:28:30 :: Processed = 400 , Copied = 400 , Problem = 0\n",
            "At 16:28:45 :: Processed = 450 , Copied = 450 , Problem = 0\n",
            "At 16:28:59 :: Processed = 500 , Copied = 500 , Problem = 0\n",
            "At 16:29:12 :: Processed = 550 , Copied = 550 , Problem = 0\n",
            "At 16:29:27 :: Processed = 600 , Copied = 600 , Problem = 0\n",
            "At 16:29:41 :: Processed = 650 , Copied = 650 , Problem = 0\n",
            "At 16:29:55 :: Processed = 700 , Copied = 700 , Problem = 0\n",
            "At 16:30:09 :: Processed = 750 , Copied = 750 , Problem = 0\n",
            "At 16:30:23 :: Processed = 800 , Copied = 800 , Problem = 0\n",
            "At 16:30:37 :: Processed = 850 , Copied = 850 , Problem = 0\n",
            "At 16:30:51 :: Processed = 900 , Copied = 900 , Problem = 0\n",
            "At 16:31:07 :: Processed = 950 , Copied = 950 , Problem = 0\n",
            "At 16:31:20 :: Processed = 1000 , Copied = 1000 , Problem = 0\n",
            "At 16:31:34 :: Processed = 1050 , Copied = 1050 , Problem = 0\n",
            "At 16:31:49 :: Processed = 1100 , Copied = 1100 , Problem = 0\n",
            "At 16:32:05 :: Processed = 1150 , Copied = 1150 , Problem = 0\n",
            "At 16:32:19 :: Processed = 1200 , Copied = 1200 , Problem = 0\n",
            "At 16:32:32 :: Processed = 1250 , Copied = 1250 , Problem = 0\n",
            "At 16:32:46 :: Processed = 1300 , Copied = 1300 , Problem = 0\n",
            "At 16:33:00 :: Processed = 1350 , Copied = 1350 , Problem = 0\n",
            "At 16:33:14 :: Processed = 1400 , Copied = 1400 , Problem = 0\n",
            "At 16:33:28 :: Processed = 1450 , Copied = 1450 , Problem = 0\n",
            "At 16:33:43 :: Processed = 1500 , Copied = 1500 , Problem = 0\n",
            "At 16:33:58 :: Processed = 1550 , Copied = 1550 , Problem = 0\n",
            "At 16:34:13 :: Processed = 1600 , Copied = 1600 , Problem = 0\n",
            "At 16:34:27 :: Processed = 1650 , Copied = 1650 , Problem = 0\n",
            "At 16:34:42 :: Processed = 1700 , Copied = 1700 , Problem = 0\n",
            "At 16:34:58 :: Processed = 1750 , Copied = 1750 , Problem = 0\n",
            "At 16:35:15 :: Processed = 1800 , Copied = 1800 , Problem = 0\n",
            "At 16:35:31 :: Processed = 1850 , Copied = 1850 , Problem = 0\n",
            "At 16:35:45 :: Processed = 1900 , Copied = 1900 , Problem = 0\n",
            "At 16:36:01 :: Processed = 1950 , Copied = 1950 , Problem = 0\n",
            "At 16:36:15 :: Processed = 2000 , Copied = 2000 , Problem = 0\n",
            "At 16:36:30 :: Processed = 2050 , Copied = 2050 , Problem = 0\n",
            "At 16:36:45 :: Processed = 2100 , Copied = 2100 , Problem = 0\n",
            "At 16:36:58 :: Processed = 2150 , Copied = 2150 , Problem = 0\n",
            "At 16:37:12 :: Processed = 2200 , Copied = 2200 , Problem = 0\n",
            "At 16:37:25 :: Processed = 2250 , Copied = 2250 , Problem = 0\n",
            "At 16:37:39 :: Processed = 2300 , Copied = 2300 , Problem = 0\n",
            "At 16:37:52 :: Processed = 2350 , Copied = 2350 , Problem = 0\n",
            "At 16:38:06 :: Processed = 2400 , Copied = 2400 , Problem = 0\n",
            "At 16:38:21 :: Processed = 2450 , Copied = 2450 , Problem = 0\n",
            "At 16:38:34 :: Processed = 2500 , Copied = 2500 , Problem = 0\n",
            "At 16:38:48 :: Processed = 2550 , Copied = 2550 , Problem = 0\n",
            "At 16:39:01 :: Processed = 2600 , Copied = 2600 , Problem = 0\n",
            "At 16:39:15 :: Processed = 2650 , Copied = 2650 , Problem = 0\n",
            "At 16:39:30 :: Processed = 2700 , Copied = 2700 , Problem = 0\n",
            "At 16:39:43 :: Processed = 2750 , Copied = 2750 , Problem = 0\n",
            "At 16:39:56 :: Processed = 2800 , Copied = 2800 , Problem = 0\n",
            "At 16:40:12 :: Processed = 2850 , Copied = 2850 , Problem = 0\n",
            "At 16:40:26 :: Processed = 2900 , Copied = 2900 , Problem = 0\n",
            "At 16:40:41 :: Processed = 2950 , Copied = 2950 , Problem = 0\n",
            "At 16:40:54 :: Processed = 3000 , Copied = 3000 , Problem = 0\n",
            "At 16:41:09 :: Processed = 3050 , Copied = 3050 , Problem = 0\n",
            "At 16:41:22 :: Processed = 3100 , Copied = 3100 , Problem = 0\n",
            "At 16:41:37 :: Processed = 3150 , Copied = 3150 , Problem = 0\n",
            "At 16:41:51 :: Processed = 3200 , Copied = 3200 , Problem = 0\n",
            "At 16:42:04 :: Processed = 3250 , Copied = 3250 , Problem = 0\n",
            "At 16:42:17 :: Processed = 3300 , Copied = 3300 , Problem = 0\n",
            "At 16:42:31 :: Processed = 3350 , Copied = 3350 , Problem = 0\n",
            "At 16:42:45 :: Processed = 3400 , Copied = 3400 , Problem = 0\n",
            "At 16:42:59 :: Processed = 3450 , Copied = 3450 , Problem = 0\n",
            "At 16:43:12 :: Processed = 3500 , Copied = 3500 , Problem = 0\n",
            "At 16:43:26 :: Processed = 3550 , Copied = 3550 , Problem = 0\n",
            "At 16:44:11 :: Processed = 3600 , Copied = 3600 , Problem = 0\n",
            "At 16:44:25 :: Processed = 3650 , Copied = 3650 , Problem = 0\n",
            "At 16:44:41 :: Processed = 3700 , Copied = 3700 , Problem = 0\n",
            "At 16:44:56 :: Processed = 3750 , Copied = 3750 , Problem = 0\n",
            "At 16:45:10 :: Processed = 3800 , Copied = 3800 , Problem = 0\n",
            "At 16:45:24 :: Processed = 3850 , Copied = 3850 , Problem = 0\n",
            "At 16:45:37 :: Processed = 3900 , Copied = 3900 , Problem = 0\n",
            "At 16:45:51 :: Processed = 3950 , Copied = 3950 , Problem = 0\n",
            "At 16:46:05 :: Processed = 4000 , Copied = 4000 , Problem = 0\n",
            "At 16:46:18 :: Processed = 4050 , Copied = 4050 , Problem = 0\n",
            "At 16:46:33 :: Processed = 4100 , Copied = 4100 , Problem = 0\n",
            "At 16:46:48 :: Processed = 4150 , Copied = 4150 , Problem = 0\n",
            "At 16:47:01 :: Processed = 4200 , Copied = 4200 , Problem = 0\n",
            "At 16:47:15 :: Processed = 4250 , Copied = 4250 , Problem = 0\n",
            "At 16:47:29 :: Processed = 4300 , Copied = 4300 , Problem = 0\n",
            "At 16:47:42 :: Processed = 4350 , Copied = 4350 , Problem = 0\n",
            "At 16:47:57 :: Processed = 4400 , Copied = 4400 , Problem = 0\n",
            "At 16:48:11 :: Processed = 4450 , Copied = 4450 , Problem = 0\n",
            "At 16:48:24 :: Processed = 4500 , Copied = 4500 , Problem = 0\n",
            "At 16:48:37 :: Processed = 4550 , Copied = 4550 , Problem = 0\n",
            "At 16:48:51 :: Processed = 4600 , Copied = 4600 , Problem = 0\n",
            "At 16:49:05 :: Processed = 4650 , Copied = 4650 , Problem = 0\n",
            "At 16:49:18 :: Processed = 4700 , Copied = 4700 , Problem = 0\n",
            "At 16:49:33 :: Processed = 4750 , Copied = 4750 , Problem = 0\n",
            "At 16:49:46 :: Processed = 4800 , Copied = 4800 , Problem = 0\n",
            "At 16:50:00 :: Processed = 4850 , Copied = 4850 , Problem = 0\n",
            "At 16:50:14 :: Processed = 4900 , Copied = 4900 , Problem = 0\n",
            "At 16:50:28 :: Processed = 4950 , Copied = 4950 , Problem = 0\n",
            "\n",
            "\n",
            "Expected count of copied files = 5000\n",
            "Time taken = 1447.821319103241 seconds\n",
            "\n",
            "Processed = 5000 , Copied = 5000 , Problem = 0\n",
            "\n",
            "\n",
            "\n",
            "Success, no problems\n",
            "\n"
          ],
          "name": "stdout"
        }
      ]
    },
    {
      "cell_type": "code",
      "metadata": {
        "id": "rckDe3A7-bcO",
        "colab_type": "code",
        "colab": {
          "base_uri": "https://localhost:8080/",
          "height": 34
        },
        "outputId": "d51e3553-4a89-40af-b8b1-bfbc48808079"
      },
      "source": [
        "len(os.listdir('./gdrive/My Drive/ThesisStoryGen/Data/coco_train2017_wget_1/coco_test2017_subset_5000_10000/'))"
      ],
      "execution_count": null,
      "outputs": [
        {
          "output_type": "execute_result",
          "data": {
            "text/plain": [
              "5000"
            ]
          },
          "metadata": {
            "tags": []
          },
          "execution_count": 19
        }
      ]
    },
    {
      "cell_type": "code",
      "metadata": {
        "id": "E0oWY7vc7CDB",
        "colab_type": "code",
        "colab": {}
      },
      "source": [
        ""
      ],
      "execution_count": null,
      "outputs": []
    },
    {
      "cell_type": "markdown",
      "metadata": {
        "id": "rnZWa73Z2ahH",
        "colab_type": "text"
      },
      "source": [
        "### copying   for indexes     start = 10000 , end = 15000"
      ]
    },
    {
      "cell_type": "code",
      "metadata": {
        "id": "WLP8r0YzFhFp",
        "colab_type": "code",
        "colab": {}
      },
      "source": [
        "sidx, eidx = 10000, 15000"
      ],
      "execution_count": null,
      "outputs": []
    },
    {
      "cell_type": "code",
      "metadata": {
        "id": "CRmhVx6t2LnK",
        "colab_type": "code",
        "colab": {
          "base_uri": "https://localhost:8080/",
          "height": 35
        },
        "outputId": "ee61793d-9a4d-463a-fe4b-d7d27cfde757"
      },
      "source": [
        "copyTo_path = TARGETDIR + 'coco_test2017_subset_' + str(sidx) + '_' + str(eidx) + '/'\n",
        "copyTo_path"
      ],
      "execution_count": null,
      "outputs": [
        {
          "output_type": "execute_result",
          "data": {
            "application/vnd.google.colaboratory.intrinsic+json": {
              "type": "string"
            },
            "text/plain": [
              "'./gdrive/My Drive/ThesisStoryGen/Data/coco_train2017_wget_1/coco_test2017_subset_10000_15000/'"
            ]
          },
          "metadata": {
            "tags": []
          },
          "execution_count": 22
        }
      ]
    },
    {
      "cell_type": "code",
      "metadata": {
        "id": "WO0_g2Qu2Lp_",
        "colab_type": "code",
        "colab": {
          "base_uri": "https://localhost:8080/",
          "height": 1000
        },
        "outputId": "e7fb082d-b450-4de8-f918-1e22a5ef166d"
      },
      "source": [
        "if not os.path.isdir(copyTo_path):\n",
        "    os.mkdir(copyTo_path)\n",
        "    print(f\"\\n\\nCreated folder on Google Drive for copyTo_path : {copyTo_path}\\n\\n\")\n",
        "    \n",
        "    problem_files_arr = copy_the_files(sidx, eidx, gdrive_coco_train2017_118287_listdir, copyTo_path)\n",
        "else:\n",
        "    print(f\"\\n\\nFATAL ERROR: copyTo_path already exists : {copyTo_path}\\n\\n\")\n",
        "\n",
        "if len(problem_files_arr) > 0:\n",
        "  print(f\"\\n\\nThere were problems.\\n\")\n",
        "else:\n",
        "  print(f\"\\n\\nSuccess, no problems\\n\")"
      ],
      "execution_count": null,
      "outputs": [
        {
          "output_type": "stream",
          "text": [
            "\n",
            "\n",
            "Created folder on Google Drive for copyTo_path : ./gdrive/My Drive/ThesisStoryGen/Data/coco_train2017_wget_1/coco_test2017_subset_10000_15000/\n",
            "\n",
            "\n",
            "At 16:51:33 :: Processed = 0 , Copied = 0 , Problem = 0\n",
            "At 16:51:47 :: Processed = 50 , Copied = 50 , Problem = 0\n",
            "At 16:52:01 :: Processed = 100 , Copied = 100 , Problem = 0\n",
            "At 16:52:14 :: Processed = 150 , Copied = 150 , Problem = 0\n",
            "At 16:52:28 :: Processed = 200 , Copied = 200 , Problem = 0\n",
            "At 16:52:42 :: Processed = 250 , Copied = 250 , Problem = 0\n",
            "At 16:52:55 :: Processed = 300 , Copied = 300 , Problem = 0\n",
            "At 16:53:08 :: Processed = 350 , Copied = 350 , Problem = 0\n",
            "At 16:53:21 :: Processed = 400 , Copied = 400 , Problem = 0\n",
            "At 16:53:34 :: Processed = 450 , Copied = 450 , Problem = 0\n",
            "At 16:53:49 :: Processed = 500 , Copied = 500 , Problem = 0\n",
            "At 16:54:03 :: Processed = 550 , Copied = 550 , Problem = 0\n",
            "At 16:54:17 :: Processed = 600 , Copied = 600 , Problem = 0\n",
            "At 16:54:35 :: Processed = 650 , Copied = 650 , Problem = 0\n",
            "At 16:54:48 :: Processed = 700 , Copied = 700 , Problem = 0\n",
            "At 16:55:02 :: Processed = 750 , Copied = 750 , Problem = 0\n",
            "At 16:55:15 :: Processed = 800 , Copied = 800 , Problem = 0\n",
            "At 16:55:29 :: Processed = 850 , Copied = 850 , Problem = 0\n",
            "At 16:55:43 :: Processed = 900 , Copied = 900 , Problem = 0\n",
            "At 16:55:56 :: Processed = 950 , Copied = 950 , Problem = 0\n",
            "At 16:56:10 :: Processed = 1000 , Copied = 1000 , Problem = 0\n",
            "At 16:56:22 :: Processed = 1050 , Copied = 1050 , Problem = 0\n",
            "At 16:56:35 :: Processed = 1100 , Copied = 1100 , Problem = 0\n",
            "At 16:56:49 :: Processed = 1150 , Copied = 1150 , Problem = 0\n",
            "At 16:57:02 :: Processed = 1200 , Copied = 1200 , Problem = 0\n",
            "At 16:57:15 :: Processed = 1250 , Copied = 1250 , Problem = 0\n",
            "At 16:57:28 :: Processed = 1300 , Copied = 1300 , Problem = 0\n",
            "At 16:57:40 :: Processed = 1350 , Copied = 1350 , Problem = 0\n",
            "At 16:57:54 :: Processed = 1400 , Copied = 1400 , Problem = 0\n",
            "At 16:58:08 :: Processed = 1450 , Copied = 1450 , Problem = 0\n",
            "At 16:58:21 :: Processed = 1500 , Copied = 1500 , Problem = 0\n",
            "At 16:58:36 :: Processed = 1550 , Copied = 1550 , Problem = 0\n",
            "At 16:58:49 :: Processed = 1600 , Copied = 1600 , Problem = 0\n",
            "At 16:59:04 :: Processed = 1650 , Copied = 1650 , Problem = 0\n",
            "At 16:59:18 :: Processed = 1700 , Copied = 1700 , Problem = 0\n",
            "At 16:59:31 :: Processed = 1750 , Copied = 1750 , Problem = 0\n",
            "At 16:59:46 :: Processed = 1800 , Copied = 1800 , Problem = 0\n",
            "At 17:00:00 :: Processed = 1850 , Copied = 1850 , Problem = 0\n",
            "At 17:00:14 :: Processed = 1900 , Copied = 1900 , Problem = 0\n",
            "At 17:00:29 :: Processed = 1950 , Copied = 1950 , Problem = 0\n",
            "At 17:00:42 :: Processed = 2000 , Copied = 2000 , Problem = 0\n",
            "At 17:00:57 :: Processed = 2050 , Copied = 2050 , Problem = 0\n",
            "At 17:01:11 :: Processed = 2100 , Copied = 2100 , Problem = 0\n",
            "At 17:01:24 :: Processed = 2150 , Copied = 2150 , Problem = 0\n",
            "At 17:01:39 :: Processed = 2200 , Copied = 2200 , Problem = 0\n",
            "At 17:01:53 :: Processed = 2250 , Copied = 2250 , Problem = 0\n",
            "At 17:02:07 :: Processed = 2300 , Copied = 2300 , Problem = 0\n",
            "At 17:02:21 :: Processed = 2350 , Copied = 2350 , Problem = 0\n",
            "At 17:02:34 :: Processed = 2400 , Copied = 2400 , Problem = 0\n",
            "At 17:02:48 :: Processed = 2450 , Copied = 2450 , Problem = 0\n",
            "At 17:03:01 :: Processed = 2500 , Copied = 2500 , Problem = 0\n",
            "At 17:03:15 :: Processed = 2550 , Copied = 2550 , Problem = 0\n",
            "At 17:03:28 :: Processed = 2600 , Copied = 2600 , Problem = 0\n",
            "At 17:03:42 :: Processed = 2650 , Copied = 2650 , Problem = 0\n",
            "At 17:03:56 :: Processed = 2700 , Copied = 2700 , Problem = 0\n",
            "At 17:04:09 :: Processed = 2750 , Copied = 2750 , Problem = 0\n",
            "At 17:04:23 :: Processed = 2800 , Copied = 2800 , Problem = 0\n",
            "At 17:04:35 :: Processed = 2850 , Copied = 2850 , Problem = 0\n",
            "At 17:04:49 :: Processed = 2900 , Copied = 2900 , Problem = 0\n",
            "At 17:05:02 :: Processed = 2950 , Copied = 2950 , Problem = 0\n",
            "At 17:05:16 :: Processed = 3000 , Copied = 3000 , Problem = 0\n",
            "At 17:05:30 :: Processed = 3050 , Copied = 3050 , Problem = 0\n",
            "At 17:05:44 :: Processed = 3100 , Copied = 3100 , Problem = 0\n",
            "At 17:05:58 :: Processed = 3150 , Copied = 3150 , Problem = 0\n",
            "At 17:06:12 :: Processed = 3200 , Copied = 3200 , Problem = 0\n",
            "At 17:06:26 :: Processed = 3250 , Copied = 3250 , Problem = 0\n",
            "At 17:06:41 :: Processed = 3300 , Copied = 3300 , Problem = 0\n",
            "At 17:06:55 :: Processed = 3350 , Copied = 3350 , Problem = 0\n",
            "At 17:07:08 :: Processed = 3400 , Copied = 3400 , Problem = 0\n",
            "At 17:07:23 :: Processed = 3450 , Copied = 3450 , Problem = 0\n",
            "At 17:07:36 :: Processed = 3500 , Copied = 3500 , Problem = 0\n",
            "At 17:07:50 :: Processed = 3550 , Copied = 3550 , Problem = 0\n",
            "At 17:08:07 :: Processed = 3600 , Copied = 3600 , Problem = 0\n",
            "At 17:08:21 :: Processed = 3650 , Copied = 3650 , Problem = 0\n",
            "At 17:08:36 :: Processed = 3700 , Copied = 3700 , Problem = 0\n",
            "At 17:08:50 :: Processed = 3750 , Copied = 3750 , Problem = 0\n",
            "At 17:09:03 :: Processed = 3800 , Copied = 3800 , Problem = 0\n",
            "At 17:09:17 :: Processed = 3850 , Copied = 3850 , Problem = 0\n",
            "At 17:09:31 :: Processed = 3900 , Copied = 3900 , Problem = 0\n",
            "At 17:09:44 :: Processed = 3950 , Copied = 3950 , Problem = 0\n",
            "At 17:09:57 :: Processed = 4000 , Copied = 4000 , Problem = 0\n",
            "At 17:10:11 :: Processed = 4050 , Copied = 4050 , Problem = 0\n",
            "At 17:10:25 :: Processed = 4100 , Copied = 4100 , Problem = 0\n",
            "At 17:10:38 :: Processed = 4150 , Copied = 4150 , Problem = 0\n",
            "At 17:10:51 :: Processed = 4200 , Copied = 4200 , Problem = 0\n",
            "At 17:11:05 :: Processed = 4250 , Copied = 4250 , Problem = 0\n",
            "At 17:11:19 :: Processed = 4300 , Copied = 4300 , Problem = 0\n",
            "At 17:11:32 :: Processed = 4350 , Copied = 4350 , Problem = 0\n",
            "At 17:11:46 :: Processed = 4400 , Copied = 4400 , Problem = 0\n",
            "At 17:12:14 :: Processed = 4500 , Copied = 4500 , Problem = 0\n",
            "At 17:12:26 :: Processed = 4550 , Copied = 4550 , Problem = 0\n",
            "At 17:12:40 :: Processed = 4600 , Copied = 4600 , Problem = 0\n",
            "At 17:12:54 :: Processed = 4650 , Copied = 4650 , Problem = 0\n",
            "At 17:13:08 :: Processed = 4700 , Copied = 4700 , Problem = 0\n",
            "At 17:13:21 :: Processed = 4750 , Copied = 4750 , Problem = 0\n",
            "At 17:13:35 :: Processed = 4800 , Copied = 4800 , Problem = 0\n",
            "At 17:13:48 :: Processed = 4850 , Copied = 4850 , Problem = 0\n",
            "At 17:14:02 :: Processed = 4900 , Copied = 4900 , Problem = 0\n",
            "At 17:14:16 :: Processed = 4950 , Copied = 4950 , Problem = 0\n",
            "\n",
            "\n",
            "Expected count of copied files = 5000\n",
            "Time taken = 1376.2255783081055 seconds\n",
            "\n",
            "Processed = 5000 , Copied = 5000 , Problem = 0\n",
            "\n",
            "\n",
            "\n",
            "Success, no problems\n",
            "\n"
          ],
          "name": "stdout"
        }
      ]
    },
    {
      "cell_type": "code",
      "metadata": {
        "id": "0QLWRIdQ-n5i",
        "colab_type": "code",
        "colab": {
          "base_uri": "https://localhost:8080/",
          "height": 34
        },
        "outputId": "10f5916a-4e06-4332-fc4f-2c96a48686b0"
      },
      "source": [
        "len(os.listdir('./gdrive/My Drive/ThesisStoryGen/Data/coco_train2017_wget_1/coco_test2017_subset_10000_15000/'))"
      ],
      "execution_count": null,
      "outputs": [
        {
          "output_type": "execute_result",
          "data": {
            "text/plain": [
              "5000"
            ]
          },
          "metadata": {
            "tags": []
          },
          "execution_count": 24
        }
      ]
    },
    {
      "cell_type": "code",
      "metadata": {
        "id": "eT_mDEzH2Lsh",
        "colab_type": "code",
        "colab": {}
      },
      "source": [
        ""
      ],
      "execution_count": null,
      "outputs": []
    },
    {
      "cell_type": "markdown",
      "metadata": {
        "id": "guX2RAtg2yMP",
        "colab_type": "text"
      },
      "source": [
        "### copying   for indexes     start = 15000 , end = 20000"
      ]
    },
    {
      "cell_type": "code",
      "metadata": {
        "id": "TmastTLK2Lv0",
        "colab_type": "code",
        "colab": {}
      },
      "source": [
        "sidx, eidx = 15000, 20000"
      ],
      "execution_count": null,
      "outputs": []
    },
    {
      "cell_type": "code",
      "metadata": {
        "id": "6u6Sq9LJ2rTa",
        "colab_type": "code",
        "colab": {
          "base_uri": "https://localhost:8080/",
          "height": 35
        },
        "outputId": "94b6ced2-161f-4af8-a9d8-bc72ea70aefe"
      },
      "source": [
        "copyTo_path = TARGETDIR + 'coco_test2017_subset_' + str(sidx) + '_' + str(eidx) + '/'\n",
        "copyTo_path"
      ],
      "execution_count": null,
      "outputs": [
        {
          "output_type": "execute_result",
          "data": {
            "application/vnd.google.colaboratory.intrinsic+json": {
              "type": "string"
            },
            "text/plain": [
              "'./gdrive/My Drive/ThesisStoryGen/Data/coco_train2017_wget_1/coco_test2017_subset_15000_20000/'"
            ]
          },
          "metadata": {
            "tags": []
          },
          "execution_count": 26
        }
      ]
    },
    {
      "cell_type": "code",
      "metadata": {
        "id": "VfRaboHt2rWm",
        "colab_type": "code",
        "colab": {
          "base_uri": "https://localhost:8080/",
          "height": 1000
        },
        "outputId": "91508396-ec7b-4fe9-f12b-7e7168718adf"
      },
      "source": [
        "if not os.path.isdir(copyTo_path):\n",
        "    os.mkdir(copyTo_path)\n",
        "    print(f\"\\n\\nCreated folder on Google Drive for copyTo_path : {copyTo_path}\\n\\n\")\n",
        "    \n",
        "    problem_files_arr = copy_the_files(sidx, eidx, gdrive_coco_train2017_118287_listdir, copyTo_path)\n",
        "else:\n",
        "    print(f\"\\n\\nFATAL ERROR: copyTo_path already exists : {copyTo_path}\\n\\n\")\n",
        "\n",
        "if len(problem_files_arr) > 0:\n",
        "  print(f\"\\n\\nThere were problems.\\n\")\n",
        "else:\n",
        "  print(f\"\\n\\nSuccess, no problems\\n\")"
      ],
      "execution_count": null,
      "outputs": [
        {
          "output_type": "stream",
          "text": [
            "\n",
            "\n",
            "Created folder on Google Drive for copyTo_path : ./gdrive/My Drive/ThesisStoryGen/Data/coco_train2017_wget_1/coco_test2017_subset_15000_20000/\n",
            "\n",
            "\n",
            "At 17:18:41 :: Processed = 0 , Copied = 0 , Problem = 0\n",
            "At 17:18:56 :: Processed = 50 , Copied = 50 , Problem = 0\n",
            "At 17:19:10 :: Processed = 100 , Copied = 100 , Problem = 0\n",
            "At 17:19:24 :: Processed = 150 , Copied = 150 , Problem = 0\n",
            "At 17:19:40 :: Processed = 200 , Copied = 200 , Problem = 0\n",
            "At 17:19:54 :: Processed = 250 , Copied = 250 , Problem = 0\n",
            "At 17:20:08 :: Processed = 300 , Copied = 300 , Problem = 0\n",
            "At 17:20:22 :: Processed = 350 , Copied = 350 , Problem = 0\n",
            "At 17:20:36 :: Processed = 400 , Copied = 400 , Problem = 0\n",
            "At 17:20:49 :: Processed = 450 , Copied = 450 , Problem = 0\n",
            "At 17:21:02 :: Processed = 500 , Copied = 500 , Problem = 0\n",
            "At 17:21:17 :: Processed = 550 , Copied = 550 , Problem = 0\n",
            "At 17:21:29 :: Processed = 600 , Copied = 600 , Problem = 0\n",
            "At 17:21:42 :: Processed = 650 , Copied = 650 , Problem = 0\n",
            "At 17:21:55 :: Processed = 700 , Copied = 700 , Problem = 0\n",
            "At 17:22:09 :: Processed = 750 , Copied = 750 , Problem = 0\n",
            "At 17:22:23 :: Processed = 800 , Copied = 800 , Problem = 0\n",
            "At 17:22:37 :: Processed = 850 , Copied = 850 , Problem = 0\n",
            "At 17:22:50 :: Processed = 900 , Copied = 900 , Problem = 0\n",
            "At 17:23:04 :: Processed = 950 , Copied = 950 , Problem = 0\n",
            "At 17:23:18 :: Processed = 1000 , Copied = 1000 , Problem = 0\n",
            "At 17:23:32 :: Processed = 1050 , Copied = 1050 , Problem = 0\n",
            "At 17:23:45 :: Processed = 1100 , Copied = 1100 , Problem = 0\n",
            "At 17:23:58 :: Processed = 1150 , Copied = 1150 , Problem = 0\n",
            "At 17:24:14 :: Processed = 1200 , Copied = 1200 , Problem = 0\n",
            "At 17:24:29 :: Processed = 1250 , Copied = 1250 , Problem = 0\n",
            "At 17:24:43 :: Processed = 1300 , Copied = 1300 , Problem = 0\n",
            "At 17:24:56 :: Processed = 1350 , Copied = 1350 , Problem = 0\n",
            "At 17:25:11 :: Processed = 1400 , Copied = 1400 , Problem = 0\n",
            "At 17:25:24 :: Processed = 1450 , Copied = 1450 , Problem = 0\n",
            "At 17:25:39 :: Processed = 1500 , Copied = 1500 , Problem = 0\n",
            "At 17:25:53 :: Processed = 1550 , Copied = 1550 , Problem = 0\n",
            "At 17:26:07 :: Processed = 1600 , Copied = 1600 , Problem = 0\n",
            "At 17:26:21 :: Processed = 1650 , Copied = 1650 , Problem = 0\n",
            "At 17:26:34 :: Processed = 1700 , Copied = 1700 , Problem = 0\n",
            "At 17:26:48 :: Processed = 1750 , Copied = 1750 , Problem = 0\n",
            "At 17:27:01 :: Processed = 1800 , Copied = 1800 , Problem = 0\n",
            "At 17:27:14 :: Processed = 1850 , Copied = 1850 , Problem = 0\n",
            "At 17:27:27 :: Processed = 1900 , Copied = 1900 , Problem = 0\n",
            "At 17:27:42 :: Processed = 1950 , Copied = 1950 , Problem = 0\n",
            "At 17:27:55 :: Processed = 2000 , Copied = 2000 , Problem = 0\n",
            "At 17:28:08 :: Processed = 2050 , Copied = 2050 , Problem = 0\n",
            "At 17:28:21 :: Processed = 2100 , Copied = 2100 , Problem = 0\n",
            "At 17:28:36 :: Processed = 2150 , Copied = 2150 , Problem = 0\n",
            "At 17:28:51 :: Processed = 2200 , Copied = 2200 , Problem = 0\n",
            "At 17:29:07 :: Processed = 2250 , Copied = 2250 , Problem = 0\n",
            "At 17:29:20 :: Processed = 2300 , Copied = 2300 , Problem = 0\n",
            "At 17:29:33 :: Processed = 2350 , Copied = 2350 , Problem = 0\n",
            "At 17:29:48 :: Processed = 2400 , Copied = 2400 , Problem = 0\n",
            "At 17:30:01 :: Processed = 2450 , Copied = 2450 , Problem = 0\n",
            "At 17:30:15 :: Processed = 2500 , Copied = 2500 , Problem = 0\n",
            "At 17:30:28 :: Processed = 2550 , Copied = 2550 , Problem = 0\n",
            "At 17:30:42 :: Processed = 2600 , Copied = 2600 , Problem = 0\n",
            "At 17:30:55 :: Processed = 2650 , Copied = 2650 , Problem = 0\n",
            "At 17:31:09 :: Processed = 2700 , Copied = 2700 , Problem = 0\n",
            "At 17:31:23 :: Processed = 2750 , Copied = 2750 , Problem = 0\n",
            "At 17:31:37 :: Processed = 2800 , Copied = 2800 , Problem = 0\n",
            "At 17:31:50 :: Processed = 2850 , Copied = 2850 , Problem = 0\n",
            "At 17:32:03 :: Processed = 2900 , Copied = 2900 , Problem = 0\n",
            "At 17:32:17 :: Processed = 2950 , Copied = 2950 , Problem = 0\n",
            "At 17:32:31 :: Processed = 3000 , Copied = 3000 , Problem = 0\n",
            "At 17:32:44 :: Processed = 3050 , Copied = 3050 , Problem = 0\n",
            "At 17:32:58 :: Processed = 3100 , Copied = 3100 , Problem = 0\n",
            "At 17:33:11 :: Processed = 3150 , Copied = 3150 , Problem = 0\n",
            "At 17:33:25 :: Processed = 3200 , Copied = 3200 , Problem = 0\n",
            "At 17:33:38 :: Processed = 3250 , Copied = 3250 , Problem = 0\n",
            "At 17:33:51 :: Processed = 3300 , Copied = 3300 , Problem = 0\n",
            "At 17:34:05 :: Processed = 3350 , Copied = 3350 , Problem = 0\n",
            "At 17:34:20 :: Processed = 3400 , Copied = 3400 , Problem = 0\n",
            "At 17:34:34 :: Processed = 3450 , Copied = 3450 , Problem = 0\n",
            "At 17:34:47 :: Processed = 3500 , Copied = 3500 , Problem = 0\n",
            "At 17:35:01 :: Processed = 3550 , Copied = 3550 , Problem = 0\n",
            "At 17:35:15 :: Processed = 3600 , Copied = 3600 , Problem = 0\n",
            "At 17:35:29 :: Processed = 3650 , Copied = 3650 , Problem = 0\n",
            "At 17:35:43 :: Processed = 3700 , Copied = 3700 , Problem = 0\n",
            "At 17:35:57 :: Processed = 3750 , Copied = 3750 , Problem = 0\n",
            "At 17:36:10 :: Processed = 3800 , Copied = 3800 , Problem = 0\n",
            "At 17:36:23 :: Processed = 3850 , Copied = 3850 , Problem = 0\n",
            "At 17:36:36 :: Processed = 3900 , Copied = 3900 , Problem = 0\n",
            "At 17:36:49 :: Processed = 3950 , Copied = 3950 , Problem = 0\n",
            "At 17:37:03 :: Processed = 4000 , Copied = 4000 , Problem = 0\n",
            "At 17:37:17 :: Processed = 4050 , Copied = 4050 , Problem = 0\n",
            "At 17:37:30 :: Processed = 4100 , Copied = 4100 , Problem = 0\n",
            "At 17:37:43 :: Processed = 4150 , Copied = 4150 , Problem = 0\n",
            "At 17:37:57 :: Processed = 4200 , Copied = 4200 , Problem = 0\n",
            "At 17:38:11 :: Processed = 4250 , Copied = 4250 , Problem = 0\n",
            "At 17:38:24 :: Processed = 4300 , Copied = 4300 , Problem = 0\n",
            "At 17:38:37 :: Processed = 4350 , Copied = 4350 , Problem = 0\n",
            "At 17:38:50 :: Processed = 4400 , Copied = 4400 , Problem = 0\n",
            "At 17:39:03 :: Processed = 4450 , Copied = 4450 , Problem = 0\n",
            "At 17:39:16 :: Processed = 4500 , Copied = 4500 , Problem = 0\n",
            "At 17:39:30 :: Processed = 4550 , Copied = 4550 , Problem = 0\n",
            "At 17:39:44 :: Processed = 4600 , Copied = 4600 , Problem = 0\n",
            "At 17:39:58 :: Processed = 4650 , Copied = 4650 , Problem = 0\n",
            "At 17:40:12 :: Processed = 4700 , Copied = 4700 , Problem = 0\n",
            "At 17:40:25 :: Processed = 4750 , Copied = 4750 , Problem = 0\n",
            "At 17:40:38 :: Processed = 4800 , Copied = 4800 , Problem = 0\n",
            "At 17:40:52 :: Processed = 4850 , Copied = 4850 , Problem = 0\n",
            "At 17:41:08 :: Processed = 4900 , Copied = 4900 , Problem = 0\n",
            "At 17:41:22 :: Processed = 4950 , Copied = 4950 , Problem = 0\n",
            "\n",
            "\n",
            "Expected count of copied files = 5000\n",
            "Time taken = 1373.8705914020538 seconds\n",
            "\n",
            "Processed = 5000 , Copied = 5000 , Problem = 0\n",
            "\n",
            "\n",
            "\n",
            "Success, no problems\n",
            "\n"
          ],
          "name": "stdout"
        }
      ]
    },
    {
      "cell_type": "code",
      "metadata": {
        "id": "SKBc4pRR2rZZ",
        "colab_type": "code",
        "colab": {
          "base_uri": "https://localhost:8080/",
          "height": 34
        },
        "outputId": "a23c7d07-80ad-49ab-f6b3-8906656baae6"
      },
      "source": [
        "len(os.listdir('./gdrive/My Drive/ThesisStoryGen/Data/coco_train2017_wget_1/coco_test2017_subset_15000_20000/'))"
      ],
      "execution_count": null,
      "outputs": [
        {
          "output_type": "execute_result",
          "data": {
            "text/plain": [
              "5000"
            ]
          },
          "metadata": {
            "tags": []
          },
          "execution_count": 28
        }
      ]
    },
    {
      "cell_type": "code",
      "metadata": {
        "id": "_J-GcaM72Lyq",
        "colab_type": "code",
        "colab": {}
      },
      "source": [
        ""
      ],
      "execution_count": null,
      "outputs": []
    },
    {
      "cell_type": "code",
      "metadata": {
        "id": "XNrDxForZDkl",
        "colab_type": "code",
        "colab": {}
      },
      "source": [
        ""
      ],
      "execution_count": null,
      "outputs": []
    },
    {
      "cell_type": "markdown",
      "metadata": {
        "id": "mNoLdOHAZ2C6",
        "colab_type": "text"
      },
      "source": [
        "### copying   for indexes     start = 20000 , end = 25000 - WIP"
      ]
    },
    {
      "cell_type": "code",
      "metadata": {
        "id": "QrDaAeWUZDnK",
        "colab_type": "code",
        "colab": {}
      },
      "source": [
        "sidx, eidx = 20000, 25000"
      ],
      "execution_count": 9,
      "outputs": []
    },
    {
      "cell_type": "code",
      "metadata": {
        "id": "4u9XtVvPZDpr",
        "colab_type": "code",
        "colab": {
          "base_uri": "https://localhost:8080/",
          "height": 35
        },
        "outputId": "c695c1af-9b0c-416f-9a90-f030287f0ae8"
      },
      "source": [
        "copyTo_path = TARGETDIR + 'coco_test2017_subset_' + str(sidx) + '_' + str(eidx) + '/'\n",
        "copyTo_path"
      ],
      "execution_count": 10,
      "outputs": [
        {
          "output_type": "execute_result",
          "data": {
            "application/vnd.google.colaboratory.intrinsic+json": {
              "type": "string"
            },
            "text/plain": [
              "'./gdrive/My Drive/ThesisStoryGen/Data/coco_train2017_wget_1/coco_test2017_subset_20000_25000/'"
            ]
          },
          "metadata": {
            "tags": []
          },
          "execution_count": 10
        }
      ]
    },
    {
      "cell_type": "code",
      "metadata": {
        "id": "PM9GLYV3aKPO",
        "colab_type": "code",
        "colab": {
          "base_uri": "https://localhost:8080/",
          "height": 123
        },
        "outputId": "ec798ae0-2acb-4bcb-c6bb-eb428254e058"
      },
      "source": [
        "if not os.path.isdir(copyTo_path):\n",
        "    os.mkdir(copyTo_path)\n",
        "    print(f\"\\n\\nCreated folder on Google Drive for copyTo_path : {copyTo_path}\\n\\n\")\n",
        "    \n",
        "    problem_files_arr = copy_the_files(sidx, eidx, gdrive_coco_train2017_118287_listdir, copyTo_path)\n",
        "else:\n",
        "    print(f\"\\n\\nFATAL ERROR: copyTo_path already exists : {copyTo_path}\\n\\n\")\n",
        "\n",
        "if len(problem_files_arr) > 0:\n",
        "  print(f\"\\n\\nThere were problems.\\n\")\n",
        "else:\n",
        "  print(f\"\\n\\nSuccess, no problems\\n\")"
      ],
      "execution_count": null,
      "outputs": [
        {
          "output_type": "stream",
          "text": [
            "\n",
            "\n",
            "Created folder on Google Drive for copyTo_path : ./gdrive/My Drive/ThesisStoryGen/Data/coco_train2017_wget_1/coco_test2017_subset_20000_25000/\n",
            "\n",
            "\n",
            "At 12:53:55 :: Processed = 0 , Copied = 0 , Problem = 0\n"
          ],
          "name": "stdout"
        }
      ]
    },
    {
      "cell_type": "code",
      "metadata": {
        "id": "NsDKemFsaKRx",
        "colab_type": "code",
        "colab": {}
      },
      "source": [
        "len(os.listdir('./gdrive/My Drive/ThesisStoryGen/Data/coco_train2017_wget_1/coco_test2017_subset_20000_25000/'))"
      ],
      "execution_count": null,
      "outputs": []
    },
    {
      "cell_type": "code",
      "metadata": {
        "id": "MhgtYirTaKW2",
        "colab_type": "code",
        "colab": {}
      },
      "source": [
        ""
      ],
      "execution_count": null,
      "outputs": []
    },
    {
      "cell_type": "code",
      "metadata": {
        "id": "eUY0kmFwZDsL",
        "colab_type": "code",
        "colab": {}
      },
      "source": [
        ""
      ],
      "execution_count": null,
      "outputs": []
    },
    {
      "cell_type": "markdown",
      "metadata": {
        "id": "Lgsw4VAfZ5l9",
        "colab_type": "text"
      },
      "source": [
        "### copying   for indexes     start = 25000 , end = 30000 - PENDING"
      ]
    },
    {
      "cell_type": "code",
      "metadata": {
        "id": "7ATzyLu2ZDug",
        "colab_type": "code",
        "colab": {}
      },
      "source": [
        "sidx, eidx = 25000, 30000"
      ],
      "execution_count": null,
      "outputs": []
    },
    {
      "cell_type": "code",
      "metadata": {
        "id": "eXwC9HpcZDxM",
        "colab_type": "code",
        "colab": {}
      },
      "source": [
        "copyTo_path = TARGETDIR + 'coco_test2017_subset_' + str(sidx) + '_' + str(eidx) + '/'\n",
        "copyTo_path"
      ],
      "execution_count": null,
      "outputs": []
    },
    {
      "cell_type": "code",
      "metadata": {
        "id": "VtKOC-hBbjtl",
        "colab_type": "code",
        "colab": {}
      },
      "source": [
        "if not os.path.isdir(copyTo_path):\n",
        "    os.mkdir(copyTo_path)\n",
        "    print(f\"\\n\\nCreated folder on Google Drive for copyTo_path : {copyTo_path}\\n\\n\")\n",
        "    \n",
        "    problem_files_arr = copy_the_files(sidx, eidx, gdrive_coco_train2017_118287_listdir, copyTo_path)\n",
        "else:\n",
        "    print(f\"\\n\\nFATAL ERROR: copyTo_path already exists : {copyTo_path}\\n\\n\")\n",
        "\n",
        "if len(problem_files_arr) > 0:\n",
        "  print(f\"\\n\\nThere were problems.\\n\")\n",
        "else:\n",
        "  print(f\"\\n\\nSuccess, no problems\\n\")"
      ],
      "execution_count": null,
      "outputs": []
    },
    {
      "cell_type": "code",
      "metadata": {
        "id": "6XktcQ-xbjwL",
        "colab_type": "code",
        "colab": {}
      },
      "source": [
        "print(\"Count of file in :: {copyTo_path} = {len(os.listdir(copyTo_path))} \")"
      ],
      "execution_count": null,
      "outputs": []
    },
    {
      "cell_type": "code",
      "metadata": {
        "id": "xrlO6j9ybjyq",
        "colab_type": "code",
        "colab": {}
      },
      "source": [
        ""
      ],
      "execution_count": null,
      "outputs": []
    },
    {
      "cell_type": "code",
      "metadata": {
        "id": "Otnf3mKhZDzv",
        "colab_type": "code",
        "colab": {}
      },
      "source": [
        ""
      ],
      "execution_count": null,
      "outputs": []
    },
    {
      "cell_type": "markdown",
      "metadata": {
        "id": "C1xR5SaPZ977",
        "colab_type": "text"
      },
      "source": [
        "### copying   for indexes     start = 30000 , end = 35000 - PENDING"
      ]
    },
    {
      "cell_type": "code",
      "metadata": {
        "id": "6k61WJ_0bxIy",
        "colab_type": "code",
        "colab": {}
      },
      "source": [
        "sidx, eidx = 30000, 35000"
      ],
      "execution_count": null,
      "outputs": []
    },
    {
      "cell_type": "code",
      "metadata": {
        "id": "xJ8jM4DcbxLL",
        "colab_type": "code",
        "colab": {}
      },
      "source": [
        "copyTo_path = TARGETDIR + 'coco_test2017_subset_' + str(sidx) + '_' + str(eidx) + '/'\n",
        "copyTo_path"
      ],
      "execution_count": null,
      "outputs": []
    },
    {
      "cell_type": "code",
      "metadata": {
        "id": "13H0S880bxNz",
        "colab_type": "code",
        "colab": {}
      },
      "source": [
        "if not os.path.isdir(copyTo_path):\n",
        "    os.mkdir(copyTo_path)\n",
        "    print(f\"\\n\\nCreated folder on Google Drive for copyTo_path : {copyTo_path}\\n\\n\")\n",
        "    \n",
        "    problem_files_arr = copy_the_files(sidx, eidx, gdrive_coco_train2017_118287_listdir, copyTo_path)\n",
        "else:\n",
        "    print(f\"\\n\\nFATAL ERROR: copyTo_path already exists : {copyTo_path}\\n\\n\")\n",
        "\n",
        "if len(problem_files_arr) > 0:\n",
        "  print(f\"\\n\\nThere were problems.\\n\")\n",
        "else:\n",
        "  print(f\"\\n\\nSuccess, no problems\\n\")"
      ],
      "execution_count": null,
      "outputs": []
    },
    {
      "cell_type": "code",
      "metadata": {
        "id": "zM0UY0g9Z85p",
        "colab_type": "code",
        "colab": {}
      },
      "source": [
        "print(\"Count of file in :: {copyTo_path} = {len(os.listdir(copyTo_path))} \")"
      ],
      "execution_count": null,
      "outputs": []
    },
    {
      "cell_type": "code",
      "metadata": {
        "id": "43FFGdocZ88G",
        "colab_type": "code",
        "colab": {}
      },
      "source": [
        ""
      ],
      "execution_count": null,
      "outputs": []
    },
    {
      "cell_type": "markdown",
      "metadata": {
        "id": "SuTqcxC6aB1q",
        "colab_type": "text"
      },
      "source": [
        "### copying   for indexes     start = 35000 , end = 40000 - PENDING"
      ]
    },
    {
      "cell_type": "code",
      "metadata": {
        "id": "IdJ0_JpbaA8y",
        "colab_type": "code",
        "colab": {}
      },
      "source": [
        "sidx, eidx = 35000, 40000"
      ],
      "execution_count": null,
      "outputs": []
    },
    {
      "cell_type": "code",
      "metadata": {
        "id": "FQLbQyiEcsi9",
        "colab_type": "code",
        "colab": {}
      },
      "source": [
        "copyTo_path = TARGETDIR + 'coco_test2017_subset_' + str(sidx) + '_' + str(eidx) + '/'\n",
        "copyTo_path"
      ],
      "execution_count": null,
      "outputs": []
    },
    {
      "cell_type": "code",
      "metadata": {
        "id": "poaKRlwzcsl3",
        "colab_type": "code",
        "colab": {}
      },
      "source": [
        "if not os.path.isdir(copyTo_path):\n",
        "    os.mkdir(copyTo_path)\n",
        "    print(f\"\\n\\nCreated folder on Google Drive for copyTo_path : {copyTo_path}\\n\\n\")\n",
        "    \n",
        "    problem_files_arr = copy_the_files(sidx, eidx, gdrive_coco_train2017_118287_listdir, copyTo_path)\n",
        "else:\n",
        "    print(f\"\\n\\nFATAL ERROR: copyTo_path already exists : {copyTo_path}\\n\\n\")\n",
        "\n",
        "if len(problem_files_arr) > 0:\n",
        "  print(f\"\\n\\nThere were problems.\\n\")\n",
        "else:\n",
        "  print(f\"\\n\\nSuccess, no problems\\n\")"
      ],
      "execution_count": null,
      "outputs": []
    },
    {
      "cell_type": "code",
      "metadata": {
        "id": "Xszx4XzScsoQ",
        "colab_type": "code",
        "colab": {}
      },
      "source": [
        "print(\"Count of file in :: {copyTo_path} = {len(os.listdir(copyTo_path))} \")"
      ],
      "execution_count": null,
      "outputs": []
    },
    {
      "cell_type": "code",
      "metadata": {
        "id": "OI9W8zvkaBET",
        "colab_type": "code",
        "colab": {}
      },
      "source": [
        ""
      ],
      "execution_count": null,
      "outputs": []
    },
    {
      "cell_type": "markdown",
      "metadata": {
        "id": "fbDtSY2LcKcK",
        "colab_type": "text"
      },
      "source": [
        "### copying   for indexes     start = 40000 , end = 45000 - PENDING"
      ]
    },
    {
      "cell_type": "code",
      "metadata": {
        "id": "xRena7UiaBGz",
        "colab_type": "code",
        "colab": {}
      },
      "source": [
        "sidx, eidx = 40000, 45000"
      ],
      "execution_count": null,
      "outputs": []
    },
    {
      "cell_type": "code",
      "metadata": {
        "id": "AZCYPBAbcr9V",
        "colab_type": "code",
        "colab": {}
      },
      "source": [
        "copyTo_path = TARGETDIR + 'coco_test2017_subset_' + str(sidx) + '_' + str(eidx) + '/'\n",
        "copyTo_path"
      ],
      "execution_count": null,
      "outputs": []
    },
    {
      "cell_type": "code",
      "metadata": {
        "id": "MuIcd_FgcsAL",
        "colab_type": "code",
        "colab": {}
      },
      "source": [
        "if not os.path.isdir(copyTo_path):\n",
        "    os.mkdir(copyTo_path)\n",
        "    print(f\"\\n\\nCreated folder on Google Drive for copyTo_path : {copyTo_path}\\n\\n\")\n",
        "    \n",
        "    problem_files_arr = copy_the_files(sidx, eidx, gdrive_coco_train2017_118287_listdir, copyTo_path)\n",
        "else:\n",
        "    print(f\"\\n\\nFATAL ERROR: copyTo_path already exists : {copyTo_path}\\n\\n\")\n",
        "\n",
        "if len(problem_files_arr) > 0:\n",
        "  print(f\"\\n\\nThere were problems.\\n\")\n",
        "else:\n",
        "  print(f\"\\n\\nSuccess, no problems\\n\")"
      ],
      "execution_count": null,
      "outputs": []
    },
    {
      "cell_type": "code",
      "metadata": {
        "id": "e16IOKTRcsCv",
        "colab_type": "code",
        "colab": {}
      },
      "source": [
        "print(\"Count of file in :: {copyTo_path} = {len(os.listdir(copyTo_path))} \")"
      ],
      "execution_count": null,
      "outputs": []
    },
    {
      "cell_type": "code",
      "metadata": {
        "id": "9hxdvqumaBJK",
        "colab_type": "code",
        "colab": {}
      },
      "source": [
        ""
      ],
      "execution_count": null,
      "outputs": []
    },
    {
      "cell_type": "markdown",
      "metadata": {
        "id": "_LUocqDrcOCd",
        "colab_type": "text"
      },
      "source": [
        "### copying   for indexes     start = 45000 , end = 50000 - PENDING"
      ]
    },
    {
      "cell_type": "code",
      "metadata": {
        "id": "hRoOZTU9aBOh",
        "colab_type": "code",
        "colab": {}
      },
      "source": [
        "sidx, eidx = 45000, 50000"
      ],
      "execution_count": null,
      "outputs": []
    },
    {
      "cell_type": "code",
      "metadata": {
        "id": "88NAWQk8crWN",
        "colab_type": "code",
        "colab": {}
      },
      "source": [
        "copyTo_path = TARGETDIR + 'coco_test2017_subset_' + str(sidx) + '_' + str(eidx) + '/'\n",
        "copyTo_path"
      ],
      "execution_count": null,
      "outputs": []
    },
    {
      "cell_type": "code",
      "metadata": {
        "id": "H5kYF_sfcrYz",
        "colab_type": "code",
        "colab": {}
      },
      "source": [
        "if not os.path.isdir(copyTo_path):\n",
        "    os.mkdir(copyTo_path)\n",
        "    print(f\"\\n\\nCreated folder on Google Drive for copyTo_path : {copyTo_path}\\n\\n\")\n",
        "    \n",
        "    problem_files_arr = copy_the_files(sidx, eidx, gdrive_coco_train2017_118287_listdir, copyTo_path)\n",
        "else:\n",
        "    print(f\"\\n\\nFATAL ERROR: copyTo_path already exists : {copyTo_path}\\n\\n\")\n",
        "\n",
        "if len(problem_files_arr) > 0:\n",
        "  print(f\"\\n\\nThere were problems.\\n\")\n",
        "else:\n",
        "  print(f\"\\n\\nSuccess, no problems\\n\")"
      ],
      "execution_count": null,
      "outputs": []
    },
    {
      "cell_type": "code",
      "metadata": {
        "id": "f4_Ktv97crbU",
        "colab_type": "code",
        "colab": {}
      },
      "source": [
        "print(\"Count of file in :: {copyTo_path} = {len(os.listdir(copyTo_path))} \")"
      ],
      "execution_count": null,
      "outputs": []
    },
    {
      "cell_type": "code",
      "metadata": {
        "id": "g5tlHKmXaBUF",
        "colab_type": "code",
        "colab": {}
      },
      "source": [
        ""
      ],
      "execution_count": null,
      "outputs": []
    },
    {
      "cell_type": "markdown",
      "metadata": {
        "id": "reprl8YHcR7J",
        "colab_type": "text"
      },
      "source": [
        "### copying   for indexes     start = 50000 , end = 55000 - PENDING"
      ]
    },
    {
      "cell_type": "code",
      "metadata": {
        "id": "mFAl55AqZ8-y",
        "colab_type": "code",
        "colab": {}
      },
      "source": [
        "sidx, eidx = 50000, 55000"
      ],
      "execution_count": null,
      "outputs": []
    },
    {
      "cell_type": "code",
      "metadata": {
        "id": "CL8Q7iJlcq9s",
        "colab_type": "code",
        "colab": {}
      },
      "source": [
        "copyTo_path = TARGETDIR + 'coco_test2017_subset_' + str(sidx) + '_' + str(eidx) + '/'\n",
        "copyTo_path"
      ],
      "execution_count": null,
      "outputs": []
    },
    {
      "cell_type": "code",
      "metadata": {
        "id": "qj0my0djcrAa",
        "colab_type": "code",
        "colab": {}
      },
      "source": [
        "if not os.path.isdir(copyTo_path):\n",
        "    os.mkdir(copyTo_path)\n",
        "    print(f\"\\n\\nCreated folder on Google Drive for copyTo_path : {copyTo_path}\\n\\n\")\n",
        "    \n",
        "    problem_files_arr = copy_the_files(sidx, eidx, gdrive_coco_train2017_118287_listdir, copyTo_path)\n",
        "else:\n",
        "    print(f\"\\n\\nFATAL ERROR: copyTo_path already exists : {copyTo_path}\\n\\n\")\n",
        "\n",
        "if len(problem_files_arr) > 0:\n",
        "  print(f\"\\n\\nThere were problems.\\n\")\n",
        "else:\n",
        "  print(f\"\\n\\nSuccess, no problems\\n\")"
      ],
      "execution_count": null,
      "outputs": []
    },
    {
      "cell_type": "code",
      "metadata": {
        "id": "zp4H66UOcrC5",
        "colab_type": "code",
        "colab": {}
      },
      "source": [
        "print(\"Count of file in :: {copyTo_path} = {len(os.listdir(copyTo_path))} \")"
      ],
      "execution_count": null,
      "outputs": []
    },
    {
      "cell_type": "code",
      "metadata": {
        "id": "KtR6MpxbcVMD",
        "colab_type": "code",
        "colab": {}
      },
      "source": [
        ""
      ],
      "execution_count": null,
      "outputs": []
    },
    {
      "cell_type": "markdown",
      "metadata": {
        "id": "Z0WludGRcWlV",
        "colab_type": "text"
      },
      "source": [
        "### copying   for indexes     start = 55000 , end = 60000 - PENDING"
      ]
    },
    {
      "cell_type": "code",
      "metadata": {
        "id": "nNfKyGZScVPA",
        "colab_type": "code",
        "colab": {}
      },
      "source": [
        "sidx, eidx = 55000, 60000"
      ],
      "execution_count": null,
      "outputs": []
    },
    {
      "cell_type": "code",
      "metadata": {
        "id": "m_7ts6-IcqIA",
        "colab_type": "code",
        "colab": {}
      },
      "source": [
        "copyTo_path = TARGETDIR + 'coco_test2017_subset_' + str(sidx) + '_' + str(eidx) + '/'\n",
        "copyTo_path"
      ],
      "execution_count": null,
      "outputs": []
    },
    {
      "cell_type": "code",
      "metadata": {
        "id": "LYhn42TYcqKf",
        "colab_type": "code",
        "colab": {}
      },
      "source": [
        "if not os.path.isdir(copyTo_path):\n",
        "    os.mkdir(copyTo_path)\n",
        "    print(f\"\\n\\nCreated folder on Google Drive for copyTo_path : {copyTo_path}\\n\\n\")\n",
        "    \n",
        "    problem_files_arr = copy_the_files(sidx, eidx, gdrive_coco_train2017_118287_listdir, copyTo_path)\n",
        "else:\n",
        "    print(f\"\\n\\nFATAL ERROR: copyTo_path already exists : {copyTo_path}\\n\\n\")\n",
        "\n",
        "if len(problem_files_arr) > 0:\n",
        "  print(f\"\\n\\nThere were problems.\\n\")\n",
        "else:\n",
        "  print(f\"\\n\\nSuccess, no problems\\n\")"
      ],
      "execution_count": null,
      "outputs": []
    },
    {
      "cell_type": "code",
      "metadata": {
        "id": "ex5D2-bpcVRM",
        "colab_type": "code",
        "colab": {}
      },
      "source": [
        "print(\"Count of file in :: {copyTo_path} = {len(os.listdir(copyTo_path))} \")"
      ],
      "execution_count": null,
      "outputs": []
    },
    {
      "cell_type": "code",
      "metadata": {
        "id": "3mYOQURNcVV4",
        "colab_type": "code",
        "colab": {}
      },
      "source": [
        ""
      ],
      "execution_count": null,
      "outputs": []
    },
    {
      "cell_type": "markdown",
      "metadata": {
        "id": "lo24aYk8caOK",
        "colab_type": "text"
      },
      "source": [
        "### copying   for indexes     start = 60000 , end = 65000 - PENDING"
      ]
    },
    {
      "cell_type": "code",
      "metadata": {
        "id": "hVWOJsRXcVYT",
        "colab_type": "code",
        "colab": {}
      },
      "source": [
        "sidx, eidx = 60000, 65000"
      ],
      "execution_count": null,
      "outputs": []
    },
    {
      "cell_type": "code",
      "metadata": {
        "id": "ZyTbXZlBcplN",
        "colab_type": "code",
        "colab": {}
      },
      "source": [
        "copyTo_path = TARGETDIR + 'coco_test2017_subset_' + str(sidx) + '_' + str(eidx) + '/'\n",
        "copyTo_path"
      ],
      "execution_count": null,
      "outputs": []
    },
    {
      "cell_type": "code",
      "metadata": {
        "id": "xN2TkEdQcpn_",
        "colab_type": "code",
        "colab": {}
      },
      "source": [
        "if not os.path.isdir(copyTo_path):\n",
        "    os.mkdir(copyTo_path)\n",
        "    print(f\"\\n\\nCreated folder on Google Drive for copyTo_path : {copyTo_path}\\n\\n\")\n",
        "    \n",
        "    problem_files_arr = copy_the_files(sidx, eidx, gdrive_coco_train2017_118287_listdir, copyTo_path)\n",
        "else:\n",
        "    print(f\"\\n\\nFATAL ERROR: copyTo_path already exists : {copyTo_path}\\n\\n\")\n",
        "\n",
        "if len(problem_files_arr) > 0:\n",
        "  print(f\"\\n\\nThere were problems.\\n\")\n",
        "else:\n",
        "  print(f\"\\n\\nSuccess, no problems\\n\")"
      ],
      "execution_count": null,
      "outputs": []
    },
    {
      "cell_type": "code",
      "metadata": {
        "id": "np_bjTrmcpqh",
        "colab_type": "code",
        "colab": {}
      },
      "source": [
        "print(\"Count of file in :: {copyTo_path} = {len(os.listdir(copyTo_path))} \")"
      ],
      "execution_count": null,
      "outputs": []
    },
    {
      "cell_type": "code",
      "metadata": {
        "id": "lp35sEKWcVdS",
        "colab_type": "code",
        "colab": {}
      },
      "source": [
        ""
      ],
      "execution_count": null,
      "outputs": []
    },
    {
      "cell_type": "markdown",
      "metadata": {
        "id": "3eVf8vJrcepJ",
        "colab_type": "text"
      },
      "source": [
        "### copying   for indexes     start = 65000 , end = 70000 - PENDING"
      ]
    },
    {
      "cell_type": "code",
      "metadata": {
        "id": "YOvtPua3cdUu",
        "colab_type": "code",
        "colab": {}
      },
      "source": [
        "sidx, eidx = 65000, 70000"
      ],
      "execution_count": null,
      "outputs": []
    },
    {
      "cell_type": "code",
      "metadata": {
        "id": "nzCrnyDfcdXq",
        "colab_type": "code",
        "colab": {}
      },
      "source": [
        "copyTo_path = TARGETDIR + 'coco_test2017_subset_' + str(sidx) + '_' + str(eidx) + '/'\n",
        "copyTo_path"
      ],
      "execution_count": null,
      "outputs": []
    },
    {
      "cell_type": "code",
      "metadata": {
        "id": "87L7wQdecdah",
        "colab_type": "code",
        "colab": {}
      },
      "source": [
        "if not os.path.isdir(copyTo_path):\n",
        "    os.mkdir(copyTo_path)\n",
        "    print(f\"\\n\\nCreated folder on Google Drive for copyTo_path : {copyTo_path}\\n\\n\")\n",
        "    \n",
        "    problem_files_arr = copy_the_files(sidx, eidx, gdrive_coco_train2017_118287_listdir, copyTo_path)\n",
        "else:\n",
        "    print(f\"\\n\\nFATAL ERROR: copyTo_path already exists : {copyTo_path}\\n\\n\")\n",
        "\n",
        "if len(problem_files_arr) > 0:\n",
        "  print(f\"\\n\\nThere were problems.\\n\")\n",
        "else:\n",
        "  print(f\"\\n\\nSuccess, no problems\\n\")"
      ],
      "execution_count": null,
      "outputs": []
    },
    {
      "cell_type": "code",
      "metadata": {
        "id": "o2B2QO9Vcn_y",
        "colab_type": "code",
        "colab": {}
      },
      "source": [
        "print(\"Count of file in :: {copyTo_path} = {len(os.listdir(copyTo_path))} \")"
      ],
      "execution_count": null,
      "outputs": []
    },
    {
      "cell_type": "code",
      "metadata": {
        "id": "iD_PaI65coF3",
        "colab_type": "code",
        "colab": {}
      },
      "source": [
        ""
      ],
      "execution_count": null,
      "outputs": []
    },
    {
      "cell_type": "markdown",
      "metadata": {
        "id": "gTLznzbUcjNS",
        "colab_type": "text"
      },
      "source": [
        "### copying   for indexes     start = 70000 , end = 75000 - PENDING"
      ]
    },
    {
      "cell_type": "code",
      "metadata": {
        "id": "VmxEhYA2cdcs",
        "colab_type": "code",
        "colab": {}
      },
      "source": [
        "sidx, eidx = 70000, 75000"
      ],
      "execution_count": null,
      "outputs": []
    },
    {
      "cell_type": "code",
      "metadata": {
        "id": "4UfpzYhUcde8",
        "colab_type": "code",
        "colab": {}
      },
      "source": [
        "copyTo_path = TARGETDIR + 'coco_test2017_subset_' + str(sidx) + '_' + str(eidx) + '/'\n",
        "copyTo_path"
      ],
      "execution_count": null,
      "outputs": []
    },
    {
      "cell_type": "code",
      "metadata": {
        "id": "wT1Qlp8gcoyV",
        "colab_type": "code",
        "colab": {}
      },
      "source": [
        "if not os.path.isdir(copyTo_path):\n",
        "    os.mkdir(copyTo_path)\n",
        "    print(f\"\\n\\nCreated folder on Google Drive for copyTo_path : {copyTo_path}\\n\\n\")\n",
        "    \n",
        "    problem_files_arr = copy_the_files(sidx, eidx, gdrive_coco_train2017_118287_listdir, copyTo_path)\n",
        "else:\n",
        "    print(f\"\\n\\nFATAL ERROR: copyTo_path already exists : {copyTo_path}\\n\\n\")\n",
        "\n",
        "if len(problem_files_arr) > 0:\n",
        "  print(f\"\\n\\nThere were problems.\\n\")\n",
        "else:\n",
        "  print(f\"\\n\\nSuccess, no problems\\n\")"
      ],
      "execution_count": null,
      "outputs": []
    },
    {
      "cell_type": "code",
      "metadata": {
        "id": "odX1Zctgco1M",
        "colab_type": "code",
        "colab": {}
      },
      "source": [
        "print(\"Count of file in :: {copyTo_path} = {len(os.listdir(copyTo_path))} \")"
      ],
      "execution_count": null,
      "outputs": []
    },
    {
      "cell_type": "code",
      "metadata": {
        "id": "p0-qNbsmco4Y",
        "colab_type": "code",
        "colab": {}
      },
      "source": [
        ""
      ],
      "execution_count": null,
      "outputs": []
    },
    {
      "cell_type": "markdown",
      "metadata": {
        "id": "4gVwIe1_IvDd",
        "colab_type": "text"
      },
      "source": [
        "## NEXT SECTION - PENDING"
      ]
    },
    {
      "cell_type": "code",
      "metadata": {
        "id": "V2-Eq09sIqPH",
        "colab_type": "code",
        "colab": {}
      },
      "source": [
        ""
      ],
      "execution_count": null,
      "outputs": []
    },
    {
      "cell_type": "code",
      "metadata": {
        "id": "hWFW9ZU2IqRx",
        "colab_type": "code",
        "colab": {}
      },
      "source": [
        ""
      ],
      "execution_count": null,
      "outputs": []
    },
    {
      "cell_type": "code",
      "metadata": {
        "id": "0D3b7izSIqUb",
        "colab_type": "code",
        "colab": {}
      },
      "source": [
        ""
      ],
      "execution_count": null,
      "outputs": []
    }
  ]
}