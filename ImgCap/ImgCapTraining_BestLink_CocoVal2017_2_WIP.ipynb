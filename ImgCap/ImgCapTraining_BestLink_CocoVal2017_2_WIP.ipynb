{
  "nbformat": 4,
  "nbformat_minor": 0,
  "metadata": {
    "colab": {
      "name": "ImgCapTraining_BestLink_CocoVal2017_2-WIP.ipynb",
      "provenance": [],
      "collapsed_sections": [
        "u8A7KwS9fh_r",
        "GLyM0ATtoPMG",
        "f43gtVGG9I5o",
        "NWNaS_12FJts",
        "PMN9aeYBFaJa",
        "pOVUkimpI819",
        "gKlYqOYqMrNs",
        "6sPQDj7MeQbJ"
      ]
    },
    "kernelspec": {
      "name": "python3",
      "display_name": "Python 3"
    }
  },
  "cells": [
    {
      "cell_type": "code",
      "metadata": {
        "id": "SjgpHvAmEQeh",
        "colab_type": "code",
        "colab": {}
      },
      "source": [
        ""
      ],
      "execution_count": null,
      "outputs": []
    },
    {
      "cell_type": "markdown",
      "metadata": {
        "id": "u8A7KwS9fh_r",
        "colab_type": "text"
      },
      "source": [
        "## ASIDE SECTION 1 - processing to verify all the train2017 files are uploaded\n",
        "### should be 118287 images\n",
        "\n",
        "### have already uploaded the files from laptop to gdrive using my own script"
      ]
    },
    {
      "cell_type": "code",
      "metadata": {
        "id": "T6VPd3bNFg4u",
        "colab_type": "code",
        "colab": {
          "base_uri": "https://localhost:8080/",
          "height": 34
        },
        "outputId": "44dfbc8b-586c-4f1c-f74f-4b3ded4b7691"
      },
      "source": [
        "from google.colab import drive\n",
        "drive.flush_and_unmount()\n",
        "drive.mount('/content/gdrive')"
      ],
      "execution_count": null,
      "outputs": [
        {
          "output_type": "stream",
          "text": [
            "Mounted at /content/gdrive\n"
          ],
          "name": "stdout"
        }
      ]
    },
    {
      "cell_type": "code",
      "metadata": {
        "id": "Tfwg4kR2Fg7Y",
        "colab_type": "code",
        "colab": {
          "base_uri": "https://localhost:8080/",
          "height": 34
        },
        "outputId": "9f6c4803-3cfb-4a77-9da1-26ea55e5ca26"
      },
      "source": [
        "!ls"
      ],
      "execution_count": null,
      "outputs": [
        {
          "output_type": "stream",
          "text": [
            "gdrive\tsample_data\n"
          ],
          "name": "stdout"
        }
      ]
    },
    {
      "cell_type": "code",
      "metadata": {
        "id": "lnPWXv2xFg-L",
        "colab_type": "code",
        "colab": {
          "base_uri": "https://localhost:8080/",
          "height": 34
        },
        "outputId": "824dac86-685a-433b-e494-46f0821cba42"
      },
      "source": [
        "!ls './gdrive/My Drive/ThesisStoryGen/Data/coco_train2017_wget_1/'"
      ],
      "execution_count": null,
      "outputs": [
        {
          "output_type": "stream",
          "text": [
            "COCO_train2017_118k  Rishabh_DO_NOT_TOUCH_PLS_1  train2017.zip\n"
          ],
          "name": "stdout"
        }
      ]
    },
    {
      "cell_type": "code",
      "metadata": {
        "id": "R0maHW2PFhAi",
        "colab_type": "code",
        "colab": {
          "base_uri": "https://localhost:8080/",
          "height": 52
        },
        "outputId": "60b906df-e314-4c67-9f32-aec042895ffe"
      },
      "source": [
        "!ls './gdrive/My Drive/ThesisStoryGen/Data/coco_train2017_wget_1/Rishabh_DO_NOT_TOUCH_PLS_1' | wc -l"
      ],
      "execution_count": null,
      "outputs": [
        {
          "output_type": "stream",
          "text": [
            "ls: cannot open directory './gdrive/My Drive/ThesisStoryGen/Data/coco_train2017_wget_1/Rishabh_DO_NOT_TOUCH_PLS_1': Input/output error\n",
            "0\n"
          ],
          "name": "stdout"
        }
      ]
    },
    {
      "cell_type": "code",
      "metadata": {
        "id": "4spKdzgmFhDL",
        "colab_type": "code",
        "colab": {}
      },
      "source": [
        "import os\n",
        "import pickle\n",
        "import sys"
      ],
      "execution_count": null,
      "outputs": []
    },
    {
      "cell_type": "code",
      "metadata": {
        "id": "DzXBulYZ9pNM",
        "colab_type": "code",
        "colab": {}
      },
      "source": [
        "IMGSDIR_COCO_TRAIN2017 = r'./gdrive/My Drive/ThesisStoryGen/Data/coco_train2017_wget_1/Rishabh_DO_NOT_TOUCH_PLS_1'\n",
        "WORKDIR_COCO_TRAIN2017 = '/content/gdrive/My Drive/ThesisStoryGen/Data/ImgCapTraining/CocoTrain2017_1/'"
      ],
      "execution_count": null,
      "outputs": []
    },
    {
      "cell_type": "code",
      "metadata": {
        "id": "m_GsXBPw9kZO",
        "colab_type": "code",
        "colab": {}
      },
      "source": [
        "gdrive_coco_train2017_118287_listdir = os.listdir(IMGSDIR_COCO_TRAIN2017)"
      ],
      "execution_count": null,
      "outputs": []
    },
    {
      "cell_type": "code",
      "metadata": {
        "id": "29fQ_x8j9kb7",
        "colab_type": "code",
        "colab": {
          "base_uri": "https://localhost:8080/",
          "height": 34
        },
        "outputId": "c74699df-851f-4da2-83b8-84a5119340c3"
      },
      "source": [
        "len(gdrive_coco_train2017_118287_listdir)"
      ],
      "execution_count": null,
      "outputs": [
        {
          "output_type": "execute_result",
          "data": {
            "text/plain": [
              "118287"
            ]
          },
          "metadata": {
            "tags": []
          },
          "execution_count": 30
        }
      ]
    },
    {
      "cell_type": "code",
      "metadata": {
        "id": "yyr28myY9ke_",
        "colab_type": "code",
        "colab": {
          "base_uri": "https://localhost:8080/",
          "height": 34
        },
        "outputId": "4c8703e0-ddf1-4b35-b310-97ebeb2acdb0"
      },
      "source": [
        "## pickle the data\n",
        "with open(WORKDIR_COCO_TRAIN2017+'gdrive_coco_train2017_118287_listdir.pkl', 'wb') as handle:\n",
        "  pickle.dump(gdrive_coco_train2017_118287_listdir, handle, protocol=pickle.HIGHEST_PROTOCOL)\n",
        "print(f\"Pickling done\")"
      ],
      "execution_count": null,
      "outputs": [
        {
          "output_type": "stream",
          "text": [
            "Pickling done\n"
          ],
          "name": "stdout"
        }
      ]
    },
    {
      "cell_type": "code",
      "metadata": {
        "id": "h4b8BYED_eVo",
        "colab_type": "code",
        "colab": {
          "base_uri": "https://localhost:8080/",
          "height": 34
        },
        "outputId": "955968c5-f007-4d43-f9ca-2e4fa31ce2c0"
      },
      "source": [
        "print(f\"Size of pickled data = {sys.getsizeof(gdrive_coco_train2017_118287_listdir)} bytes\")"
      ],
      "execution_count": null,
      "outputs": [
        {
          "output_type": "stream",
          "text": [
            "Size of pickled data = 1043560 bytes\n"
          ],
          "name": "stdout"
        }
      ]
    },
    {
      "cell_type": "code",
      "metadata": {
        "id": "bq_EW4SbkTTQ",
        "colab_type": "code",
        "colab": {}
      },
      "source": [
        "del gdrive_coco_train2017_118287_listdir"
      ],
      "execution_count": null,
      "outputs": []
    },
    {
      "cell_type": "code",
      "metadata": {
        "id": "RLfAQeaT_j1Q",
        "colab_type": "code",
        "colab": {
          "base_uri": "https://localhost:8080/",
          "height": 34
        },
        "outputId": "862eb8c2-8413-45fc-f920-6391d8ca06cf"
      },
      "source": [
        "## reload from picked file - output of listdir on google drive location\n",
        "if True:\n",
        "  with open(WORKDIR_COCO_TRAIN2017+'gdrive_coco_train2017_118287_listdir.pkl', 'rb') as handle:\n",
        "    gdrive_coco_train2017_118287_listdir = pickle.load(handle)\n",
        "\n",
        "len(gdrive_coco_train2017_118287_listdir)"
      ],
      "execution_count": null,
      "outputs": [
        {
          "output_type": "execute_result",
          "data": {
            "text/plain": [
              "118287"
            ]
          },
          "metadata": {
            "tags": []
          },
          "execution_count": 34
        }
      ]
    },
    {
      "cell_type": "code",
      "metadata": {
        "id": "Cgh8tGGIkUE5",
        "colab_type": "code",
        "colab": {
          "base_uri": "https://localhost:8080/",
          "height": 34
        },
        "outputId": "0c7bfb64-3a96-4b84-ebad-b79394774ad9"
      },
      "source": [
        "## reload from picked file - output of listdir on laptop folder\n",
        "if True:\n",
        "  with open(WORKDIR_COCO_TRAIN2017+'laptop_coco_train2017_listdir.pkl', 'rb') as handle:\n",
        "    laptop_coco_train2017_listdir = pickle.load(handle)\n",
        "\n",
        "len(laptop_coco_train2017_listdir)"
      ],
      "execution_count": null,
      "outputs": [
        {
          "output_type": "execute_result",
          "data": {
            "text/plain": [
              "118287"
            ]
          },
          "metadata": {
            "tags": []
          },
          "execution_count": 35
        }
      ]
    },
    {
      "cell_type": "code",
      "metadata": {
        "id": "NXObnjh2kVn2",
        "colab_type": "code",
        "colab": {}
      },
      "source": [
        ""
      ],
      "execution_count": null,
      "outputs": []
    },
    {
      "cell_type": "code",
      "metadata": {
        "id": "pldRsZ25ew6F",
        "colab_type": "code",
        "colab": {}
      },
      "source": [
        "upload_pending = list( set(gdrive_coco_train2017_118287_listdir) - set(laptop_coco_train2017_listdir) )"
      ],
      "execution_count": null,
      "outputs": []
    },
    {
      "cell_type": "code",
      "metadata": {
        "id": "SIPZkChVBi_9",
        "colab_type": "code",
        "colab": {
          "base_uri": "https://localhost:8080/",
          "height": 34
        },
        "outputId": "5c814a58-bd85-4a73-818e-e098701232c9"
      },
      "source": [
        "len(upload_pending)  ## if 0, then the images in the folders on the gdrive and laptop match"
      ],
      "execution_count": null,
      "outputs": [
        {
          "output_type": "execute_result",
          "data": {
            "text/plain": [
              "0"
            ]
          },
          "metadata": {
            "tags": []
          },
          "execution_count": 37
        }
      ]
    },
    {
      "cell_type": "code",
      "metadata": {
        "id": "jvRARJEKmU1Y",
        "colab_type": "code",
        "colab": {}
      },
      "source": [
        "## double check that all values in the listdir of gdrive are unique"
      ],
      "execution_count": null,
      "outputs": []
    },
    {
      "cell_type": "code",
      "metadata": {
        "id": "xC-6Kl6JBjCU",
        "colab_type": "code",
        "colab": {}
      },
      "source": [
        "import pandas as pd"
      ],
      "execution_count": null,
      "outputs": []
    },
    {
      "cell_type": "code",
      "metadata": {
        "id": "Rjr6-gjQftj5",
        "colab_type": "code",
        "colab": {
          "base_uri": "https://localhost:8080/",
          "height": 197
        },
        "outputId": "6195b3bd-b1f3-4e2b-df9e-0d8d1e7dff63"
      },
      "source": [
        "dfup = pd.DataFrame(gdrive_coco_train2017_118287_listdir, columns=['fname'])\n",
        "dfup.head()"
      ],
      "execution_count": null,
      "outputs": [
        {
          "output_type": "execute_result",
          "data": {
            "text/html": [
              "<div>\n",
              "<style scoped>\n",
              "    .dataframe tbody tr th:only-of-type {\n",
              "        vertical-align: middle;\n",
              "    }\n",
              "\n",
              "    .dataframe tbody tr th {\n",
              "        vertical-align: top;\n",
              "    }\n",
              "\n",
              "    .dataframe thead th {\n",
              "        text-align: right;\n",
              "    }\n",
              "</style>\n",
              "<table border=\"1\" class=\"dataframe\">\n",
              "  <thead>\n",
              "    <tr style=\"text-align: right;\">\n",
              "      <th></th>\n",
              "      <th>fname</th>\n",
              "    </tr>\n",
              "  </thead>\n",
              "  <tbody>\n",
              "    <tr>\n",
              "      <th>0</th>\n",
              "      <td>000000407952.jpg</td>\n",
              "    </tr>\n",
              "    <tr>\n",
              "      <th>1</th>\n",
              "      <td>000000031471.jpg</td>\n",
              "    </tr>\n",
              "    <tr>\n",
              "      <th>2</th>\n",
              "      <td>000000208524.jpg</td>\n",
              "    </tr>\n",
              "    <tr>\n",
              "      <th>3</th>\n",
              "      <td>000000480872.jpg</td>\n",
              "    </tr>\n",
              "    <tr>\n",
              "      <th>4</th>\n",
              "      <td>000000257301.jpg</td>\n",
              "    </tr>\n",
              "  </tbody>\n",
              "</table>\n",
              "</div>"
            ],
            "text/plain": [
              "              fname\n",
              "0  000000407952.jpg\n",
              "1  000000031471.jpg\n",
              "2  000000208524.jpg\n",
              "3  000000480872.jpg\n",
              "4  000000257301.jpg"
            ]
          },
          "metadata": {
            "tags": []
          },
          "execution_count": 39
        }
      ]
    },
    {
      "cell_type": "code",
      "metadata": {
        "id": "I0xxkyLQftmm",
        "colab_type": "code",
        "colab": {
          "base_uri": "https://localhost:8080/",
          "height": 34
        },
        "outputId": "3fb73d15-b525-4e02-ae6b-1f0383e35514"
      },
      "source": [
        "dfup['fname'].nunique()  ## should be 118287"
      ],
      "execution_count": null,
      "outputs": [
        {
          "output_type": "execute_result",
          "data": {
            "text/plain": [
              "118287"
            ]
          },
          "metadata": {
            "tags": []
          },
          "execution_count": 40
        }
      ]
    },
    {
      "cell_type": "code",
      "metadata": {
        "id": "OfckvUaRfto8",
        "colab_type": "code",
        "colab": {
          "base_uri": "https://localhost:8080/",
          "height": 34
        },
        "outputId": "141623d8-7c61-4256-c19c-4d5f9afa03cf"
      },
      "source": [
        "len(dfup)   ## also should be 118287"
      ],
      "execution_count": null,
      "outputs": [
        {
          "output_type": "execute_result",
          "data": {
            "text/plain": [
              "118287"
            ]
          },
          "metadata": {
            "tags": []
          },
          "execution_count": 41
        }
      ]
    },
    {
      "cell_type": "code",
      "metadata": {
        "id": "JCuKI_qgftrZ",
        "colab_type": "code",
        "colab": {}
      },
      "source": [
        ""
      ],
      "execution_count": null,
      "outputs": []
    },
    {
      "cell_type": "code",
      "metadata": {
        "id": "i4jxe65oo9l6",
        "colab_type": "code",
        "colab": {}
      },
      "source": [
        ""
      ],
      "execution_count": null,
      "outputs": []
    },
    {
      "cell_type": "markdown",
      "metadata": {
        "id": "GLyM0ATtoPMG",
        "colab_type": "text"
      },
      "source": [
        "## ASIDE SECTION 2 - BREAK COCO TRAIN2017 118k FILES INTO SMALLER PARTS IN FOLDERS\n",
        "### total images in COCO_TRAIN2017 = 118287 jpgs\n",
        "\n",
        "### using the start and end indexes, using the os.listdir output on the folder\n",
        "###     create a new folder and copy that set of images os.listdir(xxx)[sidx:eidx]"
      ]
    },
    {
      "cell_type": "code",
      "metadata": {
        "id": "--_FxWB-_j-T",
        "colab_type": "code",
        "colab": {}
      },
      "source": [
        "import pickle\n",
        "import os\n",
        "import sys\n",
        "import shutil\n",
        "import datetime\n",
        "import time"
      ],
      "execution_count": null,
      "outputs": []
    },
    {
      "cell_type": "code",
      "metadata": {
        "id": "DWkN6taao_eh",
        "colab_type": "code",
        "colab": {
          "base_uri": "https://localhost:8080/",
          "height": 34
        },
        "outputId": "02c8b41a-9d27-46f7-e233-805affc3dc67"
      },
      "source": [
        "from google.colab import drive\n",
        "drive.flush_and_unmount()\n",
        "drive.mount('/content/gdrive')"
      ],
      "execution_count": null,
      "outputs": [
        {
          "output_type": "stream",
          "text": [
            "Mounted at /content/gdrive\n"
          ],
          "name": "stdout"
        }
      ]
    },
    {
      "cell_type": "code",
      "metadata": {
        "id": "lpLmj7Ato-ap",
        "colab_type": "code",
        "colab": {}
      },
      "source": [
        "COCO_TRAIN2017_IMGSDIR = r'./gdrive/My Drive/ThesisStoryGen/Data/coco_train2017_wget_1/Rishabh_DO_NOT_TOUCH_PLS_1/'\n",
        "WORKDIR_COCO_TRAIN2017 = r'./gdrive/My Drive/ThesisStoryGen/Data/ImgCapTraining/CocoTrain2017_1/'\n",
        "TARGETDIR = r'./gdrive/My Drive/ThesisStoryGen/Data/coco_train2017_wget_1/' ## the dedicated folder for subset of images will be made here"
      ],
      "execution_count": null,
      "outputs": []
    },
    {
      "cell_type": "code",
      "metadata": {
        "id": "3EZyFu08ovER",
        "colab_type": "code",
        "colab": {
          "base_uri": "https://localhost:8080/",
          "height": 34
        },
        "outputId": "a9a4f7cd-d160-470b-f41e-af2f605781f4"
      },
      "source": [
        "## reload from picked file - output of listdir on google drive location = r'./gdrive/My Drive/ThesisStoryGen/Data/coco_train2017_wget_1/Rishabh_DO_NOT_TOUCH_PLS_1/'\n",
        "if True:\n",
        "  with open(WORKDIR_COCO_TRAIN2017+'gdrive_coco_train2017_118287_listdir.pkl', 'rb') as handle:\n",
        "    gdrive_coco_train2017_118287_listdir = pickle.load(handle)\n",
        "\n",
        "len(gdrive_coco_train2017_118287_listdir)"
      ],
      "execution_count": null,
      "outputs": [
        {
          "output_type": "execute_result",
          "data": {
            "text/plain": [
              "118287"
            ]
          },
          "metadata": {
            "tags": []
          },
          "execution_count": 6
        }
      ]
    },
    {
      "cell_type": "code",
      "metadata": {
        "id": "Og9Cf8nsujxn",
        "colab_type": "code",
        "colab": {
          "base_uri": "https://localhost:8080/",
          "height": 34
        },
        "outputId": "73176ea5-c029-46a7-e5a8-be34dd867d98"
      },
      "source": [
        "gdrive_coco_train2017_118287_listdir[:3]"
      ],
      "execution_count": null,
      "outputs": [
        {
          "output_type": "execute_result",
          "data": {
            "text/plain": [
              "['000000407952.jpg', '000000031471.jpg', '000000208524.jpg']"
            ]
          },
          "metadata": {
            "tags": []
          },
          "execution_count": 7
        }
      ]
    },
    {
      "cell_type": "code",
      "metadata": {
        "id": "6O5Bu0RLtzDx",
        "colab_type": "code",
        "colab": {
          "base_uri": "https://localhost:8080/",
          "height": 70
        },
        "outputId": "d390b48b-ecbc-41a9-a724-d92c3104db35"
      },
      "source": [
        "## add the full path to the file names\n",
        "gdrive_coco_train2017_118287_listdir = [COCO_TRAIN2017_IMGSDIR + f for f in gdrive_coco_train2017_118287_listdir]\n",
        "gdrive_coco_train2017_118287_listdir[:3]"
      ],
      "execution_count": null,
      "outputs": [
        {
          "output_type": "execute_result",
          "data": {
            "text/plain": [
              "['./gdrive/My Drive/ThesisStoryGen/Data/coco_train2017_wget_1/Rishabh_DO_NOT_TOUCH_PLS_1/000000407952.jpg',\n",
              " './gdrive/My Drive/ThesisStoryGen/Data/coco_train2017_wget_1/Rishabh_DO_NOT_TOUCH_PLS_1/000000031471.jpg',\n",
              " './gdrive/My Drive/ThesisStoryGen/Data/coco_train2017_wget_1/Rishabh_DO_NOT_TOUCH_PLS_1/000000208524.jpg']"
            ]
          },
          "metadata": {
            "tags": []
          },
          "execution_count": 8
        }
      ]
    },
    {
      "cell_type": "code",
      "metadata": {
        "id": "p76QjcagovJh",
        "colab_type": "code",
        "colab": {}
      },
      "source": [
        "## slicing will be done on the gdrive_coco_train2017_118287_listdir array\n",
        "## i.e. gdrive_coco_train2017_118287_listdir[ sidx : eidx ]"
      ],
      "execution_count": null,
      "outputs": []
    },
    {
      "cell_type": "code",
      "metadata": {
        "id": "zeE0IP_Xv0x_",
        "colab_type": "code",
        "colab": {}
      },
      "source": [
        "def copy_the_files(_sidx, _eidx, _files_arr, _copyTo_path, _print_freq = 50):\n",
        "    start_tick = time.time()\n",
        "    cnt_processed , cnt_copied , cnt_problem = 0, 0, 0\n",
        "    problem_files = []\n",
        "    for file_to_be_copied in _files_arr[_sidx : _eidx]:\n",
        "      if cnt_processed % _print_freq == 0:\n",
        "        print(f\"At {datetime.datetime.now().strftime('%H:%M:%S')} :: Processed = {cnt_processed} , Copied = {cnt_copied} , Problem = {cnt_problem}\")\n",
        "      cnt_processed += 1\n",
        "      try:\n",
        "        shutil.copy(file_to_be_copied, _copyTo_path)\n",
        "        cnt_copied += 1\n",
        "      except Exception as e:\n",
        "        cnt_problem += 1\n",
        "        problem_files.append(file_to_be_copied)\n",
        "        #print(f\"Error: {e}\")\n",
        "    \n",
        "    print(f\"\\n\\nExpected count of copied files = {_eidx - _sidx}\\nTime taken = { time.time() - start_tick } seconds\")\n",
        "    print(f\"\\nProcessed = {cnt_processed} , Copied = {cnt_copied} , Problem = {cnt_problem}\\n\")\n",
        "    \n",
        "    return problem_files"
      ],
      "execution_count": null,
      "outputs": []
    },
    {
      "cell_type": "markdown",
      "metadata": {
        "id": "zp8_F7MQsEef",
        "colab_type": "text"
      },
      "source": [
        "### copying   for indexes     start = 0 , end = 5000"
      ]
    },
    {
      "cell_type": "code",
      "metadata": {
        "id": "fQvEkXTzpoAD",
        "colab_type": "code",
        "colab": {}
      },
      "source": [
        "sidx, eidx = 0, 5000"
      ],
      "execution_count": null,
      "outputs": []
    },
    {
      "cell_type": "code",
      "metadata": {
        "id": "wwVb3MGUpLIq",
        "colab_type": "code",
        "colab": {
          "base_uri": "https://localhost:8080/",
          "height": 35
        },
        "outputId": "534868ab-2de5-4cb4-8274-0c9e470e9337"
      },
      "source": [
        "copyTo_path = TARGETDIR + 'coco_test2017_subset_' + str(sidx) + '_' + str(eidx) + '/'\n",
        "copyTo_path"
      ],
      "execution_count": null,
      "outputs": [
        {
          "output_type": "execute_result",
          "data": {
            "application/vnd.google.colaboratory.intrinsic+json": {
              "type": "string"
            },
            "text/plain": [
              "'./gdrive/My Drive/ThesisStoryGen/Data/coco_train2017_wget_1/coco_test2017_subset_0_5000/'"
            ]
          },
          "metadata": {
            "tags": []
          },
          "execution_count": 12
        }
      ]
    },
    {
      "cell_type": "code",
      "metadata": {
        "id": "xPdcXv6WqKEE",
        "colab_type": "code",
        "colab": {
          "base_uri": "https://localhost:8080/",
          "height": 1000
        },
        "outputId": "6c123582-ded8-4c2c-ac85-ec2b550ccbc6"
      },
      "source": [
        "if not os.path.isdir(copyTo_path):\n",
        "    os.mkdir(copyTo_path)\n",
        "    print(f\"\\n\\nCreated folder on Google Drive for copyTo_path : {copyTo_path}\\n\\n\")\n",
        "    \n",
        "    problem_files_arr = copy_the_files(sidx, eidx, gdrive_coco_train2017_118287_listdir, copyTo_path)\n",
        "else:\n",
        "    print(f\"\\n\\nFATAL ERROR: copyTo_path already exists : {copyTo_path}\\n\\n\")\n",
        "\n",
        "if len(problem_files_arr) > 0:\n",
        "  print(f\"\\n\\nThere were problems.\\n\")\n",
        "else:\n",
        "  print(f\"\\n\\nSuccess, no problems\\n\")"
      ],
      "execution_count": null,
      "outputs": [
        {
          "output_type": "stream",
          "text": [
            "\n",
            "\n",
            "Created folder on Google Drive for copyTo_path : ./gdrive/My Drive/ThesisStoryGen/Data/coco_train2017_wget_1/coco_test2017_subset_0_5000/\n",
            "\n",
            "\n",
            "At 16:12:55 :: Processed = 0 , Copied = 0 , Problem = 0\n",
            "At 16:12:55 :: Processed = 50 , Copied = 50 , Problem = 0\n",
            "At 16:12:56 :: Processed = 100 , Copied = 100 , Problem = 0\n",
            "At 16:12:56 :: Processed = 150 , Copied = 150 , Problem = 0\n",
            "At 16:12:57 :: Processed = 200 , Copied = 200 , Problem = 0\n",
            "At 16:12:57 :: Processed = 250 , Copied = 250 , Problem = 0\n",
            "At 16:12:58 :: Processed = 300 , Copied = 300 , Problem = 0\n",
            "At 16:12:58 :: Processed = 350 , Copied = 350 , Problem = 0\n",
            "At 16:12:59 :: Processed = 400 , Copied = 400 , Problem = 0\n",
            "At 16:12:59 :: Processed = 450 , Copied = 450 , Problem = 0\n",
            "At 16:13:00 :: Processed = 500 , Copied = 500 , Problem = 0\n",
            "At 16:13:00 :: Processed = 550 , Copied = 550 , Problem = 0\n",
            "At 16:13:01 :: Processed = 600 , Copied = 600 , Problem = 0\n",
            "At 16:13:02 :: Processed = 650 , Copied = 650 , Problem = 0\n",
            "At 16:13:02 :: Processed = 700 , Copied = 700 , Problem = 0\n",
            "At 16:13:03 :: Processed = 750 , Copied = 750 , Problem = 0\n",
            "At 16:13:03 :: Processed = 800 , Copied = 800 , Problem = 0\n",
            "At 16:13:04 :: Processed = 850 , Copied = 850 , Problem = 0\n",
            "At 16:13:04 :: Processed = 900 , Copied = 900 , Problem = 0\n",
            "At 16:13:05 :: Processed = 950 , Copied = 950 , Problem = 0\n",
            "At 16:13:05 :: Processed = 1000 , Copied = 1000 , Problem = 0\n",
            "At 16:13:06 :: Processed = 1050 , Copied = 1050 , Problem = 0\n",
            "At 16:13:06 :: Processed = 1100 , Copied = 1100 , Problem = 0\n",
            "At 16:13:07 :: Processed = 1150 , Copied = 1150 , Problem = 0\n",
            "At 16:13:07 :: Processed = 1200 , Copied = 1200 , Problem = 0\n",
            "At 16:13:08 :: Processed = 1250 , Copied = 1250 , Problem = 0\n",
            "At 16:13:08 :: Processed = 1300 , Copied = 1300 , Problem = 0\n",
            "At 16:13:09 :: Processed = 1350 , Copied = 1350 , Problem = 0\n",
            "At 16:13:10 :: Processed = 1400 , Copied = 1400 , Problem = 0\n",
            "At 16:13:10 :: Processed = 1450 , Copied = 1450 , Problem = 0\n",
            "At 16:13:11 :: Processed = 1500 , Copied = 1500 , Problem = 0\n",
            "At 16:13:11 :: Processed = 1550 , Copied = 1550 , Problem = 0\n",
            "At 16:13:12 :: Processed = 1600 , Copied = 1600 , Problem = 0\n",
            "At 16:13:12 :: Processed = 1650 , Copied = 1650 , Problem = 0\n",
            "At 16:13:13 :: Processed = 1700 , Copied = 1700 , Problem = 0\n",
            "At 16:13:13 :: Processed = 1750 , Copied = 1750 , Problem = 0\n",
            "At 16:13:13 :: Processed = 1800 , Copied = 1800 , Problem = 0\n",
            "At 16:13:14 :: Processed = 1850 , Copied = 1850 , Problem = 0\n",
            "At 16:13:15 :: Processed = 1900 , Copied = 1900 , Problem = 0\n",
            "At 16:13:15 :: Processed = 1950 , Copied = 1950 , Problem = 0\n",
            "At 16:13:16 :: Processed = 2000 , Copied = 2000 , Problem = 0\n",
            "At 16:13:16 :: Processed = 2050 , Copied = 2050 , Problem = 0\n",
            "At 16:13:17 :: Processed = 2100 , Copied = 2100 , Problem = 0\n",
            "At 16:13:17 :: Processed = 2150 , Copied = 2150 , Problem = 0\n",
            "At 16:13:18 :: Processed = 2200 , Copied = 2200 , Problem = 0\n",
            "At 16:13:18 :: Processed = 2250 , Copied = 2250 , Problem = 0\n",
            "At 16:13:23 :: Processed = 2300 , Copied = 2300 , Problem = 0\n",
            "At 16:13:36 :: Processed = 2350 , Copied = 2350 , Problem = 0\n",
            "At 16:13:51 :: Processed = 2400 , Copied = 2400 , Problem = 0\n",
            "At 16:14:06 :: Processed = 2450 , Copied = 2450 , Problem = 0\n",
            "At 16:14:21 :: Processed = 2500 , Copied = 2500 , Problem = 0\n",
            "At 16:14:34 :: Processed = 2550 , Copied = 2550 , Problem = 0\n",
            "At 16:14:46 :: Processed = 2600 , Copied = 2600 , Problem = 0\n",
            "At 16:15:00 :: Processed = 2650 , Copied = 2650 , Problem = 0\n",
            "At 16:15:14 :: Processed = 2700 , Copied = 2700 , Problem = 0\n",
            "At 16:15:27 :: Processed = 2750 , Copied = 2750 , Problem = 0\n",
            "At 16:15:40 :: Processed = 2800 , Copied = 2800 , Problem = 0\n",
            "At 16:15:53 :: Processed = 2850 , Copied = 2850 , Problem = 0\n",
            "At 16:16:07 :: Processed = 2900 , Copied = 2900 , Problem = 0\n",
            "At 16:16:20 :: Processed = 2950 , Copied = 2950 , Problem = 0\n",
            "At 16:16:33 :: Processed = 3000 , Copied = 3000 , Problem = 0\n",
            "At 16:16:45 :: Processed = 3050 , Copied = 3050 , Problem = 0\n",
            "At 16:16:59 :: Processed = 3100 , Copied = 3100 , Problem = 0\n",
            "At 16:17:13 :: Processed = 3150 , Copied = 3150 , Problem = 0\n",
            "At 16:17:27 :: Processed = 3200 , Copied = 3200 , Problem = 0\n",
            "At 16:17:40 :: Processed = 3250 , Copied = 3250 , Problem = 0\n",
            "At 16:17:54 :: Processed = 3300 , Copied = 3300 , Problem = 0\n",
            "At 16:18:33 :: Processed = 3350 , Copied = 3350 , Problem = 0\n",
            "At 16:18:46 :: Processed = 3400 , Copied = 3400 , Problem = 0\n",
            "At 16:19:00 :: Processed = 3450 , Copied = 3450 , Problem = 0\n",
            "At 16:19:14 :: Processed = 3500 , Copied = 3500 , Problem = 0\n",
            "At 16:19:28 :: Processed = 3550 , Copied = 3550 , Problem = 0\n",
            "At 16:19:42 :: Processed = 3600 , Copied = 3600 , Problem = 0\n",
            "At 16:19:56 :: Processed = 3650 , Copied = 3650 , Problem = 0\n",
            "At 16:20:09 :: Processed = 3700 , Copied = 3700 , Problem = 0\n",
            "At 16:20:21 :: Processed = 3750 , Copied = 3750 , Problem = 0\n",
            "At 16:20:35 :: Processed = 3800 , Copied = 3800 , Problem = 0\n",
            "At 16:20:47 :: Processed = 3850 , Copied = 3850 , Problem = 0\n",
            "At 16:21:00 :: Processed = 3900 , Copied = 3900 , Problem = 0\n",
            "At 16:21:13 :: Processed = 3950 , Copied = 3950 , Problem = 0\n",
            "At 16:21:26 :: Processed = 4000 , Copied = 4000 , Problem = 0\n",
            "At 16:21:40 :: Processed = 4050 , Copied = 4050 , Problem = 0\n",
            "At 16:21:54 :: Processed = 4100 , Copied = 4100 , Problem = 0\n",
            "At 16:22:07 :: Processed = 4150 , Copied = 4150 , Problem = 0\n",
            "At 16:22:21 :: Processed = 4200 , Copied = 4200 , Problem = 0\n",
            "At 16:22:35 :: Processed = 4250 , Copied = 4250 , Problem = 0\n",
            "At 16:22:49 :: Processed = 4300 , Copied = 4300 , Problem = 0\n",
            "At 16:23:04 :: Processed = 4350 , Copied = 4350 , Problem = 0\n",
            "At 16:23:18 :: Processed = 4400 , Copied = 4400 , Problem = 0\n",
            "At 16:23:32 :: Processed = 4450 , Copied = 4450 , Problem = 0\n",
            "At 16:23:45 :: Processed = 4500 , Copied = 4500 , Problem = 0\n",
            "At 16:23:59 :: Processed = 4550 , Copied = 4550 , Problem = 0\n",
            "At 16:24:12 :: Processed = 4600 , Copied = 4600 , Problem = 0\n",
            "At 16:24:26 :: Processed = 4650 , Copied = 4650 , Problem = 0\n",
            "At 16:24:41 :: Processed = 4700 , Copied = 4700 , Problem = 0\n",
            "At 16:24:54 :: Processed = 4750 , Copied = 4750 , Problem = 0\n",
            "At 16:25:07 :: Processed = 4800 , Copied = 4800 , Problem = 0\n",
            "At 16:25:22 :: Processed = 4850 , Copied = 4850 , Problem = 0\n",
            "At 16:25:36 :: Processed = 4900 , Copied = 4900 , Problem = 0\n",
            "At 16:25:49 :: Processed = 4950 , Copied = 4950 , Problem = 0\n",
            "\n",
            "\n",
            "Expected count of copied files = 5000\n",
            "Time taken = 788.8924427032471 seconds\n",
            "\n",
            "Processed = 5000 , Copied = 5000 , Problem = 0\n",
            "\n",
            "\n",
            "\n",
            "Success, no problems\n",
            "\n"
          ],
          "name": "stdout"
        }
      ]
    },
    {
      "cell_type": "code",
      "metadata": {
        "id": "oUBsdf3HpLLA",
        "colab_type": "code",
        "colab": {
          "base_uri": "https://localhost:8080/",
          "height": 34
        },
        "outputId": "1bafa1a9-1ce3-47a8-de22-0a6f476ab2bd"
      },
      "source": [
        "len(os.listdir('./gdrive/My Drive/ThesisStoryGen/Data/coco_train2017_wget_1/coco_test2017_subset_0_5000/'))"
      ],
      "execution_count": null,
      "outputs": [
        {
          "output_type": "execute_result",
          "data": {
            "text/plain": [
              "5000"
            ]
          },
          "metadata": {
            "tags": []
          },
          "execution_count": 20
        }
      ]
    },
    {
      "cell_type": "code",
      "metadata": {
        "id": "KfaFEPeW7GcN",
        "colab_type": "code",
        "colab": {}
      },
      "source": [
        ""
      ],
      "execution_count": null,
      "outputs": []
    },
    {
      "cell_type": "markdown",
      "metadata": {
        "id": "fJlfkqdu2IUe",
        "colab_type": "text"
      },
      "source": [
        "### copying   for indexes     start = 5000 , end = 10000"
      ]
    },
    {
      "cell_type": "code",
      "metadata": {
        "id": "AD6_GotapLN6",
        "colab_type": "code",
        "colab": {}
      },
      "source": [
        "sidx, eidx = 5000, 10000"
      ],
      "execution_count": null,
      "outputs": []
    },
    {
      "cell_type": "code",
      "metadata": {
        "id": "7efZPDL2pLQc",
        "colab_type": "code",
        "colab": {
          "base_uri": "https://localhost:8080/",
          "height": 35
        },
        "outputId": "a49a6f0e-aaf9-41fb-9bd3-a57ae7caad30"
      },
      "source": [
        "copyTo_path = TARGETDIR + 'coco_test2017_subset_' + str(sidx) + '_' + str(eidx) + '/'\n",
        "copyTo_path"
      ],
      "execution_count": null,
      "outputs": [
        {
          "output_type": "execute_result",
          "data": {
            "application/vnd.google.colaboratory.intrinsic+json": {
              "type": "string"
            },
            "text/plain": [
              "'./gdrive/My Drive/ThesisStoryGen/Data/coco_train2017_wget_1/coco_test2017_subset_5000_10000/'"
            ]
          },
          "metadata": {
            "tags": []
          },
          "execution_count": 15
        }
      ]
    },
    {
      "cell_type": "code",
      "metadata": {
        "id": "iZACsc3EpLSx",
        "colab_type": "code",
        "colab": {
          "base_uri": "https://localhost:8080/",
          "height": 1000
        },
        "outputId": "9b027c8f-a2cb-47c7-a7af-b63a5ce015b8"
      },
      "source": [
        "if not os.path.isdir(copyTo_path):\n",
        "    os.mkdir(copyTo_path)\n",
        "    print(f\"\\n\\nCreated folder on Google Drive for copyTo_path : {copyTo_path}\\n\\n\")\n",
        "    \n",
        "    problem_files_arr = copy_the_files(sidx, eidx, gdrive_coco_train2017_118287_listdir, copyTo_path)\n",
        "else:\n",
        "    print(f\"\\n\\nFATAL ERROR: copyTo_path already exists : {copyTo_path}\\n\\n\")\n",
        "\n",
        "if len(problem_files_arr) > 0:\n",
        "  print(f\"\\n\\nThere were problems.\\n\")\n",
        "else:\n",
        "  print(f\"\\n\\nSuccess, no problems\\n\")"
      ],
      "execution_count": null,
      "outputs": [
        {
          "output_type": "stream",
          "text": [
            "\n",
            "\n",
            "Created folder on Google Drive for copyTo_path : ./gdrive/My Drive/ThesisStoryGen/Data/coco_train2017_wget_1/coco_test2017_subset_5000_10000/\n",
            "\n",
            "\n",
            "At 16:26:34 :: Processed = 0 , Copied = 0 , Problem = 0\n",
            "At 16:26:48 :: Processed = 50 , Copied = 50 , Problem = 0\n",
            "At 16:27:01 :: Processed = 100 , Copied = 100 , Problem = 0\n",
            "At 16:27:15 :: Processed = 150 , Copied = 150 , Problem = 0\n",
            "At 16:27:29 :: Processed = 200 , Copied = 200 , Problem = 0\n",
            "At 16:27:45 :: Processed = 250 , Copied = 250 , Problem = 0\n",
            "At 16:27:59 :: Processed = 300 , Copied = 300 , Problem = 0\n",
            "At 16:28:14 :: Processed = 350 , Copied = 350 , Problem = 0\n",
            "At 16:28:30 :: Processed = 400 , Copied = 400 , Problem = 0\n",
            "At 16:28:45 :: Processed = 450 , Copied = 450 , Problem = 0\n",
            "At 16:28:59 :: Processed = 500 , Copied = 500 , Problem = 0\n",
            "At 16:29:12 :: Processed = 550 , Copied = 550 , Problem = 0\n",
            "At 16:29:27 :: Processed = 600 , Copied = 600 , Problem = 0\n",
            "At 16:29:41 :: Processed = 650 , Copied = 650 , Problem = 0\n",
            "At 16:29:55 :: Processed = 700 , Copied = 700 , Problem = 0\n",
            "At 16:30:09 :: Processed = 750 , Copied = 750 , Problem = 0\n",
            "At 16:30:23 :: Processed = 800 , Copied = 800 , Problem = 0\n",
            "At 16:30:37 :: Processed = 850 , Copied = 850 , Problem = 0\n",
            "At 16:30:51 :: Processed = 900 , Copied = 900 , Problem = 0\n",
            "At 16:31:07 :: Processed = 950 , Copied = 950 , Problem = 0\n",
            "At 16:31:20 :: Processed = 1000 , Copied = 1000 , Problem = 0\n",
            "At 16:31:34 :: Processed = 1050 , Copied = 1050 , Problem = 0\n",
            "At 16:31:49 :: Processed = 1100 , Copied = 1100 , Problem = 0\n",
            "At 16:32:05 :: Processed = 1150 , Copied = 1150 , Problem = 0\n",
            "At 16:32:19 :: Processed = 1200 , Copied = 1200 , Problem = 0\n",
            "At 16:32:32 :: Processed = 1250 , Copied = 1250 , Problem = 0\n",
            "At 16:32:46 :: Processed = 1300 , Copied = 1300 , Problem = 0\n",
            "At 16:33:00 :: Processed = 1350 , Copied = 1350 , Problem = 0\n",
            "At 16:33:14 :: Processed = 1400 , Copied = 1400 , Problem = 0\n",
            "At 16:33:28 :: Processed = 1450 , Copied = 1450 , Problem = 0\n",
            "At 16:33:43 :: Processed = 1500 , Copied = 1500 , Problem = 0\n",
            "At 16:33:58 :: Processed = 1550 , Copied = 1550 , Problem = 0\n",
            "At 16:34:13 :: Processed = 1600 , Copied = 1600 , Problem = 0\n",
            "At 16:34:27 :: Processed = 1650 , Copied = 1650 , Problem = 0\n",
            "At 16:34:42 :: Processed = 1700 , Copied = 1700 , Problem = 0\n",
            "At 16:34:58 :: Processed = 1750 , Copied = 1750 , Problem = 0\n",
            "At 16:35:15 :: Processed = 1800 , Copied = 1800 , Problem = 0\n",
            "At 16:35:31 :: Processed = 1850 , Copied = 1850 , Problem = 0\n",
            "At 16:35:45 :: Processed = 1900 , Copied = 1900 , Problem = 0\n",
            "At 16:36:01 :: Processed = 1950 , Copied = 1950 , Problem = 0\n",
            "At 16:36:15 :: Processed = 2000 , Copied = 2000 , Problem = 0\n",
            "At 16:36:30 :: Processed = 2050 , Copied = 2050 , Problem = 0\n",
            "At 16:36:45 :: Processed = 2100 , Copied = 2100 , Problem = 0\n",
            "At 16:36:58 :: Processed = 2150 , Copied = 2150 , Problem = 0\n",
            "At 16:37:12 :: Processed = 2200 , Copied = 2200 , Problem = 0\n",
            "At 16:37:25 :: Processed = 2250 , Copied = 2250 , Problem = 0\n",
            "At 16:37:39 :: Processed = 2300 , Copied = 2300 , Problem = 0\n",
            "At 16:37:52 :: Processed = 2350 , Copied = 2350 , Problem = 0\n",
            "At 16:38:06 :: Processed = 2400 , Copied = 2400 , Problem = 0\n",
            "At 16:38:21 :: Processed = 2450 , Copied = 2450 , Problem = 0\n",
            "At 16:38:34 :: Processed = 2500 , Copied = 2500 , Problem = 0\n",
            "At 16:38:48 :: Processed = 2550 , Copied = 2550 , Problem = 0\n",
            "At 16:39:01 :: Processed = 2600 , Copied = 2600 , Problem = 0\n",
            "At 16:39:15 :: Processed = 2650 , Copied = 2650 , Problem = 0\n",
            "At 16:39:30 :: Processed = 2700 , Copied = 2700 , Problem = 0\n",
            "At 16:39:43 :: Processed = 2750 , Copied = 2750 , Problem = 0\n",
            "At 16:39:56 :: Processed = 2800 , Copied = 2800 , Problem = 0\n",
            "At 16:40:12 :: Processed = 2850 , Copied = 2850 , Problem = 0\n",
            "At 16:40:26 :: Processed = 2900 , Copied = 2900 , Problem = 0\n",
            "At 16:40:41 :: Processed = 2950 , Copied = 2950 , Problem = 0\n",
            "At 16:40:54 :: Processed = 3000 , Copied = 3000 , Problem = 0\n",
            "At 16:41:09 :: Processed = 3050 , Copied = 3050 , Problem = 0\n",
            "At 16:41:22 :: Processed = 3100 , Copied = 3100 , Problem = 0\n",
            "At 16:41:37 :: Processed = 3150 , Copied = 3150 , Problem = 0\n",
            "At 16:41:51 :: Processed = 3200 , Copied = 3200 , Problem = 0\n",
            "At 16:42:04 :: Processed = 3250 , Copied = 3250 , Problem = 0\n",
            "At 16:42:17 :: Processed = 3300 , Copied = 3300 , Problem = 0\n",
            "At 16:42:31 :: Processed = 3350 , Copied = 3350 , Problem = 0\n",
            "At 16:42:45 :: Processed = 3400 , Copied = 3400 , Problem = 0\n",
            "At 16:42:59 :: Processed = 3450 , Copied = 3450 , Problem = 0\n",
            "At 16:43:12 :: Processed = 3500 , Copied = 3500 , Problem = 0\n",
            "At 16:43:26 :: Processed = 3550 , Copied = 3550 , Problem = 0\n",
            "At 16:44:11 :: Processed = 3600 , Copied = 3600 , Problem = 0\n",
            "At 16:44:25 :: Processed = 3650 , Copied = 3650 , Problem = 0\n",
            "At 16:44:41 :: Processed = 3700 , Copied = 3700 , Problem = 0\n",
            "At 16:44:56 :: Processed = 3750 , Copied = 3750 , Problem = 0\n",
            "At 16:45:10 :: Processed = 3800 , Copied = 3800 , Problem = 0\n",
            "At 16:45:24 :: Processed = 3850 , Copied = 3850 , Problem = 0\n",
            "At 16:45:37 :: Processed = 3900 , Copied = 3900 , Problem = 0\n",
            "At 16:45:51 :: Processed = 3950 , Copied = 3950 , Problem = 0\n",
            "At 16:46:05 :: Processed = 4000 , Copied = 4000 , Problem = 0\n",
            "At 16:46:18 :: Processed = 4050 , Copied = 4050 , Problem = 0\n",
            "At 16:46:33 :: Processed = 4100 , Copied = 4100 , Problem = 0\n",
            "At 16:46:48 :: Processed = 4150 , Copied = 4150 , Problem = 0\n",
            "At 16:47:01 :: Processed = 4200 , Copied = 4200 , Problem = 0\n",
            "At 16:47:15 :: Processed = 4250 , Copied = 4250 , Problem = 0\n",
            "At 16:47:29 :: Processed = 4300 , Copied = 4300 , Problem = 0\n",
            "At 16:47:42 :: Processed = 4350 , Copied = 4350 , Problem = 0\n",
            "At 16:47:57 :: Processed = 4400 , Copied = 4400 , Problem = 0\n",
            "At 16:48:11 :: Processed = 4450 , Copied = 4450 , Problem = 0\n",
            "At 16:48:24 :: Processed = 4500 , Copied = 4500 , Problem = 0\n",
            "At 16:48:37 :: Processed = 4550 , Copied = 4550 , Problem = 0\n",
            "At 16:48:51 :: Processed = 4600 , Copied = 4600 , Problem = 0\n",
            "At 16:49:05 :: Processed = 4650 , Copied = 4650 , Problem = 0\n",
            "At 16:49:18 :: Processed = 4700 , Copied = 4700 , Problem = 0\n",
            "At 16:49:33 :: Processed = 4750 , Copied = 4750 , Problem = 0\n",
            "At 16:49:46 :: Processed = 4800 , Copied = 4800 , Problem = 0\n",
            "At 16:50:00 :: Processed = 4850 , Copied = 4850 , Problem = 0\n",
            "At 16:50:14 :: Processed = 4900 , Copied = 4900 , Problem = 0\n",
            "At 16:50:28 :: Processed = 4950 , Copied = 4950 , Problem = 0\n",
            "\n",
            "\n",
            "Expected count of copied files = 5000\n",
            "Time taken = 1447.821319103241 seconds\n",
            "\n",
            "Processed = 5000 , Copied = 5000 , Problem = 0\n",
            "\n",
            "\n",
            "\n",
            "Success, no problems\n",
            "\n"
          ],
          "name": "stdout"
        }
      ]
    },
    {
      "cell_type": "code",
      "metadata": {
        "id": "rckDe3A7-bcO",
        "colab_type": "code",
        "colab": {
          "base_uri": "https://localhost:8080/",
          "height": 34
        },
        "outputId": "d51e3553-4a89-40af-b8b1-bfbc48808079"
      },
      "source": [
        "len(os.listdir('./gdrive/My Drive/ThesisStoryGen/Data/coco_train2017_wget_1/coco_test2017_subset_5000_10000/'))"
      ],
      "execution_count": null,
      "outputs": [
        {
          "output_type": "execute_result",
          "data": {
            "text/plain": [
              "5000"
            ]
          },
          "metadata": {
            "tags": []
          },
          "execution_count": 19
        }
      ]
    },
    {
      "cell_type": "code",
      "metadata": {
        "id": "E0oWY7vc7CDB",
        "colab_type": "code",
        "colab": {}
      },
      "source": [
        ""
      ],
      "execution_count": null,
      "outputs": []
    },
    {
      "cell_type": "markdown",
      "metadata": {
        "id": "rnZWa73Z2ahH",
        "colab_type": "text"
      },
      "source": [
        "### copying   for indexes     start = 10000 , end = 15000"
      ]
    },
    {
      "cell_type": "code",
      "metadata": {
        "id": "WLP8r0YzFhFp",
        "colab_type": "code",
        "colab": {}
      },
      "source": [
        "sidx, eidx = 10000, 15000"
      ],
      "execution_count": null,
      "outputs": []
    },
    {
      "cell_type": "code",
      "metadata": {
        "id": "CRmhVx6t2LnK",
        "colab_type": "code",
        "colab": {
          "base_uri": "https://localhost:8080/",
          "height": 35
        },
        "outputId": "ee61793d-9a4d-463a-fe4b-d7d27cfde757"
      },
      "source": [
        "copyTo_path = TARGETDIR + 'coco_test2017_subset_' + str(sidx) + '_' + str(eidx) + '/'\n",
        "copyTo_path"
      ],
      "execution_count": null,
      "outputs": [
        {
          "output_type": "execute_result",
          "data": {
            "application/vnd.google.colaboratory.intrinsic+json": {
              "type": "string"
            },
            "text/plain": [
              "'./gdrive/My Drive/ThesisStoryGen/Data/coco_train2017_wget_1/coco_test2017_subset_10000_15000/'"
            ]
          },
          "metadata": {
            "tags": []
          },
          "execution_count": 22
        }
      ]
    },
    {
      "cell_type": "code",
      "metadata": {
        "id": "WO0_g2Qu2Lp_",
        "colab_type": "code",
        "colab": {
          "base_uri": "https://localhost:8080/",
          "height": 1000
        },
        "outputId": "e7fb082d-b450-4de8-f918-1e22a5ef166d"
      },
      "source": [
        "if not os.path.isdir(copyTo_path):\n",
        "    os.mkdir(copyTo_path)\n",
        "    print(f\"\\n\\nCreated folder on Google Drive for copyTo_path : {copyTo_path}\\n\\n\")\n",
        "    \n",
        "    problem_files_arr = copy_the_files(sidx, eidx, gdrive_coco_train2017_118287_listdir, copyTo_path)\n",
        "else:\n",
        "    print(f\"\\n\\nFATAL ERROR: copyTo_path already exists : {copyTo_path}\\n\\n\")\n",
        "\n",
        "if len(problem_files_arr) > 0:\n",
        "  print(f\"\\n\\nThere were problems.\\n\")\n",
        "else:\n",
        "  print(f\"\\n\\nSuccess, no problems\\n\")"
      ],
      "execution_count": null,
      "outputs": [
        {
          "output_type": "stream",
          "text": [
            "\n",
            "\n",
            "Created folder on Google Drive for copyTo_path : ./gdrive/My Drive/ThesisStoryGen/Data/coco_train2017_wget_1/coco_test2017_subset_10000_15000/\n",
            "\n",
            "\n",
            "At 16:51:33 :: Processed = 0 , Copied = 0 , Problem = 0\n",
            "At 16:51:47 :: Processed = 50 , Copied = 50 , Problem = 0\n",
            "At 16:52:01 :: Processed = 100 , Copied = 100 , Problem = 0\n",
            "At 16:52:14 :: Processed = 150 , Copied = 150 , Problem = 0\n",
            "At 16:52:28 :: Processed = 200 , Copied = 200 , Problem = 0\n",
            "At 16:52:42 :: Processed = 250 , Copied = 250 , Problem = 0\n",
            "At 16:52:55 :: Processed = 300 , Copied = 300 , Problem = 0\n",
            "At 16:53:08 :: Processed = 350 , Copied = 350 , Problem = 0\n",
            "At 16:53:21 :: Processed = 400 , Copied = 400 , Problem = 0\n",
            "At 16:53:34 :: Processed = 450 , Copied = 450 , Problem = 0\n",
            "At 16:53:49 :: Processed = 500 , Copied = 500 , Problem = 0\n",
            "At 16:54:03 :: Processed = 550 , Copied = 550 , Problem = 0\n",
            "At 16:54:17 :: Processed = 600 , Copied = 600 , Problem = 0\n",
            "At 16:54:35 :: Processed = 650 , Copied = 650 , Problem = 0\n",
            "At 16:54:48 :: Processed = 700 , Copied = 700 , Problem = 0\n",
            "At 16:55:02 :: Processed = 750 , Copied = 750 , Problem = 0\n",
            "At 16:55:15 :: Processed = 800 , Copied = 800 , Problem = 0\n",
            "At 16:55:29 :: Processed = 850 , Copied = 850 , Problem = 0\n",
            "At 16:55:43 :: Processed = 900 , Copied = 900 , Problem = 0\n",
            "At 16:55:56 :: Processed = 950 , Copied = 950 , Problem = 0\n",
            "At 16:56:10 :: Processed = 1000 , Copied = 1000 , Problem = 0\n",
            "At 16:56:22 :: Processed = 1050 , Copied = 1050 , Problem = 0\n",
            "At 16:56:35 :: Processed = 1100 , Copied = 1100 , Problem = 0\n",
            "At 16:56:49 :: Processed = 1150 , Copied = 1150 , Problem = 0\n",
            "At 16:57:02 :: Processed = 1200 , Copied = 1200 , Problem = 0\n",
            "At 16:57:15 :: Processed = 1250 , Copied = 1250 , Problem = 0\n",
            "At 16:57:28 :: Processed = 1300 , Copied = 1300 , Problem = 0\n",
            "At 16:57:40 :: Processed = 1350 , Copied = 1350 , Problem = 0\n",
            "At 16:57:54 :: Processed = 1400 , Copied = 1400 , Problem = 0\n",
            "At 16:58:08 :: Processed = 1450 , Copied = 1450 , Problem = 0\n",
            "At 16:58:21 :: Processed = 1500 , Copied = 1500 , Problem = 0\n",
            "At 16:58:36 :: Processed = 1550 , Copied = 1550 , Problem = 0\n",
            "At 16:58:49 :: Processed = 1600 , Copied = 1600 , Problem = 0\n",
            "At 16:59:04 :: Processed = 1650 , Copied = 1650 , Problem = 0\n",
            "At 16:59:18 :: Processed = 1700 , Copied = 1700 , Problem = 0\n",
            "At 16:59:31 :: Processed = 1750 , Copied = 1750 , Problem = 0\n",
            "At 16:59:46 :: Processed = 1800 , Copied = 1800 , Problem = 0\n",
            "At 17:00:00 :: Processed = 1850 , Copied = 1850 , Problem = 0\n",
            "At 17:00:14 :: Processed = 1900 , Copied = 1900 , Problem = 0\n",
            "At 17:00:29 :: Processed = 1950 , Copied = 1950 , Problem = 0\n",
            "At 17:00:42 :: Processed = 2000 , Copied = 2000 , Problem = 0\n",
            "At 17:00:57 :: Processed = 2050 , Copied = 2050 , Problem = 0\n",
            "At 17:01:11 :: Processed = 2100 , Copied = 2100 , Problem = 0\n",
            "At 17:01:24 :: Processed = 2150 , Copied = 2150 , Problem = 0\n",
            "At 17:01:39 :: Processed = 2200 , Copied = 2200 , Problem = 0\n",
            "At 17:01:53 :: Processed = 2250 , Copied = 2250 , Problem = 0\n",
            "At 17:02:07 :: Processed = 2300 , Copied = 2300 , Problem = 0\n",
            "At 17:02:21 :: Processed = 2350 , Copied = 2350 , Problem = 0\n",
            "At 17:02:34 :: Processed = 2400 , Copied = 2400 , Problem = 0\n",
            "At 17:02:48 :: Processed = 2450 , Copied = 2450 , Problem = 0\n",
            "At 17:03:01 :: Processed = 2500 , Copied = 2500 , Problem = 0\n",
            "At 17:03:15 :: Processed = 2550 , Copied = 2550 , Problem = 0\n",
            "At 17:03:28 :: Processed = 2600 , Copied = 2600 , Problem = 0\n",
            "At 17:03:42 :: Processed = 2650 , Copied = 2650 , Problem = 0\n",
            "At 17:03:56 :: Processed = 2700 , Copied = 2700 , Problem = 0\n",
            "At 17:04:09 :: Processed = 2750 , Copied = 2750 , Problem = 0\n",
            "At 17:04:23 :: Processed = 2800 , Copied = 2800 , Problem = 0\n",
            "At 17:04:35 :: Processed = 2850 , Copied = 2850 , Problem = 0\n",
            "At 17:04:49 :: Processed = 2900 , Copied = 2900 , Problem = 0\n",
            "At 17:05:02 :: Processed = 2950 , Copied = 2950 , Problem = 0\n",
            "At 17:05:16 :: Processed = 3000 , Copied = 3000 , Problem = 0\n",
            "At 17:05:30 :: Processed = 3050 , Copied = 3050 , Problem = 0\n",
            "At 17:05:44 :: Processed = 3100 , Copied = 3100 , Problem = 0\n",
            "At 17:05:58 :: Processed = 3150 , Copied = 3150 , Problem = 0\n",
            "At 17:06:12 :: Processed = 3200 , Copied = 3200 , Problem = 0\n",
            "At 17:06:26 :: Processed = 3250 , Copied = 3250 , Problem = 0\n",
            "At 17:06:41 :: Processed = 3300 , Copied = 3300 , Problem = 0\n",
            "At 17:06:55 :: Processed = 3350 , Copied = 3350 , Problem = 0\n",
            "At 17:07:08 :: Processed = 3400 , Copied = 3400 , Problem = 0\n",
            "At 17:07:23 :: Processed = 3450 , Copied = 3450 , Problem = 0\n",
            "At 17:07:36 :: Processed = 3500 , Copied = 3500 , Problem = 0\n",
            "At 17:07:50 :: Processed = 3550 , Copied = 3550 , Problem = 0\n",
            "At 17:08:07 :: Processed = 3600 , Copied = 3600 , Problem = 0\n",
            "At 17:08:21 :: Processed = 3650 , Copied = 3650 , Problem = 0\n",
            "At 17:08:36 :: Processed = 3700 , Copied = 3700 , Problem = 0\n",
            "At 17:08:50 :: Processed = 3750 , Copied = 3750 , Problem = 0\n",
            "At 17:09:03 :: Processed = 3800 , Copied = 3800 , Problem = 0\n",
            "At 17:09:17 :: Processed = 3850 , Copied = 3850 , Problem = 0\n",
            "At 17:09:31 :: Processed = 3900 , Copied = 3900 , Problem = 0\n",
            "At 17:09:44 :: Processed = 3950 , Copied = 3950 , Problem = 0\n",
            "At 17:09:57 :: Processed = 4000 , Copied = 4000 , Problem = 0\n",
            "At 17:10:11 :: Processed = 4050 , Copied = 4050 , Problem = 0\n",
            "At 17:10:25 :: Processed = 4100 , Copied = 4100 , Problem = 0\n",
            "At 17:10:38 :: Processed = 4150 , Copied = 4150 , Problem = 0\n",
            "At 17:10:51 :: Processed = 4200 , Copied = 4200 , Problem = 0\n",
            "At 17:11:05 :: Processed = 4250 , Copied = 4250 , Problem = 0\n",
            "At 17:11:19 :: Processed = 4300 , Copied = 4300 , Problem = 0\n",
            "At 17:11:32 :: Processed = 4350 , Copied = 4350 , Problem = 0\n",
            "At 17:11:46 :: Processed = 4400 , Copied = 4400 , Problem = 0\n",
            "At 17:12:14 :: Processed = 4500 , Copied = 4500 , Problem = 0\n",
            "At 17:12:26 :: Processed = 4550 , Copied = 4550 , Problem = 0\n",
            "At 17:12:40 :: Processed = 4600 , Copied = 4600 , Problem = 0\n",
            "At 17:12:54 :: Processed = 4650 , Copied = 4650 , Problem = 0\n",
            "At 17:13:08 :: Processed = 4700 , Copied = 4700 , Problem = 0\n",
            "At 17:13:21 :: Processed = 4750 , Copied = 4750 , Problem = 0\n",
            "At 17:13:35 :: Processed = 4800 , Copied = 4800 , Problem = 0\n",
            "At 17:13:48 :: Processed = 4850 , Copied = 4850 , Problem = 0\n",
            "At 17:14:02 :: Processed = 4900 , Copied = 4900 , Problem = 0\n",
            "At 17:14:16 :: Processed = 4950 , Copied = 4950 , Problem = 0\n",
            "\n",
            "\n",
            "Expected count of copied files = 5000\n",
            "Time taken = 1376.2255783081055 seconds\n",
            "\n",
            "Processed = 5000 , Copied = 5000 , Problem = 0\n",
            "\n",
            "\n",
            "\n",
            "Success, no problems\n",
            "\n"
          ],
          "name": "stdout"
        }
      ]
    },
    {
      "cell_type": "code",
      "metadata": {
        "id": "0QLWRIdQ-n5i",
        "colab_type": "code",
        "colab": {
          "base_uri": "https://localhost:8080/",
          "height": 34
        },
        "outputId": "10f5916a-4e06-4332-fc4f-2c96a48686b0"
      },
      "source": [
        "len(os.listdir('./gdrive/My Drive/ThesisStoryGen/Data/coco_train2017_wget_1/coco_test2017_subset_10000_15000/'))"
      ],
      "execution_count": null,
      "outputs": [
        {
          "output_type": "execute_result",
          "data": {
            "text/plain": [
              "5000"
            ]
          },
          "metadata": {
            "tags": []
          },
          "execution_count": 24
        }
      ]
    },
    {
      "cell_type": "code",
      "metadata": {
        "id": "eT_mDEzH2Lsh",
        "colab_type": "code",
        "colab": {}
      },
      "source": [
        ""
      ],
      "execution_count": null,
      "outputs": []
    },
    {
      "cell_type": "markdown",
      "metadata": {
        "id": "guX2RAtg2yMP",
        "colab_type": "text"
      },
      "source": [
        "### copying   for indexes     start = 15000 , end = 20000"
      ]
    },
    {
      "cell_type": "code",
      "metadata": {
        "id": "TmastTLK2Lv0",
        "colab_type": "code",
        "colab": {}
      },
      "source": [
        "sidx, eidx = 15000, 20000"
      ],
      "execution_count": null,
      "outputs": []
    },
    {
      "cell_type": "code",
      "metadata": {
        "id": "6u6Sq9LJ2rTa",
        "colab_type": "code",
        "colab": {
          "base_uri": "https://localhost:8080/",
          "height": 35
        },
        "outputId": "94b6ced2-161f-4af8-a9d8-bc72ea70aefe"
      },
      "source": [
        "copyTo_path = TARGETDIR + 'coco_test2017_subset_' + str(sidx) + '_' + str(eidx) + '/'\n",
        "copyTo_path"
      ],
      "execution_count": null,
      "outputs": [
        {
          "output_type": "execute_result",
          "data": {
            "application/vnd.google.colaboratory.intrinsic+json": {
              "type": "string"
            },
            "text/plain": [
              "'./gdrive/My Drive/ThesisStoryGen/Data/coco_train2017_wget_1/coco_test2017_subset_15000_20000/'"
            ]
          },
          "metadata": {
            "tags": []
          },
          "execution_count": 26
        }
      ]
    },
    {
      "cell_type": "code",
      "metadata": {
        "id": "VfRaboHt2rWm",
        "colab_type": "code",
        "colab": {
          "base_uri": "https://localhost:8080/",
          "height": 1000
        },
        "outputId": "91508396-ec7b-4fe9-f12b-7e7168718adf"
      },
      "source": [
        "if not os.path.isdir(copyTo_path):\n",
        "    os.mkdir(copyTo_path)\n",
        "    print(f\"\\n\\nCreated folder on Google Drive for copyTo_path : {copyTo_path}\\n\\n\")\n",
        "    \n",
        "    problem_files_arr = copy_the_files(sidx, eidx, gdrive_coco_train2017_118287_listdir, copyTo_path)\n",
        "else:\n",
        "    print(f\"\\n\\nFATAL ERROR: copyTo_path already exists : {copyTo_path}\\n\\n\")\n",
        "\n",
        "if len(problem_files_arr) > 0:\n",
        "  print(f\"\\n\\nThere were problems.\\n\")\n",
        "else:\n",
        "  print(f\"\\n\\nSuccess, no problems\\n\")"
      ],
      "execution_count": null,
      "outputs": [
        {
          "output_type": "stream",
          "text": [
            "\n",
            "\n",
            "Created folder on Google Drive for copyTo_path : ./gdrive/My Drive/ThesisStoryGen/Data/coco_train2017_wget_1/coco_test2017_subset_15000_20000/\n",
            "\n",
            "\n",
            "At 17:18:41 :: Processed = 0 , Copied = 0 , Problem = 0\n",
            "At 17:18:56 :: Processed = 50 , Copied = 50 , Problem = 0\n",
            "At 17:19:10 :: Processed = 100 , Copied = 100 , Problem = 0\n",
            "At 17:19:24 :: Processed = 150 , Copied = 150 , Problem = 0\n",
            "At 17:19:40 :: Processed = 200 , Copied = 200 , Problem = 0\n",
            "At 17:19:54 :: Processed = 250 , Copied = 250 , Problem = 0\n",
            "At 17:20:08 :: Processed = 300 , Copied = 300 , Problem = 0\n",
            "At 17:20:22 :: Processed = 350 , Copied = 350 , Problem = 0\n",
            "At 17:20:36 :: Processed = 400 , Copied = 400 , Problem = 0\n",
            "At 17:20:49 :: Processed = 450 , Copied = 450 , Problem = 0\n",
            "At 17:21:02 :: Processed = 500 , Copied = 500 , Problem = 0\n",
            "At 17:21:17 :: Processed = 550 , Copied = 550 , Problem = 0\n",
            "At 17:21:29 :: Processed = 600 , Copied = 600 , Problem = 0\n",
            "At 17:21:42 :: Processed = 650 , Copied = 650 , Problem = 0\n",
            "At 17:21:55 :: Processed = 700 , Copied = 700 , Problem = 0\n",
            "At 17:22:09 :: Processed = 750 , Copied = 750 , Problem = 0\n",
            "At 17:22:23 :: Processed = 800 , Copied = 800 , Problem = 0\n",
            "At 17:22:37 :: Processed = 850 , Copied = 850 , Problem = 0\n",
            "At 17:22:50 :: Processed = 900 , Copied = 900 , Problem = 0\n",
            "At 17:23:04 :: Processed = 950 , Copied = 950 , Problem = 0\n",
            "At 17:23:18 :: Processed = 1000 , Copied = 1000 , Problem = 0\n",
            "At 17:23:32 :: Processed = 1050 , Copied = 1050 , Problem = 0\n",
            "At 17:23:45 :: Processed = 1100 , Copied = 1100 , Problem = 0\n",
            "At 17:23:58 :: Processed = 1150 , Copied = 1150 , Problem = 0\n",
            "At 17:24:14 :: Processed = 1200 , Copied = 1200 , Problem = 0\n",
            "At 17:24:29 :: Processed = 1250 , Copied = 1250 , Problem = 0\n",
            "At 17:24:43 :: Processed = 1300 , Copied = 1300 , Problem = 0\n",
            "At 17:24:56 :: Processed = 1350 , Copied = 1350 , Problem = 0\n",
            "At 17:25:11 :: Processed = 1400 , Copied = 1400 , Problem = 0\n",
            "At 17:25:24 :: Processed = 1450 , Copied = 1450 , Problem = 0\n",
            "At 17:25:39 :: Processed = 1500 , Copied = 1500 , Problem = 0\n",
            "At 17:25:53 :: Processed = 1550 , Copied = 1550 , Problem = 0\n",
            "At 17:26:07 :: Processed = 1600 , Copied = 1600 , Problem = 0\n",
            "At 17:26:21 :: Processed = 1650 , Copied = 1650 , Problem = 0\n",
            "At 17:26:34 :: Processed = 1700 , Copied = 1700 , Problem = 0\n",
            "At 17:26:48 :: Processed = 1750 , Copied = 1750 , Problem = 0\n",
            "At 17:27:01 :: Processed = 1800 , Copied = 1800 , Problem = 0\n",
            "At 17:27:14 :: Processed = 1850 , Copied = 1850 , Problem = 0\n",
            "At 17:27:27 :: Processed = 1900 , Copied = 1900 , Problem = 0\n",
            "At 17:27:42 :: Processed = 1950 , Copied = 1950 , Problem = 0\n",
            "At 17:27:55 :: Processed = 2000 , Copied = 2000 , Problem = 0\n",
            "At 17:28:08 :: Processed = 2050 , Copied = 2050 , Problem = 0\n",
            "At 17:28:21 :: Processed = 2100 , Copied = 2100 , Problem = 0\n",
            "At 17:28:36 :: Processed = 2150 , Copied = 2150 , Problem = 0\n",
            "At 17:28:51 :: Processed = 2200 , Copied = 2200 , Problem = 0\n",
            "At 17:29:07 :: Processed = 2250 , Copied = 2250 , Problem = 0\n",
            "At 17:29:20 :: Processed = 2300 , Copied = 2300 , Problem = 0\n",
            "At 17:29:33 :: Processed = 2350 , Copied = 2350 , Problem = 0\n",
            "At 17:29:48 :: Processed = 2400 , Copied = 2400 , Problem = 0\n",
            "At 17:30:01 :: Processed = 2450 , Copied = 2450 , Problem = 0\n",
            "At 17:30:15 :: Processed = 2500 , Copied = 2500 , Problem = 0\n",
            "At 17:30:28 :: Processed = 2550 , Copied = 2550 , Problem = 0\n",
            "At 17:30:42 :: Processed = 2600 , Copied = 2600 , Problem = 0\n",
            "At 17:30:55 :: Processed = 2650 , Copied = 2650 , Problem = 0\n",
            "At 17:31:09 :: Processed = 2700 , Copied = 2700 , Problem = 0\n",
            "At 17:31:23 :: Processed = 2750 , Copied = 2750 , Problem = 0\n",
            "At 17:31:37 :: Processed = 2800 , Copied = 2800 , Problem = 0\n",
            "At 17:31:50 :: Processed = 2850 , Copied = 2850 , Problem = 0\n",
            "At 17:32:03 :: Processed = 2900 , Copied = 2900 , Problem = 0\n",
            "At 17:32:17 :: Processed = 2950 , Copied = 2950 , Problem = 0\n",
            "At 17:32:31 :: Processed = 3000 , Copied = 3000 , Problem = 0\n",
            "At 17:32:44 :: Processed = 3050 , Copied = 3050 , Problem = 0\n",
            "At 17:32:58 :: Processed = 3100 , Copied = 3100 , Problem = 0\n",
            "At 17:33:11 :: Processed = 3150 , Copied = 3150 , Problem = 0\n",
            "At 17:33:25 :: Processed = 3200 , Copied = 3200 , Problem = 0\n",
            "At 17:33:38 :: Processed = 3250 , Copied = 3250 , Problem = 0\n",
            "At 17:33:51 :: Processed = 3300 , Copied = 3300 , Problem = 0\n",
            "At 17:34:05 :: Processed = 3350 , Copied = 3350 , Problem = 0\n",
            "At 17:34:20 :: Processed = 3400 , Copied = 3400 , Problem = 0\n",
            "At 17:34:34 :: Processed = 3450 , Copied = 3450 , Problem = 0\n",
            "At 17:34:47 :: Processed = 3500 , Copied = 3500 , Problem = 0\n",
            "At 17:35:01 :: Processed = 3550 , Copied = 3550 , Problem = 0\n",
            "At 17:35:15 :: Processed = 3600 , Copied = 3600 , Problem = 0\n",
            "At 17:35:29 :: Processed = 3650 , Copied = 3650 , Problem = 0\n",
            "At 17:35:43 :: Processed = 3700 , Copied = 3700 , Problem = 0\n",
            "At 17:35:57 :: Processed = 3750 , Copied = 3750 , Problem = 0\n",
            "At 17:36:10 :: Processed = 3800 , Copied = 3800 , Problem = 0\n",
            "At 17:36:23 :: Processed = 3850 , Copied = 3850 , Problem = 0\n",
            "At 17:36:36 :: Processed = 3900 , Copied = 3900 , Problem = 0\n",
            "At 17:36:49 :: Processed = 3950 , Copied = 3950 , Problem = 0\n",
            "At 17:37:03 :: Processed = 4000 , Copied = 4000 , Problem = 0\n",
            "At 17:37:17 :: Processed = 4050 , Copied = 4050 , Problem = 0\n",
            "At 17:37:30 :: Processed = 4100 , Copied = 4100 , Problem = 0\n",
            "At 17:37:43 :: Processed = 4150 , Copied = 4150 , Problem = 0\n",
            "At 17:37:57 :: Processed = 4200 , Copied = 4200 , Problem = 0\n",
            "At 17:38:11 :: Processed = 4250 , Copied = 4250 , Problem = 0\n",
            "At 17:38:24 :: Processed = 4300 , Copied = 4300 , Problem = 0\n",
            "At 17:38:37 :: Processed = 4350 , Copied = 4350 , Problem = 0\n",
            "At 17:38:50 :: Processed = 4400 , Copied = 4400 , Problem = 0\n",
            "At 17:39:03 :: Processed = 4450 , Copied = 4450 , Problem = 0\n",
            "At 17:39:16 :: Processed = 4500 , Copied = 4500 , Problem = 0\n",
            "At 17:39:30 :: Processed = 4550 , Copied = 4550 , Problem = 0\n",
            "At 17:39:44 :: Processed = 4600 , Copied = 4600 , Problem = 0\n",
            "At 17:39:58 :: Processed = 4650 , Copied = 4650 , Problem = 0\n",
            "At 17:40:12 :: Processed = 4700 , Copied = 4700 , Problem = 0\n",
            "At 17:40:25 :: Processed = 4750 , Copied = 4750 , Problem = 0\n",
            "At 17:40:38 :: Processed = 4800 , Copied = 4800 , Problem = 0\n",
            "At 17:40:52 :: Processed = 4850 , Copied = 4850 , Problem = 0\n",
            "At 17:41:08 :: Processed = 4900 , Copied = 4900 , Problem = 0\n",
            "At 17:41:22 :: Processed = 4950 , Copied = 4950 , Problem = 0\n",
            "\n",
            "\n",
            "Expected count of copied files = 5000\n",
            "Time taken = 1373.8705914020538 seconds\n",
            "\n",
            "Processed = 5000 , Copied = 5000 , Problem = 0\n",
            "\n",
            "\n",
            "\n",
            "Success, no problems\n",
            "\n"
          ],
          "name": "stdout"
        }
      ]
    },
    {
      "cell_type": "code",
      "metadata": {
        "id": "SKBc4pRR2rZZ",
        "colab_type": "code",
        "colab": {
          "base_uri": "https://localhost:8080/",
          "height": 34
        },
        "outputId": "a23c7d07-80ad-49ab-f6b3-8906656baae6"
      },
      "source": [
        "len(os.listdir('./gdrive/My Drive/ThesisStoryGen/Data/coco_train2017_wget_1/coco_test2017_subset_15000_20000/'))"
      ],
      "execution_count": null,
      "outputs": [
        {
          "output_type": "execute_result",
          "data": {
            "text/plain": [
              "5000"
            ]
          },
          "metadata": {
            "tags": []
          },
          "execution_count": 28
        }
      ]
    },
    {
      "cell_type": "code",
      "metadata": {
        "id": "_J-GcaM72Lyq",
        "colab_type": "code",
        "colab": {}
      },
      "source": [
        ""
      ],
      "execution_count": null,
      "outputs": []
    },
    {
      "cell_type": "markdown",
      "metadata": {
        "id": "f43gtVGG9I5o",
        "colab_type": "text"
      },
      "source": [
        "## Data Exploration on the annotations dataset - which contains the captions"
      ]
    },
    {
      "cell_type": "code",
      "metadata": {
        "id": "4iojMpCT9rWL",
        "colab_type": "code",
        "colab": {}
      },
      "source": [
        "################################################\n",
        "## data exploration on the annotations dataset\n",
        "################################################\n",
        "\n",
        "## about val2017 ::::\n",
        "## max caption length = 247 for val2017    'A large square concrete wall, which shows peo...'\n",
        "## 25014 caption entries for the 5000 images\n",
        "\n",
        "## about train2017 ::::\n",
        "## ???? caption entries for the ???? images\n",
        "## max caption length = 250 for train2017  - multiple entries\n",
        "##      'Front view of person holding animal spotted pr...'\n",
        "##      'The image shows an entertainment cubby in the ...'\n",
        "##      'The vee shaped part of a white-walled room sho...'\n",
        "##      'The scene shows outdoors, furthest to closest,...'\n",
        "##      'Black and white of two women sitting on a marb...'\n",
        "##      'From furthest to nearest, the view shows, clou...'\n",
        "##      'From below view of the head, neck, and paws of...'\n",
        "##      'A room with long table with widescreen televis...'\n",
        "##      'Two men holding tennis rackets up in a hand on...'\n",
        "##      'Restaurant table top with logo in middle and a...'\n",
        "##      'A near-ground shot shows logo-covered wall and...'\n",
        "##      'An apartment with an open floor plan,  that al...'\n",
        "##      'A black and white shot shows a  bus interior w...'\n",
        "##      'An image from a copyrighted foodie site shows ...'"
      ],
      "execution_count": null,
      "outputs": []
    },
    {
      "cell_type": "code",
      "metadata": {
        "id": "bRGQ8or-9XpH",
        "colab_type": "code",
        "colab": {
          "base_uri": "https://localhost:8080/",
          "height": 34
        },
        "outputId": "e784deb7-1bda-416b-94db-7ab65373d942"
      },
      "source": [
        "from google.colab import drive\n",
        "drive.flush_and_unmount()\n",
        "drive.mount('/content/gdrive')"
      ],
      "execution_count": null,
      "outputs": [
        {
          "output_type": "stream",
          "text": [
            "Mounted at /content/gdrive\n"
          ],
          "name": "stdout"
        }
      ]
    },
    {
      "cell_type": "code",
      "metadata": {
        "id": "5RuiJUQFFhIS",
        "colab_type": "code",
        "colab": {}
      },
      "source": [
        "import os\n",
        "import json\n",
        "import pandas as pd"
      ],
      "execution_count": null,
      "outputs": []
    },
    {
      "cell_type": "code",
      "metadata": {
        "id": "HSAP6i8FFhKp",
        "colab_type": "code",
        "colab": {}
      },
      "source": [
        "OPDIR = '/content/gdrive/My Drive/ThesisStoryGen/Data/ImgCapTraining/CocoVal2017_1/'\n",
        "IPDIRIMGS = '/content/gdrive/My Drive/ThesisStoryGen/Data/coco_val2017_wget_1/val2017/'\n",
        "IPDIRANNO = '/content/gdrive/My Drive/ThesisStoryGen/Data/coco_annotations_trainval2017/'"
      ],
      "execution_count": null,
      "outputs": []
    },
    {
      "cell_type": "code",
      "metadata": {
        "id": "D559ffWJFhNR",
        "colab_type": "code",
        "colab": {
          "base_uri": "https://localhost:8080/",
          "height": 34
        },
        "outputId": "8ebf44fe-23a4-4013-f5f0-29552cb1c243"
      },
      "source": [
        "os.listdir('/content/gdrive/My Drive/ThesisStoryGen/Data/coco_annotations_trainval2017/')"
      ],
      "execution_count": null,
      "outputs": [
        {
          "output_type": "execute_result",
          "data": {
            "text/plain": [
              "['captions_val2017.json', 'captions_train2017.json', 'sample_data_in_file.txt']"
            ]
          },
          "metadata": {
            "tags": []
          },
          "execution_count": 68
        }
      ]
    },
    {
      "cell_type": "code",
      "metadata": {
        "id": "qQQVdNwp9ei-",
        "colab_type": "code",
        "colab": {
          "base_uri": "https://localhost:8080/",
          "height": 70
        },
        "outputId": "1708fbab-59d4-4864-c865-9d1557186d3a"
      },
      "source": [
        "with open(IPDIRANNO+'captions_val2017.json', 'r') as f:\n",
        "  data = json.load(f)\n",
        "  print(f\"data.keys() = {data.keys()}\") # dict_keys(['info', 'licenses', 'images', 'annotations'])\n",
        "  print(f\"type(data['annotations']) = {type(data['annotations'])}\") # is a list\n",
        "  print(f\"type(data['images']) = {type(data['images'])}\")      # also is a list"
      ],
      "execution_count": null,
      "outputs": [
        {
          "output_type": "stream",
          "text": [
            "data.keys() = dict_keys(['info', 'licenses', 'images', 'annotations'])\n",
            "type(data['annotations']) = <class 'list'>\n",
            "type(data['images']) = <class 'list'>\n"
          ],
          "name": "stdout"
        }
      ]
    },
    {
      "cell_type": "code",
      "metadata": {
        "id": "jR8z7oFw9eli",
        "colab_type": "code",
        "colab": {}
      },
      "source": [
        "dfanno = pd.DataFrame(data=data['annotations'])\n",
        "# dfanno.columns = Index(['image_id', 'id', 'caption'], dtype='object') \n",
        "# dfanno.dtypes =\n",
        "#   image_id     int64\n",
        "#   id           int64\n",
        "#   caption     object\n",
        "#   dtype: object\n",
        "\n",
        "dfimages = pd.DataFrame(data=data['images'])\n",
        "# dfimages.columns = Index(['license', 'file_name', 'coco_url', 'height', 'width', 'date_captured', 'flickr_url', 'id'], dtype='object')\n",
        "# dfimages.dtypes =\n",
        "#   license           int64\n",
        "#   file_name        object\n",
        "#   coco_url         object\n",
        "#   height            int64\n",
        "#   width             int64\n",
        "#   date_captured    object\n",
        "#   flickr_url       object\n",
        "#   id                int64\n",
        "#   dtype: object\n",
        "## of above, am dropping useless columns\n",
        "dfimages.drop(['license', 'coco_url', 'date_captured', 'flickr_url'], axis = 1, inplace=True)\n",
        "\n",
        "## columns remaining in the dfs are:\n",
        "# dfanno columns are      image_id , id , caption\n",
        "#                         179765   , 38 ,\tA black Honda motorcycle parked in front of a ...\n",
        "# dfimages columns are    file_name        , height ,  width , id\n",
        "#                         000000397133.jpg , 427    ,  640   , 397133\n",
        "\n",
        "## the captions are not ordered for each image and seem to randomly placed"
      ],
      "execution_count": null,
      "outputs": []
    },
    {
      "cell_type": "code",
      "metadata": {
        "id": "ufeikZDh9eoT",
        "colab_type": "code",
        "colab": {
          "base_uri": "https://localhost:8080/",
          "height": 87
        },
        "outputId": "5fbf60d5-d5df-4e5f-cbd8-05daf979a005"
      },
      "source": [
        "dfanno['caplen'] = dfanno.caption.str.len()\n",
        "print(f\"Longest length of captions = {dfanno.caplen.max()}\")   # = 250, without any pre-processing\n",
        "caption_values_with_longest_caption_len = dfanno.caption[dfanno.caplen == dfanno.caplen.max()].to_string(index=False)\n",
        "print(f\"{type(caption_values_with_longest_caption_len)}\")\n",
        "print(f\"{caption_values_with_longest_caption_len}\")\n",
        "print(f\"Count of captions with the maximum length = {dfanno.caption[dfanno.caplen == dfanno.caplen.max()].count()}\")"
      ],
      "execution_count": null,
      "outputs": [
        {
          "output_type": "stream",
          "text": [
            "Longest length of captions = 247\n",
            "<class 'str'>\n",
            " A large square concrete wall, which shows peop...\n",
            "Count of captions with the maximum length = 1\n"
          ],
          "name": "stdout"
        }
      ]
    },
    {
      "cell_type": "code",
      "metadata": {
        "id": "9sjJNosQ9etx",
        "colab_type": "code",
        "colab": {
          "base_uri": "https://localhost:8080/",
          "height": 107
        },
        "outputId": "d7d5753b-bb7b-41ce-e4dc-bc90cb2bface"
      },
      "source": [
        "dfanno.head(2)"
      ],
      "execution_count": null,
      "outputs": [
        {
          "output_type": "execute_result",
          "data": {
            "text/html": [
              "<div>\n",
              "<style scoped>\n",
              "    .dataframe tbody tr th:only-of-type {\n",
              "        vertical-align: middle;\n",
              "    }\n",
              "\n",
              "    .dataframe tbody tr th {\n",
              "        vertical-align: top;\n",
              "    }\n",
              "\n",
              "    .dataframe thead th {\n",
              "        text-align: right;\n",
              "    }\n",
              "</style>\n",
              "<table border=\"1\" class=\"dataframe\">\n",
              "  <thead>\n",
              "    <tr style=\"text-align: right;\">\n",
              "      <th></th>\n",
              "      <th>image_id</th>\n",
              "      <th>id</th>\n",
              "      <th>caption</th>\n",
              "      <th>caplen</th>\n",
              "    </tr>\n",
              "  </thead>\n",
              "  <tbody>\n",
              "    <tr>\n",
              "      <th>0</th>\n",
              "      <td>179765</td>\n",
              "      <td>38</td>\n",
              "      <td>A black Honda motorcycle parked in front of a ...</td>\n",
              "      <td>53</td>\n",
              "    </tr>\n",
              "    <tr>\n",
              "      <th>1</th>\n",
              "      <td>179765</td>\n",
              "      <td>182</td>\n",
              "      <td>A Honda motorcycle parked in a grass driveway</td>\n",
              "      <td>45</td>\n",
              "    </tr>\n",
              "  </tbody>\n",
              "</table>\n",
              "</div>"
            ],
            "text/plain": [
              "   image_id   id                                            caption  caplen\n",
              "0    179765   38  A black Honda motorcycle parked in front of a ...      53\n",
              "1    179765  182      A Honda motorcycle parked in a grass driveway      45"
            ]
          },
          "metadata": {
            "tags": []
          },
          "execution_count": 72
        }
      ]
    },
    {
      "cell_type": "code",
      "metadata": {
        "id": "ucj_IoQ2_Gwe",
        "colab_type": "code",
        "colab": {
          "base_uri": "https://localhost:8080/",
          "height": 34
        },
        "outputId": "04059b83-56a4-4a0e-f804-918c1ed893f5"
      },
      "source": [
        "## marrying the \"annotations\" and the \"images\" keys info together into dfanno\n",
        "dfanno = dfanno.merge(dfimages, left_on='image_id', right_on='id', how='inner')\n",
        "dfanno.drop(['id_y'], axis=1, inplace=True)\n",
        "dfanno.rename(columns={'id_x':'id'}, inplace=True)\n",
        "dfanno.columns"
      ],
      "execution_count": null,
      "outputs": [
        {
          "output_type": "execute_result",
          "data": {
            "text/plain": [
              "Index(['image_id', 'id', 'caption', 'caplen', 'file_name', 'height', 'width'], dtype='object')"
            ]
          },
          "metadata": {
            "tags": []
          },
          "execution_count": 73
        }
      ]
    },
    {
      "cell_type": "code",
      "metadata": {
        "id": "25_XEcGW_GzO",
        "colab_type": "code",
        "colab": {
          "base_uri": "https://localhost:8080/",
          "height": 497
        },
        "outputId": "de4118d1-8f68-4027-83e0-33414fa00214"
      },
      "source": [
        "dfanno.head(15)"
      ],
      "execution_count": null,
      "outputs": [
        {
          "output_type": "execute_result",
          "data": {
            "text/html": [
              "<div>\n",
              "<style scoped>\n",
              "    .dataframe tbody tr th:only-of-type {\n",
              "        vertical-align: middle;\n",
              "    }\n",
              "\n",
              "    .dataframe tbody tr th {\n",
              "        vertical-align: top;\n",
              "    }\n",
              "\n",
              "    .dataframe thead th {\n",
              "        text-align: right;\n",
              "    }\n",
              "</style>\n",
              "<table border=\"1\" class=\"dataframe\">\n",
              "  <thead>\n",
              "    <tr style=\"text-align: right;\">\n",
              "      <th></th>\n",
              "      <th>image_id</th>\n",
              "      <th>id</th>\n",
              "      <th>caption</th>\n",
              "      <th>caplen</th>\n",
              "      <th>file_name</th>\n",
              "      <th>height</th>\n",
              "      <th>width</th>\n",
              "    </tr>\n",
              "  </thead>\n",
              "  <tbody>\n",
              "    <tr>\n",
              "      <th>0</th>\n",
              "      <td>179765</td>\n",
              "      <td>38</td>\n",
              "      <td>A black Honda motorcycle parked in front of a ...</td>\n",
              "      <td>53</td>\n",
              "      <td>000000179765.jpg</td>\n",
              "      <td>480</td>\n",
              "      <td>640</td>\n",
              "    </tr>\n",
              "    <tr>\n",
              "      <th>1</th>\n",
              "      <td>179765</td>\n",
              "      <td>182</td>\n",
              "      <td>A Honda motorcycle parked in a grass driveway</td>\n",
              "      <td>45</td>\n",
              "      <td>000000179765.jpg</td>\n",
              "      <td>480</td>\n",
              "      <td>640</td>\n",
              "    </tr>\n",
              "    <tr>\n",
              "      <th>2</th>\n",
              "      <td>179765</td>\n",
              "      <td>479</td>\n",
              "      <td>A black Honda motorcycle with a dark burgundy ...</td>\n",
              "      <td>51</td>\n",
              "      <td>000000179765.jpg</td>\n",
              "      <td>480</td>\n",
              "      <td>640</td>\n",
              "    </tr>\n",
              "    <tr>\n",
              "      <th>3</th>\n",
              "      <td>179765</td>\n",
              "      <td>6638</td>\n",
              "      <td>Ma motorcycle parked on the gravel in front of...</td>\n",
              "      <td>55</td>\n",
              "      <td>000000179765.jpg</td>\n",
              "      <td>480</td>\n",
              "      <td>640</td>\n",
              "    </tr>\n",
              "    <tr>\n",
              "      <th>4</th>\n",
              "      <td>179765</td>\n",
              "      <td>6803</td>\n",
              "      <td>A motorcycle with its brake extended standing ...</td>\n",
              "      <td>53</td>\n",
              "      <td>000000179765.jpg</td>\n",
              "      <td>480</td>\n",
              "      <td>640</td>\n",
              "    </tr>\n",
              "    <tr>\n",
              "      <th>5</th>\n",
              "      <td>190236</td>\n",
              "      <td>401</td>\n",
              "      <td>An office cubicle with four different types of...</td>\n",
              "      <td>57</td>\n",
              "      <td>000000190236.jpg</td>\n",
              "      <td>393</td>\n",
              "      <td>640</td>\n",
              "    </tr>\n",
              "    <tr>\n",
              "      <th>6</th>\n",
              "      <td>190236</td>\n",
              "      <td>644</td>\n",
              "      <td>The home office space seems to be very cluttered.</td>\n",
              "      <td>49</td>\n",
              "      <td>000000190236.jpg</td>\n",
              "      <td>393</td>\n",
              "      <td>640</td>\n",
              "    </tr>\n",
              "    <tr>\n",
              "      <th>7</th>\n",
              "      <td>190236</td>\n",
              "      <td>2846</td>\n",
              "      <td>an office with desk computer and chair and lap...</td>\n",
              "      <td>50</td>\n",
              "      <td>000000190236.jpg</td>\n",
              "      <td>393</td>\n",
              "      <td>640</td>\n",
              "    </tr>\n",
              "    <tr>\n",
              "      <th>8</th>\n",
              "      <td>190236</td>\n",
              "      <td>3464</td>\n",
              "      <td>Office setting with a lot of computer screens.</td>\n",
              "      <td>46</td>\n",
              "      <td>000000190236.jpg</td>\n",
              "      <td>393</td>\n",
              "      <td>640</td>\n",
              "    </tr>\n",
              "    <tr>\n",
              "      <th>9</th>\n",
              "      <td>190236</td>\n",
              "      <td>4700</td>\n",
              "      <td>A desk and chair in an office cubicle.</td>\n",
              "      <td>38</td>\n",
              "      <td>000000190236.jpg</td>\n",
              "      <td>393</td>\n",
              "      <td>640</td>\n",
              "    </tr>\n",
              "    <tr>\n",
              "      <th>10</th>\n",
              "      <td>331352</td>\n",
              "      <td>441</td>\n",
              "      <td>A small closed toilet in a cramped space.</td>\n",
              "      <td>41</td>\n",
              "      <td>000000331352.jpg</td>\n",
              "      <td>500</td>\n",
              "      <td>351</td>\n",
              "    </tr>\n",
              "    <tr>\n",
              "      <th>11</th>\n",
              "      <td>331352</td>\n",
              "      <td>540</td>\n",
              "      <td>A tan toilet and sink combination in a small r...</td>\n",
              "      <td>50</td>\n",
              "      <td>000000331352.jpg</td>\n",
              "      <td>500</td>\n",
              "      <td>351</td>\n",
              "    </tr>\n",
              "    <tr>\n",
              "      <th>12</th>\n",
              "      <td>331352</td>\n",
              "      <td>981</td>\n",
              "      <td>This is an advanced toilet with a sink and con...</td>\n",
              "      <td>57</td>\n",
              "      <td>000000331352.jpg</td>\n",
              "      <td>500</td>\n",
              "      <td>351</td>\n",
              "    </tr>\n",
              "    <tr>\n",
              "      <th>13</th>\n",
              "      <td>331352</td>\n",
              "      <td>1392</td>\n",
              "      <td>A close-up picture of a toilet with a fountain.</td>\n",
              "      <td>47</td>\n",
              "      <td>000000331352.jpg</td>\n",
              "      <td>500</td>\n",
              "      <td>351</td>\n",
              "    </tr>\n",
              "    <tr>\n",
              "      <th>14</th>\n",
              "      <td>331352</td>\n",
              "      <td>2970</td>\n",
              "      <td>Off white toilet with a faucet and controls.</td>\n",
              "      <td>45</td>\n",
              "      <td>000000331352.jpg</td>\n",
              "      <td>500</td>\n",
              "      <td>351</td>\n",
              "    </tr>\n",
              "  </tbody>\n",
              "</table>\n",
              "</div>"
            ],
            "text/plain": [
              "    image_id    id  ... height  width\n",
              "0     179765    38  ...    480    640\n",
              "1     179765   182  ...    480    640\n",
              "2     179765   479  ...    480    640\n",
              "3     179765  6638  ...    480    640\n",
              "4     179765  6803  ...    480    640\n",
              "5     190236   401  ...    393    640\n",
              "6     190236   644  ...    393    640\n",
              "7     190236  2846  ...    393    640\n",
              "8     190236  3464  ...    393    640\n",
              "9     190236  4700  ...    393    640\n",
              "10    331352   441  ...    500    351\n",
              "11    331352   540  ...    500    351\n",
              "12    331352   981  ...    500    351\n",
              "13    331352  1392  ...    500    351\n",
              "14    331352  2970  ...    500    351\n",
              "\n",
              "[15 rows x 7 columns]"
            ]
          },
          "metadata": {
            "tags": []
          },
          "execution_count": 74
        }
      ]
    },
    {
      "cell_type": "code",
      "metadata": {
        "id": "edFPr2Kh_G2B",
        "colab_type": "code",
        "colab": {
          "base_uri": "https://localhost:8080/",
          "height": 34
        },
        "outputId": "3ea747c0-4249-40c7-c5e8-206bfccdceb8"
      },
      "source": [
        "## number of total captions\n",
        "## ideally should be 5000 images * 5 captions per image = 25000 , some images have more than 5 captions\n",
        "len(dfanno)"
      ],
      "execution_count": null,
      "outputs": [
        {
          "output_type": "execute_result",
          "data": {
            "text/plain": [
              "25014"
            ]
          },
          "metadata": {
            "tags": []
          },
          "execution_count": 75
        }
      ]
    },
    {
      "cell_type": "code",
      "metadata": {
        "id": "G8mhuhwi_G4l",
        "colab_type": "code",
        "colab": {
          "base_uri": "https://localhost:8080/",
          "height": 34
        },
        "outputId": "7a05e911-7d6e-42c9-cb8d-82516ecd8b5b"
      },
      "source": [
        "## number of images as per the annotations file - as expected\n",
        "dfanno['file_name'].nunique()"
      ],
      "execution_count": null,
      "outputs": [
        {
          "output_type": "execute_result",
          "data": {
            "text/plain": [
              "5000"
            ]
          },
          "metadata": {
            "tags": []
          },
          "execution_count": 76
        }
      ]
    },
    {
      "cell_type": "code",
      "metadata": {
        "id": "UAz72u3N_G7b",
        "colab_type": "code",
        "colab": {}
      },
      "source": [
        ""
      ],
      "execution_count": null,
      "outputs": []
    },
    {
      "cell_type": "code",
      "metadata": {
        "id": "BAj8bXHv9ewh",
        "colab_type": "code",
        "colab": {}
      },
      "source": [
        ""
      ],
      "execution_count": null,
      "outputs": []
    },
    {
      "cell_type": "code",
      "metadata": {
        "id": "Vc6YNr2U9ezZ",
        "colab_type": "code",
        "colab": {}
      },
      "source": [
        ""
      ],
      "execution_count": null,
      "outputs": []
    },
    {
      "cell_type": "code",
      "metadata": {
        "id": "23dZtOGmFhQB",
        "colab_type": "code",
        "colab": {}
      },
      "source": [
        ""
      ],
      "execution_count": null,
      "outputs": []
    },
    {
      "cell_type": "code",
      "metadata": {
        "id": "RuFZIchrFhSp",
        "colab_type": "code",
        "colab": {}
      },
      "source": [
        ""
      ],
      "execution_count": null,
      "outputs": []
    },
    {
      "cell_type": "markdown",
      "metadata": {
        "id": "G-rBS0Z-E4p8",
        "colab_type": "text"
      },
      "source": [
        "# Training model on the Coco Val2017 dataset\n",
        "\n",
        "## Train data = 4800 images\n",
        "## Test  data = 200  images\n",
        "\n",
        "## Note: each image will have multiple captions (up to 5 as some may be discarded)\n",
        "\n",
        "## Using this LINK: https://towardsdatascience.com/image-captioning-with-keras-teaching-computers-to-describe-pictures-c88a46a311b8\n",
        "## Image captioning with Keras"
      ]
    },
    {
      "cell_type": "code",
      "metadata": {
        "id": "buTVBtveEpqr",
        "colab_type": "code",
        "colab": {}
      },
      "source": [
        "import os\n",
        "import sys\n",
        "import json\n",
        "import time\n",
        "import datetime\n",
        "import string\n",
        "import pandas as pd\n",
        "import numpy as np\n",
        "from sklearn.model_selection import train_test_split\n",
        "import time\n",
        "import tensorflow as tf\n",
        "from tensorflow import keras\n",
        "from tensorflow.keras import layers\n",
        "import matplotlib.pyplot as plt\n",
        "import re\n",
        "import pickle\n",
        "#import itertools\n",
        "from sklearn.model_selection import train_test_split\n",
        "import PIL\n",
        "import PIL.Image"
      ],
      "execution_count": 1,
      "outputs": []
    },
    {
      "cell_type": "code",
      "metadata": {
        "id": "ebw9HVoxEptM",
        "colab_type": "code",
        "colab": {
          "base_uri": "https://localhost:8080/",
          "height": 34
        },
        "outputId": "ea0dbc34-361c-43c2-e744-b6463bfef1a1"
      },
      "source": [
        "from google.colab import drive\n",
        "drive.flush_and_unmount()\n",
        "drive.mount('/content/gdrive')"
      ],
      "execution_count": 2,
      "outputs": [
        {
          "output_type": "stream",
          "text": [
            "Mounted at /content/gdrive\n"
          ],
          "name": "stdout"
        }
      ]
    },
    {
      "cell_type": "code",
      "metadata": {
        "id": "0b0aXNyCEd3p",
        "colab_type": "code",
        "colab": {}
      },
      "source": [
        "OPDIR = '/content/gdrive/My Drive/ThesisStoryGen/Data/ImgCapTraining/CocoVal2017_1/'\n",
        "IPDIRIMGS = '/content/gdrive/My Drive/ThesisStoryGen/Data/coco_val2017_wget_1/val2017/'\n",
        "IPDIRANNO = '/content/gdrive/My Drive/ThesisStoryGen/Data/coco_annotations_trainval2017/'\n",
        "WORD_EMBEDDINGS_DIR = '/content/gdrive/My Drive/ThesisStoryGen/Data/WordEmbeddings/'"
      ],
      "execution_count": 3,
      "outputs": []
    },
    {
      "cell_type": "code",
      "metadata": {
        "id": "IGBalAoSEjmf",
        "colab_type": "code",
        "colab": {}
      },
      "source": [
        ""
      ],
      "execution_count": null,
      "outputs": []
    },
    {
      "cell_type": "markdown",
      "metadata": {
        "id": "NWNaS_12FJts",
        "colab_type": "text"
      },
      "source": [
        "## ONLY ONCE - create \"descriptions\" dictionary"
      ]
    },
    {
      "cell_type": "code",
      "metadata": {
        "id": "kU4qudInEpvf",
        "colab_type": "code",
        "colab": {}
      },
      "source": [
        "## Now, we create a dictionary named “descriptions” which contains the name of the image\n",
        "## (without the .jpg extension) as keys and a list captions for the corresponding\n",
        "## image as values."
      ],
      "execution_count": null,
      "outputs": []
    },
    {
      "cell_type": "markdown",
      "metadata": {
        "id": "PMN9aeYBFaJa",
        "colab_type": "text"
      },
      "source": [
        "### Load the info from the Val2017 annotations file (i.e. captions_val2017.json) and process it"
      ]
    },
    {
      "cell_type": "code",
      "metadata": {
        "id": "bO75f_hAEpx8",
        "colab_type": "code",
        "colab": {
          "base_uri": "https://localhost:8080/",
          "height": 34
        },
        "outputId": "dde8cb21-2174-43f1-9c02-b3fa4a7c8a03"
      },
      "source": [
        "os.listdir('/content/gdrive/My Drive/ThesisStoryGen/Data/coco_annotations_trainval2017/')"
      ],
      "execution_count": null,
      "outputs": [
        {
          "output_type": "execute_result",
          "data": {
            "text/plain": [
              "['captions_val2017.json', 'captions_train2017.json', 'sample_data_in_file.txt']"
            ]
          },
          "metadata": {
            "tags": []
          },
          "execution_count": 82
        }
      ]
    },
    {
      "cell_type": "code",
      "metadata": {
        "id": "14VHYPxjEp0f",
        "colab_type": "code",
        "colab": {
          "base_uri": "https://localhost:8080/",
          "height": 137
        },
        "outputId": "d5a868b3-6695-47b2-c474-f5cf4bc2c4a6"
      },
      "source": [
        "## from the annotations file, load the captions\n",
        "\n",
        "with open(IPDIRANNO+'captions_val2017.json', 'r') as f:\n",
        "  data = json.load(f)\n",
        "  #data.keys() # dict_keys(['info', 'licenses', 'images', 'annotations'])\n",
        "  #type(data['annotations']) # is a list\n",
        "  #type(data['images'])      # also is a list\n",
        "\n",
        "dfanno = pd.DataFrame(data=data['annotations'])\n",
        "# dfanno.columns = Index(['image_id', 'id', 'caption'], dtype='object') \n",
        "# dfanno.dtypes =\n",
        "#   image_id     int64\n",
        "#   id           int64\n",
        "#   caption     object\n",
        "#   dtype: object\n",
        "\n",
        "dfimages = pd.DataFrame(data=data['images'])\n",
        "# dfimages.columns = Index(['license', 'file_name', 'coco_url', 'height', 'width', 'date_captured', 'flickr_url', 'id'], dtype='object')\n",
        "# dfimages.dtypes =\n",
        "#   license           int64\n",
        "#   file_name        object\n",
        "#   coco_url         object\n",
        "#   height            int64\n",
        "#   width             int64\n",
        "#   date_captured    object\n",
        "#   flickr_url       object\n",
        "#   id                int64\n",
        "#   dtype: object\n",
        "## of above, am dropping useless columns\n",
        "dfimages.drop(['license', 'coco_url', 'date_captured', 'flickr_url'], axis = 1, inplace=True)\n",
        "\n",
        "## columns remaining in the dfs are:\n",
        "# dfanno columns are      image_id , id , caption\n",
        "#                         179765   , 38 ,\tA black Honda motorcycle parked in front of a ...\n",
        "# dfimages columns are    file_name        , height ,  width , id\n",
        "#                         000000397133.jpg , 427    ,  640   , 397133\n",
        "\n",
        "## the captions are not ordered for each image and seem to be randomly placed\n",
        "\n",
        "dfanno.head(3)"
      ],
      "execution_count": null,
      "outputs": [
        {
          "output_type": "execute_result",
          "data": {
            "text/html": [
              "<div>\n",
              "<style scoped>\n",
              "    .dataframe tbody tr th:only-of-type {\n",
              "        vertical-align: middle;\n",
              "    }\n",
              "\n",
              "    .dataframe tbody tr th {\n",
              "        vertical-align: top;\n",
              "    }\n",
              "\n",
              "    .dataframe thead th {\n",
              "        text-align: right;\n",
              "    }\n",
              "</style>\n",
              "<table border=\"1\" class=\"dataframe\">\n",
              "  <thead>\n",
              "    <tr style=\"text-align: right;\">\n",
              "      <th></th>\n",
              "      <th>image_id</th>\n",
              "      <th>id</th>\n",
              "      <th>caption</th>\n",
              "    </tr>\n",
              "  </thead>\n",
              "  <tbody>\n",
              "    <tr>\n",
              "      <th>0</th>\n",
              "      <td>179765</td>\n",
              "      <td>38</td>\n",
              "      <td>A black Honda motorcycle parked in front of a ...</td>\n",
              "    </tr>\n",
              "    <tr>\n",
              "      <th>1</th>\n",
              "      <td>179765</td>\n",
              "      <td>182</td>\n",
              "      <td>A Honda motorcycle parked in a grass driveway</td>\n",
              "    </tr>\n",
              "    <tr>\n",
              "      <th>2</th>\n",
              "      <td>190236</td>\n",
              "      <td>401</td>\n",
              "      <td>An office cubicle with four different types of...</td>\n",
              "    </tr>\n",
              "  </tbody>\n",
              "</table>\n",
              "</div>"
            ],
            "text/plain": [
              "   image_id   id                                            caption\n",
              "0    179765   38  A black Honda motorcycle parked in front of a ...\n",
              "1    179765  182      A Honda motorcycle parked in a grass driveway\n",
              "2    190236  401  An office cubicle with four different types of..."
            ]
          },
          "metadata": {
            "tags": []
          },
          "execution_count": 87
        }
      ]
    },
    {
      "cell_type": "code",
      "metadata": {
        "id": "bh35WWkGEp3A",
        "colab_type": "code",
        "colab": {
          "base_uri": "https://localhost:8080/",
          "height": 137
        },
        "outputId": "011f2098-9ed5-4df6-adcc-fd4c72f3af0a"
      },
      "source": [
        "## marrying the \"annotations\" and the \"images\" keys info together into dfanno\n",
        "## the file_name column has the actual image name from the \"image\" key section\n",
        "dfanno = dfanno.merge(dfimages, how=\"inner\", left_on='image_id', right_on='id')\n",
        "dfanno.drop(['height', 'width', 'id_y'], axis = 1, inplace=True)\n",
        "dfanno.rename(columns={'id_x':'id'}, inplace=True)\n",
        "dfanno.head(3)"
      ],
      "execution_count": null,
      "outputs": [
        {
          "output_type": "execute_result",
          "data": {
            "text/html": [
              "<div>\n",
              "<style scoped>\n",
              "    .dataframe tbody tr th:only-of-type {\n",
              "        vertical-align: middle;\n",
              "    }\n",
              "\n",
              "    .dataframe tbody tr th {\n",
              "        vertical-align: top;\n",
              "    }\n",
              "\n",
              "    .dataframe thead th {\n",
              "        text-align: right;\n",
              "    }\n",
              "</style>\n",
              "<table border=\"1\" class=\"dataframe\">\n",
              "  <thead>\n",
              "    <tr style=\"text-align: right;\">\n",
              "      <th></th>\n",
              "      <th>image_id</th>\n",
              "      <th>id</th>\n",
              "      <th>caption</th>\n",
              "      <th>file_name</th>\n",
              "    </tr>\n",
              "  </thead>\n",
              "  <tbody>\n",
              "    <tr>\n",
              "      <th>0</th>\n",
              "      <td>179765</td>\n",
              "      <td>38</td>\n",
              "      <td>A black Honda motorcycle parked in front of a ...</td>\n",
              "      <td>000000179765.jpg</td>\n",
              "    </tr>\n",
              "    <tr>\n",
              "      <th>1</th>\n",
              "      <td>179765</td>\n",
              "      <td>182</td>\n",
              "      <td>A Honda motorcycle parked in a grass driveway</td>\n",
              "      <td>000000179765.jpg</td>\n",
              "    </tr>\n",
              "    <tr>\n",
              "      <th>2</th>\n",
              "      <td>179765</td>\n",
              "      <td>479</td>\n",
              "      <td>A black Honda motorcycle with a dark burgundy ...</td>\n",
              "      <td>000000179765.jpg</td>\n",
              "    </tr>\n",
              "  </tbody>\n",
              "</table>\n",
              "</div>"
            ],
            "text/plain": [
              "   image_id  ...         file_name\n",
              "0    179765  ...  000000179765.jpg\n",
              "1    179765  ...  000000179765.jpg\n",
              "2    179765  ...  000000179765.jpg\n",
              "\n",
              "[3 rows x 4 columns]"
            ]
          },
          "metadata": {
            "tags": []
          },
          "execution_count": 88
        }
      ]
    },
    {
      "cell_type": "code",
      "metadata": {
        "id": "GljG2CRREp5s",
        "colab_type": "code",
        "colab": {}
      },
      "source": [
        "## Mapping image with captions using dictionary\n",
        "\n",
        "def create_descriptions_dictionary(_dfin):\n",
        "    descriptions = {}\n",
        "    for row in _dfin.itertuples():\n",
        "      rowdict = row._asdict()\n",
        "      img_filename = rowdict['file_name'].split('.')[0] # drop the .jpg part\n",
        "      img_caption = rowdict['caption']\n",
        "      if(img_filename not in descriptions):\n",
        "        descriptions[img_filename] = [img_caption]\n",
        "      else:\n",
        "        descriptions[img_filename].append(img_caption)\n",
        "    return descriptions\n",
        "\n",
        "descriptions = create_descriptions_dictionary(dfanno)"
      ],
      "execution_count": null,
      "outputs": []
    },
    {
      "cell_type": "code",
      "metadata": {
        "id": "7IE6hPhcEp8A",
        "colab_type": "code",
        "colab": {
          "base_uri": "https://localhost:8080/",
          "height": 638
        },
        "outputId": "70606e6d-684a-4126-9328-f16ce24f92f3"
      },
      "source": [
        "dict(list(descriptions.items())[12:19])"
      ],
      "execution_count": null,
      "outputs": [
        {
          "output_type": "execute_result",
          "data": {
            "text/plain": [
              "{'000000012667': ['The telephone has a banana where the receiver should be.',\n",
              "  'A banana replacing the phone on an answering machine',\n",
              "  'A phone with a banana where the receiver should be.',\n",
              "  'A telephone has it receiver replaced with a banana.',\n",
              "  'A banana placed on a phone on a table.'],\n",
              " '000000065485': ['A dog driving an SUV in an open grass covered field.',\n",
              "  'A dog sits in the front seat of a jeep. ',\n",
              "  'A dog is sitting inside a red car.',\n",
              "  'A red truck has a black dog in the drivers chair.',\n",
              "  'A dog sitting in the front seat of a truck.'],\n",
              " '000000289393': ['Set of toy animals sitting in front of a red wooden wagon.',\n",
              "  'Several toy animals - a bull, giraffe, deer and parakeet.',\n",
              "  'Some toy animals on the ground near a picture',\n",
              "  \"Children's toy animals are strewn across a floor.\",\n",
              "  'A display of vintage animal toys on the floor.'],\n",
              " '000000338325': ['A striped plane flying up into the sky as the sun shines behind it.',\n",
              "  'An airplane is ascending into the white sky',\n",
              "  'An American Airlines plane is in the sky',\n",
              "  'A red, white, and blue plane is in the sky.',\n",
              "  'A plane flies through the sky at an angle. '],\n",
              " '000000482917': ['A dog sitting between its masters feet on a footstool watching tv\\n',\n",
              "  'A dog between the feet of a person looking at a TV.',\n",
              "  'A dog and a person are watching television together.',\n",
              "  'A person is sitting with their dog watching tv.',\n",
              "  'A man relaxing at home, watching television with his dog.'],\n",
              " '000000534605': ['Man in motorcycle leathers standing in front of a group of bikes',\n",
              "  'Bikers, dressed in their gear, standing near their motorcycles.',\n",
              "  'A group of men stand next to their bicycles.',\n",
              "  'Three men standing around their motorcycles in a parking lot.',\n",
              "  'Group of three motorcyclists standing in front of their motorcycles.'],\n",
              " '000000561256': ['A woman wearing a hat & pink top takes a selfie in front of a bathroom mirror.',\n",
              "  'A woman in a flowered dress taking a selfie in a bathroom mirror.',\n",
              "  'An older woman in a flower dress takes a self photo in the mirror.',\n",
              "  'A woman in a yellow bathroom is holding a camera.',\n",
              "  'A woman taking a picture of herself in a bathroom.']}"
            ]
          },
          "metadata": {
            "tags": []
          },
          "execution_count": 90
        }
      ]
    },
    {
      "cell_type": "code",
      "metadata": {
        "id": "u30hMY1uEp-t",
        "colab_type": "code",
        "colab": {
          "base_uri": "https://localhost:8080/",
          "height": 105
        },
        "outputId": "c065f48e-4c9e-4487-cdcd-7d18da7b32ef"
      },
      "source": [
        "## example of caption with a hyphen - in the text\n",
        "descriptions['000000289393']"
      ],
      "execution_count": null,
      "outputs": [
        {
          "output_type": "execute_result",
          "data": {
            "text/plain": [
              "['Set of toy animals sitting in front of a red wooden wagon.',\n",
              " 'Several toy animals - a bull, giraffe, deer and parakeet.',\n",
              " 'Some toy animals on the ground near a picture',\n",
              " \"Children's toy animals are strewn across a floor.\",\n",
              " 'A display of vintage animal toys on the floor.']"
            ]
          },
          "metadata": {
            "tags": []
          },
          "execution_count": 91
        }
      ]
    },
    {
      "cell_type": "code",
      "metadata": {
        "id": "u0w7L185EqBU",
        "colab_type": "code",
        "colab": {}
      },
      "source": [
        ""
      ],
      "execution_count": null,
      "outputs": []
    },
    {
      "cell_type": "markdown",
      "metadata": {
        "id": "pOVUkimpI819",
        "colab_type": "text"
      },
      "source": [
        "### Data cleaning on the \"descriptions\" dictionary values\n",
        "\n",
        "### Following clean up done:\n",
        "### 1. lower casing\n",
        "### 2. punctuation removal\n",
        "### 3. remove any words with length = 1\n",
        "### 4. remove any words with alphanumeric"
      ]
    },
    {
      "cell_type": "code",
      "metadata": {
        "id": "vluW2RFnEqD4",
        "colab_type": "code",
        "colab": {}
      },
      "source": [
        "# prepare translation table for removing punctuation\n",
        "table = str.maketrans('', '', string.punctuation)\n",
        "for key, desc_list in descriptions.items():\n",
        "    for i in range(len(desc_list)):\n",
        "        desc = desc_list[i]\n",
        "        # tokenize\n",
        "        desc = desc.split()\n",
        "        # convert to lower case\n",
        "        desc = [word.lower() for word in desc]\n",
        "        # remove punctuation from each token\n",
        "        desc = [w.translate(table) for w in desc]\n",
        "        # remove hanging 's' and 'a'\n",
        "        desc = [word for word in desc if len(word)>1]\n",
        "        # remove tokens with numbers in them\n",
        "        desc = [word for word in desc if word.isalpha()]\n",
        "        # store as string\n",
        "        desc_list[i] =  ' '.join(desc)"
      ],
      "execution_count": null,
      "outputs": []
    },
    {
      "cell_type": "code",
      "metadata": {
        "id": "lY0tQci4Ip_C",
        "colab_type": "code",
        "colab": {
          "base_uri": "https://localhost:8080/",
          "height": 105
        },
        "outputId": "42498a5f-94d2-4a55-d0d2-5f54a8ad3dfb"
      },
      "source": [
        "## example of caption which had the hyphen - in the text\n",
        "descriptions['000000289393']"
      ],
      "execution_count": null,
      "outputs": [
        {
          "output_type": "execute_result",
          "data": {
            "text/plain": [
              "['set of toy animals sitting in front of red wooden wagon',\n",
              " 'several toy animals bull giraffe deer and parakeet',\n",
              " 'some toy animals on the ground near picture',\n",
              " 'childrens toy animals are strewn across floor',\n",
              " 'display of vintage animal toys on the floor']"
            ]
          },
          "metadata": {
            "tags": []
          },
          "execution_count": 95
        }
      ]
    },
    {
      "cell_type": "markdown",
      "metadata": {
        "id": "gKlYqOYqMrNs",
        "colab_type": "text"
      },
      "source": [
        "### Pickle the \"descriptions\" dictionary"
      ]
    },
    {
      "cell_type": "code",
      "metadata": {
        "id": "ngtPhys2IqB1",
        "colab_type": "code",
        "colab": {
          "base_uri": "https://localhost:8080/",
          "height": 35
        },
        "outputId": "04f0ae18-d415-4e4d-fe6b-902465e51ecf"
      },
      "source": [
        "OPDIR"
      ],
      "execution_count": null,
      "outputs": [
        {
          "output_type": "execute_result",
          "data": {
            "application/vnd.google.colaboratory.intrinsic+json": {
              "type": "string"
            },
            "text/plain": [
              "'/content/gdrive/My Drive/ThesisStoryGen/Data/ImgCapTraining/CocoVal2017_1/'"
            ]
          },
          "metadata": {
            "tags": []
          },
          "execution_count": 97
        }
      ]
    },
    {
      "cell_type": "code",
      "metadata": {
        "id": "LCO_XlLOMb5i",
        "colab_type": "code",
        "colab": {
          "base_uri": "https://localhost:8080/",
          "height": 34
        },
        "outputId": "4b50ac66-3398-4873-e9ce-aad0acc6bd15"
      },
      "source": [
        "## pickle the descriptions dictionary\n",
        "with open(OPDIR+'val2017_all_5k_images_descriptions_pickled_1.pkl', 'wb') as handle:\n",
        "    pickle.dump(descriptions, handle, protocol=pickle.HIGHEST_PROTOCOL)\n",
        "print(f\"Pickling of 'descriptions' done\")"
      ],
      "execution_count": null,
      "outputs": [
        {
          "output_type": "stream",
          "text": [
            "Pickling of 'descriptions' done\n"
          ],
          "name": "stdout"
        }
      ]
    },
    {
      "cell_type": "code",
      "metadata": {
        "id": "z9--XHFPMZ3C",
        "colab_type": "code",
        "colab": {
          "base_uri": "https://localhost:8080/",
          "height": 34
        },
        "outputId": "4ff9ec63-7f85-4213-a562-9ac066c172fa"
      },
      "source": [
        "print(f\"Size of 'descriptions' dictionary = {sys.getsizeof(descriptions)} bytes\")"
      ],
      "execution_count": null,
      "outputs": [
        {
          "output_type": "stream",
          "text": [
            "Size of 'descriptions' dictionary = 147560 bytes\n"
          ],
          "name": "stdout"
        }
      ]
    },
    {
      "cell_type": "code",
      "metadata": {
        "id": "xl0QLg7MNok5",
        "colab_type": "code",
        "colab": {}
      },
      "source": [
        "del descriptions"
      ],
      "execution_count": null,
      "outputs": []
    },
    {
      "cell_type": "code",
      "metadata": {
        "id": "E2y9t554Nonv",
        "colab_type": "code",
        "colab": {
          "base_uri": "https://localhost:8080/",
          "height": 167
        },
        "outputId": "d8c24197-e5ac-4270-ebd5-1e0b4f145714"
      },
      "source": [
        "print(f\"Size of 'descriptions' dictionary = {sys.getsizeof(descriptions)} bytes\")"
      ],
      "execution_count": null,
      "outputs": [
        {
          "output_type": "error",
          "ename": "NameError",
          "evalue": "ignored",
          "traceback": [
            "\u001b[0;31m---------------------------------------------------------------------------\u001b[0m",
            "\u001b[0;31mNameError\u001b[0m                                 Traceback (most recent call last)",
            "\u001b[0;32m<ipython-input-106-cea84e4aa4c5>\u001b[0m in \u001b[0;36m<module>\u001b[0;34m()\u001b[0m\n\u001b[0;32m----> 1\u001b[0;31m \u001b[0mprint\u001b[0m\u001b[0;34m(\u001b[0m\u001b[0;34mf\"Size of 'descriptions' dictionary = {sys.getsizeof(descriptions)} bytes\"\u001b[0m\u001b[0;34m)\u001b[0m\u001b[0;34m\u001b[0m\u001b[0;34m\u001b[0m\u001b[0m\n\u001b[0m",
            "\u001b[0;31mNameError\u001b[0m: name 'descriptions' is not defined"
          ]
        }
      ]
    },
    {
      "cell_type": "code",
      "metadata": {
        "id": "PXriycorNZdc",
        "colab_type": "code",
        "colab": {}
      },
      "source": [
        ""
      ],
      "execution_count": null,
      "outputs": []
    },
    {
      "cell_type": "markdown",
      "metadata": {
        "id": "VCmDmSblNiLt",
        "colab_type": "text"
      },
      "source": [
        "## ALWAYS - Reload \"descriptions\" dictionary from picked file\n",
        "\n",
        "### Reload the dictionary named “descriptions” which contains the name of the image (without the .jpg extension) as keys and a list captions for the corresponding image as values.\n",
        "###\n",
        "### sys.getsizeof(descriptions) should be = 147560 bytes\n",
        "### \n",
        "### Example of an entry: descriptions['000000289393'] should output as below:\n",
        "### ['set of toy animals sitting in front of red wooden wagon',\n",
        "###  'several toy animals bull giraffe deer and parakeet',\n",
        "###  'some toy animals on the ground near picture',\n",
        "###  'childrens toy animals are strewn across floor',\n",
        "###  'display of vintage animal toys on the floor']"
      ]
    },
    {
      "cell_type": "code",
      "metadata": {
        "id": "izV8wx5VNZgT",
        "colab_type": "code",
        "colab": {}
      },
      "source": [
        "## Reload the dictionary named “descriptions” which contains the name of the image\n",
        "## (without the .jpg extension) as keys and a list captions for the corresponding\n",
        "## image as values."
      ],
      "execution_count": 4,
      "outputs": []
    },
    {
      "cell_type": "code",
      "metadata": {
        "id": "YHYxTBUUO93x",
        "colab_type": "code",
        "colab": {
          "base_uri": "https://localhost:8080/",
          "height": 35
        },
        "outputId": "461fa9c2-4f9e-4b26-a01d-d4f5efe8d308"
      },
      "source": [
        "OPDIR"
      ],
      "execution_count": 5,
      "outputs": [
        {
          "output_type": "execute_result",
          "data": {
            "application/vnd.google.colaboratory.intrinsic+json": {
              "type": "string"
            },
            "text/plain": [
              "'/content/gdrive/My Drive/ThesisStoryGen/Data/ImgCapTraining/CocoVal2017_1/'"
            ]
          },
          "metadata": {
            "tags": []
          },
          "execution_count": 5
        }
      ]
    },
    {
      "cell_type": "code",
      "metadata": {
        "id": "nsvqMlHbMZ6G",
        "colab_type": "code",
        "colab": {
          "base_uri": "https://localhost:8080/",
          "height": 158
        },
        "outputId": "c4d4311f-65ee-4758-8850-48db97bd1086"
      },
      "source": [
        "## reload from picked file\n",
        "if True:\n",
        "  with open(OPDIR+'val2017_all_5k_images_descriptions_pickled_1.pkl', 'rb') as handle:\n",
        "    descriptions = pickle.load(handle)\n",
        "\n",
        "print(f\"Size of 'descriptions' dictionary = {sys.getsizeof(descriptions)} bytes\\n\")\n",
        "\n",
        "print(f\"descriptions['000000289393']\")\n",
        "descriptions['000000289393']"
      ],
      "execution_count": 6,
      "outputs": [
        {
          "output_type": "stream",
          "text": [
            "Size of 'descriptions' dictionary = 147560 bytes\n",
            "\n",
            "descriptions['000000289393']\n"
          ],
          "name": "stdout"
        },
        {
          "output_type": "execute_result",
          "data": {
            "text/plain": [
              "['set of toy animals sitting in front of red wooden wagon',\n",
              " 'several toy animals bull giraffe deer and parakeet',\n",
              " 'some toy animals on the ground near picture',\n",
              " 'childrens toy animals are strewn across floor',\n",
              " 'display of vintage animal toys on the floor']"
            ]
          },
          "metadata": {
            "tags": []
          },
          "execution_count": 6
        }
      ]
    },
    {
      "cell_type": "code",
      "metadata": {
        "id": "8DXDGHroQD46",
        "colab_type": "code",
        "colab": {
          "base_uri": "https://localhost:8080/",
          "height": 34
        },
        "outputId": "ecdaa1a2-d165-42aa-d3db-7372311a9c0d"
      },
      "source": [
        "len(descriptions)"
      ],
      "execution_count": 7,
      "outputs": [
        {
          "output_type": "execute_result",
          "data": {
            "text/plain": [
              "5000"
            ]
          },
          "metadata": {
            "tags": []
          },
          "execution_count": 7
        }
      ]
    },
    {
      "cell_type": "code",
      "metadata": {
        "id": "kFDf0Eq7QHdM",
        "colab_type": "code",
        "colab": {}
      },
      "source": [
        ""
      ],
      "execution_count": null,
      "outputs": []
    },
    {
      "cell_type": "markdown",
      "metadata": {
        "id": "dfE6Q0FSQJbM",
        "colab_type": "text"
      },
      "source": [
        "## ALWAYS - Using the descriptions dictionary, split data into a train and val.\n",
        "### Will make two lists containing only the file name without the .jpg"
      ]
    },
    {
      "cell_type": "code",
      "metadata": {
        "id": "RY5I3-yZQHgT",
        "colab_type": "code",
        "colab": {
          "base_uri": "https://localhost:8080/",
          "height": 34
        },
        "outputId": "989af775-bd85-4e37-d4cc-fd9f399eaf14"
      },
      "source": [
        "all_imgs_for_splitting = [key for key in descriptions.keys()]\n",
        "\n",
        "TRAIN_SIZE_N = 4800 ## mean balance 5000 - TRAIN_SIZE_N will be set to val data size.\n",
        "train_imgs_arr, val_imgs_arr = train_test_split(all_imgs_for_splitting, train_size = TRAIN_SIZE_N, random_state=444)\n",
        "\n",
        "print(f\"Sizes of: Train = {len(train_imgs_arr)},  Val = {len(val_imgs_arr)},  Train = {len(all_imgs_for_splitting)}\")\n",
        "del all_imgs_for_splitting"
      ],
      "execution_count": 8,
      "outputs": [
        {
          "output_type": "stream",
          "text": [
            "Sizes of: Train = 4800,  Val = 200,  Train = 5000\n"
          ],
          "name": "stdout"
        }
      ]
    },
    {
      "cell_type": "code",
      "metadata": {
        "id": "_ISreES_WuAE",
        "colab_type": "code",
        "colab": {}
      },
      "source": [
        ""
      ],
      "execution_count": null,
      "outputs": []
    },
    {
      "cell_type": "markdown",
      "metadata": {
        "id": "aixmm4GbVf8n",
        "colab_type": "text"
      },
      "source": [
        "## ALWAYS - Add the    startseq    and    endseq    tokens to all the descriptions and create 3 sets: one for all the descriptions, one for the train, one for the test\n",
        "\n",
        "### At end of this section we will have four dictionaries of captions:\n",
        "###    variable --------------------------------------------------- start/end seq present ---- which images\n",
        "### 1) descriptions ------------------------------------------------------ NO ------------------------- all 5k\n",
        "### 2) descriptions_all_start_end_seq ------------------------ YES -------------------------- all 5k\n",
        "### 3) descriptions_train_start_end_seq -------------------- YES ----------------------- train number (4800)\n",
        "### 4) descriptions_val_start_end_seq ----------------------- YES ----------------------- val number (200)"
      ]
    },
    {
      "cell_type": "code",
      "metadata": {
        "id": "9ZOSv26-VfLT",
        "colab_type": "code",
        "colab": {
          "base_uri": "https://localhost:8080/",
          "height": 125
        },
        "outputId": "416d5389-2d9e-4548-ad93-c5daa1f286cd"
      },
      "source": [
        "## see the unchanged descriptions - note no startseq and endseq present now\n",
        "i=0\n",
        "for k, v in descriptions.items():\n",
        "  i+=1\n",
        "  if i>5:\n",
        "    break\n",
        "  print(k, v)"
      ],
      "execution_count": 9,
      "outputs": [
        {
          "output_type": "stream",
          "text": [
            "000000179765 ['black honda motorcycle parked in front of garage', 'honda motorcycle parked in grass driveway', 'black honda motorcycle with dark burgundy seat', 'ma motorcycle parked on the gravel in front of garage', 'motorcycle with its brake extended standing outside']\n",
            "000000190236 ['an office cubicle with four different types of computers', 'the home office space seems to be very cluttered', 'an office with desk computer and chair and laptop', 'office setting with lot of computer screens', 'desk and chair in an office cubicle']\n",
            "000000331352 ['small closed toilet in cramped space', 'tan toilet and sink combination in small room', 'this is an advanced toilet with sink and control panel', 'closeup picture of toilet with fountain', 'off white toilet with faucet and controls']\n",
            "000000517069 ['two women waiting at bench next to street', 'woman sitting on bench and woman standing waiting for the bus', 'woman sitting on bench in the middle of the city', 'woman sitting on bench and woman standing behind the bench at bus stop', 'woman and another woman waiting at stop']\n",
            "000000182417 ['beautiful dessert waiting to be shared by two people', 'there is piece of cake on plate with decorations on it', 'creamy cheesecake dessert with whip cream and caramel', 'an extravagant dessert on plate overlooking the water', 'this is picture of an extremely fancy desert']\n"
          ],
          "name": "stdout"
        }
      ]
    },
    {
      "cell_type": "code",
      "metadata": {
        "id": "s9anjGgafTg7",
        "colab_type": "code",
        "colab": {}
      },
      "source": [
        "## update the captions of all descriptions\n",
        "\n",
        "descriptions_all_start_end_seq = descriptions.copy()\n",
        "\n",
        "for k, v in descriptions_all_start_end_seq.items():\n",
        "  updated_cap_arr = [''.join(['startseq ', caption, ' endseq']) for caption in v]\n",
        "  descriptions_all_start_end_seq.update( { k : updated_cap_arr } )"
      ],
      "execution_count": 10,
      "outputs": []
    },
    {
      "cell_type": "code",
      "metadata": {
        "id": "vGWuZDqKfTjp",
        "colab_type": "code",
        "colab": {
          "base_uri": "https://localhost:8080/",
          "height": 125
        },
        "outputId": "26f9cbcb-871f-4deb-b2ca-26aa869e3e29"
      },
      "source": [
        "## see the unchanged descriptions - note no startseq and endseq present STILL\n",
        "i=0\n",
        "for k, v in descriptions.items():\n",
        "  i+=1\n",
        "  if i>5:\n",
        "    break\n",
        "  print(k, v)"
      ],
      "execution_count": 11,
      "outputs": [
        {
          "output_type": "stream",
          "text": [
            "000000179765 ['black honda motorcycle parked in front of garage', 'honda motorcycle parked in grass driveway', 'black honda motorcycle with dark burgundy seat', 'ma motorcycle parked on the gravel in front of garage', 'motorcycle with its brake extended standing outside']\n",
            "000000190236 ['an office cubicle with four different types of computers', 'the home office space seems to be very cluttered', 'an office with desk computer and chair and laptop', 'office setting with lot of computer screens', 'desk and chair in an office cubicle']\n",
            "000000331352 ['small closed toilet in cramped space', 'tan toilet and sink combination in small room', 'this is an advanced toilet with sink and control panel', 'closeup picture of toilet with fountain', 'off white toilet with faucet and controls']\n",
            "000000517069 ['two women waiting at bench next to street', 'woman sitting on bench and woman standing waiting for the bus', 'woman sitting on bench in the middle of the city', 'woman sitting on bench and woman standing behind the bench at bus stop', 'woman and another woman waiting at stop']\n",
            "000000182417 ['beautiful dessert waiting to be shared by two people', 'there is piece of cake on plate with decorations on it', 'creamy cheesecake dessert with whip cream and caramel', 'an extravagant dessert on plate overlooking the water', 'this is picture of an extremely fancy desert']\n"
          ],
          "name": "stdout"
        }
      ]
    },
    {
      "cell_type": "code",
      "metadata": {
        "id": "02IQe_SRfTmR",
        "colab_type": "code",
        "colab": {
          "base_uri": "https://localhost:8080/",
          "height": 125
        },
        "outputId": "250bfc53-ee2c-4d6a-8546-5633f0d814ad"
      },
      "source": [
        "## see the changed descriptions - note startseq and endseq IS PRESENT in this copy\n",
        "i=0\n",
        "for k, v in descriptions_all_start_end_seq.items():\n",
        "  i+=1\n",
        "  if i>5:\n",
        "    break\n",
        "  print(k, v)"
      ],
      "execution_count": 12,
      "outputs": [
        {
          "output_type": "stream",
          "text": [
            "000000179765 ['startseq black honda motorcycle parked in front of garage endseq', 'startseq honda motorcycle parked in grass driveway endseq', 'startseq black honda motorcycle with dark burgundy seat endseq', 'startseq ma motorcycle parked on the gravel in front of garage endseq', 'startseq motorcycle with its brake extended standing outside endseq']\n",
            "000000190236 ['startseq an office cubicle with four different types of computers endseq', 'startseq the home office space seems to be very cluttered endseq', 'startseq an office with desk computer and chair and laptop endseq', 'startseq office setting with lot of computer screens endseq', 'startseq desk and chair in an office cubicle endseq']\n",
            "000000331352 ['startseq small closed toilet in cramped space endseq', 'startseq tan toilet and sink combination in small room endseq', 'startseq this is an advanced toilet with sink and control panel endseq', 'startseq closeup picture of toilet with fountain endseq', 'startseq off white toilet with faucet and controls endseq']\n",
            "000000517069 ['startseq two women waiting at bench next to street endseq', 'startseq woman sitting on bench and woman standing waiting for the bus endseq', 'startseq woman sitting on bench in the middle of the city endseq', 'startseq woman sitting on bench and woman standing behind the bench at bus stop endseq', 'startseq woman and another woman waiting at stop endseq']\n",
            "000000182417 ['startseq beautiful dessert waiting to be shared by two people endseq', 'startseq there is piece of cake on plate with decorations on it endseq', 'startseq creamy cheesecake dessert with whip cream and caramel endseq', 'startseq an extravagant dessert on plate overlooking the water endseq', 'startseq this is picture of an extremely fancy desert endseq']\n"
          ],
          "name": "stdout"
        }
      ]
    },
    {
      "cell_type": "code",
      "metadata": {
        "id": "VxQlzQbVflqc",
        "colab_type": "code",
        "colab": {}
      },
      "source": [
        "## using the train and val arrays of image names (which match our keys in descriptions),\n",
        "## create the descriptiosn for the train and val"
      ],
      "execution_count": 13,
      "outputs": []
    },
    {
      "cell_type": "code",
      "metadata": {
        "id": "UZkXBERmgDfk",
        "colab_type": "code",
        "colab": {
          "base_uri": "https://localhost:8080/",
          "height": 34
        },
        "outputId": "74f4bb39-669a-42da-f6ce-c45c9f38f820"
      },
      "source": [
        "## make copies of all images descriptions, then remove suitable items from each\n",
        "descriptions_train_start_end_seq = descriptions_all_start_end_seq.copy()\n",
        "descriptions_val_start_end_seq = descriptions_all_start_end_seq.copy()\n",
        "\n",
        "for key_train in train_imgs_arr:\n",
        "  del descriptions_val_start_end_seq[key_train]\n",
        "for key_val in val_imgs_arr:\n",
        "  del descriptions_train_start_end_seq[key_val]\n",
        "print(f\"Sizes of descriptions dicts for: Train = {len(descriptions_train_start_end_seq)},  Val = {len(descriptions_val_start_end_seq)},  Train = {len(descriptions_all_start_end_seq)}\")"
      ],
      "execution_count": 14,
      "outputs": [
        {
          "output_type": "stream",
          "text": [
            "Sizes of descriptions dicts for: Train = 4800,  Val = 200,  Train = 5000\n"
          ],
          "name": "stdout"
        }
      ]
    },
    {
      "cell_type": "code",
      "metadata": {
        "id": "z_yXM-eQgDii",
        "colab_type": "code",
        "colab": {
          "base_uri": "https://localhost:8080/",
          "height": 125
        },
        "outputId": "65fbd993-c361-4caf-ecd9-265cc124e981"
      },
      "source": [
        "## see the train descriptions - note startseq and endseq IS PRESENT\n",
        "i=0\n",
        "for k, v in descriptions_train_start_end_seq.items():\n",
        "  i+=1\n",
        "  if i>5:\n",
        "    break\n",
        "  print(k, v)"
      ],
      "execution_count": 15,
      "outputs": [
        {
          "output_type": "stream",
          "text": [
            "000000190236 ['startseq an office cubicle with four different types of computers endseq', 'startseq the home office space seems to be very cluttered endseq', 'startseq an office with desk computer and chair and laptop endseq', 'startseq office setting with lot of computer screens endseq', 'startseq desk and chair in an office cubicle endseq']\n",
            "000000331352 ['startseq small closed toilet in cramped space endseq', 'startseq tan toilet and sink combination in small room endseq', 'startseq this is an advanced toilet with sink and control panel endseq', 'startseq closeup picture of toilet with fountain endseq', 'startseq off white toilet with faucet and controls endseq']\n",
            "000000517069 ['startseq two women waiting at bench next to street endseq', 'startseq woman sitting on bench and woman standing waiting for the bus endseq', 'startseq woman sitting on bench in the middle of the city endseq', 'startseq woman sitting on bench and woman standing behind the bench at bus stop endseq', 'startseq woman and another woman waiting at stop endseq']\n",
            "000000182417 ['startseq beautiful dessert waiting to be shared by two people endseq', 'startseq there is piece of cake on plate with decorations on it endseq', 'startseq creamy cheesecake dessert with whip cream and caramel endseq', 'startseq an extravagant dessert on plate overlooking the water endseq', 'startseq this is picture of an extremely fancy desert endseq']\n",
            "000000046378 ['startseq cat eating bird it has caught endseq', 'startseq white cat caught bird outside on patio endseq', 'startseq grey house cat devours song bird on door step endseq', 'startseq long haired cat eating dead bird endseq', 'startseq cat eating dead bird on the ground endseq']\n"
          ],
          "name": "stdout"
        }
      ]
    },
    {
      "cell_type": "code",
      "metadata": {
        "id": "GbWdnj-sfltJ",
        "colab_type": "code",
        "colab": {
          "base_uri": "https://localhost:8080/",
          "height": 125
        },
        "outputId": "812554e0-941b-4758-fb01-a34d8ae2e368"
      },
      "source": [
        "## see the val descriptions - note startseq and endseq IS PRESENT\n",
        "i=0\n",
        "for k, v in descriptions_val_start_end_seq.items():\n",
        "  i+=1\n",
        "  if i>5:\n",
        "    break\n",
        "  print(k, v)"
      ],
      "execution_count": 16,
      "outputs": [
        {
          "output_type": "stream",
          "text": [
            "000000179765 ['startseq black honda motorcycle parked in front of garage endseq', 'startseq honda motorcycle parked in grass driveway endseq', 'startseq black honda motorcycle with dark burgundy seat endseq', 'startseq ma motorcycle parked on the gravel in front of garage endseq', 'startseq motorcycle with its brake extended standing outside endseq']\n",
            "000000255965 ['startseq cat pausing as its picture is taken endseq', 'startseq blue eyed tabby cat crouched on the ground endseq', 'startseq black cat with white stomach takes pose endseq', 'startseq cat sitting on street corner looking at the camera endseq', 'startseq stripped cat sitting near brick wall endseq']\n",
            "000000228214 ['startseq marine that is looking at his cell phone endseq', 'startseq marine in uniform using smart phone endseq', 'startseq full dressed marine is looking at his cell phone endseq', 'startseq man in uniform is looking at his phone endseq', 'startseq service man is looking at his cel phone endseq']\n",
            "000000026564 ['startseq an office desk with row of books and desktop computer and laptop computer on the desk endseq', 'startseq desktop computer next to laptop computer endseq', 'startseq desk with laptop some keyboards and some books endseq', 'startseq there is desktop computer and laptop sitting on an organize desk in an office endseq', 'startseq office desk with monitor laptop and books endseq']\n",
            "000000055002 ['startseq metallic toilet sitting in small bathroom endseq', 'startseq an overhead of stainless steel open toilet with mans feet stradling endseq', 'startseq man standing over shiny metal toilet endseq', 'startseq an aerial view of an open toilet seat that someone is standing in front of endseq', 'startseq metal commode from above photographers shoes visible endseq']\n"
          ],
          "name": "stdout"
        }
      ]
    },
    {
      "cell_type": "code",
      "metadata": {
        "id": "8DURpFw2hpSX",
        "colab_type": "code",
        "colab": {}
      },
      "source": [
        ""
      ],
      "execution_count": null,
      "outputs": []
    },
    {
      "cell_type": "markdown",
      "metadata": {
        "id": "rfk-y5SjLKlo",
        "colab_type": "text"
      },
      "source": [
        "## ALWAYS - Create the vocabulary based on the captions in the \"descriptions\" dictionary - **NOT the one with the startseq and endseq word insertions to the caption**\n",
        "\n",
        "###**NOTE: FOR NOW USING THE ALL THE 5K IMAGES CAPTIONS**\n",
        "###**LATER CONSIDER USING ONLY THE TRAIN 4800 CAPTIONS!!!!!!!**\n",
        "\n",
        "### First for all the words\n",
        "### Then culled based on frequency > threshold"
      ]
    },
    {
      "cell_type": "code",
      "metadata": {
        "id": "CRAYM1REIqEk",
        "colab_type": "code",
        "colab": {
          "base_uri": "https://localhost:8080/",
          "height": 34
        },
        "outputId": "3a62fd4f-ff2f-44c0-e79a-de105673006c"
      },
      "source": [
        "vocabulary = set()\n",
        "for key in descriptions.keys():\n",
        "    [vocabulary.update(d.split()) for d in descriptions[key]]\n",
        "print(f\"Original Vocabulary Size: {len(vocabulary)}\")"
      ],
      "execution_count": 17,
      "outputs": [
        {
          "output_type": "stream",
          "text": [
            "Original Vocabulary Size: 7244\n"
          ],
          "name": "stdout"
        }
      ]
    },
    {
      "cell_type": "code",
      "metadata": {
        "id": "5lBBO5n0IqHG",
        "colab_type": "code",
        "colab": {}
      },
      "source": [
        "## This means we have 7244 unique words across all the captions for the 5000 images\n",
        "## \n",
        "## However, if we think about it, many of these words will occur very few times, \n",
        "## say 1, 2 or 3 times. Since we are creating a predictive model, we would not like \n",
        "## to have all the words present in our vocabulary but the words which are more \n",
        "## likely to occur or which are common. This helps the model become more robust \n",
        "## to outliers and make less mistakes.\n",
        "##\n",
        "## Hence we consider only those words which occur at least 10 times in the entire corpus."
      ],
      "execution_count": 18,
      "outputs": []
    },
    {
      "cell_type": "code",
      "metadata": {
        "id": "gFP5GJaVIqJ-",
        "colab_type": "code",
        "colab": {
          "base_uri": "https://localhost:8080/",
          "height": 52
        },
        "outputId": "62731651-ebf6-4042-f20a-1ef77b873f9c"
      },
      "source": [
        "# Create a list of all the training captions\n",
        "## for now treating all the 5k images in coco val2017 as training data\n",
        "##     so using all the captions\n",
        "\n",
        "all_captions = []\n",
        "for key, val in descriptions.items():\n",
        "    for cap in val:\n",
        "        all_captions.append(cap)\n",
        "\n",
        "# Consider only words which occur at least 10 times in the corpus\n",
        "word_count_threshold = 10\n",
        "word_counts = {}\n",
        "nsents = 0\n",
        "for sent in all_captions:\n",
        "    nsents += 1\n",
        "    for w in sent.split(' '):\n",
        "        word_counts[w] = word_counts.get(w, 0) + 1\n",
        "\n",
        "vocab_threshold = [w for w in word_counts if word_counts[w] >= word_count_threshold]\n",
        "\n",
        "print(f\"Preprocessed words occurring more than threshold = {word_count_threshold} times , \\n={len(vocab_threshold)}\")"
      ],
      "execution_count": 19,
      "outputs": [
        {
          "output_type": "stream",
          "text": [
            "Preprocessed words occurring more than threshold = 10 times , \n",
            "=1522\n"
          ],
          "name": "stdout"
        }
      ]
    },
    {
      "cell_type": "code",
      "metadata": {
        "id": "-KdRyQzEK4Ke",
        "colab_type": "code",
        "colab": {}
      },
      "source": [
        "## Thus from 7244 unique words in original vocabulary,\n",
        "## the count of unique words is now 1522 in the vocab_threshold\n",
        "\n",
        "## So we now have two vocabulary variables:\n",
        "#### 1) vocabulary\n",
        "####    list of ALL unique words in our 5k captions\n",
        "#### 2) vocab_threshold\n",
        "####    list of unique words occuring MORE than the threshold limit\n",
        "\n",
        "## NOTE: Eventually though we will be zero-padding, so the total words = len(vocab_threshold) + 1\n",
        "##       Additional one index for the 0\n",
        "###      i.e. 1522 + 1 = 1523"
      ],
      "execution_count": 20,
      "outputs": []
    },
    {
      "cell_type": "code",
      "metadata": {
        "id": "-SIaSsAMK4QA",
        "colab_type": "code",
        "colab": {}
      },
      "source": [
        ""
      ],
      "execution_count": null,
      "outputs": []
    },
    {
      "cell_type": "markdown",
      "metadata": {
        "id": "6sPQDj7MeQbJ",
        "colab_type": "text"
      },
      "source": [
        "## ONLY ONCE - Data Preprocessing — Images\n",
        "\n",
        "### Make Inception-v3 pre-trained model. Use it to create image feature vectors. Finally pickle for reloading"
      ]
    },
    {
      "cell_type": "markdown",
      "metadata": {
        "id": "wa0jo17YeWdL",
        "colab_type": "text"
      },
      "source": [
        "### Preprocessing of images - do this only first time, later reload from picked file"
      ]
    },
    {
      "cell_type": "code",
      "metadata": {
        "id": "e7G7vsbuK4Se",
        "colab_type": "code",
        "colab": {}
      },
      "source": [
        "## Make images suitable for use by Inception-v3 model later\n",
        "##\n",
        "## Resize to (299, 299)\n",
        "## As model needs 4-dim input tensor, add one dimenion to make it (1, 299, 299, 3)\n",
        "## Preprocess the image using custom function of Inception-v3 model"
      ],
      "execution_count": null,
      "outputs": []
    },
    {
      "cell_type": "code",
      "metadata": {
        "id": "LA3HSE_1K4VP",
        "colab_type": "code",
        "colab": {}
      },
      "source": [
        "def preprocess_image_for_Incepv3(_img_path, _key = 'DUMMY', _DEBUG=False):\n",
        "  img = tf.keras.preprocessing.image.load_img(_img_path, target_size=(299, 299))\n",
        "  #print(f\"type={type(img)}\") # type(img): type=<class 'PIL.Image.Image'>\n",
        "  if _DEBUG:\n",
        "    plt.figure(figsize=(12,6))\n",
        "    plt.subplot(121)\n",
        "    plt.imshow(img)\n",
        "    plt.title('Original Image(Resized): ' + _key + '.jpg')\n",
        "\n",
        "  img = tf.keras.preprocessing.image.img_to_array(img) # Converts PIL Image instance to numpy array (299,299,3)\n",
        "  img = np.expand_dims(img, axis=0) #Add one more dimension: (1, 299, 299, 3) # Inception-V3 requires 4 dimensions\n",
        "  img = tf.keras.applications.inception_v3.preprocess_input(img) # preprocess image as per Inception-V3 model\n",
        "  if _DEBUG:\n",
        "    plt.subplot(122)\n",
        "    plt.imshow(img[0])\n",
        "    plt.title('Preprocessed image for Inception-V3: ' + _key + '.jpg')\n",
        "\n",
        "  return img  # shape will be (1, 299, 299, 3)"
      ],
      "execution_count": null,
      "outputs": []
    },
    {
      "cell_type": "code",
      "metadata": {
        "id": "B3vPZSaoK4YD",
        "colab_type": "code",
        "colab": {
          "base_uri": "https://localhost:8080/",
          "height": 105
        },
        "outputId": "dc5f1cc7-56d9-4936-d71d-df1ce566a7ea"
      },
      "source": [
        "descriptions['000000289393']"
      ],
      "execution_count": null,
      "outputs": [
        {
          "output_type": "execute_result",
          "data": {
            "text/plain": [
              "['set of toy animals sitting in front of red wooden wagon',\n",
              " 'several toy animals bull giraffe deer and parakeet',\n",
              " 'some toy animals on the ground near picture',\n",
              " 'childrens toy animals are strewn across floor',\n",
              " 'display of vintage animal toys on the floor']"
            ]
          },
          "metadata": {
            "tags": []
          },
          "execution_count": 127
        }
      ]
    },
    {
      "cell_type": "code",
      "metadata": {
        "id": "DWjHTMeuK4au",
        "colab_type": "code",
        "colab": {
          "base_uri": "https://localhost:8080/",
          "height": 421
        },
        "outputId": "1de74d5c-1c34-491f-e68f-bd949046c6f0"
      },
      "source": [
        "## test out the preprocessing function on one image\n",
        "##     while calling fuction set debug flag to true to display the original and preprocessed images\n",
        "i = 0\n",
        "for key in descriptions.keys():   ## key is the image name itself without the .jpg\n",
        "  if i > 0:\n",
        "    break\n",
        "  \n",
        "  imgpath = ''.join([IPDIRIMGS, '000000289393', '.jpg'])\n",
        "  #imgpath = ''.join([IPDIRIMGS, key, '.jpg'])\n",
        "  print(f\"Image path = {imgpath}\")\n",
        "  preproc_img = preprocess_image_for_Incepv3(imgpath, _key=key, _DEBUG=True)\n",
        "  print(f\"Shape after preprocessing = {preproc_img.shape}\")\n",
        "  i += 1"
      ],
      "execution_count": null,
      "outputs": [
        {
          "output_type": "stream",
          "text": [
            "Clipping input data to the valid range for imshow with RGB data ([0..1] for floats or [0..255] for integers).\n"
          ],
          "name": "stderr"
        },
        {
          "output_type": "stream",
          "text": [
            "Image path = /content/gdrive/My Drive/ThesisStoryGen/Data/coco_val2017_wget_1/val2017/000000289393.jpg\n",
            "Shape after preprocessing = (1, 299, 299, 3)\n"
          ],
          "name": "stdout"
        },
        {
          "output_type": "display_data",
          "data": {
            "image/png": "[encoded data removed]",
            "text/plain": [
              "<Figure size 864x432 with 2 Axes>"
            ]
          },
          "metadata": {
            "tags": [],
            "needs_background": "light"
          }
        }
      ]
    },
    {
      "cell_type": "code",
      "metadata": {
        "id": "38p_1_AyK4d_",
        "colab_type": "code",
        "colab": {}
      },
      "source": [
        ""
      ],
      "execution_count": null,
      "outputs": []
    },
    {
      "cell_type": "markdown",
      "metadata": {
        "id": "SmbkQOFcfRlw",
        "colab_type": "text"
      },
      "source": [
        "### Load pre-trained model of Inception-v3 pretrained on Imagenet\n",
        "### Then, Encode images into feature vectors and save it to disk\n",
        "###\n",
        "### Doing this in advance so that the feature vector representation of images is already available. Will drastically speed up training"
      ]
    },
    {
      "cell_type": "code",
      "metadata": {
        "id": "yFe69tE6K4f5",
        "colab_type": "code",
        "colab": {
          "base_uri": "https://localhost:8080/",
          "height": 72
        },
        "outputId": "6bdeb477-a501-4c76-df48-b002429a088d"
      },
      "source": [
        "#Load pre-trained model and remove the last layer (Output layer)\n",
        "\n",
        "# Load Inception-V3 model\n",
        "model_inception_v3_pretrained_imagement = tf.keras.applications.InceptionV3(weights='imagenet')\n",
        "\n",
        "# Create new model, by removing last layer (output layer) from Inception-V3\n",
        "model_CNN_encoder = keras.Model(inputs=model_inception_v3_pretrained_imagement.input, outputs=model_inception_v3_pretrained_imagement.layers[-2].output)\n",
        "\n",
        "#model_CNN_encoder.summary()"
      ],
      "execution_count": null,
      "outputs": [
        {
          "output_type": "stream",
          "text": [
            "Downloading data from https://storage.googleapis.com/tensorflow/keras-applications/inception_v3/inception_v3_weights_tf_dim_ordering_tf_kernels.h5\n",
            "96116736/96112376 [==============================] - 4s 0us/step\n"
          ],
          "name": "stdout"
        }
      ]
    },
    {
      "cell_type": "code",
      "metadata": {
        "id": "P1YXDCCnfP5M",
        "colab_type": "code",
        "colab": {}
      },
      "source": [
        "## Take each image and run it through the encoder. The feature of each image is a numpy array of 2048 values.\n",
        "## \n",
        "## Store all the info image-wise into a dict with image name as key, the 2048 features as the value.\n",
        "##       E.g. of an entry\n",
        "##            print(len(img_encodings['000000179765'])) = \n",
        "##                                                         {'000000179765': array([0.14290829, 0.14481416, 0.3019989 , ..., 0.20583093, 0.13783988,\n",
        "##                                                         0.05842407], dtype=float32), '000000190236': array([0.13693394, 0.44518015, 0.8012958 , ..., 0.09661996, 0.5428589 ,\n",
        "##                                                         0.12551732], dtype=float32)}\n",
        "## \n",
        "## Bottleneck processing. For 5k images took around 40 minutes.\n",
        "##       So pickle for later use"
      ],
      "execution_count": null,
      "outputs": []
    },
    {
      "cell_type": "code",
      "metadata": {
        "id": "NlNizP6EfP77",
        "colab_type": "code",
        "colab": {}
      },
      "source": [
        "# Function to encode given image into a vector of size (2048, )\n",
        "def encode_image(_imgpath, _key = 'DUMMY', _DEBUG=False):\n",
        "    preproc_img = preprocess_image_for_Incepv3(_imgpath, _key = 'DUMMY', _DEBUG=False) # preprocess image per Inception-v3 requirements\n",
        "    encoded_features = model_CNN_encoder.predict(preproc_img) # Get encoding vector for image\n",
        "    encoded_features = encoded_features.reshape(encoded_features.shape[1], ) # reshape from (1, 2048) to (2048, )\n",
        "    return encoded_features"
      ],
      "execution_count": null,
      "outputs": []
    },
    {
      "cell_type": "code",
      "metadata": {
        "id": "ouMGsK7rfP-4",
        "colab_type": "code",
        "colab": {
          "base_uri": "https://localhost:8080/",
          "height": 478
        },
        "outputId": "5a0daa85-9eee-4d55-9a3d-677683388581"
      },
      "source": [
        "## actually encode the images and capture entries in dictionary with key as the filename only without the full path or the .jpg extension\n",
        "##     using same key as the hashmap for captions uses\n",
        "\n",
        "## sending all the val2017 images\n",
        "start_time = time.time()\n",
        "img_encodings = {}\n",
        "for idx, img_filename_only in enumerate(descriptions.keys()):\n",
        "  if False:  ## debugging\n",
        "    if idx > 1:\n",
        "      break\n",
        "  img_encodings[img_filename_only] = encode_image(''.join([IPDIRIMGS, img_filename_only, '.jpg']))\n",
        "  if( (idx+1)%200 == 0):\n",
        "    print(f'Count of images encoded = {idx+1}')\n",
        "\n",
        "print(f\"Encoded {idx} images; total time taken = {time.time()-start_time} seconds\")"
      ],
      "execution_count": null,
      "outputs": [
        {
          "output_type": "stream",
          "text": [
            "Count of images encoded = 200\n",
            "Count of images encoded = 400\n",
            "Count of images encoded = 600\n",
            "Count of images encoded = 800\n",
            "Count of images encoded = 1000\n",
            "Count of images encoded = 1200\n",
            "Count of images encoded = 1400\n",
            "Count of images encoded = 1600\n",
            "Count of images encoded = 1800\n",
            "Count of images encoded = 2000\n",
            "Count of images encoded = 2200\n",
            "Count of images encoded = 2400\n",
            "Count of images encoded = 2600\n",
            "Count of images encoded = 2800\n",
            "Count of images encoded = 3000\n",
            "Count of images encoded = 3200\n",
            "Count of images encoded = 3400\n",
            "Count of images encoded = 3600\n",
            "Count of images encoded = 3800\n",
            "Count of images encoded = 4000\n",
            "Count of images encoded = 4200\n",
            "Count of images encoded = 4400\n",
            "Count of images encoded = 4600\n",
            "Count of images encoded = 4800\n",
            "Count of images encoded = 5000\n",
            "Encoded 4999 images; total time taken = 3543.5187644958496 seconds\n"
          ],
          "name": "stdout"
        }
      ]
    },
    {
      "cell_type": "code",
      "metadata": {
        "id": "wyTCS23ffQBu",
        "colab_type": "code",
        "colab": {
          "base_uri": "https://localhost:8080/",
          "height": 34
        },
        "outputId": "4ff89d45-ba73-485c-92ec-1156ffa1a109"
      },
      "source": [
        "len(img_encodings)  ## should be number of images i.e. 5000"
      ],
      "execution_count": null,
      "outputs": [
        {
          "output_type": "execute_result",
          "data": {
            "text/plain": [
              "5000"
            ]
          },
          "metadata": {
            "tags": []
          },
          "execution_count": 136
        }
      ]
    },
    {
      "cell_type": "code",
      "metadata": {
        "id": "pXVLTL-nfQEU",
        "colab_type": "code",
        "colab": {
          "base_uri": "https://localhost:8080/",
          "height": 35
        },
        "outputId": "115bfe22-8e6f-4be2-bffd-42af71c43a43"
      },
      "source": [
        "OPDIR"
      ],
      "execution_count": null,
      "outputs": [
        {
          "output_type": "execute_result",
          "data": {
            "application/vnd.google.colaboratory.intrinsic+json": {
              "type": "string"
            },
            "text/plain": [
              "'/content/gdrive/My Drive/ThesisStoryGen/Data/ImgCapTraining/CocoVal2017_1/'"
            ]
          },
          "metadata": {
            "tags": []
          },
          "execution_count": 137
        }
      ]
    },
    {
      "cell_type": "code",
      "metadata": {
        "id": "VqlnDaZMfQHR",
        "colab_type": "code",
        "colab": {
          "base_uri": "https://localhost:8080/",
          "height": 52
        },
        "outputId": "930d8aae-3fcd-4d95-d904-6d7ef36242e0"
      },
      "source": [
        "## pickle the data\n",
        "with open(OPDIR+'val2017_all_5k_images_encoded_features_pickled_2.pkl', 'wb') as handle:\n",
        "  pickle.dump(img_encodings, handle, protocol=pickle.HIGHEST_PROTOCOL)\n",
        "print(f\"Pickling done\")\n",
        "\n",
        "print(f\"Size of pickled data = {sys.getsizeof(img_encodings)} bytes\")"
      ],
      "execution_count": null,
      "outputs": [
        {
          "output_type": "stream",
          "text": [
            "Pickling done\n",
            "Size of pickled data = 147560 bytes\n"
          ],
          "name": "stdout"
        }
      ]
    },
    {
      "cell_type": "code",
      "metadata": {
        "id": "kTL2xdegjUMk",
        "colab_type": "code",
        "colab": {
          "base_uri": "https://localhost:8080/",
          "height": 52
        },
        "outputId": "d7604812-8a13-4412-b7ee-71fabf5a8d22"
      },
      "source": [
        "img_encodings['000000179765']"
      ],
      "execution_count": null,
      "outputs": [
        {
          "output_type": "execute_result",
          "data": {
            "text/plain": [
              "array([0.14290808, 0.14481388, 0.30199888, ..., 0.20583029, 0.1378399 ,\n",
              "       0.05842396], dtype=float32)"
            ]
          },
          "metadata": {
            "tags": []
          },
          "execution_count": 140
        }
      ]
    },
    {
      "cell_type": "code",
      "metadata": {
        "id": "j2PvPnZWfQJs",
        "colab_type": "code",
        "colab": {}
      },
      "source": [
        "del img_encodings"
      ],
      "execution_count": null,
      "outputs": []
    },
    {
      "cell_type": "code",
      "metadata": {
        "id": "WQGG3EqefQQL",
        "colab_type": "code",
        "colab": {}
      },
      "source": [
        ""
      ],
      "execution_count": null,
      "outputs": []
    },
    {
      "cell_type": "markdown",
      "metadata": {
        "id": "0uOwKBlAhbLo",
        "colab_type": "text"
      },
      "source": [
        "## ALWAYS - Data Preprocessing — Images - RELOAD FROM PICKLE FILE: Image encodings info obtained from encoder\n",
        "### img_encodings['000000179765'] should be as below:\n",
        "\n",
        "#### array([0.14290808, 0.14481388, 0.30199888, ..., 0.20583029, 0.1378399 ,\n",
        "####        0.05842396], dtype=float32)"
      ]
    },
    {
      "cell_type": "code",
      "metadata": {
        "id": "99oOB3kihQaK",
        "colab_type": "code",
        "colab": {}
      },
      "source": [
        "## reload from picked file\n",
        "if True:\n",
        "  with open(OPDIR+'val2017_all_5k_images_encoded_features_pickled_2.pkl', 'rb') as handle:\n",
        "    img_encodings = pickle.load(handle)\n",
        "\n",
        "#img_encodings"
      ],
      "execution_count": 21,
      "outputs": []
    },
    {
      "cell_type": "code",
      "metadata": {
        "id": "7kXTAQ3ohQdE",
        "colab_type": "code",
        "colab": {
          "base_uri": "https://localhost:8080/",
          "height": 34
        },
        "outputId": "896cd0ca-82cb-41c9-a991-8edd91190e45"
      },
      "source": [
        "## should be = 147560 bytes\n",
        "print(f\"Size of reloaded pickled data = {sys.getsizeof(img_encodings)} bytes\")"
      ],
      "execution_count": 22,
      "outputs": [
        {
          "output_type": "stream",
          "text": [
            "Size of reloaded pickled data = 147560 bytes\n"
          ],
          "name": "stdout"
        }
      ]
    },
    {
      "cell_type": "code",
      "metadata": {
        "id": "9rLCTcwLhQft",
        "colab_type": "code",
        "colab": {
          "base_uri": "https://localhost:8080/",
          "height": 52
        },
        "outputId": "477b8ccc-f0ae-491e-d8a0-f3f8794c8c27"
      },
      "source": [
        "img_encodings['000000179765']"
      ],
      "execution_count": 23,
      "outputs": [
        {
          "output_type": "execute_result",
          "data": {
            "text/plain": [
              "array([0.14290808, 0.14481388, 0.30199888, ..., 0.20583029, 0.1378399 ,\n",
              "       0.05842396], dtype=float32)"
            ]
          },
          "metadata": {
            "tags": []
          },
          "execution_count": 23
        }
      ]
    },
    {
      "cell_type": "code",
      "metadata": {
        "id": "TOkV5cmAhQij",
        "colab_type": "code",
        "colab": {}
      },
      "source": [
        ""
      ],
      "execution_count": null,
      "outputs": []
    },
    {
      "cell_type": "markdown",
      "metadata": {
        "id": "mrKPGXxBlqk3",
        "colab_type": "text"
      },
      "source": [
        "## ALWAYS - Data Preprocessing — Captions\n",
        "### 1) Build the word and index mapping dictionaries based on the reduced vocabulary.\n",
        "### 2) Find the maximum length of captions\n",
        "###    NOTE: This is using the original descriptions without the startseq and endseq word insertions"
      ]
    },
    {
      "cell_type": "code",
      "metadata": {
        "id": "zal9N9qbhQli",
        "colab_type": "code",
        "colab": {}
      },
      "source": [
        "### We want to predict the captions. So while training, the captions are the target variables (Y)\n",
        "### But the prediction of caption happens word by word, not in one go.\n",
        "### So encode each word into a fixed sized vector later (GloVe).\n",
        "### Here create the word-to-index and index-to-word dictionaries.\n",
        "###\n",
        "### We represent every unique word in the vocabulary by an integer (index).\n",
        "### From the culled vocab (high freq words including the zero), we have 1523 unique words\n",
        "###      in our corpus and thus each word will be represented by an integer index between 1 to 1523.\n",
        "###\n",
        "### Create two dictionaries:\n",
        "###        wordtoix[‘abc’] -> returns index of the word ‘abc’\n",
        "###        ixtoword[k] -> returns the word whose index is ‘k’"
      ],
      "execution_count": 24,
      "outputs": []
    },
    {
      "cell_type": "code",
      "metadata": {
        "id": "wfpa8FOVhQof",
        "colab_type": "code",
        "colab": {}
      },
      "source": [
        "## NOTE: using the vocab_threhold\n",
        "ixtoword = {}\n",
        "wordtoix = {}\n",
        "ix = 1\n",
        "for w in vocab_threshold:\n",
        "  wordtoix[w] = ix\n",
        "  ixtoword[ix] = w\n",
        "  ix += 1"
      ],
      "execution_count": 25,
      "outputs": []
    },
    {
      "cell_type": "code",
      "metadata": {
        "id": "rHgD3I5nhQrg",
        "colab_type": "code",
        "colab": {
          "base_uri": "https://localhost:8080/",
          "height": 34
        },
        "outputId": "52490d85-e69f-40b4-e887-b1d4041380e0"
      },
      "source": [
        "# convert a dictionary of clean descriptions to a list of descriptions\n",
        "def to_lines(descriptions):\n",
        " all_desc = list()\n",
        " for key in descriptions.keys():\n",
        "  [all_desc.append(d) for d in descriptions[key]]\n",
        " return all_desc\n",
        "# calculate the length of the description with the most words\n",
        "def max_length(descriptions):\n",
        " lines = to_lines(descriptions)\n",
        " return max(len(d.split()) for d in lines)\n",
        "# determine the maximum sequence length\n",
        "max_length = max_length(descriptions)\n",
        "print(f\"Max Description Length: {max_length}\")"
      ],
      "execution_count": 26,
      "outputs": [
        {
          "output_type": "stream",
          "text": [
            "Max Description Length: 45\n"
          ],
          "name": "stdout"
        }
      ]
    },
    {
      "cell_type": "code",
      "metadata": {
        "id": "doPdv9RAK4im",
        "colab_type": "code",
        "colab": {}
      },
      "source": [
        ""
      ],
      "execution_count": null,
      "outputs": []
    },
    {
      "cell_type": "markdown",
      "metadata": {
        "id": "EJgRpN5MjJD3",
        "colab_type": "text"
      },
      "source": [
        "## Data Preparation using Generator Function"
      ]
    },
    {
      "cell_type": "code",
      "metadata": {
        "id": "KTrgrs94K4lP",
        "colab_type": "code",
        "colab": {}
      },
      "source": [
        "Hereafter, I will try to explain the remaining steps by taking a sample example as follows:\n",
        "Consider we have 3 images and their 3 corresponding captions as follows:\n",
        "\n",
        "(Train image 1) Caption -> The black cat sat on grass\n",
        "(Train image 2) Caption -> The white cat is walking on road\n",
        "(Test image) Caption -> The black cat is walking on grass\n",
        "\n",
        "Now, let’s say we use the first two images and their captions to train the model and the third image to test our model.\n",
        "Now the questions that will be answered are: how do we frame this as a supervised learning problem?, what does the data matrix look like? how many data points do we have?, etc.\n",
        "First we need to convert both the images to their corresponding 2048 length feature vector as discussed above. Let “Image_1” and “Image_2” be the feature vectors of the first two images respectively\n",
        "Secondly, let’s build the vocabulary for the first two (train) captions by adding the two tokens “startseq” and “endseq” in both of them: (Assume we have already performed the basic cleaning steps)\n",
        "\n",
        "Caption_1 -> “startseq the black cat sat on grass endseq”\n",
        "Caption_2 -> “startseq the white cat is walking on road endseq”\n",
        "\n",
        "vocab = {black, cat, endseq, grass, is, on, road, sat, startseq, the, walking, white}\n",
        "\n",
        "Let’s give an index to each word in the vocabulary:\n",
        "black -1, cat -2, endseq -3, grass -4, is -5, on -6, road -7, sat -8, startseq -9, the -10, walking -11, white -12\n",
        "\n",
        "Now let’s try to frame it as a supervised learning problem where we have a set of data points D = {Xi, Yi}, where Xi is the feature vector of data point ‘i’ and Yi is the corresponding target variable.\n",
        "\n",
        "Let’s take the first image vector Image_1 and its corresponding caption “startseq the black cat sat on grass endseq”. Recall that, Image vector is the input and the caption is what we need to predict. But the way we predict the caption is as follows:\n",
        "For the first time, we provide the image vector and the first word as input and try to predict the second word, i.e.:\n",
        "Input = Image_1 + ‘startseq’; Output = ‘the’\n",
        "Then we provide image vector and the first two words as input and try to predict the third word, i.e.:\n",
        "Input = Image_1 + ‘startseq the’; Output = ‘cat’\n",
        "And so on . . .\n",
        "\n",
        "Thus, we can summarize the data matrix for one image and its corresponding caption as follows:\n",
        "Step 1 :: image feature = FeatVecImg1 :: Partial Caption = \"startseq\" :: Target Word = \"the\"\n",
        "Step 2 :: image feature = FeatVecImg1 :: Partial Caption = \"startseq the\" :: Target Word = \"black\"\n",
        "Step 3 :: image feature = FeatVecImg1 :: Partial Caption = \"startseq the black\" :: Target Word = \"cat\"\n",
        "Step 4 :: image feature = FeatVecImg1 :: Partial Caption = \"startseq the black cat\" :: Target Word = \"sat\"\n",
        "Step 5 :: image feature = FeatVecImg1 :: Partial Caption = \"startseq the black cat sat\" :: Target Word = \"on\"\n",
        "Step 6 :: image feature = FeatVecImg1 :: Partial Caption = \"startseq the black cat sat on\" :: Target Word = \"grass\"\n",
        "Step 7 :: image feature = FeatVecImg1 :: Partial Caption = \"startseq the black cat sat on grass\" :: Target Word = \"endseq\"\n",
        "\n",
        "It must be noted that, one image+caption is not a single data point but are multiple data points depending on the length of the caption.\n",
        "All the above 7 data points together constitute the full data for one image and its caption!!!!\n",
        "Similarly for second images, there will be multiple steps together that consitute its full data point.\n",
        "\n",
        "We must now understand that in every data point, it’s not just the image which goes as input to the system, but also, a partial caption which helps to predict the next word in the sequence.\n",
        "Since we are processing sequences, we will employ a Recurrent Neural Network to read these partial captions (more on this later).\n",
        "However, we have already discussed that we are not going to pass the actual English text of the caption, rather we are going to pass the sequence of indices where each index represents a unique word.\n",
        "\n",
        "Since we have already created an index for each word, let’s now replace the words with their indices and understand how the data matrix will look like:\n",
        "Step 1  :: image feature = FeatVecImg1 :: Partial Caption = \"9\" :: Target Word = \"10\"\n",
        "Step 2  :: image feature = FeatVecImg1 :: Partial Caption = \"9 10\" :: Target Word = \"1\"\n",
        "Step 3  :: image feature = FeatVecImg1 :: Partial Caption = \"9 10 1\" :: Target Word = \"2\"\n",
        "Step 4  :: image feature = FeatVecImg1 :: Partial Caption = \"9 10 1 2\" :: Target Word = \"8\"\n",
        "Step 5  :: image feature = FeatVecImg1 :: Partial Caption = \"9 10 1 2 8\" :: Target Word = \"6\"\n",
        "Step 6  :: image feature = FeatVecImg1 :: Partial Caption = \"9 10 1 2 8 6\" :: Target Word = \"4\"\n",
        "Step 7  :: image feature = FeatVecImg1 :: Partial Caption = \"9 10 1 2 8 6 4\" :: Target Word = \"3\"\n",
        "Step 8  :: image feature = FeatVecImg2 :: Partial Caption = \"9\" :: Target Word = \"10\"\n",
        "Step 9  :: image feature = FeatVecImg2 :: Partial Caption = \"9 10\" :: Target Word = \"12\"\n",
        "Step 10 :: image feature = FeatVecImg2 :: Partial Caption = \"9 10 12\" :: Target Word = \"2\"\n",
        "Step 11 :: image feature = FeatVecImg2 :: Partial Caption = \"9 10 12 2\" :: Target Word = \"5\"\n",
        "Step 12 :: image feature = FeatVecImg2 :: Partial Caption = \"9 10 12 2 5\" :: Target Word = \"11\"\n",
        "Step 13 :: image feature = FeatVecImg2 :: Partial Caption = \"9 10 12 2 5 11\" :: Target Word = \"6\"\n",
        "Step 14 :: image feature = FeatVecImg2 :: Partial Caption = \"9 10 12 2 5 11 6\" :: Target Word = \"7\"\n",
        "Step 15 :: image feature = FeatVecImg2 :: Partial Caption = \"9 10 12 2 5 11 6 3\" :: Target Word = \"3\"\n",
        "\n",
        "Since we would be doing batch processing (explained later), we need to make sure that each sequence is of equal length. Hence we need to append 0’s (zero padding) at the end of each sequence. But how many zeros should we append in each sequence?\n",
        "Well, this is the reason we had calculated the maximum length of a caption. So we will append those many number of zeros which will lead to every sequence having a length = maximum length of caption.\n",
        "\n",
        "Step 1  :: image feature = FeatVecImg1 :: Partial Caption = \"[9 0 0 ...]\" :: Target Word = \"10\"\n",
        "Step 2  :: image feature = FeatVecImg1 :: Partial Caption = \"[9 10 0 0 ...]\" :: Target Word = \"1\"\n",
        "Step 3  :: image feature = FeatVecImg1 :: Partial Caption = \"[9 10 1 0 0 ...]\" :: Target Word = \"2\"\n",
        "Step 4  :: image feature = FeatVecImg1 :: Partial Caption = \"[9 10 1 2 0 0 ...]\" :: Target Word = \"8\"\n",
        "Step 5  :: image feature = FeatVecImg1 :: Partial Caption = \"[9 10 1 2 8 0 0 ...]\" :: Target Word = \"6\"\n",
        "Step 6  :: image feature = FeatVecImg1 :: Partial Caption = \"[9 10 1 2 8 6 0 0 ...]\" :: Target Word = \"4\"\n",
        "Step 7  :: image feature = FeatVecImg1 :: Partial Caption = \"[9 10 1 2 8 6 4 0 0 ...]\" :: Target Word = \"3\"\n",
        "Step 8  :: image feature = FeatVecImg2 :: Partial Caption = \"[9 0 0 ...]\" :: Target Word = \"10\"\n",
        "Step 9  :: image feature = FeatVecImg2 :: Partial Caption = \"[9 10 0 0 ...]\" :: Target Word = \"12\"\n",
        "Step 10 :: image feature = FeatVecImg2 :: Partial Caption = \"[9 10 12 0 0 ...]\" :: Target Word = \"2\"\n",
        "Step 11 :: image feature = FeatVecImg2 :: Partial Caption = \"[9 10 12 2 0 0 ...]\" :: Target Word = \"5\"\n",
        "Step 12 :: image feature = FeatVecImg2 :: Partial Caption = \"[9 10 12 2 5 0 0 ...]\" :: Target Word = \"11\"\n",
        "Step 13 :: image feature = FeatVecImg2 :: Partial Caption = \"[9 10 12 2 5 11 0 0 ...]\" :: Target Word = \"6\"\n",
        "Step 14 :: image feature = FeatVecImg2 :: Partial Caption = \"[9 10 12 2 5 11 6 0 0 ...]\" :: Target Word = \"7\"\n",
        "Step 15 :: image feature = FeatVecImg2 :: Partial Caption = \"[9 10 12 2 5 11 6 3 0 0 ...]\" :: Target Word = \"3\"\n",
        "Appended adequete 0's to each partial caption to make its length = max length\n",
        "\n",
        "\n",
        "\n",
        "Need for a Data Generator:\n",
        "In the above example, I have only considered 2 images and captions which have lead to 15 data points.\n",
        "However, in our actual training dataset we have 6000 images, each having 5 captions. This makes a total of 30000 images and captions.\n",
        "Even if we assume that each caption on an average is just 7 words long, it will lead to a total of 30000*7 i.e. 210000 data points.\n",
        "\n",
        "Compute the size of the data matrix:\n",
        "\n",
        "\n",
        "   img_vector = 2048        partial caption (length = max caption length)\n",
        "---------------------------------------------------------------------------\n",
        "-                       -                                                 -\n",
        "-                       -                                                 -\n",
        "-                       -                                                 -\n",
        "-                       -                                                 -\n",
        "---------------------------------------------------------------------------\n",
        "Say above matrix has n rows, m columns, so Size of the data matrix = n*m\n",
        "n-> number of data points (assumed as 210000)  (6000 images * 5 captions per image * 7 words average legnth of each caption)\n",
        "m-> length of each data point\n",
        "    = 2048 + length of partial caption (say something)\n",
        "    = 2048 + something\n",
        "\n",
        "Now this \"something\"  NOTE EQUAL to the max length of caption!\n",
        "Every word (or index) will be mapped (embedded) to higher dimensional space through one of the word embedding techniques.\n",
        "As we using GloVe-200, each embedding has 200 floats representing each number.\n",
        "\n",
        "So with each caption sentence consisting of max length caption size word-indexes, each word represented by 200 dimensional value:\n",
        "   Assuming max lenght of caption = 45\n",
        "   means \"something\" = 2048 + ( 45 * 200 ) = 2048 + 9000 = 11048 float values to represent each sentence\n",
        "\n",
        "Therefore, size of data matrix = m*n = 210000 * 11048 = xxx float values!!!\n",
        "Assuming float takes 2 bytes (very conservative), that still means xxx * 2 = xxx GB\n",
        "\n",
        "This is pretty huge requirement and even if we are able to manage to load this much data into the RAM, it will make the system very slow.\n",
        "For this reason we use data generators a lot in Deep Learning. Data Generators are a functionality which is natively implemented in Python. The ImageDataGenerator class provided by the Keras API is nothing but an implementation of generator function in Python.\n",
        "\n",
        "So how does using a generator function solve this problem?\n",
        "If you know the basics of Deep Learning, then you must know that to train a model on a particular dataset, we use some version of Stochastic Gradient Descent (SGD) like Adam, Rmsprop, Adagrad, etc.\n",
        "With SGD, we do not calculate the loss on the entire data set to update the gradients. Rather in every iteration, we calculate the loss on a batch of data points (typically 64, 128, 256, etc.) to update the gradients.\n",
        "\n",
        "This means that we do not require to store the entire dataset in the memory at once. Even if we have the current batch of points in the memory, it is sufficient for our purpose.\n",
        "A generator function in Python is used exactly for this purpose. It’s like an iterator which resumes the functionality from the point it left the last time it was called.\n",
        "To understand more about Generators, please read here (https://wiki.python.org/moin/Generators).\n"
      ],
      "execution_count": null,
      "outputs": []
    },
    {
      "cell_type": "code",
      "metadata": {
        "id": "dQkTM-yDjHkU",
        "colab_type": "code",
        "colab": {}
      },
      "source": [
        "# data generator, intended to be used in a call to model.fit_generator()\n",
        "def data_generator(descriptions, photos, wordtoix, max_length, num_photos_per_batch):\n",
        "    X1, X2, y = list(), list(), list()\n",
        "    n=0\n",
        "    # loop for ever over images\n",
        "    while 1:\n",
        "        for key, desc_list in descriptions.items():\n",
        "            n+=1\n",
        "            # retrieve the photo feature\n",
        "            photo = photos[key+'.jpg']\n",
        "            for desc in desc_list:\n",
        "                # encode the sequence\n",
        "                seq = [wordtoix[word] for word in desc.split(' ') if word in wordtoix]\n",
        "                # split one sequence into multiple X, y pairs\n",
        "                for i in range(1, len(seq)):\n",
        "                    # split into input and output pair\n",
        "                    in_seq, out_seq = seq[:i], seq[i]\n",
        "                    # pad input sequence\n",
        "                    in_seq = pad_sequences([in_seq], maxlen=max_length)[0]\n",
        "                    # encode output sequence\n",
        "                    out_seq = to_categorical([out_seq], num_classes=vocab_size)[0]\n",
        "                    # store\n",
        "                    X1.append(photo)\n",
        "                    X2.append(in_seq)\n",
        "                    y.append(out_seq)\n",
        "            # yield the batch data\n",
        "            if n==num_photos_per_batch:\n",
        "                yield [[array(X1), array(X2)], array(y)]\n",
        "                X1, X2, y = list(), list(), list()\n",
        "                n=0"
      ],
      "execution_count": 27,
      "outputs": []
    },
    {
      "cell_type": "code",
      "metadata": {
        "id": "l4GZeoXRjHm9",
        "colab_type": "code",
        "colab": {}
      },
      "source": [
        ""
      ],
      "execution_count": null,
      "outputs": []
    },
    {
      "cell_type": "markdown",
      "metadata": {
        "id": "NcR5vJxXIcTK",
        "colab_type": "text"
      },
      "source": [
        "## ONLY ONCE - GloVe vectors (Global Vectors for Word Representation)\n",
        "### Citing GloVe: Jeffrey Pennington, Richard Socher, and Christopher D. Manning. 2014. GloVe: Global Vectors for Word Representation. [pdf] [bib]GloVe: Global Vectors for Word Representation. [pdf] [bib]\n",
        "### Link: More details on this here- https://nlp.stanford.edu/projects/glove/"
      ]
    },
    {
      "cell_type": "code",
      "metadata": {
        "id": "TeVM7iwJjHp4",
        "colab_type": "code",
        "colab": {}
      },
      "source": [
        "## Download pre-trained word vectors\n",
        "###    This data is made available under the Public Domain Dedication and License v1.0 whose full text can be found at: http://www.opendatacommons.org/licenses/pddl/1.0/.\n",
        "###    Wikipedia 2014 + Gigaword 5 (6B tokens, 400K vocab, uncased, 50d, 100d, 200d, & 300d vectors, 822 MB download): glove.6B.zip\n",
        "###    Common Crawl (42B tokens, 1.9M vocab, uncased, 300d vectors, 1.75 GB download): glove.42B.300d.zip\n",
        "###    Common Crawl (840B tokens, 2.2M vocab, cased, 300d vectors, 2.03 GB download): glove.840B.300d.zip\n",
        "###    Twitter (2B tweets, 27B tokens, 1.2M vocab, uncased, 25d, 50d, 100d, & 200d vectors, 1.42 GB download): glove.twitter.27B.zip\n",
        "\n",
        "### Am using glove.6B.zip on 14.09.2020\n",
        "### Then its glove.6B.200d.txt file for the 200 dimensional word embeddings"
      ],
      "execution_count": 28,
      "outputs": []
    },
    {
      "cell_type": "code",
      "metadata": {
        "id": "HCDwxagBIeYV",
        "colab_type": "code",
        "colab": {
          "base_uri": "https://localhost:8080/",
          "height": 87
        },
        "outputId": "15aef404-2594-4c8f-9ef6-c39a15bef3d1"
      },
      "source": [
        "#Load GloVe vectors (Global Vectors for Word Representation) - 200 dimensional representation being used\n",
        "## create the various data structures for use later\n",
        "\n",
        "## loading glove and creating embeddings dict based on this link: https://github.com/epicalyx/Emojifier/blob/master/emo_utils.py\n",
        "\n",
        "def load_glove_file_make_embeddings_dict():\n",
        "  with open(WORD_EMBEDDINGS_DIR+'glove.6B.200d.txt', encoding=\"utf-8\") as fglove:\n",
        "    embeddings_dict_glove200 = {} # empty dictionary\n",
        "    words_glove = set()\n",
        "    for line in fglove:\n",
        "      line = line.strip().split()\n",
        "      curr_word = line[0]\n",
        "      words_glove.add(curr_word)\n",
        "      embeddings_dict_glove200[curr_word] = np.array(line[1:], dtype=np.float64)\n",
        "    \n",
        "    return embeddings_dict_glove200\n",
        "\n",
        "embeddings_dict_glove200 = load_glove_file_make_embeddings_dict()\n",
        "print(f\"Number of words in this embeddings file = {len(embeddings_dict_glove200)}\")\n",
        "print(f\"Shape of random word = {embeddings_dict_glove200['1917'].shape}\")\n",
        "print(f\"Shape of another random word = {embeddings_dict_glove200['sculpture'].shape}\")\n",
        "print(f\"Size of embeddings_dict_glove200 = {sys.getsizeof(embeddings_dict_glove200)/1000000} MB\")"
      ],
      "execution_count": 29,
      "outputs": [
        {
          "output_type": "stream",
          "text": [
            "Number of words in this embeddings file = 400000\n",
            "Shape of random word = (200,)\n",
            "Shape of another random word = (200,)\n",
            "Size of embeddings_dict_glove200 = 20.971616 MB\n"
          ],
          "name": "stdout"
        }
      ]
    },
    {
      "cell_type": "code",
      "metadata": {
        "id": "wzEQ9qAAIeaw",
        "colab_type": "code",
        "colab": {
          "base_uri": "https://localhost:8080/",
          "height": 35
        },
        "outputId": "b952b149-d9e0-45c2-8ad3-8fc789f06f82"
      },
      "source": [
        "OPDIR"
      ],
      "execution_count": 30,
      "outputs": [
        {
          "output_type": "execute_result",
          "data": {
            "application/vnd.google.colaboratory.intrinsic+json": {
              "type": "string"
            },
            "text/plain": [
              "'/content/gdrive/My Drive/ThesisStoryGen/Data/ImgCapTraining/CocoVal2017_1/'"
            ]
          },
          "metadata": {
            "tags": []
          },
          "execution_count": 30
        }
      ]
    },
    {
      "cell_type": "code",
      "metadata": {
        "id": "YewyZ6e8IedT",
        "colab_type": "code",
        "colab": {
          "base_uri": "https://localhost:8080/",
          "height": 34
        },
        "outputId": "d8793e39-b659-437e-f2ec-efaeece6cf9a"
      },
      "source": [
        "## pickle the emdbedding dict\n",
        "\n",
        "with open(OPDIR+'glove200_embeddings_dict_1.pkl', 'wb') as handle:\n",
        "    pickle.dump(embeddings_dict_glove200, handle, protocol=pickle.HIGHEST_PROTOCOL)\n",
        "print(f\"Pickling done for the embeddings_dict_glove200\")"
      ],
      "execution_count": 31,
      "outputs": [
        {
          "output_type": "stream",
          "text": [
            "Pickling done for the embeddings_dict_glove200\n"
          ],
          "name": "stdout"
        }
      ]
    },
    {
      "cell_type": "code",
      "metadata": {
        "id": "RzxXWVwRIefv",
        "colab_type": "code",
        "colab": {}
      },
      "source": [
        "del embeddings_dict_glove200 "
      ],
      "execution_count": 32,
      "outputs": []
    },
    {
      "cell_type": "code",
      "metadata": {
        "id": "KkAFCoKGMSkc",
        "colab_type": "code",
        "colab": {
          "base_uri": "https://localhost:8080/",
          "height": 167
        },
        "outputId": "e4d6a1e8-374a-4799-bb8a-d9d2caede1ec"
      },
      "source": [
        "embeddings_dict_glove200"
      ],
      "execution_count": 33,
      "outputs": [
        {
          "output_type": "error",
          "ename": "NameError",
          "evalue": "ignored",
          "traceback": [
            "\u001b[0;31m---------------------------------------------------------------------------\u001b[0m",
            "\u001b[0;31mNameError\u001b[0m                                 Traceback (most recent call last)",
            "\u001b[0;32m<ipython-input-33-dbbe87d9fa23>\u001b[0m in \u001b[0;36m<module>\u001b[0;34m()\u001b[0m\n\u001b[0;32m----> 1\u001b[0;31m \u001b[0membeddings_dict_glove200\u001b[0m\u001b[0;34m\u001b[0m\u001b[0;34m\u001b[0m\u001b[0m\n\u001b[0m",
            "\u001b[0;31mNameError\u001b[0m: name 'embeddings_dict_glove200' is not defined"
          ]
        }
      ]
    },
    {
      "cell_type": "code",
      "metadata": {
        "id": "viqpHAMbIeiX",
        "colab_type": "code",
        "colab": {}
      },
      "source": [
        ""
      ],
      "execution_count": null,
      "outputs": []
    },
    {
      "cell_type": "markdown",
      "metadata": {
        "id": "rJ6W0IYDJVHZ",
        "colab_type": "text"
      },
      "source": [
        "## ALWAYS - RELOAD FROM PICKLE FILE:  Reload the GloVe vectors related data structures\n",
        "\n",
        "### Sizes of reloaded pickled data should be =\n",
        "#### Size of embeddings_dict_glove200 = 20.971616 MB\n",
        "\n",
        "### Citing GloVe: Jeffrey Pennington, Richard Socher, and Christopher D. Manning. 2014. GloVe: Global Vectors for Word Representation. [pdf] [bib]GloVe: Global Vectors for Word Representation. [pdf] [bib]\n",
        "### Link: More details on this here- https://nlp.stanford.edu/projects/glove/"
      ]
    },
    {
      "cell_type": "code",
      "metadata": {
        "id": "pSnmzft5JROf",
        "colab_type": "code",
        "colab": {}
      },
      "source": [
        "## Already downloaded the glove file and used it to create the embeddings dict and pickled it. Reloading now.\n",
        "###    This data is made available under the Public Domain Dedication and License v1.0 whose full text can be found at: http://www.opendatacommons.org/licenses/pddl/1.0/.\n",
        "###    Wikipedia 2014 + Gigaword 5 (6B tokens, 400K vocab, uncased, 50d, 100d, 200d, & 300d vectors, 822 MB download): glove.6B.zip\n",
        "###    Common Crawl (42B tokens, 1.9M vocab, uncased, 300d vectors, 1.75 GB download): glove.42B.300d.zip\n",
        "###    Common Crawl (840B tokens, 2.2M vocab, cased, 300d vectors, 2.03 GB download): glove.840B.300d.zip\n",
        "###    Twitter (2B tweets, 27B tokens, 1.2M vocab, uncased, 25d, 50d, 100d, & 200d vectors, 1.42 GB download): glove.twitter.27B.zip\n",
        "\n",
        "### Am using glove.6B.zip on 14.09.2020\n",
        "### Then its glove.6B.200d.txt file for the 200 dimensional word embeddings"
      ],
      "execution_count": 34,
      "outputs": []
    },
    {
      "cell_type": "code",
      "metadata": {
        "id": "mYWwBYpgJRRI",
        "colab_type": "code",
        "colab": {
          "base_uri": "https://localhost:8080/",
          "height": 35
        },
        "outputId": "12fdd4b4-e468-4774-b66b-8437e1f0be18"
      },
      "source": [
        "OPDIR"
      ],
      "execution_count": 35,
      "outputs": [
        {
          "output_type": "execute_result",
          "data": {
            "application/vnd.google.colaboratory.intrinsic+json": {
              "type": "string"
            },
            "text/plain": [
              "'/content/gdrive/My Drive/ThesisStoryGen/Data/ImgCapTraining/CocoVal2017_1/'"
            ]
          },
          "metadata": {
            "tags": []
          },
          "execution_count": 35
        }
      ]
    },
    {
      "cell_type": "code",
      "metadata": {
        "id": "vfblkwZHJRTw",
        "colab_type": "code",
        "colab": {
          "base_uri": "https://localhost:8080/",
          "height": 87
        },
        "outputId": "b2ffeac4-14ea-415a-9b3a-c8575a2926f4"
      },
      "source": [
        "## reload from picked files\n",
        "\n",
        "if True:\n",
        "  with open(OPDIR+'glove200_embeddings_dict_1.pkl', 'rb') as handle:\n",
        "    embeddings_dict_glove200 = pickle.load(handle)\n",
        "\n",
        "print(f\"Number of words in this embeddings file = {len(embeddings_dict_glove200)}\")\n",
        "print(f\"Shape of random word = {embeddings_dict_glove200['1917'].shape}\")\n",
        "print(f\"Shape of another random word = {embeddings_dict_glove200['sculpture'].shape}\")\n",
        "print(f\"Size of embeddings_dict_glove200 = {sys.getsizeof(embeddings_dict_glove200)/1000000} MB\")"
      ],
      "execution_count": 36,
      "outputs": [
        {
          "output_type": "stream",
          "text": [
            "Number of words in this embeddings file = 400000\n",
            "Shape of random word = (200,)\n",
            "Shape of another random word = (200,)\n",
            "Size of embeddings_dict_glove200 = 20.971616 MB\n"
          ],
          "name": "stdout"
        }
      ]
    },
    {
      "cell_type": "code",
      "metadata": {
        "id": "yFVSHJCcJRWE",
        "colab_type": "code",
        "colab": {}
      },
      "source": [
        ""
      ],
      "execution_count": null,
      "outputs": []
    },
    {
      "cell_type": "code",
      "metadata": {
        "id": "Zi6FyTCPjHsd",
        "colab_type": "code",
        "colab": {}
      },
      "source": [
        ""
      ],
      "execution_count": null,
      "outputs": []
    },
    {
      "cell_type": "markdown",
      "metadata": {
        "id": "4gVwIe1_IvDd",
        "colab_type": "text"
      },
      "source": [
        "## NEXT SECTION - PENDING"
      ]
    },
    {
      "cell_type": "code",
      "metadata": {
        "id": "V2-Eq09sIqPH",
        "colab_type": "code",
        "colab": {}
      },
      "source": [
        ""
      ],
      "execution_count": null,
      "outputs": []
    },
    {
      "cell_type": "code",
      "metadata": {
        "id": "hWFW9ZU2IqRx",
        "colab_type": "code",
        "colab": {}
      },
      "source": [
        ""
      ],
      "execution_count": null,
      "outputs": []
    },
    {
      "cell_type": "code",
      "metadata": {
        "id": "0D3b7izSIqUb",
        "colab_type": "code",
        "colab": {}
      },
      "source": [
        ""
      ],
      "execution_count": null,
      "outputs": []
    }
  ]
}