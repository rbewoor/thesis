{
 "cells": [
  {
   "cell_type": "code",
   "execution_count": null,
   "metadata": {},
   "outputs": [],
   "source": []
  },
  {
   "cell_type": "code",
   "execution_count": 1,
   "metadata": {},
   "outputs": [],
   "source": [
    "import os, requests, time, sys\n",
    "from xml.etree import ElementTree\n",
    "from datetime import datetime\n",
    "from random import randint\n",
    "import json"
   ]
  },
  {
   "cell_type": "code",
   "execution_count": 2,
   "metadata": {},
   "outputs": [],
   "source": [
    "class TextToSpeech(object):\n",
    "    \n",
    "    def __init__(self, subscription_key):\n",
    "        self.subscription_key = subscription_key\n",
    "        self.text = None   ##  the text to be converted to audio -- defaulting the value to None\n",
    "        self.timestr = time.strftime(\"%Y%m%d-%H%M%S\")\n",
    "        self.access_token = None\n",
    "        self.access_token_startTime = None\n",
    "    \n",
    "    #The TTS endpoint requires an access token. This method exchanges your\n",
    "    #subscription key for an access token that is valid for ten minutes.\n",
    "    def get_token(self):\n",
    "        #fetch_token_url = \"https://westus.api.cognitive.microsoft.com/sts/v1.0/issueToken\"\n",
    "        fetch_token_url = \"https://westeurope.api.cognitive.microsoft.com/sts/v1.0/issueToken\"\n",
    "        headers = {\n",
    "            'Ocp-Apim-Subscription-Key': self.subscription_key\n",
    "        }\n",
    "        response = requests.post(fetch_token_url, headers=headers)\n",
    "        self.access_token = str(response.text)\n",
    "        self.access_token_startTime = time.strftime(\"%Y%m%d-%H%M%S\")\n",
    "    \n",
    "    def save_audio(self, inVoiceTypeShortName = r'', _outWavFile = r''):\n",
    "        #### Inputs:\n",
    "        ####       the ShortName of the voice type to be used.\n",
    "        ####       the file number to include in the filename.\n",
    "        ####       the absolute path where to save the audio file.\n",
    "        #### Returns:\n",
    "        ####       the status code (should be 200 if all good).\n",
    "        ####       the audio file name created.\n",
    "        base_url = 'https://westeurope.tts.speech.microsoft.com/'\n",
    "        path = 'cognitiveservices/v1'\n",
    "        constructed_url = base_url + path\n",
    "        headers = {\n",
    "            'Authorization': 'Bearer ' + self.access_token,\n",
    "            'Content-Type': 'application/ssml+xml',\n",
    "            'X-Microsoft-OutputFormat': 'riff-16khz-16bit-mono-pcm', # Deepspeech needs 16kHz, mono, PCM encoded wav files\n",
    "            'User-Agent': 'ThesisWorkSpeech1'\n",
    "        }\n",
    "        xml_body = ElementTree.Element('speak', version='1.0')\n",
    "        xml_body.set('{http://www.w3.org/XML/1998/namespace}lang', 'en-us')\n",
    "        voice = ElementTree.SubElement(xml_body, 'voice')\n",
    "        voice.set('{http://www.w3.org/XML/1998/namespace}lang', 'en-US')\n",
    "        #voice.set('name', 'en-US-Guy24kRUS') # Short name for 'Microsoft Server Speech Text to Speech Voice (en-US, Guy24KRUS)'\n",
    "        voice.set('name', inVoiceTypeShortName) # Short name for 'Microsoft Server Speech Text to Speech Voice\n",
    "        voice.text = self.text\n",
    "        body = ElementTree.tostring(xml_body)\n",
    "        ## sometimes azure response = 503\n",
    "        ##    https://docs.microsoft.com/en-us/rest/api/searchservice/http-status-codes\n",
    "        ##    Solution: make API call up to 3 times with random delay\n",
    "        for _ in range(3):\n",
    "            response = requests.post(constructed_url, headers=headers, data=body)\n",
    "            if response.status_code != 503:\n",
    "                break\n",
    "            sleep503Time = randint(3, 10)\n",
    "            print(f\"\\nAure response = 503, so sleeping for {sleep503Time} seconds.\\n\")\n",
    "            time.sleep(sleep503Time)\n",
    "        \n",
    "        #If a success response is returned, then the binary audio is written to the file.\n",
    "        outWavFile = '' # if conversion failed then this will remain empty string\n",
    "        # if the conversion is successful then status code will be 200.\n",
    "        if response.status_code == 200:\n",
    "            ## the wav file is created at the location sent during function call\n",
    "            ##     example of how filename will look: azureSTT_7_en-CA-HeatherRUS_20191119-121233.wav\n",
    "            outWavFile = _outWavFile\n",
    "            with open(_outWavFile, 'wb') as audio:\n",
    "                audio.write(response.content)\n",
    "                print(f\"\\nSUCCESS file created here: {outWavFile}\")\n",
    "        else:\n",
    "            print(f\"\\nFAILED : response.status_code: {str(response.status_code)}\")\n",
    "        \n",
    "        return response.status_code, outWavFile\n",
    "    \n",
    "    def get_voices_list(self):\n",
    "        #base_url = 'https://westus.tts.speech.microsoft.com/'\n",
    "        base_url = 'https://westeurope.tts.speech.microsoft.com/'\n",
    "        path = 'cognitiveservices/voices/list'\n",
    "        constructed_url = base_url + path\n",
    "        headers = {\n",
    "            'Authorization': 'Bearer ' + self.access_token,\n",
    "        }\n",
    "        response = requests.get(constructed_url, headers=headers)\n",
    "        if response.status_code == 200:\n",
    "            print(f\"\\nAvailable voices:\\n{response.text}\")\n",
    "        else:\n",
    "            print(f\"\\nStatus code: {str(response.status_code)}\\nSomething went wrong. Check your subscription key and headers.\\n\")\n",
    "        return response.text\n",
    "    \n",
    "    def set_text_to_convert(self, inText):\n",
    "        if isinstance(inText, str):\n",
    "            self.tts = inText\n",
    "            return True\n",
    "        else:\n",
    "            return False\n",
    "    #"
   ]
  },
  {
   "cell_type": "code",
   "execution_count": 3,
   "metadata": {},
   "outputs": [
    {
     "name": "stdout",
     "output_type": "stream",
     "text": [
      "\n",
      "First time Access Token = \n",
      "eyJhbGciOiJodHRwOi8vd3d3LnczLm9yZy8yMDAxLzA0L3htbGRzaWctbW9yZSNobWFjLXNoYTI1NiIsInR5cCI6IkpXVCJ9.eyJyZWdpb24iOiJ3ZXN0ZXVyb3BlIiwic3Vic2NyaXB0aW9uLWlkIjoiNGUyMzBhMzVmMjVmNDQ3YTlmOGYxODZmNmE3YThiYjIiLCJwcm9kdWN0LWlkIjoiU3BlZWNoU2VydmljZXMuRjAiLCJjb2duaXRpdmUtc2VydmljZXMtZW5kcG9pbnQiOiJodHRwczovL2FwaS5jb2duaXRpdmUubWljcm9zb2Z0LmNvbS9pbnRlcm5hbC92MS4wLyIsImF6dXJlLXJlc291cmNlLWlkIjoiL3N1YnNjcmlwdGlvbnMvYTBhOGI0MDQtMWZhOS00ZmI4LTljMjgtZWEwMTRlNDk0OTk5L3Jlc291cmNlR3JvdXBzL1JHTWFzdGVyVGhlc2lzMS9wcm92aWRlcnMvTWljcm9zb2Z0LkNvZ25pdGl2ZVNlcnZpY2VzL2FjY291bnRzL1JHTWFzdGVyVGhlc2lzMSIsInNjb3BlIjoic3BlZWNoc2VydmljZXMiLCJhdWQiOiJ1cm46bXMuc3BlZWNoc2VydmljZXMud2VzdGV1cm9wZSIsImV4cCI6MTU5NjY3MDY2NSwiaXNzIjoidXJuOm1zLmNvZ25pdGl2ZXNlcnZpY2VzIn0.WonI6aYxZqFzIQoMqd9Tn5RkvgFullBEnuqRn9ovDG0\n",
      "\n",
      "First time Access Token Start Time = \n",
      "20200806-012745\n",
      "\n"
     ]
    }
   ],
   "source": [
    "## create the object for the TTS processing\n",
    "app = TextToSpeech('xxxxxxxxxxxxxxx')  ## key 1, RG=RGMasterThesis1, Resource=RGMasterThesis1\n",
    "app.get_token()\n",
    "print(f\"\\nFirst time Access Token = \\n{app.access_token}\")\n",
    "print(f\"\\nFirst time Access Token Start Time = \\n{app.access_token_startTime}\\n\")"
   ]
  },
  {
   "cell_type": "code",
   "execution_count": 17,
   "metadata": {},
   "outputs": [
    {
     "name": "stdout",
     "output_type": "stream",
     "text": [
      "['en-AU-Catherine', 'en-AU-HayleyRUS', 'en-CA-HeatherRUS', 'en-CA-Linda', 'en-GB-George', 'en-GB-HazelRUS', 'en-GB-Susan', 'en-IE-Sean', 'en-IN-Heera', 'en-IN-PriyaRUS', 'en-IN-Ravi', 'en-US-AriaRUS', 'en-US-BenjaminRUS', 'en-US-GuyRUS', 'en-US-ZiraRUS']\n"
     ]
    }
   ],
   "source": [
    "## CHECKED THE TYPES OF VOICES THAT I CAN USE\n",
    "## view the list of short names available\n",
    "#response_info = app.get_voices_list()\n",
    "#print(f\"{response_info}\")\n",
    "\n",
    "#voice_types_list_ALL = json.loads(response_info)\n",
    "\n",
    "#english_short_names_list = []\n",
    "#for voice_info in voice_types_list_ALL:\n",
    "#    if voice_info[\"Locale\"].startswith(r\"en-\") and voice_info[\"VoiceType\"] == r\"Standard\":\n",
    "#        english_short_names_list.append(voice_info[\"ShortName\"])\n",
    "#print(f\"{english_short_names_list}\")\n",
    "\n",
    "\n",
    "## short names of voice types - English i.e. Locale starts with \"en-\", AND\n",
    "##                              Voicetype=Standard\n",
    "#voiceTypeShortNameList = [\n",
    "#    'en-AU-Catherine', 'en-AU-HayleyRUS', 'en-CA-HeatherRUS',\n",
    "#    'en-CA-Linda', 'en-GB-George', 'en-GB-HazelRUS',\n",
    "#    'en-GB-Susan', 'en-IE-Sean', 'en-IN-Heera',\n",
    "#    'en-IN-PriyaRUS', 'en-IN-Ravi', 'en-US-AriaRUS',\n",
    "#    'en-US-BenjaminRUS', 'en-US-GuyRUS', 'en-US-ZiraRUS']"
   ]
  },
  {
   "cell_type": "code",
   "execution_count": null,
   "metadata": {},
   "outputs": [],
   "source": [
    "## short names of voice types - English i.e. Locale starts with \"en-\", AND\n",
    "##                              Voicetype=Standard\n",
    "voiceTypeShortNameList = [\n",
    "    'en-AU-Catherine', 'en-AU-HayleyRUS', 'en-CA-HeatherRUS',\n",
    "    'en-CA-Linda', 'en-GB-George', 'en-GB-HazelRUS',\n",
    "    'en-GB-Susan', 'en-IE-Sean', 'en-IN-Heera',\n",
    "    'en-IN-PriyaRUS', 'en-IN-Ravi', 'en-US-AriaRUS',\n",
    "    'en-US-BenjaminRUS', 'en-US-GuyRUS', 'en-US-ZiraRUS']"
   ]
  },
  {
   "cell_type": "code",
   "execution_count": null,
   "metadata": {},
   "outputs": [],
   "source": [
    "textToConvert = r'blab blah\n",
    "if not app.set_text_to_convert(textToConvert):\n",
    "    print(f\"FATAL ERROR\")"
   ]
  },
  {
   "cell_type": "code",
   "execution_count": null,
   "metadata": {},
   "outputs": [],
   "source": [
    "appSaveAudioRespCode, savedWavFilename = app.save_audio( voiceTypeShortName, fileNumber, outWavFilesPath )\n",
    "if appSaveAudioRespCode != 200:\n",
    "     print(f\"\\n\\nERROR audio conversion. Azure response Status Code = {appSaveAudioRespCode}\\n\\n\")"
   ]
  },
  {
   "cell_type": "code",
   "execution_count": null,
   "metadata": {},
   "outputs": [],
   "source": []
  },
  {
   "cell_type": "code",
   "execution_count": null,
   "metadata": {},
   "outputs": [],
   "source": []
  },
  {
   "cell_type": "code",
   "execution_count": null,
   "metadata": {},
   "outputs": [],
   "source": []
  },
  {
   "cell_type": "code",
   "execution_count": null,
   "metadata": {},
   "outputs": [],
   "source": []
  },
  {
   "cell_type": "code",
   "execution_count": null,
   "metadata": {},
   "outputs": [],
   "source": []
  },
  {
   "cell_type": "code",
   "execution_count": null,
   "metadata": {},
   "outputs": [],
   "source": []
  },
  {
   "cell_type": "code",
   "execution_count": null,
   "metadata": {},
   "outputs": [],
   "source": []
  }
 ],
 "metadata": {
  "kernelspec": {
   "display_name": "Python 3",
   "language": "python",
   "name": "python3"
  },
  "language_info": {
   "codemirror_mode": {
    "name": "ipython",
    "version": 3
   },
   "file_extension": ".py",
   "mimetype": "text/x-python",
   "name": "python",
   "nbconvert_exporter": "python",
   "pygments_lexer": "ipython3",
   "version": "3.7.7"
  }
 },
 "nbformat": 4,
 "nbformat_minor": 2
}
