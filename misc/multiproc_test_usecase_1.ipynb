{
 "cells": [
  {
   "cell_type": "code",
   "execution_count": 1,
   "metadata": {},
   "outputs": [],
   "source": [
    "# multiprocessing using task and queue\n",
    "# https://pymotw.com/2/multiprocessing/communication.html"
   ]
  },
  {
   "cell_type": "markdown",
   "metadata": {},
   "source": [
    "# Use multiprocessing with joinable queue.\n",
    "## find all the files in the folder specified and create the image_files_arr array\n",
    "## nfts is the number of files to process per task\n",
    "## detect number of cores and start workers for one less count\n",
    "## using the nfts, create appropriate number of task objects\n",
    "## each worker will get two pieces of info in the data: a prefix number, the slice of the array\n",
    "### worker is to return a list with the prefix added at start of each file name\n",
    "## main process waits for all the workers to finish, then prints the result arrays returned by each worker"
   ]
  },
  {
   "cell_type": "code",
   "execution_count": 2,
   "metadata": {},
   "outputs": [],
   "source": [
    "import multiprocessing, os"
   ]
  },
  {
   "cell_type": "code",
   "execution_count": 3,
   "metadata": {},
   "outputs": [],
   "source": [
    "image_path = r\"/home/rohit/PyWDUbuntu/thesis/Imgs2Detect\"\n",
    "image_files_arr = [os.path.join(image_path, f) for f in os.listdir(image_path) if os.path.isfile(os.path.join(image_path, f))]"
   ]
  },
  {
   "cell_type": "code",
   "execution_count": 4,
   "metadata": {},
   "outputs": [
    {
     "data": {
      "text/plain": [
       "12"
      ]
     },
     "execution_count": 4,
     "metadata": {},
     "output_type": "execute_result"
    }
   ],
   "source": [
    "len(image_files_arr)"
   ]
  },
  {
   "cell_type": "code",
   "execution_count": 5,
   "metadata": {},
   "outputs": [
    {
     "name": "stdout",
     "output_type": "stream",
     "text": [
      "3\n"
     ]
    }
   ],
   "source": [
    "nfts = 4\n",
    "num_jobs = int(len(image_files_arr) / nfts + ( (len(image_files_arr) % nfts)!=0 ) * 1)\n",
    "print(f\"{num_jobs}\")"
   ]
  },
  {
   "cell_type": "code",
   "execution_count": 6,
   "metadata": {},
   "outputs": [
    {
     "data": {
      "text/plain": [
       "['/home/rohit/PyWDUbuntu/thesis/Imgs2Detect/371903.jpg',\n",
       " '/home/rohit/PyWDUbuntu/thesis/Imgs2Detect/371902 (copy).jpg',\n",
       " '/home/rohit/PyWDUbuntu/thesis/Imgs2Detect/36979 (copy).jpg',\n",
       " '/home/rohit/PyWDUbuntu/thesis/Imgs2Detect/371897.jpg',\n",
       " '/home/rohit/PyWDUbuntu/thesis/Imgs2Detect/36979.jpg',\n",
       " '/home/rohit/PyWDUbuntu/thesis/Imgs2Detect/1317156 (copy).jpg',\n",
       " '/home/rohit/PyWDUbuntu/thesis/Imgs2Detect/148284.jpg',\n",
       " '/home/rohit/PyWDUbuntu/thesis/Imgs2Detect/148284 (copy).jpg',\n",
       " '/home/rohit/PyWDUbuntu/thesis/Imgs2Detect/371897 (copy).jpg',\n",
       " '/home/rohit/PyWDUbuntu/thesis/Imgs2Detect/1317156.jpg',\n",
       " '/home/rohit/PyWDUbuntu/thesis/Imgs2Detect/371903 (copy).jpg',\n",
       " '/home/rohit/PyWDUbuntu/thesis/Imgs2Detect/371902.jpg']"
      ]
     },
     "execution_count": 6,
     "metadata": {},
     "output_type": "execute_result"
    }
   ],
   "source": [
    "image_files_arr"
   ]
  },
  {
   "cell_type": "code",
   "execution_count": 7,
   "metadata": {},
   "outputs": [
    {
     "name": "stdout",
     "output_type": "stream",
     "text": [
      "job 1 =\n",
      "['/home/rohit/PyWDUbuntu/thesis/Imgs2Detect/371903.jpg', '/home/rohit/PyWDUbuntu/thesis/Imgs2Detect/371902 (copy).jpg', '/home/rohit/PyWDUbuntu/thesis/Imgs2Detect/36979 (copy).jpg', '/home/rohit/PyWDUbuntu/thesis/Imgs2Detect/371897.jpg']\n",
      "job 2 =\n",
      "['/home/rohit/PyWDUbuntu/thesis/Imgs2Detect/36979.jpg', '/home/rohit/PyWDUbuntu/thesis/Imgs2Detect/1317156 (copy).jpg', '/home/rohit/PyWDUbuntu/thesis/Imgs2Detect/148284.jpg', '/home/rohit/PyWDUbuntu/thesis/Imgs2Detect/148284 (copy).jpg']\n",
      "job 3 =\n",
      "['/home/rohit/PyWDUbuntu/thesis/Imgs2Detect/371897 (copy).jpg', '/home/rohit/PyWDUbuntu/thesis/Imgs2Detect/1317156.jpg', '/home/rohit/PyWDUbuntu/thesis/Imgs2Detect/371903 (copy).jpg', '/home/rohit/PyWDUbuntu/thesis/Imgs2Detect/371902.jpg']\n"
     ]
    }
   ],
   "source": [
    "if num_jobs > 1:\n",
    "    for i in range(num_jobs - 1):\n",
    "        print(f\"job {i+1} =\\n{image_files_arr[i*nfts : (i+1)*nfts]}\")\n",
    "print(f\"job {num_jobs} =\\n{image_files_arr[(num_jobs-1)*nfts : ]}\")"
   ]
  },
  {
   "cell_type": "code",
   "execution_count": null,
   "metadata": {},
   "outputs": [],
   "source": []
  },
  {
   "cell_type": "code",
   "execution_count": 8,
   "metadata": {},
   "outputs": [
    {
     "data": {
      "text/plain": [
       "11"
      ]
     },
     "execution_count": 8,
     "metadata": {},
     "output_type": "execute_result"
    }
   ],
   "source": [
    "multiprocessing.cpu_count() - 1"
   ]
  },
  {
   "cell_type": "code",
   "execution_count": 9,
   "metadata": {},
   "outputs": [],
   "source": [
    "class Consumer(multiprocessing.Process):\n",
    "    def __init__(self, task_queue, result_queue):\n",
    "        multiprocessing.Process.__init__(self)\n",
    "        self.task_queue = task_queue\n",
    "        self.result_queue = result_queue\n",
    "\n",
    "    def run(self):\n",
    "        proc_name = self.name\n",
    "        while True:\n",
    "            next_task = self.task_queue.get()\n",
    "            if next_task is None:\n",
    "                # Poison pill means shutdown\n",
    "                print(f\"Exiting process {proc_name}\")\n",
    "                self.task_queue.task_done()\n",
    "                break\n",
    "            print(f\"Process {proc_name} picked job = {next_task.job_num}\")\n",
    "            answer = next_task()\n",
    "            self.task_queue.task_done()\n",
    "            self.result_queue.put(answer)\n",
    "        return"
   ]
  },
  {
   "cell_type": "code",
   "execution_count": 10,
   "metadata": {},
   "outputs": [],
   "source": [
    "class Task(object):\n",
    "    def __init__(self, _job_num, _data):\n",
    "        self.job_num = _job_num\n",
    "        self.data = _data\n",
    "    def __call__(self):\n",
    "        ans = []\n",
    "        imgarr, prefix = self.data\n",
    "        for each_entry in imgarr:\n",
    "            ans.append(\"j\" + str(prefix) + \"_\" + each_entry)\n",
    "        return ans\n",
    "    def __str__(self):\n",
    "        pass\n",
    "        #return '%s * %s' % (self.a, self.b)"
   ]
  },
  {
   "cell_type": "code",
   "execution_count": 11,
   "metadata": {},
   "outputs": [
    {
     "name": "stdout",
     "output_type": "stream",
     "text": [
      "Creating 11 consumers\n",
      "Process Consumer-2 picked job = 2\n",
      "Process Consumer-11 picked job = 3\n",
      "Process Consumer-1 picked job = 1\n",
      "Exiting process Consumer-5\n",
      "Exiting process Consumer-4\n",
      "Exiting process Consumer-6\n",
      "Exiting process Consumer-11\n",
      "Exiting process Consumer-3\n",
      "Exiting process Consumer-2\n",
      "Exiting process Consumer-10\n",
      "Exiting process Consumer-9\n",
      "Exiting process Consumer-1\n",
      "Exiting process Consumer-7\n",
      "Exiting process Consumer-8\n",
      "\n",
      "\n",
      "All consumers rejoined\n",
      "\n",
      "\n",
      "Job 1 result=\n",
      "['j188_/home/rohit/PyWDUbuntu/thesis/Imgs2Detect/36979.jpg', 'j188_/home/rohit/PyWDUbuntu/thesis/Imgs2Detect/1317156 (copy).jpg', 'j188_/home/rohit/PyWDUbuntu/thesis/Imgs2Detect/148284.jpg', 'j188_/home/rohit/PyWDUbuntu/thesis/Imgs2Detect/148284 (copy).jpg']\n",
      "Job 2 result=\n",
      "['j277_/home/rohit/PyWDUbuntu/thesis/Imgs2Detect/371897 (copy).jpg', 'j277_/home/rohit/PyWDUbuntu/thesis/Imgs2Detect/1317156.jpg', 'j277_/home/rohit/PyWDUbuntu/thesis/Imgs2Detect/371903 (copy).jpg', 'j277_/home/rohit/PyWDUbuntu/thesis/Imgs2Detect/371902.jpg']\n",
      "Job 3 result=\n",
      "['j99_/home/rohit/PyWDUbuntu/thesis/Imgs2Detect/371903.jpg', 'j99_/home/rohit/PyWDUbuntu/thesis/Imgs2Detect/371902 (copy).jpg', 'j99_/home/rohit/PyWDUbuntu/thesis/Imgs2Detect/36979 (copy).jpg', 'j99_/home/rohit/PyWDUbuntu/thesis/Imgs2Detect/371897.jpg']\n"
     ]
    }
   ],
   "source": [
    "if __name__ == '__main__':\n",
    "    \n",
    "    image_path = r\"/home/rohit/PyWDUbuntu/thesis/Imgs2Detect\"\n",
    "    image_files_arr = [os.path.join(image_path, f) for f in os.listdir(image_path) if os.path.isfile(os.path.join(image_path, f))]\n",
    "    nfts = 4 # num of files per task\n",
    "\n",
    "    # Establish communication queues\n",
    "    tasks = multiprocessing.JoinableQueue()\n",
    "    results = multiprocessing.Queue()\n",
    "    \n",
    "    # Start consumers\n",
    "    num_consumers = multiprocessing.cpu_count() - 1\n",
    "    print(f\"Creating {num_consumers} consumers\")\n",
    "    consumers = [ Consumer(tasks, results) for i in range(num_consumers) ]\n",
    "    for w in consumers:\n",
    "        w.start()\n",
    "    \n",
    "    # Enqueue jobs\n",
    "    num_jobs = int(len(image_files_arr) / nfts + ( (len(image_files_arr) % nfts)!=0 ) * 1)\n",
    "    abc = [val for val in range(99,99+89*num_jobs,89)]\n",
    "    if num_jobs > 1:\n",
    "        for i in range(num_jobs - 1):\n",
    "            data_for_job = []\n",
    "            data_for_job.append(image_files_arr[i*nfts : (i+1)*nfts])\n",
    "            data_for_job.append(abc[i])\n",
    "            tasks.put(Task(i+1, data_for_job))\n",
    "    data_for_job = []\n",
    "    data_for_job.append(image_files_arr[(num_jobs-1)*nfts : ])\n",
    "    data_for_job.append(abc[-1])\n",
    "    tasks.put(Task(num_jobs, data_for_job))\n",
    "    \n",
    "    # Add a poison pill for each consumer\n",
    "    for i in range(num_consumers):\n",
    "        tasks.put(None)\n",
    "\n",
    "    # Wait for all of the tasks to finish\n",
    "    tasks.join()\n",
    "    print(f\"\\n\\nAll consumers rejoined\\n\\n\")\n",
    "    \n",
    "    # Start printing results\n",
    "    for i in range(num_jobs):\n",
    "        result = results.get()\n",
    "        print(f\"Job {i+1} result=\\n{result}\")"
   ]
  },
  {
   "cell_type": "code",
   "execution_count": null,
   "metadata": {},
   "outputs": [],
   "source": []
  },
  {
   "cell_type": "code",
   "execution_count": null,
   "metadata": {},
   "outputs": [],
   "source": []
  },
  {
   "cell_type": "code",
   "execution_count": null,
   "metadata": {},
   "outputs": [],
   "source": []
  },
  {
   "cell_type": "code",
   "execution_count": null,
   "metadata": {},
   "outputs": [],
   "source": []
  },
  {
   "cell_type": "code",
   "execution_count": null,
   "metadata": {},
   "outputs": [],
   "source": []
  }
 ],
 "metadata": {
  "kernelspec": {
   "display_name": "Python 3",
   "language": "python",
   "name": "python3"
  },
  "language_info": {
   "codemirror_mode": {
    "name": "ipython",
    "version": 3
   },
   "file_extension": ".py",
   "mimetype": "text/x-python",
   "name": "python",
   "nbconvert_exporter": "python",
   "pygments_lexer": "ipython3",
   "version": "3.7.7"
  }
 },
 "nbformat": 4,
 "nbformat_minor": 4
}
