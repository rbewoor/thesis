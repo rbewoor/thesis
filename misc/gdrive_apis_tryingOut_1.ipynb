{
 "cells": [
  {
   "cell_type": "code",
   "execution_count": null,
   "metadata": {},
   "outputs": [],
   "source": []
  },
  {
   "cell_type": "code",
   "execution_count": null,
   "metadata": {},
   "outputs": [],
   "source": [
    "## to list files in a folder of google drive"
   ]
  },
  {
   "cell_type": "code",
   "execution_count": 3,
   "metadata": {},
   "outputs": [],
   "source": [
    "from __future__ import print_function\n",
    "\n",
    "import pickle\n",
    "import os\n",
    "from googleapiclient.discovery import build\n",
    "from googleapiclient.http import MediaFileUpload\n",
    "from google_auth_oauthlib.flow import InstalledAppFlow\n",
    "from google.auth.transport.requests import Request\n",
    "\n",
    "import argparse\n",
    "import sys\n",
    "import datetime\n",
    "import time"
   ]
  },
  {
   "cell_type": "code",
   "execution_count": 4,
   "metadata": {},
   "outputs": [],
   "source": [
    "def setup_drive_service():\n",
    "    try:\n",
    "        # If modifying these scopes, delete the file token.pickle.\n",
    "        SCOPES = ['https://www.googleapis.com/auth/drive']\n",
    "\n",
    "        creds = None\n",
    "        gdrive_creds_json_loc = r'/home/rohit/PyWDUbuntu/thesis/gdrive_pil_20200701/credentials_pil_thesis_work_oauth_client_id_20200916.json'\n",
    "\n",
    "        CREDS_PICKLE_TOP_FOLDER = r'/home/rohit/PyWDUbuntu/thesis/gdrive_pil_20200701/'\n",
    "        creds_pickle_file_loc = r'/home/rohit/PyWDUbuntu/thesis/gdrive_pil_20200701/token_pil_thesis_work_oauth_client_id_20200916.pickle'\n",
    "        # The file token.pickle stores the user's access and refresh tokens, and is\n",
    "        # created automatically when the authorization flow completes for the first\n",
    "        # time.\n",
    "        if os.path.exists(creds_pickle_file_loc):\n",
    "            with open(creds_pickle_file_loc, 'rb') as token:\n",
    "                creds = pickle.load(token)\n",
    "        # If there are no (valid) credentials available, let the user log in.\n",
    "        if not creds or not creds.valid:\n",
    "            if creds and creds.expired and creds.refresh_token:\n",
    "                creds.refresh(Request())\n",
    "            else:\n",
    "                flow = InstalledAppFlow.from_client_secrets_file(\n",
    "                    gdrive_creds_json_loc, SCOPES)\n",
    "                creds = flow.run_local_server(port=0)\n",
    "            # Save the credentials for the next run\n",
    "            with open(creds_pickle_file_loc, 'wb') as token:\n",
    "                pickle.dump(creds, token)\n",
    "\n",
    "        drive_serviceservice = build('drive', 'v3', credentials=creds)\n",
    "        print(f\"\\n\\ntype of drive_serviceservice should say    <class 'googleapiclient.discovery.Resource'> =\\n{type(drive_serviceservice)}\\n\\n\")\n",
    "        \n",
    "        return drive_serviceservice\n",
    "    except:\n",
    "        return None"
   ]
  },
  {
   "cell_type": "code",
   "execution_count": 5,
   "metadata": {},
   "outputs": [],
   "source": [
    "def list_files_in_gdrive_overall(_service):\n",
    "    ## NOTE: To restrict the search to folders, use the query string to set the MIME type to \n",
    "    ##       q: mimeType = 'application/vnd.google-apps.folder'\n",
    "    MAX_PAGES_LIMIT = 2\n",
    "    count_pages = 0\n",
    "    count_files = 0\n",
    "    page_token = None\n",
    "    while True:\n",
    "        response = _service.files().list(q=\"mimeType='image/jpeg'\",\n",
    "                                              spaces='drive',\n",
    "                                              fields='nextPageToken, files(id, name)',\n",
    "                                              pageToken=page_token).execute()\n",
    "        print(f\"\\nFiles for PAGE{count_pages+1}:\\n\")\n",
    "        for file in response.get('files', []):\n",
    "            # Process change\n",
    "            print(f\"Found file: {( file.get('name'), file.get('id') )}\")\n",
    "            count_files += 1\n",
    "        page_token = response.get('nextPageToken', None)\n",
    "        if page_token is None:\n",
    "            break\n",
    "        count_pages += 1\n",
    "        if count_pages > MAX_PAGES_LIMIT:\n",
    "            print(f\"\\n\\nNumber of files found = {count_files}\\n\\n\")\n",
    "            print(f\"\\n\\nMaximum page limit reached {MAX_PAGES_LIMIT} and breaking\\n\\n\")\n",
    "            break"
   ]
  },
  {
   "cell_type": "code",
   "execution_count": 6,
   "metadata": {},
   "outputs": [],
   "source": [
    "def list_folders_in_gdrive_overall(_service):\n",
    "    ## NOTE: To restrict the search to folders, use the query string to set the MIME type to \n",
    "    ##       q: mimeType = 'application/vnd.google-apps.folder'\n",
    "    MAX_PAGES_LIMIT = 10\n",
    "    count_pages = 0\n",
    "    count_folders = 0\n",
    "    page_token = None\n",
    "    while True:\n",
    "        response = _service.files().list(q=\"mimeType='application/vnd.google-apps.folder'\",\n",
    "                                              spaces='drive',\n",
    "                                              fields='nextPageToken, files(id, name)',\n",
    "                                              pageToken=page_token).execute()\n",
    "        print(f\"\\nFolders for PAGE {count_pages+1}:\\n\")\n",
    "        for file in response.get('files', []):\n",
    "            # Process change\n",
    "            print(f\"Found folder: {( file.get('name'), file.get('id') )}\")\n",
    "            count_folders += 1\n",
    "        page_token = response.get('nextPageToken', None)\n",
    "        if page_token is None:\n",
    "            break\n",
    "        count_pages += 1\n",
    "        if count_pages > MAX_PAGES_LIMIT:\n",
    "            print(f\"\\n\\nNumber of folders found = {count_folder}\\n\\n\")\n",
    "            print(f\"\\n\\nMaximum page limit reached {MAX_PAGES_LIMIT} and breaking\\n\\n\")\n",
    "            break"
   ]
  },
  {
   "cell_type": "code",
   "execution_count": 8,
   "metadata": {},
   "outputs": [
    {
     "name": "stdout",
     "output_type": "stream",
     "text": [
      "'FOLDERID' in parents and mimeType='image/jpeg'\n"
     ]
    }
   ],
   "source": [
    "for_files_only = \"mimeType='image/jpeg'\"\n",
    "for_folders_only = \"mimeType='application/vnd.google-apps.folder'\"\n",
    "query = \"'\" + 'FOLDERID' + \"'\" + ' in parents' + ' and ' + for_files_only\n",
    "print(query)"
   ]
  },
  {
   "cell_type": "code",
   "execution_count": 9,
   "metadata": {},
   "outputs": [],
   "source": [
    "def list_items_in_gdrive_target_folder(_service, _folder_id, _files_or_folders = 'both'):\n",
    "    ## NOTE: To restrict the search to folders, use the query string to set the MIME type to \n",
    "    ##       q: mimeType = 'application/vnd.google-apps.folder'\n",
    "    MAX_PAGES_LIMIT = 5\n",
    "    count_pages = 0\n",
    "    count_files = 0\n",
    "    page_token = None\n",
    "    if _files_or_folders == 'folders':\n",
    "        query_only_folders = \"'\" + _folder_id + \"'\" + ' in parents'+ ' and ' + \"mimeType='application/vnd.google-apps.folder'\"\n",
    "        query = query_only_folders\n",
    "    elif _files_or_folders == 'files':\n",
    "        query_only_files = \"'\" + _folder_id + \"'\" + ' in parents'+ ' and ' + \"mimeType != 'application/vnd.google-apps.folder'\"\n",
    "        query = query_only_files\n",
    "    elif _files_or_folders == 'both': ## should be defaut is both\n",
    "        query_folders_and_files = \"'\" + _folder_id + \"'\" + ' in parents'\n",
    "        query = query_folders_and_files\n",
    "    else: ## invalid value sent\n",
    "        print(f\"\\n\\nERROR : invalid value for the '_files_or_folders' parameter. Expected one of these three options:\")\n",
    "        print(f\"both     OR    files    OR    folders\")\n",
    "        print(f\"Your query parater=\\n{_files_or_folders}\\n\")\n",
    "        return None\n",
    "    print(f\"\\nQuery parameter built as:{query}\\n\")\n",
    "    while True:\n",
    "        #response = _service.files().list(q=\"'1H76HF9yRRRdffGkzdKExaMWjMXV4YGcv' in parents\",\n",
    "        #                                      spaces='drive',\n",
    "        #                                      fields='nextPageToken, files(id, name)',\n",
    "        #                                      pageToken=page_token).execute()\n",
    "        response = _service.files().list(q=query,\n",
    "                                      spaces='drive',\n",
    "                                      fields='nextPageToken, files(id, name)',\n",
    "                                      pageToken=page_token).execute()\n",
    "        print(f\"\\nItems for PAGE {count_pages+1}:\\n\")\n",
    "        for file in response.get('files', []):\n",
    "            # Process change\n",
    "            print(f\"Found folder/file: {( file.get('name'), file.get('id') )}\")\n",
    "            count_files += 1\n",
    "        page_token = response.get('nextPageToken', None)\n",
    "        if page_token is None:\n",
    "            break\n",
    "        count_pages += 1\n",
    "        if count_pages > MAX_PAGES_LIMIT:\n",
    "            print(f\"\\n\\nNumber of itmes found = {count_files}\\n\\n\")\n",
    "            print(f\"\\n\\nMaximum page limit reached {MAX_PAGES_LIMIT} and breaking\\n\\n\")\n",
    "            break"
   ]
  },
  {
   "cell_type": "code",
   "execution_count": 16,
   "metadata": {},
   "outputs": [],
   "source": [
    "def retrieve_items_in_gdrive_target_folder(_service, _folder_id, _files_or_folders = 'both', _MAX_PAGES_LIMIT = 3):\n",
    "    ## NOTE: To restrict the search to folders, use the query string to set the MIME type to \n",
    "    ##       q: mimeType = 'application/vnd.google-apps.folder'\n",
    "    MAX_PAGES_LIMIT = _MAX_PAGES_LIMIT\n",
    "    count_pages = 0\n",
    "    count_files = 0\n",
    "    page_token = None\n",
    "    if _files_or_folders == 'folders':\n",
    "        query_only_folders = \"'\" + _folder_id + \"'\" + ' in parents'+ ' and ' + \"mimeType='application/vnd.google-apps.folder'\"\n",
    "        query = query_only_folders\n",
    "    elif _files_or_folders == 'files':\n",
    "        query_only_files = \"'\" + _folder_id + \"'\" + ' in parents'+ ' and ' + \"mimeType != 'application/vnd.google-apps.folder'\"\n",
    "        query = query_only_files\n",
    "    elif _files_or_folders == 'both': ## should be defaut is both\n",
    "        query_folders_and_files = \"'\" + _folder_id + \"'\" + ' in parents'\n",
    "        query = query_folders_and_files\n",
    "    else: ## invalid value sent\n",
    "        print(f\"\\n\\nERROR : invalid value for the '_files_or_folders' parameter. Expected one of these three options:\")\n",
    "        print(f\"both     OR    files    OR    folders\")\n",
    "        print(f\"Your query parater=\\n{_files_or_folders}\\n\")\n",
    "        return None\n",
    "    print(f\"\\nQuery parameter built as:{query}\\n\")\n",
    "    items_result = []\n",
    "    while True:\n",
    "        #response = _service.files().list(q=\"'1H76HF9yRRRdffGkzdKExaMWjMXV4YGcv' in parents\",\n",
    "        #                                      spaces='drive',\n",
    "        #                                      fields='nextPageToken, files(id, name)',\n",
    "        #                                      pageToken=page_token).execute()\n",
    "        response = _service.files().list(q=query,\n",
    "                                      spaces='drive',\n",
    "                                      fields='nextPageToken, files(id, name)',\n",
    "                                      pageToken=page_token).execute()\n",
    "        #print(f\"\\nItems for PAGE {count_pages+1}:\\n\")\n",
    "        for file in response.get('files', []):\n",
    "            # Process change\n",
    "            #print(f\"Found folder/file: {( file.get('name'), file.get('id') )}\")\n",
    "            items_result.append( {'name': file.get('name') , 'id': file.get('id')} )\n",
    "            count_files += 1\n",
    "        page_token = response.get('nextPageToken', None)\n",
    "        if page_token is None:\n",
    "            break\n",
    "        count_pages += 1\n",
    "        if count_pages > MAX_PAGES_LIMIT:\n",
    "            print(f\"\\n\\nNumber of itmes found = {count_files}\\n\\n\")\n",
    "            print(f\"\\n\\nMaximum page limit reached {MAX_PAGES_LIMIT} and breaking\\n\\n\")\n",
    "            break\n",
    "    return items_result"
   ]
  },
  {
   "cell_type": "code",
   "execution_count": 11,
   "metadata": {},
   "outputs": [
    {
     "name": "stdout",
     "output_type": "stream",
     "text": [
      "Please visit this URL to authorize this application: https://accounts.google.com/o/oauth2/auth?response_type=code&client_id=55352638995-5rjg28ma1ishr098v884vgc2cpdhf08a.apps.googleusercontent.com&redirect_uri=http%3A%2F%2Flocalhost%3A46869%2F&scope=https%3A%2F%2Fwww.googleapis.com%2Fauth%2Fdrive&state=e25txhhk8emzFwlAx40C9TiT7jupHJ&access_type=offline\n",
      "\n",
      "\n",
      "type of drive_serviceservice should say    <class 'googleapiclient.discovery.Resource'> =\n",
      "<class 'googleapiclient.discovery.Resource'>\n",
      "\n",
      "\n",
      "\n",
      "\n",
      "Service setup SUCCESS\n",
      "\n",
      "\n"
     ]
    }
   ],
   "source": [
    "## make the service\n",
    "service = setup_drive_service()\n",
    "if service is None:\n",
    "    print(f\"\\n\\nFATAL ERROR: Could not setup gdrive service\\n\\n\")\n",
    "else:\n",
    "\n",
    "    print(f\"\\n\\nService setup SUCCESS\\n\\n\")"
   ]
  },
  {
   "cell_type": "code",
   "execution_count": 12,
   "metadata": {},
   "outputs": [],
   "source": [
    "## my funcs\n",
    "#list_files_in_gdrive_overall  -- display the info, does not return\n",
    "#list_folders_in_gdrive_overall  -- display the info, does not return\n",
    "\n",
    "## -- use the target folder querying functions  1) only files, 2) only folders 3) both (default)\n",
    "#list_items_in_gdrive_target_folder  -- display the info, does not return\n",
    "#retrieve_items_in_gdrive_target_folder  -- return the info , do not display"
   ]
  },
  {
   "cell_type": "code",
   "execution_count": 20,
   "metadata": {},
   "outputs": [
    {
     "name": "stdout",
     "output_type": "stream",
     "text": [
      "\n",
      "Query parameter built as:'1H9Be89645jTimwXPYPVMHeMQeqhEFjGi' in parents\n",
      "\n",
      "\n",
      "results for query with BOTH=\n",
      "[{'name': 'subfolder', 'id': '1BkFpEENiVuJ9Xq7jnp6Gc98bCEW0mJ2w'}, {'name': 'file_4.deletefile', 'id': '1-UUVxiNCWqZJZInnC8ZSW-a0i0IZFPkY'}, {'name': 'file_3.deletefile', 'id': '1-ZFvLpchsZ8XMLm_3cw1tFOlwNK5SPtk'}, {'name': 'file_2.deletefile', 'id': '1-axDYnX6l6hq60nGPpBy5afdgyE9kYuO'}, {'name': 'file_1.deletefile', 'id': '1-g1ZlBsvKIP_crCdfiQl6jm7GyEi6jux'}, {'name': 'file_0.deletefile', 'id': '1-TGlQjfW6seI3SgKV4VUqXKC43KH1Htj'}]\n",
      "\n",
      "Query parameter built as:'1H9Be89645jTimwXPYPVMHeMQeqhEFjGi' in parents and mimeType != 'application/vnd.google-apps.folder'\n",
      "\n",
      "\n",
      "results for query with FILES=\n",
      "[{'name': 'file_4.deletefile', 'id': '1-UUVxiNCWqZJZInnC8ZSW-a0i0IZFPkY'}, {'name': 'file_3.deletefile', 'id': '1-ZFvLpchsZ8XMLm_3cw1tFOlwNK5SPtk'}, {'name': 'file_2.deletefile', 'id': '1-axDYnX6l6hq60nGPpBy5afdgyE9kYuO'}, {'name': 'file_1.deletefile', 'id': '1-g1ZlBsvKIP_crCdfiQl6jm7GyEi6jux'}, {'name': 'file_0.deletefile', 'id': '1-TGlQjfW6seI3SgKV4VUqXKC43KH1Htj'}]\n",
      "\n",
      "Query parameter built as:'1H9Be89645jTimwXPYPVMHeMQeqhEFjGi' in parents and mimeType='application/vnd.google-apps.folder'\n",
      "\n",
      "\n",
      "results for query with FOLDERS=\n",
      "[{'name': 'subfolder', 'id': '1BkFpEENiVuJ9Xq7jnp6Gc98bCEW0mJ2w'}]\n"
     ]
    }
   ],
   "source": [
    "## list all the files AND folders in the target folder - default is both\n",
    "## for only files    use   _files_or_folders='files'\n",
    "## for only folders  use   _files_or_folders='folders'\n",
    "GDRIVE_TARGET_FOLDER = '1H9Be89645jTimwXPYPVMHeMQeqhEFjGi'  ## has 5 temp files to delete\n",
    "\n",
    "results_BOTH = retrieve_items_in_gdrive_target_folder(service, GDRIVE_TARGET_FOLDER)\n",
    "print(f\"\\nresults for query with BOTH=\\n{results_BOTH}\")\n",
    "\n",
    "results_FILES = retrieve_items_in_gdrive_target_folder(service, GDRIVE_TARGET_FOLDER, _files_or_folders = 'files')\n",
    "print(f\"\\nresults for query with FILES=\\n{results_FILES}\")\n",
    "\n",
    "results_FOLDERS = retrieve_items_in_gdrive_target_folder(service, GDRIVE_TARGET_FOLDER, _files_or_folders = 'folders')\n",
    "print(f\"\\nresults for query with FOLDERS=\\n{results_FOLDERS}\")"
   ]
  },
  {
   "cell_type": "code",
   "execution_count": null,
   "metadata": {},
   "outputs": [],
   "source": []
  },
  {
   "cell_type": "code",
   "execution_count": null,
   "metadata": {},
   "outputs": [],
   "source": []
  },
  {
   "cell_type": "code",
   "execution_count": null,
   "metadata": {},
   "outputs": [],
   "source": []
  },
  {
   "cell_type": "code",
   "execution_count": null,
   "metadata": {},
   "outputs": [],
   "source": []
  },
  {
   "cell_type": "code",
   "execution_count": null,
   "metadata": {},
   "outputs": [],
   "source": []
  },
  {
   "cell_type": "code",
   "execution_count": 27,
   "metadata": {},
   "outputs": [
    {
     "name": "stdout",
     "output_type": "stream",
     "text": [
      "\n",
      "Query parameter built as:'1H9Be89645jTimwXPYPVMHeMQeqhEFjGi' in parents\n",
      "\n",
      "\n",
      "Items for PAGE 1:\n",
      "\n",
      "Found folder/file: ('subfolder', '1BkFpEENiVuJ9Xq7jnp6Gc98bCEW0mJ2w')\n",
      "Found folder/file: ('file_4.deletefile', '1-UUVxiNCWqZJZInnC8ZSW-a0i0IZFPkY')\n",
      "Found folder/file: ('file_3.deletefile', '1-ZFvLpchsZ8XMLm_3cw1tFOlwNK5SPtk')\n",
      "Found folder/file: ('file_2.deletefile', '1-axDYnX6l6hq60nGPpBy5afdgyE9kYuO')\n",
      "Found folder/file: ('file_1.deletefile', '1-g1ZlBsvKIP_crCdfiQl6jm7GyEi6jux')\n",
      "Found folder/file: ('file_0.deletefile', '1-TGlQjfW6seI3SgKV4VUqXKC43KH1Htj')\n"
     ]
    }
   ],
   "source": [
    "## list all the files AND folders in the target folder - default is both\n",
    "## for only files    use   _files_or_folders='files'\n",
    "## for only folders  use   _files_or_folders='folders'\n",
    "GDRIVE_TARGET_FOLDER = '1H9Be89645jTimwXPYPVMHeMQeqhEFjGi'  ## has 5 temp files to delete\n",
    "list_items_in_gdrive_target_folder(service, GDRIVE_TARGET_FOLDER)"
   ]
  },
  {
   "cell_type": "code",
   "execution_count": 32,
   "metadata": {},
   "outputs": [
    {
     "name": "stdout",
     "output_type": "stream",
     "text": [
      "\n",
      "Query parameter built as:'1H9Be89645jTimwXPYPVMHeMQeqhEFjGi' in parents and mimeType != 'application/vnd.google-apps.folder'\n",
      "\n",
      "\n",
      "Items for PAGE 1:\n",
      "\n",
      "Found folder/file: ('file_4.deletefile', '1-UUVxiNCWqZJZInnC8ZSW-a0i0IZFPkY')\n",
      "Found folder/file: ('file_3.deletefile', '1-ZFvLpchsZ8XMLm_3cw1tFOlwNK5SPtk')\n",
      "Found folder/file: ('file_2.deletefile', '1-axDYnX6l6hq60nGPpBy5afdgyE9kYuO')\n",
      "Found folder/file: ('file_1.deletefile', '1-g1ZlBsvKIP_crCdfiQl6jm7GyEi6jux')\n",
      "Found folder/file: ('file_0.deletefile', '1-TGlQjfW6seI3SgKV4VUqXKC43KH1Htj')\n"
     ]
    }
   ],
   "source": [
    "## list all the files AND folders in the target folder - default is both\n",
    "## for only files    use   _files_or_folders='files'\n",
    "## for only folders  use   _files_or_folders='folders'\n",
    "GDRIVE_TARGET_FOLDER = '1H9Be89645jTimwXPYPVMHeMQeqhEFjGi'  ## has 5 temp files to delete\n",
    "list_items_in_gdrive_target_folder(service, GDRIVE_TARGET_FOLDER, _files_or_folders = 'files')"
   ]
  },
  {
   "cell_type": "code",
   "execution_count": 29,
   "metadata": {},
   "outputs": [
    {
     "name": "stdout",
     "output_type": "stream",
     "text": [
      "\n",
      "Query parameter built as:'1H9Be89645jTimwXPYPVMHeMQeqhEFjGi' in parents and mimeType='application/vnd.google-apps.folder'\n",
      "\n",
      "\n",
      "Items for PAGE 1:\n",
      "\n",
      "Found folder/file: ('subfolder', '1BkFpEENiVuJ9Xq7jnp6Gc98bCEW0mJ2w')\n"
     ]
    }
   ],
   "source": [
    "## list all the files AND folders in the target folder - default is both\n",
    "## for only files    use   _files_or_folders='files'\n",
    "## for only folders  use   _files_or_folders='folders'\n",
    "GDRIVE_TARGET_FOLDER = '1H9Be89645jTimwXPYPVMHeMQeqhEFjGi'  ## has 5 temp files to delete\n",
    "list_items_in_gdrive_target_folder(service, GDRIVE_TARGET_FOLDER, _files_or_folders = 'folders')"
   ]
  },
  {
   "cell_type": "code",
   "execution_count": 30,
   "metadata": {},
   "outputs": [
    {
     "name": "stdout",
     "output_type": "stream",
     "text": [
      "\n",
      "\n",
      "ERROR : invalid value for the '_files_or_folders' parameter. Expected one of these three options:\n",
      "both     OR    files    OR    folders\n",
      "Your query parater=\n",
      "wrongValue\n",
      "\n"
     ]
    }
   ],
   "source": [
    "## list all the files AND folders in the target folder - default is both\n",
    "## for only files    use   _files_or_folders='files'\n",
    "## for only folders  use   _files_or_folders='folders'\n",
    "GDRIVE_TARGET_FOLDER = '1H9Be89645jTimwXPYPVMHeMQeqhEFjGi'  ## has 5 temp files to delete\n",
    "list_items_in_gdrive_target_folder(service, GDRIVE_TARGET_FOLDER, _files_or_folders = 'wrongValue')"
   ]
  },
  {
   "cell_type": "code",
   "execution_count": 9,
   "metadata": {},
   "outputs": [
    {
     "name": "stdout",
     "output_type": "stream",
     "text": [
      "\n",
      "Folders for PAGE 1:\n",
      "\n",
      "Found folder: ('subfolder', '1BkFpEENiVuJ9Xq7jnp6Gc98bCEW0mJ2w')\n",
      "Found folder: ('coco_test2017_subset_95000_100000', '16QGxlnEKbGz9RcN3Yb_JrPGtaLISJSAY')\n",
      "Found folder: ('coco_test2017_subset_90000_95000', '1kjHtuE5WXGZGO3ZndR3g9rjxzXukKNm7')\n",
      "Found folder: ('coco_test2017_subset_85000_90000', '1qV5nlbjOwYhzqLnRb4W8_jbIL34i-EJb')\n",
      "Found folder: ('coco_test2017_subset_80000_85000', '1X7JxVvDZu9khxALLoAA0ELEkFjT9Z06C')\n",
      "Found folder: ('coco_test2017_subset_75000_80000', '1a8BKBcdLj0jGZyyUetvAzNJt4nk-DKwr')\n",
      "Found folder: ('coco_test2017_subset_70000_75000', '1-ipE7onHkLHM-LGeQdcqUABPzl281QuN')\n",
      "Found folder: ('coco_test2017_subset_65000_70000', '1-v5t6pTfRC9Y0EAsdJU2rMFZnWHAVt9P')\n",
      "Found folder: ('coco_test2017_subset_60000_65000', '10EVf2GlWh1c9gKMmcJAXI_z0_7KDSrUM')\n",
      "Found folder: ('coco_test2017_subset_55000_60000', '10Ghi7gP_GY21uVp15DxkJ3a4AgLWwyFr')\n",
      "Found folder: ('coco_test2017_subset_50000_55000', '1-zVNYILy7vinMW31RRzp8Dodi2kbQBPl')\n",
      "Found folder: ('coco_test2017_subset_45000_50000', '1-h_nEnDf9IAuwZEMlM_gI4iaEsjoqd44')\n",
      "Found folder: ('coco_test2017_subset_40000_45000', '1-OtyhCHzxNRwdxOG9-nu25jWK_aona3y')\n",
      "Found folder: ('coco_test2017_subset_35000_40000', '1-pVi5g0eeis1FvLPzz-K_KaYa_DuNF4N')\n",
      "Found folder: ('coco_test2017_subset_30000_35000', '1-ST34eZTk5-ymbFcCXxpUmzNyzI1pNMI')\n",
      "Found folder: ('coco_test2017_subset_25000_30000', '1-OGOHBj_I2ZKWixrG2HQgPchCkTof_ex')\n",
      "Found folder: ('coco_test2017_subset_20000_25000', '1-4IyQ5Qkc5fbXKXRQiNLOgHrktDuTmwr')\n",
      "Found folder: ('Weights', '1OsHFXIJu2UUOr9MLC2l9nhMXV5wbBMFS')\n",
      "Found folder: ('coco_test2017_subset_15000_20000', '1fpnwO_Mze-L5SCJ1oYAYu3qHXYq4Eg6W')\n",
      "Found folder: ('coco_test2017_subset_10000_15000', '1Lhhodk9ZWHcEyQy-7DfR-kowo8IWJoJD')\n",
      "Found folder: ('coco_test2017_subset_5000_10000', '1MhyM-v3jTryFEDx8G3wYuMWUCtf0FSPx')\n",
      "Found folder: ('coco_test2017_subset_0_5000', '1RhfDbyvFKoBp60w-6hmZVstVkGdAvVbo')\n",
      "Found folder: ('CocoTrain2017_1', '1FOxs0xhSEWcsfww3jbyd_uoRHQ4tH-ji')\n",
      "Found folder: ('Rishabh_DO_NOT_TOUCH_PLS_1', '1n9jymR4BvQ-qsMLLM8Hcqj5xjcMU4Su6')\n",
      "Found folder: ('COCO_train2017_118k', '1H76HF9yRRRdffGkzdKExaMWjMXV4YGcv')\n",
      "Found folder: ('coco_train2017_wget_1', '1B6H0GTD_LglDGiD9kBQbxNKp9kevP1bi')\n",
      "Found folder: ('Expose', '1Z_MAC9ypyK0fvJSGjt-kRBw11umcMyjY')\n",
      "Found folder: ('Data', '1evkBGhjVDq9BlMNMUvnXLiHQNok3TY9g')\n",
      "Found folder: ('credsFolder', '1AsTd9uwPYijC9vhLnbYtkEg7SSKOA7LA')\n",
      "Found folder: ('ThesisStoryGen', '1RmmzWkzJa6pnqu8G9KOGYlY8rR-3kQQL')\n",
      "Found folder: ('testdir', '1H9Be89645jTimwXPYPVMHeMQeqhEFjGi')\n",
      "Found folder: ('WordEmbeddings', '1fEMCZmr_AO7O9CLgsB-1TD9fJMMXDLni')\n",
      "Found folder: ('CocoVal2017_1', '1jpriQmU2GFFzoXf5jYDdbxEeaAC1MNdn')\n",
      "Found folder: ('ImgCapTraining', '1qojq2WXgeL6nGZkFm6n719eWr1i0rwAz')\n",
      "Found folder: ('val2017', '1--gwwytHdcL2p-bokbOm0fUPnsbHTLBp')\n",
      "Found folder: ('coco_val2017_wget_1', '146m-EEQtIUvIlLNNTSrM0ysNwjWc5CWg')\n",
      "Found folder: ('coco_annotations_trainval2017', '1jcPkdEkp4TQfc8IhNREAkW5DoekPFtlB')\n",
      "Found folder: ('NotesFolder', '1Gn9Lz4NfsF-bi0PrRwCa2mLG6EGuBs37')\n",
      "Found folder: ('Colab Notebooks', '16DKXkq7opJLK1einkbUuiDS3jXFGmpEw')\n",
      "Found folder: ('coco_test_2017_40k_images_op4neo_1_15k_20k', '1XMJ6LJ35t0N5ZaOiRLPymUbA6Imj9sJB')\n",
      "Found folder: ('coco_test_2017_40k_images_op4neo_1_5k_10k', '1mgzQQL3NKPrpaYAxwGtz38F4OrdMCeVj')\n",
      "Found folder: ('coco_test_2017_40k_images_op4neo_1_1_5k', '1mb_eJj0ZdfsioHR2JrSHhM9b6Ym99NIO')\n",
      "Found folder: ('saved_keras_model', '1loXKObyXpP9j9PzuYU3pvaZAT0kUkGhQ')\n",
      "Found folder: ('test2017', '1f056pFKuWBxSeGxqYHxP1bDbwGvQYFmx')\n",
      "Found folder: ('coco_test2017_wget_1', '1ewB-p4h8JMQIug1vv6bx3sSIhssIX642')\n",
      "Found folder: ('wavs', '12dmbA9MNbkjgr_T5PAeBItgDjJS8iAXY')\n",
      "Found folder: ('audio', '1DaKDqZ8tZvu4cklobO7pAtLJ-JZebJf8')\n",
      "Found folder: ('Papers', '13K2bY3cEc4xEa-ksa-m6zETMN_nBcAUo')\n",
      "Found folder: ('pku-autonomous-driving', '1-Rv1xiIdW6D1U9Q4UCyasTUnu0bhiuPo')\n",
      "Found folder: ('FINAL_report_ppt', '1N9n1TGQu4voBxETLM84zNbhd9o4v996g')\n",
      "Found folder: ('CaseStudy2-AutonomousDriving', '16ZnEUaqXftv2cMIvaYnLluEVsa4vnqfC')\n",
      "Found folder: ('rohit', '1VvviYIXxBGvzVKKzj6t7zqHc04G_6Ctv')\n",
      "Found folder: ('Report', '12RhOA9Npqa90EOuAWewxvDsLKJnw-0hY')\n",
      "Found folder: ('papers', '15vojYSYa0APdIjiyp2DQ3IjYypRgvzsm')\n",
      "Found folder: ('data', '16siEBN_9LEbrPyK78sC_xL9cS5zi0W2O')\n",
      "Found folder: ('newDataDoNotUse', '1Qf9-85SjdONOt8H19QUzIZy9mjyWi-G5')\n",
      "Found folder: ('code', '1GkUxC0JmHAcV5knXReGgEXK4h98ftfHq')\n",
      "Found folder: ('pickle_files', '1kQY6zjM2TPPQqzy1NT3nIn-uGPDAe7EC')\n",
      "Found folder: ('demo', '1VR2I7cJoBNrLTKcyXEMLGKqm13CjEHn2')\n",
      "Found folder: ('demoDataCollection', '172vxy9cEczO7TqgfRnKurnUNCbR3qJIo')\n",
      "Found folder: ('bigger', '1Z3mS25PCxcW1zw8ZJZBE0hXoOx2JP4c5')\n",
      "Found folder: ('tableau', '1QIzcu2byGwBldrmQ8fey0-I2QN83yWY8')\n",
      "Found folder: ('FakeNews', '1v7FI9pvO6thol9quNdjIvE7MG2Uatpix')\n",
      "Found folder: ('AllFeaturesCombined', '1KG7wqc1yPmTPBQEZitKzrzsvrz_uq2zO')\n",
      "Found folder: ('FinalMorphologicalFeaturesDataCombined', '1gash3HHSLxELYAMOzsVtZmiT5ce2qoE5')\n",
      "Found folder: ('FinalTwitterFeaturesDataCombined', '1LUVEA2lGY17urKEZ1BO2l82g6zH1Kn9O')\n",
      "Found folder: ('WRONGFinalTwitterFeaturesDataCombined', '1fGY3RdBV3O31dcGyM82bb0m4ocAdIiZ6')\n",
      "Found folder: ('FinalLIWCFeaturesDataCombined', '1vEYMiAlyGzlcgHX9y1lSVCR8ysBfMU5g')\n",
      "Found folder: ('FinalReadabilityFeaturesDataCombined', '1e4JZyo8GH93t_ee8mSQVemnW9IwN_f3o')\n",
      "Found folder: ('Shekhar', '10NQCKaZGOJZD0wWSUcmZedJkcX8n7L9H')\n",
      "Found folder: ('Sanika', '1UiRnvLkxc-ltXo2JoHWxODwwSI2y3eka')\n",
      "Found folder: ('Rishabh', '1lAWJGOzMRJ6blEAsfLZVGCSYs6N9xeTY')\n",
      "Found folder: ('Sid', '1mFOgY6eawvEFzwjo_3ST65TIoAaCuEV0')\n",
      "Found folder: ('Manmeet', '17_-BTVz8CI-He4MdTsPB2IfKaoaUcbRg')\n",
      "Found folder: ('Rohit', '1wHJ87TnlB7lMForX4_EnEI3DAdjNrk4K')\n",
      "Found folder: ('ContentFeaturesParts', '1dmTYf02LeZmpw6MLVI77tFLpZOzRNrym')\n",
      "Found folder: ('FinalData', '1c4LrJQsrqjj3sJ7yU6CJI6Y2Lf0jNbhN')\n",
      "Found folder: ('toProcess', '1JCY6G4aoegUwcMwnKmsTye1Py54k3p8J')\n",
      "Found folder: ('toProcess', '1KPFQRXeS83FcNVcdQIYoQ2uvZhojxO2F')\n",
      "Found folder: ('toProcess', '1SSOhzNXeFBaZB0oNRPSbBlREx-2DSrbl')\n",
      "Found folder: ('toProcess', '1Vnbj4gMpaaR7Q3h3C8ELAEFwJHGejYS8')\n",
      "Found folder: ('rishabh', '1e-sGaQqdOIWOicfvxI_OzbfLCM37pMa6')\n",
      "Found folder: ('shekhar', '1Jk3T3Bic-mzy4iJ9wKbTxL96ea01Ugba')\n",
      "Found folder: ('sid', '1zLYO86-U2Z_0yn_0iMIyKHLC3A3QKmYP')\n",
      "Found folder: ('rohit', '1C8ox18uVOgRRVcHSAa8Y6ciZAQMl6Z4X')\n",
      "Found folder: ('twitter', '1Rh33SiFNJUZcY2J-Ych04z5wE4LYXGYK')\n",
      "Found folder: ('data', '1fj-C0JOiVQXJLrhvLSCyTA_E0hEhsAVN')\n",
      "Found folder: ('Report and PPT', '1MQQ0HAGzdewCdtk-nyFFTF8sCbLzcjcP')\n",
      "Found folder: ('Expose', '18S8Blq8XrrfLBsicuDMnryYd9BQcE1HF')\n",
      "Found folder: ('Images', '1mhmUwHFVNXiQ02Ul1bgRYg-ubYqc5NiS')\n",
      "Found folder: ('IEEE', '12Bzi0nID1WMFFPVFX_2w9TTmUitxhFS3')\n",
      "Found folder: ('Research Paper', '1I2LovvT5liDshaup1GBhKyfLe1ZUuIlK')\n"
     ]
    }
   ],
   "source": [
    "## list all the folders only - WORKS  - but also seems to find from shared drives also\n",
    "list_folders_in_gdrive_overall(service)"
   ]
  },
  {
   "cell_type": "code",
   "execution_count": null,
   "metadata": {},
   "outputs": [],
   "source": []
  },
  {
   "cell_type": "code",
   "execution_count": null,
   "metadata": {},
   "outputs": [],
   "source": []
  },
  {
   "cell_type": "code",
   "execution_count": null,
   "metadata": {},
   "outputs": [],
   "source": []
  },
  {
   "cell_type": "code",
   "execution_count": null,
   "metadata": {},
   "outputs": [],
   "source": []
  },
  {
   "cell_type": "code",
   "execution_count": null,
   "metadata": {},
   "outputs": [],
   "source": []
  },
  {
   "cell_type": "code",
   "execution_count": null,
   "metadata": {},
   "outputs": [],
   "source": []
  },
  {
   "cell_type": "code",
   "execution_count": null,
   "metadata": {},
   "outputs": [],
   "source": []
  },
  {
   "cell_type": "code",
   "execution_count": null,
   "metadata": {},
   "outputs": [],
   "source": []
  },
  {
   "cell_type": "code",
   "execution_count": null,
   "metadata": {},
   "outputs": [],
   "source": []
  },
  {
   "cell_type": "code",
   "execution_count": null,
   "metadata": {},
   "outputs": [],
   "source": []
  },
  {
   "cell_type": "code",
   "execution_count": null,
   "metadata": {},
   "outputs": [],
   "source": []
  },
  {
   "cell_type": "code",
   "execution_count": null,
   "metadata": {},
   "outputs": [],
   "source": []
  },
  {
   "cell_type": "code",
   "execution_count": 104,
   "metadata": {},
   "outputs": [
    {
     "name": "stdout",
     "output_type": "stream",
     "text": [
      "\n",
      "\n",
      "type of drive_serviceservice should say    <class 'googleapiclient.discovery.Resource'> =\n",
      "<class 'googleapiclient.discovery.Resource'>\n",
      "\n",
      "\n",
      "\n",
      "\n",
      "Service setup SUCCESS\n",
      "\n",
      "\n",
      "\n",
      "\n",
      "Attempting to list file in this folder: 1FOxs0xhSEWcsfww3jbyd_uoRHQ4tH-ji\n",
      "\n",
      "\n"
     ]
    },
    {
     "ename": "HttpError",
     "evalue": "<HttpError 404 when requesting https://www.googleapis.com/drive/v3/files?q=mimeType%3D%27image%2Fjpeg%27&driveId=1FOxs0xhSEWcsfww3jbyd_uoRHQ4tH-ji&corpora=drive&supportsAllDrives=true&includeItemsFromAllDrives=true&fields=nextPageToken%2C+files%28id%2C+name%29&alt=json returned \"Shared drive not found: 1FOxs0xhSEWcsfww3jbyd_uoRHQ4tH-ji\">",
     "output_type": "error",
     "traceback": [
      "\u001b[0;31m---------------------------------------------------------------------------\u001b[0m",
      "\u001b[0;31mHttpError\u001b[0m                                 Traceback (most recent call last)",
      "\u001b[0;32m<ipython-input-104-9c2b88fe627c>\u001b[0m in \u001b[0;36m<module>\u001b[0;34m\u001b[0m\n\u001b[1;32m     18\u001b[0m \u001b[0;34m\u001b[0m\u001b[0m\n\u001b[1;32m     19\u001b[0m \u001b[0;32mif\u001b[0m \u001b[0m__name__\u001b[0m \u001b[0;34m==\u001b[0m \u001b[0;34m'__main__'\u001b[0m\u001b[0;34m:\u001b[0m\u001b[0;34m\u001b[0m\u001b[0;34m\u001b[0m\u001b[0m\n\u001b[0;32m---> 20\u001b[0;31m     \u001b[0m_main_\u001b[0m\u001b[0;34m(\u001b[0m\u001b[0;34m)\u001b[0m\u001b[0;34m\u001b[0m\u001b[0;34m\u001b[0m\u001b[0m\n\u001b[0m",
      "\u001b[0;32m<ipython-input-104-9c2b88fe627c>\u001b[0m in \u001b[0;36m_main_\u001b[0;34m()\u001b[0m\n\u001b[1;32m     13\u001b[0m     \u001b[0;31m#list_files_in_gdrive_overall(service)\u001b[0m\u001b[0;34m\u001b[0m\u001b[0;34m\u001b[0m\u001b[0;34m\u001b[0m\u001b[0m\n\u001b[1;32m     14\u001b[0m     \u001b[0;31m#list_folders_in_gdrive_overall(service)\u001b[0m\u001b[0;34m\u001b[0m\u001b[0;34m\u001b[0m\u001b[0;34m\u001b[0m\u001b[0m\n\u001b[0;32m---> 15\u001b[0;31m     \u001b[0mlist_files_in_gdrive_target_folder\u001b[0m\u001b[0;34m(\u001b[0m\u001b[0mservice\u001b[0m\u001b[0;34m,\u001b[0m \u001b[0mGDRIVE_TARGET_FOLDER\u001b[0m\u001b[0;34m)\u001b[0m\u001b[0;34m\u001b[0m\u001b[0;34m\u001b[0m\u001b[0m\n\u001b[0m\u001b[1;32m     16\u001b[0m \u001b[0;34m\u001b[0m\u001b[0m\n\u001b[1;32m     17\u001b[0m     \u001b[0;32mreturn\u001b[0m\u001b[0;34m\u001b[0m\u001b[0;34m\u001b[0m\u001b[0m\n",
      "\u001b[0;32m<ipython-input-97-195fe152850b>\u001b[0m in \u001b[0;36mlist_files_in_gdrive_target_folder\u001b[0;34m(_service, _folder_id)\u001b[0m\n\u001b[1;32m     19\u001b[0m                                               \u001b[0mincludeItemsFromAllDrives\u001b[0m\u001b[0;34m=\u001b[0m\u001b[0;32mTrue\u001b[0m\u001b[0;34m,\u001b[0m\u001b[0;34m\u001b[0m\u001b[0;34m\u001b[0m\u001b[0m\n\u001b[1;32m     20\u001b[0m                                               \u001b[0mfields\u001b[0m\u001b[0;34m=\u001b[0m\u001b[0;34m'nextPageToken, files(id, name)'\u001b[0m\u001b[0;34m,\u001b[0m\u001b[0;34m\u001b[0m\u001b[0;34m\u001b[0m\u001b[0m\n\u001b[0;32m---> 21\u001b[0;31m                                               pageToken=page_token).execute()\n\u001b[0m\u001b[1;32m     22\u001b[0m         \u001b[0mprint\u001b[0m\u001b[0;34m(\u001b[0m\u001b[0;34mf\"\\nFiles for PAGE {count_pages+1}:\\n\"\u001b[0m\u001b[0;34m)\u001b[0m\u001b[0;34m\u001b[0m\u001b[0;34m\u001b[0m\u001b[0m\n\u001b[1;32m     23\u001b[0m         \u001b[0;32mfor\u001b[0m \u001b[0mfile\u001b[0m \u001b[0;32min\u001b[0m \u001b[0mresponse\u001b[0m\u001b[0;34m.\u001b[0m\u001b[0mget\u001b[0m\u001b[0;34m(\u001b[0m\u001b[0;34m'files'\u001b[0m\u001b[0;34m,\u001b[0m \u001b[0;34m[\u001b[0m\u001b[0;34m]\u001b[0m\u001b[0;34m)\u001b[0m\u001b[0;34m:\u001b[0m\u001b[0;34m\u001b[0m\u001b[0;34m\u001b[0m\u001b[0m\n",
      "\u001b[0;32m~/anaconda3/envs/ce5gdrive1/lib/python3.7/site-packages/googleapiclient/_helpers.py\u001b[0m in \u001b[0;36mpositional_wrapper\u001b[0;34m(*args, **kwargs)\u001b[0m\n\u001b[1;32m    132\u001b[0m                 \u001b[0;32melif\u001b[0m \u001b[0mpositional_parameters_enforcement\u001b[0m \u001b[0;34m==\u001b[0m \u001b[0mPOSITIONAL_WARNING\u001b[0m\u001b[0;34m:\u001b[0m\u001b[0;34m\u001b[0m\u001b[0;34m\u001b[0m\u001b[0m\n\u001b[1;32m    133\u001b[0m                     \u001b[0mlogger\u001b[0m\u001b[0;34m.\u001b[0m\u001b[0mwarning\u001b[0m\u001b[0;34m(\u001b[0m\u001b[0mmessage\u001b[0m\u001b[0;34m)\u001b[0m\u001b[0;34m\u001b[0m\u001b[0;34m\u001b[0m\u001b[0m\n\u001b[0;32m--> 134\u001b[0;31m             \u001b[0;32mreturn\u001b[0m \u001b[0mwrapped\u001b[0m\u001b[0;34m(\u001b[0m\u001b[0;34m*\u001b[0m\u001b[0margs\u001b[0m\u001b[0;34m,\u001b[0m \u001b[0;34m**\u001b[0m\u001b[0mkwargs\u001b[0m\u001b[0;34m)\u001b[0m\u001b[0;34m\u001b[0m\u001b[0;34m\u001b[0m\u001b[0m\n\u001b[0m\u001b[1;32m    135\u001b[0m \u001b[0;34m\u001b[0m\u001b[0m\n\u001b[1;32m    136\u001b[0m         \u001b[0;32mreturn\u001b[0m \u001b[0mpositional_wrapper\u001b[0m\u001b[0;34m\u001b[0m\u001b[0;34m\u001b[0m\u001b[0m\n",
      "\u001b[0;32m~/anaconda3/envs/ce5gdrive1/lib/python3.7/site-packages/googleapiclient/http.py\u001b[0m in \u001b[0;36mexecute\u001b[0;34m(self, http, num_retries)\u001b[0m\n\u001b[1;32m    905\u001b[0m             \u001b[0mcallback\u001b[0m\u001b[0;34m(\u001b[0m\u001b[0mresp\u001b[0m\u001b[0;34m)\u001b[0m\u001b[0;34m\u001b[0m\u001b[0;34m\u001b[0m\u001b[0m\n\u001b[1;32m    906\u001b[0m         \u001b[0;32mif\u001b[0m \u001b[0mresp\u001b[0m\u001b[0;34m.\u001b[0m\u001b[0mstatus\u001b[0m \u001b[0;34m>=\u001b[0m \u001b[0;36m300\u001b[0m\u001b[0;34m:\u001b[0m\u001b[0;34m\u001b[0m\u001b[0;34m\u001b[0m\u001b[0m\n\u001b[0;32m--> 907\u001b[0;31m             \u001b[0;32mraise\u001b[0m \u001b[0mHttpError\u001b[0m\u001b[0;34m(\u001b[0m\u001b[0mresp\u001b[0m\u001b[0;34m,\u001b[0m \u001b[0mcontent\u001b[0m\u001b[0;34m,\u001b[0m \u001b[0muri\u001b[0m\u001b[0;34m=\u001b[0m\u001b[0mself\u001b[0m\u001b[0;34m.\u001b[0m\u001b[0muri\u001b[0m\u001b[0;34m)\u001b[0m\u001b[0;34m\u001b[0m\u001b[0;34m\u001b[0m\u001b[0m\n\u001b[0m\u001b[1;32m    908\u001b[0m         \u001b[0;32mreturn\u001b[0m \u001b[0mself\u001b[0m\u001b[0;34m.\u001b[0m\u001b[0mpostproc\u001b[0m\u001b[0;34m(\u001b[0m\u001b[0mresp\u001b[0m\u001b[0;34m,\u001b[0m \u001b[0mcontent\u001b[0m\u001b[0;34m)\u001b[0m\u001b[0;34m\u001b[0m\u001b[0;34m\u001b[0m\u001b[0m\n\u001b[1;32m    909\u001b[0m \u001b[0;34m\u001b[0m\u001b[0m\n",
      "\u001b[0;31mHttpError\u001b[0m: <HttpError 404 when requesting https://www.googleapis.com/drive/v3/files?q=mimeType%3D%27image%2Fjpeg%27&driveId=1FOxs0xhSEWcsfww3jbyd_uoRHQ4tH-ji&corpora=drive&supportsAllDrives=true&includeItemsFromAllDrives=true&fields=nextPageToken%2C+files%28id%2C+name%29&alt=json returned \"Shared drive not found: 1FOxs0xhSEWcsfww3jbyd_uoRHQ4tH-ji\">"
     ]
    }
   ],
   "source": [
    "def _main_():\n",
    "\n",
    "    service = setup_drive_service()\n",
    "    if service is None:\n",
    "        print(f\"\\n\\nFATAL ERROR: Could not setup gdrive service\\n\\n\")\n",
    "        return\n",
    "    else:\n",
    "        print(f\"\\n\\nService setup SUCCESS\\n\\n\")\n",
    "    \n",
    "    GDRIVE_TARGET_FOLDER = '1FOxs0xhSEWcsfww3jbyd_uoRHQ4tH-ji'  ## has three .pkl files\n",
    "    \n",
    "    \n",
    "    #list_files_in_gdrive_overall(service)\n",
    "    #list_folders_in_gdrive_overall(service)\n",
    "    list_files_in_gdrive_target_folder(service, GDRIVE_TARGET_FOLDER)\n",
    "    \n",
    "    return\n",
    "\n",
    "if __name__ == '__main__':\n",
    "    _main_()"
   ]
  },
  {
   "cell_type": "code",
   "execution_count": null,
   "metadata": {},
   "outputs": [],
   "source": []
  },
  {
   "cell_type": "code",
   "execution_count": 100,
   "metadata": {},
   "outputs": [
    {
     "name": "stdout",
     "output_type": "stream",
     "text": [
      "\n",
      "\n",
      "type of drive_serviceservice should say    <class 'googleapiclient.discovery.Resource'> =\n",
      "<class 'googleapiclient.discovery.Resource'>\n",
      "\n",
      "\n",
      "\n",
      "\n",
      "Service setup SUCCESS\n",
      "\n",
      "\n",
      "\n",
      "Folders for PAGE 1:\n",
      "\n",
      "Found folder: ('CocoTrain2017_1', '1FOxs0xhSEWcsfww3jbyd_uoRHQ4tH-ji')\n",
      "Found folder: ('Rishabh_DO_NOT_TOUCH_PLS_1', '1n9jymR4BvQ-qsMLLM8Hcqj5xjcMU4Su6')\n",
      "Found folder: ('COCO_train2017_118k', '1H76HF9yRRRdffGkzdKExaMWjMXV4YGcv')\n",
      "Found folder: ('Checkpoints', '1OsHFXIJu2UUOr9MLC2l9nhMXV5wbBMFS')\n",
      "Found folder: ('coco_train2017_wget_1', '1B6H0GTD_LglDGiD9kBQbxNKp9kevP1bi')\n",
      "Found folder: ('Expose', '1Z_MAC9ypyK0fvJSGjt-kRBw11umcMyjY')\n",
      "Found folder: ('Data', '1evkBGhjVDq9BlMNMUvnXLiHQNok3TY9g')\n",
      "Found folder: ('credsFolder', '1AsTd9uwPYijC9vhLnbYtkEg7SSKOA7LA')\n",
      "Found folder: ('ThesisStoryGen', '1RmmzWkzJa6pnqu8G9KOGYlY8rR-3kQQL')\n",
      "Found folder: ('testdir', '1H9Be89645jTimwXPYPVMHeMQeqhEFjGi')\n",
      "Found folder: ('WordEmbeddings', '1fEMCZmr_AO7O9CLgsB-1TD9fJMMXDLni')\n",
      "Found folder: ('CocoVal2017_1', '1jpriQmU2GFFzoXf5jYDdbxEeaAC1MNdn')\n",
      "Found folder: ('ImgCapTraining', '1qojq2WXgeL6nGZkFm6n719eWr1i0rwAz')\n",
      "Found folder: ('val2017', '1--gwwytHdcL2p-bokbOm0fUPnsbHTLBp')\n",
      "Found folder: ('coco_val2017_wget_1', '146m-EEQtIUvIlLNNTSrM0ysNwjWc5CWg')\n",
      "Found folder: ('coco_annotations_trainval2017', '1jcPkdEkp4TQfc8IhNREAkW5DoekPFtlB')\n",
      "Found folder: ('NotesFolder', '1Gn9Lz4NfsF-bi0PrRwCa2mLG6EGuBs37')\n",
      "Found folder: ('Colab Notebooks', '16DKXkq7opJLK1einkbUuiDS3jXFGmpEw')\n",
      "Found folder: ('coco_test_2017_40k_images_op4neo_1_15k_20k', '1XMJ6LJ35t0N5ZaOiRLPymUbA6Imj9sJB')\n",
      "Found folder: ('coco_test_2017_40k_images_op4neo_1_5k_10k', '1mgzQQL3NKPrpaYAxwGtz38F4OrdMCeVj')\n",
      "Found folder: ('coco_test_2017_40k_images_op4neo_1_1_5k', '1mb_eJj0ZdfsioHR2JrSHhM9b6Ym99NIO')\n",
      "Found folder: ('saved_keras_model', '1loXKObyXpP9j9PzuYU3pvaZAT0kUkGhQ')\n",
      "Found folder: ('test2017', '1f056pFKuWBxSeGxqYHxP1bDbwGvQYFmx')\n",
      "Found folder: ('coco_test2017_wget_1', '1ewB-p4h8JMQIug1vv6bx3sSIhssIX642')\n",
      "Found folder: ('wavs', '12dmbA9MNbkjgr_T5PAeBItgDjJS8iAXY')\n",
      "Found folder: ('audio', '1DaKDqZ8tZvu4cklobO7pAtLJ-JZebJf8')\n",
      "Found folder: ('Papers', '13K2bY3cEc4xEa-ksa-m6zETMN_nBcAUo')\n",
      "Found folder: ('pku-autonomous-driving', '1-Rv1xiIdW6D1U9Q4UCyasTUnu0bhiuPo')\n",
      "Found folder: ('FINAL_report_ppt', '1N9n1TGQu4voBxETLM84zNbhd9o4v996g')\n",
      "Found folder: ('CaseStudy2-AutonomousDriving', '16ZnEUaqXftv2cMIvaYnLluEVsa4vnqfC')\n",
      "Found folder: ('rohit', '1VvviYIXxBGvzVKKzj6t7zqHc04G_6Ctv')\n",
      "Found folder: ('Report', '12RhOA9Npqa90EOuAWewxvDsLKJnw-0hY')\n",
      "Found folder: ('papers', '15vojYSYa0APdIjiyp2DQ3IjYypRgvzsm')\n",
      "Found folder: ('data', '16siEBN_9LEbrPyK78sC_xL9cS5zi0W2O')\n",
      "Found folder: ('newDataDoNotUse', '1Qf9-85SjdONOt8H19QUzIZy9mjyWi-G5')\n",
      "Found folder: ('code', '1GkUxC0JmHAcV5knXReGgEXK4h98ftfHq')\n",
      "Found folder: ('pickle_files', '1kQY6zjM2TPPQqzy1NT3nIn-uGPDAe7EC')\n",
      "Found folder: ('demo', '1VR2I7cJoBNrLTKcyXEMLGKqm13CjEHn2')\n",
      "Found folder: ('demoDataCollection', '172vxy9cEczO7TqgfRnKurnUNCbR3qJIo')\n",
      "Found folder: ('bigger', '1Z3mS25PCxcW1zw8ZJZBE0hXoOx2JP4c5')\n",
      "Found folder: ('tableau', '1QIzcu2byGwBldrmQ8fey0-I2QN83yWY8')\n",
      "Found folder: ('FakeNews', '1v7FI9pvO6thol9quNdjIvE7MG2Uatpix')\n",
      "Found folder: ('AllFeaturesCombined', '1KG7wqc1yPmTPBQEZitKzrzsvrz_uq2zO')\n",
      "Found folder: ('FinalMorphologicalFeaturesDataCombined', '1gash3HHSLxELYAMOzsVtZmiT5ce2qoE5')\n",
      "Found folder: ('FinalTwitterFeaturesDataCombined', '1LUVEA2lGY17urKEZ1BO2l82g6zH1Kn9O')\n",
      "Found folder: ('WRONGFinalTwitterFeaturesDataCombined', '1fGY3RdBV3O31dcGyM82bb0m4ocAdIiZ6')\n",
      "Found folder: ('FinalLIWCFeaturesDataCombined', '1vEYMiAlyGzlcgHX9y1lSVCR8ysBfMU5g')\n",
      "Found folder: ('FinalReadabilityFeaturesDataCombined', '1e4JZyo8GH93t_ee8mSQVemnW9IwN_f3o')\n",
      "Found folder: ('Shekhar', '10NQCKaZGOJZD0wWSUcmZedJkcX8n7L9H')\n",
      "Found folder: ('Sanika', '1UiRnvLkxc-ltXo2JoHWxODwwSI2y3eka')\n",
      "Found folder: ('Rishabh', '1lAWJGOzMRJ6blEAsfLZVGCSYs6N9xeTY')\n",
      "Found folder: ('Sid', '1mFOgY6eawvEFzwjo_3ST65TIoAaCuEV0')\n",
      "Found folder: ('Manmeet', '17_-BTVz8CI-He4MdTsPB2IfKaoaUcbRg')\n",
      "Found folder: ('Rohit', '1wHJ87TnlB7lMForX4_EnEI3DAdjNrk4K')\n",
      "Found folder: ('ContentFeaturesParts', '1dmTYf02LeZmpw6MLVI77tFLpZOzRNrym')\n",
      "Found folder: ('FinalData', '1c4LrJQsrqjj3sJ7yU6CJI6Y2Lf0jNbhN')\n",
      "Found folder: ('toProcess', '1JCY6G4aoegUwcMwnKmsTye1Py54k3p8J')\n",
      "Found folder: ('toProcess', '1KPFQRXeS83FcNVcdQIYoQ2uvZhojxO2F')\n",
      "Found folder: ('toProcess', '1SSOhzNXeFBaZB0oNRPSbBlREx-2DSrbl')\n",
      "Found folder: ('toProcess', '1Vnbj4gMpaaR7Q3h3C8ELAEFwJHGejYS8')\n",
      "Found folder: ('rishabh', '1e-sGaQqdOIWOicfvxI_OzbfLCM37pMa6')\n",
      "Found folder: ('shekhar', '1Jk3T3Bic-mzy4iJ9wKbTxL96ea01Ugba')\n",
      "Found folder: ('sid', '1zLYO86-U2Z_0yn_0iMIyKHLC3A3QKmYP')\n",
      "Found folder: ('rohit', '1C8ox18uVOgRRVcHSAa8Y6ciZAQMl6Z4X')\n",
      "Found folder: ('twitter', '1Rh33SiFNJUZcY2J-Ych04z5wE4LYXGYK')\n",
      "Found folder: ('data', '1fj-C0JOiVQXJLrhvLSCyTA_E0hEhsAVN')\n",
      "Found folder: ('Report and PPT', '1MQQ0HAGzdewCdtk-nyFFTF8sCbLzcjcP')\n",
      "Found folder: ('Expose', '18S8Blq8XrrfLBsicuDMnryYd9BQcE1HF')\n",
      "Found folder: ('Images', '1mhmUwHFVNXiQ02Ul1bgRYg-ubYqc5NiS')\n",
      "Found folder: ('IEEE', '12Bzi0nID1WMFFPVFX_2w9TTmUitxhFS3')\n",
      "Found folder: ('Research Paper', '1I2LovvT5liDshaup1GBhKyfLe1ZUuIlK')\n"
     ]
    }
   ],
   "source": [
    "## list all the folders only\n",
    "\n",
    "def _main_():\n",
    "\n",
    "    service = setup_drive_service()\n",
    "    if service is None:\n",
    "        print(f\"\\n\\nFATAL ERROR: Could not setup gdrive service\\n\\n\")\n",
    "        return\n",
    "    else:\n",
    "        print(f\"\\n\\nService setup SUCCESS\\n\\n\")\n",
    "    \n",
    "    GDRIVE_TARGET_FOLDER = '1FOxs0xhSEWcsfww3jbyd_uoRHQ4tH-ji'  ## has three .pkl files\n",
    "    \n",
    "    \n",
    "    #list_files_in_gdrive_overall(service)\n",
    "    list_folders_in_gdrive_overall(service)\n",
    "    #list_files_in_gdrive_target_folder(service, GDRIVE_TARGET_FOLDER)\n",
    "    \n",
    "    return\n",
    "\n",
    "if __name__ == '__main__':\n",
    "    _main_()"
   ]
  },
  {
   "cell_type": "code",
   "execution_count": null,
   "metadata": {},
   "outputs": [],
   "source": []
  },
  {
   "cell_type": "code",
   "execution_count": null,
   "metadata": {},
   "outputs": [],
   "source": []
  },
  {
   "cell_type": "code",
   "execution_count": null,
   "metadata": {},
   "outputs": [],
   "source": []
  },
  {
   "cell_type": "code",
   "execution_count": null,
   "metadata": {},
   "outputs": [],
   "source": []
  }
 ],
 "metadata": {
  "kernelspec": {
   "display_name": "Python 3",
   "language": "python",
   "name": "python3"
  },
  "language_info": {
   "codemirror_mode": {
    "name": "ipython",
    "version": 3
   },
   "file_extension": ".py",
   "mimetype": "text/x-python",
   "name": "python",
   "nbconvert_exporter": "python",
   "pygments_lexer": "ipython3",
   "version": "3.7.7"
  }
 },
 "nbformat": 4,
 "nbformat_minor": 4
}
