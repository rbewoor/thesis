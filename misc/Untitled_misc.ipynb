{
 "cells": [
  {
   "cell_type": "code",
   "execution_count": 1,
   "metadata": {},
   "outputs": [],
   "source": [
    "import os"
   ]
  },
  {
   "cell_type": "code",
   "execution_count": 2,
   "metadata": {},
   "outputs": [
    {
     "name": "stdout",
     "output_type": "stream",
     "text": [
      "exists = False\n",
      "dir = False\n",
      "file = False\n"
     ]
    }
   ],
   "source": [
    "opfilelocneo = r\"/home/rohit/PyWDUbuntu/thesis/Imgs2Detect_op4neo1\"\n",
    "print(f\"exists = {os.path.exists(opfilelocneo)}\")\n",
    "print(f\"dir = {os.path.isdir(opfilelocneo)}\")\n",
    "print(f\"file = {os.path.isfile(opfilelocneo)}\")"
   ]
  },
  {
   "cell_type": "code",
   "execution_count": 3,
   "metadata": {},
   "outputs": [],
   "source": [
    "try:\n",
    "    if not os.path.isdir(opfilelocneo):\n",
    "        os.makedirs(opfilelocneo) # already exists\n",
    "except:\n",
    "    print(f\"FATAL ERROR creating output directory\")"
   ]
  },
  {
   "cell_type": "code",
   "execution_count": 4,
   "metadata": {},
   "outputs": [
    {
     "name": "stdout",
     "output_type": "stream",
     "text": [
      "exists = True\n",
      "dir = True\n",
      "file = False\n"
     ]
    }
   ],
   "source": [
    "print(f\"exists = {os.path.exists(opfilelocneo)}\")\n",
    "print(f\"dir = {os.path.isdir(opfilelocneo)}\")\n",
    "print(f\"file = {os.path.isfile(opfilelocneo)}\")"
   ]
  },
  {
   "cell_type": "code",
   "execution_count": null,
   "metadata": {},
   "outputs": [],
   "source": []
  },
  {
   "cell_type": "code",
   "execution_count": null,
   "metadata": {},
   "outputs": [],
   "source": []
  },
  {
   "cell_type": "code",
   "execution_count": 31,
   "metadata": {},
   "outputs": [],
   "source": [
    "def ftotalout():\n",
    "    print(f\"Ran ftotalout\")\n",
    "class Outer():\n",
    "    def of1(self):\n",
    "        print(f\"Ran of1\")\n",
    "    def run_if1(self):\n",
    "        self.Inner.if1(self)\n",
    "    class Inner():\n",
    "        def if1(self):\n",
    "            print(f\"Ran if1\")\n",
    "            print(f\"Calling ftotalout\")\n",
    "            ftotalout()\n",
    "            print(f\"Calling if2\")\n",
    "            self.Inner.if2(self)\n",
    "        def if2(self):\n",
    "            print(f\"Ran if2\")"
   ]
  },
  {
   "cell_type": "code",
   "execution_count": 32,
   "metadata": {},
   "outputs": [],
   "source": [
    "o = Outer()"
   ]
  },
  {
   "cell_type": "code",
   "execution_count": 33,
   "metadata": {},
   "outputs": [
    {
     "name": "stdout",
     "output_type": "stream",
     "text": [
      "Ran if1\n",
      "Calling ftotalout\n",
      "Ran ftotalout\n",
      "Calling if2\n",
      "Ran if2\n"
     ]
    }
   ],
   "source": [
    "o.run_if1()"
   ]
  },
  {
   "cell_type": "code",
   "execution_count": 34,
   "metadata": {},
   "outputs": [
    {
     "name": "stdout",
     "output_type": "stream",
     "text": [
      "Ran of1\n"
     ]
    }
   ],
   "source": [
    "o.of1()"
   ]
  },
  {
   "cell_type": "code",
   "execution_count": 35,
   "metadata": {},
   "outputs": [
    {
     "ename": "AttributeError",
     "evalue": "'Outer' object has no attribute 'if1'",
     "output_type": "error",
     "traceback": [
      "\u001b[0;31m---------------------------------------------------------------------------\u001b[0m",
      "\u001b[0;31mAttributeError\u001b[0m                            Traceback (most recent call last)",
      "\u001b[0;32m<ipython-input-35-a13070af5f01>\u001b[0m in \u001b[0;36m<module>\u001b[0;34m\u001b[0m\n\u001b[0;32m----> 1\u001b[0;31m \u001b[0mo\u001b[0m\u001b[0;34m.\u001b[0m\u001b[0mif1\u001b[0m\u001b[0;34m(\u001b[0m\u001b[0;34m)\u001b[0m\u001b[0;34m\u001b[0m\u001b[0;34m\u001b[0m\u001b[0m\n\u001b[0m",
      "\u001b[0;31mAttributeError\u001b[0m: 'Outer' object has no attribute 'if1'"
     ]
    }
   ],
   "source": [
    "o.if1()"
   ]
  },
  {
   "cell_type": "code",
   "execution_count": 36,
   "metadata": {},
   "outputs": [
    {
     "ename": "TypeError",
     "evalue": "if1() missing 1 required positional argument: 'self'",
     "output_type": "error",
     "traceback": [
      "\u001b[0;31m---------------------------------------------------------------------------\u001b[0m",
      "\u001b[0;31mTypeError\u001b[0m                                 Traceback (most recent call last)",
      "\u001b[0;32m<ipython-input-36-29046426909d>\u001b[0m in \u001b[0;36m<module>\u001b[0;34m\u001b[0m\n\u001b[0;32m----> 1\u001b[0;31m \u001b[0mo\u001b[0m\u001b[0;34m.\u001b[0m\u001b[0mInner\u001b[0m\u001b[0;34m.\u001b[0m\u001b[0mif1\u001b[0m\u001b[0;34m(\u001b[0m\u001b[0;34m)\u001b[0m\u001b[0;34m\u001b[0m\u001b[0;34m\u001b[0m\u001b[0m\n\u001b[0m",
      "\u001b[0;31mTypeError\u001b[0m: if1() missing 1 required positional argument: 'self'"
     ]
    }
   ],
   "source": [
    "o.Inner.if1()"
   ]
  },
  {
   "cell_type": "code",
   "execution_count": null,
   "metadata": {},
   "outputs": [],
   "source": []
  },
  {
   "cell_type": "code",
   "execution_count": null,
   "metadata": {},
   "outputs": [],
   "source": []
  },
  {
   "cell_type": "code",
   "execution_count": 1,
   "metadata": {},
   "outputs": [],
   "source": [
    "# multiprocessing using task and queue\n",
    "# https://pymotw.com/2/multiprocessing/communication.html"
   ]
  },
  {
   "cell_type": "code",
   "execution_count": 1,
   "metadata": {},
   "outputs": [],
   "source": [
    "import multiprocessing, os"
   ]
  },
  {
   "cell_type": "code",
   "execution_count": 2,
   "metadata": {},
   "outputs": [],
   "source": [
    "image_path = r\"/home/rohit/PyWDUbuntu/thesis/Imgs2Detect\"\n",
    "image_files_arr = [os.path.join(image_path, f) for f in os.listdir(image_path) if os.path.isfile(os.path.join(image_path, f))]"
   ]
  },
  {
   "cell_type": "code",
   "execution_count": 3,
   "metadata": {},
   "outputs": [
    {
     "data": {
      "text/plain": [
       "12"
      ]
     },
     "execution_count": 3,
     "metadata": {},
     "output_type": "execute_result"
    }
   ],
   "source": [
    "len(image_files_arr)"
   ]
  },
  {
   "cell_type": "code",
   "execution_count": 4,
   "metadata": {},
   "outputs": [
    {
     "name": "stdout",
     "output_type": "stream",
     "text": [
      "6\n"
     ]
    }
   ],
   "source": [
    "nfts = 2\n",
    "num_jobs = int(len(image_files_arr) / nfts + ( (len(image_files_arr) % nfts)!=0 ) * 1)\n",
    "print(f\"{num_jobs}\")"
   ]
  },
  {
   "cell_type": "code",
   "execution_count": 5,
   "metadata": {},
   "outputs": [
    {
     "data": {
      "text/plain": [
       "['/home/rohit/PyWDUbuntu/thesis/Imgs2Detect/371903.jpg',\n",
       " '/home/rohit/PyWDUbuntu/thesis/Imgs2Detect/371902 (copy).jpg',\n",
       " '/home/rohit/PyWDUbuntu/thesis/Imgs2Detect/36979 (copy).jpg',\n",
       " '/home/rohit/PyWDUbuntu/thesis/Imgs2Detect/371897.jpg',\n",
       " '/home/rohit/PyWDUbuntu/thesis/Imgs2Detect/36979.jpg',\n",
       " '/home/rohit/PyWDUbuntu/thesis/Imgs2Detect/1317156 (copy).jpg',\n",
       " '/home/rohit/PyWDUbuntu/thesis/Imgs2Detect/148284.jpg',\n",
       " '/home/rohit/PyWDUbuntu/thesis/Imgs2Detect/148284 (copy).jpg',\n",
       " '/home/rohit/PyWDUbuntu/thesis/Imgs2Detect/371897 (copy).jpg',\n",
       " '/home/rohit/PyWDUbuntu/thesis/Imgs2Detect/1317156.jpg',\n",
       " '/home/rohit/PyWDUbuntu/thesis/Imgs2Detect/371903 (copy).jpg',\n",
       " '/home/rohit/PyWDUbuntu/thesis/Imgs2Detect/371902.jpg']"
      ]
     },
     "execution_count": 5,
     "metadata": {},
     "output_type": "execute_result"
    }
   ],
   "source": [
    "image_files_arr"
   ]
  },
  {
   "cell_type": "code",
   "execution_count": 6,
   "metadata": {},
   "outputs": [
    {
     "name": "stdout",
     "output_type": "stream",
     "text": [
      "job 1 =\n",
      "['/home/rohit/PyWDUbuntu/thesis/Imgs2Detect/371903.jpg', '/home/rohit/PyWDUbuntu/thesis/Imgs2Detect/371902 (copy).jpg']\n",
      "job 2 =\n",
      "['/home/rohit/PyWDUbuntu/thesis/Imgs2Detect/36979 (copy).jpg', '/home/rohit/PyWDUbuntu/thesis/Imgs2Detect/371897.jpg']\n",
      "job 3 =\n",
      "['/home/rohit/PyWDUbuntu/thesis/Imgs2Detect/36979.jpg', '/home/rohit/PyWDUbuntu/thesis/Imgs2Detect/1317156 (copy).jpg']\n",
      "job 4 =\n",
      "['/home/rohit/PyWDUbuntu/thesis/Imgs2Detect/148284.jpg', '/home/rohit/PyWDUbuntu/thesis/Imgs2Detect/148284 (copy).jpg']\n",
      "job 5 =\n",
      "['/home/rohit/PyWDUbuntu/thesis/Imgs2Detect/371897 (copy).jpg', '/home/rohit/PyWDUbuntu/thesis/Imgs2Detect/1317156.jpg']\n",
      "job 6 =\n",
      "['/home/rohit/PyWDUbuntu/thesis/Imgs2Detect/371903 (copy).jpg', '/home/rohit/PyWDUbuntu/thesis/Imgs2Detect/371902.jpg']\n"
     ]
    }
   ],
   "source": [
    "if num_jobs > 1:\n",
    "    for i in range(num_jobs - 1):\n",
    "        print(f\"job {i+1} =\\n{image_files_arr[i*nfts : (i+1)*nfts]}\")\n",
    "print(f\"job {num_jobs} =\\n{image_files_arr[(num_jobs-1)*nfts : ]}\")"
   ]
  },
  {
   "cell_type": "code",
   "execution_count": null,
   "metadata": {},
   "outputs": [],
   "source": []
  },
  {
   "cell_type": "code",
   "execution_count": 7,
   "metadata": {},
   "outputs": [
    {
     "data": {
      "text/plain": [
       "11"
      ]
     },
     "execution_count": 7,
     "metadata": {},
     "output_type": "execute_result"
    }
   ],
   "source": [
    "multiprocessing.cpu_count() - 1"
   ]
  },
  {
   "cell_type": "code",
   "execution_count": 8,
   "metadata": {},
   "outputs": [],
   "source": [
    "class Consumer(multiprocessing.Process):\n",
    "    def __init__(self, task_queue, result_queue):\n",
    "        multiprocessing.Process.__init__(self)\n",
    "        self.task_queue = task_queue\n",
    "        self.result_queue = result_queue\n",
    "\n",
    "    def run(self):\n",
    "        proc_name = self.name\n",
    "        while True:\n",
    "            next_task = self.task_queue.get()\n",
    "            if next_task is None:\n",
    "                # Poison pill means shutdown\n",
    "                print(f\"Exiting process {proc_name}\")\n",
    "                self.task_queue.task_done()\n",
    "                break\n",
    "            print(f\"Process {proc_name} picked job = {next_task.job_num}\")\n",
    "            answer = next_task()\n",
    "            self.task_queue.task_done()\n",
    "            self.result_queue.put(answer)\n",
    "        return"
   ]
  },
  {
   "cell_type": "code",
   "execution_count": 9,
   "metadata": {},
   "outputs": [],
   "source": [
    "class Task(object):\n",
    "    def __init__(self, _job_num, _data_arr):\n",
    "        self.job_num = _job_num\n",
    "        self.data_arr = _data_arr\n",
    "    def __call__(self):\n",
    "        ans = []\n",
    "        for each_entry in self.data_arr:\n",
    "            ans.append(\"j\" + str(self.job_num) + \"_\" + each_entry)\n",
    "        return ans\n",
    "    def __str__(self):\n",
    "        return '%s * %s' % (self.a, self.b)"
   ]
  },
  {
   "cell_type": "code",
   "execution_count": 10,
   "metadata": {},
   "outputs": [
    {
     "name": "stdout",
     "output_type": "stream",
     "text": [
      "Creating 11 consumers\n",
      "Process Consumer-1 picked job = 1\n",
      "Process Consumer-2 picked job = 2\n",
      "Process Consumer-3 picked job = 3\n",
      "Process Consumer-5 picked job = 5\n",
      "Exiting process Consumer-11\n",
      "Process Consumer-4 picked job = 4\n",
      "Process Consumer-6 picked job = 6\n",
      "Exiting process Consumer-10\n",
      "Exiting process Consumer-1\n",
      "Exiting process Consumer-6\n",
      "Exiting process Consumer-5\n",
      "Exiting process Consumer-3\n",
      "Exiting process Consumer-4\n",
      "Exiting process Consumer-2\n",
      "Exiting process Consumer-7\n",
      "Exiting process Consumer-8\n",
      "Exiting process Consumer-9\n",
      "\n",
      "\n",
      "All consumers rejoined\n",
      "\n",
      "\n",
      "Job 1 result=\n",
      "['j3_/home/rohit/PyWDUbuntu/thesis/Imgs2Detect/36979.jpg', 'j3_/home/rohit/PyWDUbuntu/thesis/Imgs2Detect/1317156 (copy).jpg']\n",
      "Job 2 result=\n",
      "['j6_/home/rohit/PyWDUbuntu/thesis/Imgs2Detect/371903 (copy).jpg', 'j6_/home/rohit/PyWDUbuntu/thesis/Imgs2Detect/371902.jpg']\n",
      "Job 3 result=\n",
      "['j5_/home/rohit/PyWDUbuntu/thesis/Imgs2Detect/371897 (copy).jpg', 'j5_/home/rohit/PyWDUbuntu/thesis/Imgs2Detect/1317156.jpg']\n",
      "Job 4 result=\n",
      "['j1_/home/rohit/PyWDUbuntu/thesis/Imgs2Detect/371903.jpg', 'j1_/home/rohit/PyWDUbuntu/thesis/Imgs2Detect/371902 (copy).jpg']\n",
      "Job 5 result=\n",
      "['j4_/home/rohit/PyWDUbuntu/thesis/Imgs2Detect/148284.jpg', 'j4_/home/rohit/PyWDUbuntu/thesis/Imgs2Detect/148284 (copy).jpg']\n",
      "Job 6 result=\n",
      "['j2_/home/rohit/PyWDUbuntu/thesis/Imgs2Detect/36979 (copy).jpg', 'j2_/home/rohit/PyWDUbuntu/thesis/Imgs2Detect/371897.jpg']\n"
     ]
    }
   ],
   "source": [
    "if __name__ == '__main__':\n",
    "    \n",
    "    image_path = r\"/home/rohit/PyWDUbuntu/thesis/Imgs2Detect\"\n",
    "    image_files_arr = [os.path.join(image_path, f) for f in os.listdir(image_path) if os.path.isfile(os.path.join(image_path, f))]\n",
    "    nfts = 2 # num of files per task\n",
    "\n",
    "    # Establish communication queues\n",
    "    tasks = multiprocessing.JoinableQueue()\n",
    "    results = multiprocessing.Queue()\n",
    "    \n",
    "    # Start consumers\n",
    "    num_consumers = multiprocessing.cpu_count() - 1\n",
    "    print(f\"Creating {num_consumers} consumers\")\n",
    "    consumers = [ Consumer(tasks, results) for i in range(num_consumers) ]\n",
    "    for w in consumers:\n",
    "        w.start()\n",
    "    \n",
    "    # Enqueue jobs\n",
    "    num_jobs = int(len(image_files_arr) / nfts + ( (len(image_files_arr) % nfts)!=0 ) * 1)\n",
    "    if num_jobs > 1:\n",
    "        for i in range(num_jobs - 1):\n",
    "            #print(f\"job {i+1} =\\n{image_files_arr[i*nfts : (i+1)*nfts]}\")\n",
    "            tasks.put(Task(i+1, image_files_arr[i*nfts : (i+1)*nfts]))\n",
    "    #print(f\"job {num_jobs} =\\n{image_files_arr[(num_jobs-1)*nfts : ]}\")\n",
    "    tasks.put(Task(num_jobs, image_files_arr[(num_jobs-1)*nfts : ]))\n",
    "    \n",
    "    # Add a poison pill for each consumer\n",
    "    for i in range(num_consumers):\n",
    "        tasks.put(None)\n",
    "\n",
    "    # Wait for all of the tasks to finish\n",
    "    tasks.join()\n",
    "    print(f\"\\n\\nAll consumers rejoined\\n\\n\")\n",
    "    \n",
    "    # Start printing results\n",
    "    for i in range(num_jobs):\n",
    "        result = results.get()\n",
    "        print(f\"Job {i+1} result=\\n{result}\")"
   ]
  },
  {
   "cell_type": "code",
   "execution_count": null,
   "metadata": {},
   "outputs": [],
   "source": []
  },
  {
   "cell_type": "code",
   "execution_count": null,
   "metadata": {},
   "outputs": [],
   "source": []
  },
  {
   "cell_type": "code",
   "execution_count": null,
   "metadata": {},
   "outputs": [],
   "source": []
  },
  {
   "cell_type": "code",
   "execution_count": null,
   "metadata": {},
   "outputs": [],
   "source": []
  },
  {
   "cell_type": "code",
   "execution_count": 11,
   "metadata": {},
   "outputs": [],
   "source": [
    "import os"
   ]
  },
  {
   "cell_type": "code",
   "execution_count": 12,
   "metadata": {},
   "outputs": [
    {
     "name": "stdout",
     "output_type": "stream",
     "text": [
      "<_io.TextIOWrapper name='dAta.json' mode='w' encoding='UTF-8'>\n"
     ]
    }
   ],
   "source": [
    "with open(\"dAta.json\", \"w\") as f:\n",
    "    print(f\"{f}\")"
   ]
  },
  {
   "cell_type": "code",
   "execution_count": 13,
   "metadata": {},
   "outputs": [
    {
     "data": {
      "text/plain": [
       "'dAta.json'"
      ]
     },
     "execution_count": 13,
     "metadata": {},
     "output_type": "execute_result"
    }
   ],
   "source": [
    "f.name"
   ]
  },
  {
   "cell_type": "code",
   "execution_count": 14,
   "metadata": {},
   "outputs": [
    {
     "data": {
      "text/plain": [
       "'/home/rohit/PyWDUbuntu/thesis/dAta.json'"
      ]
     },
     "execution_count": 14,
     "metadata": {},
     "output_type": "execute_result"
    }
   ],
   "source": [
    "os.path.realpath(f.name)"
   ]
  },
  {
   "cell_type": "code",
   "execution_count": null,
   "metadata": {},
   "outputs": [],
   "source": []
  },
  {
   "cell_type": "code",
   "execution_count": null,
   "metadata": {},
   "outputs": [],
   "source": []
  },
  {
   "cell_type": "code",
   "execution_count": 1,
   "metadata": {},
   "outputs": [],
   "source": [
    "import os"
   ]
  },
  {
   "cell_type": "code",
   "execution_count": 2,
   "metadata": {},
   "outputs": [],
   "source": [
    "image_path = r\"/home/rohit/PyWDUbuntu/DA4_1/Imgs2Detect/\""
   ]
  },
  {
   "cell_type": "code",
   "execution_count": null,
   "metadata": {},
   "outputs": [],
   "source": [
    "from os import listdir\n",
    "from os.path import isfile, join"
   ]
  },
  {
   "cell_type": "code",
   "execution_count": 7,
   "metadata": {},
   "outputs": [],
   "source": [
    "onlyfiles = [os.path.join(image_path, f) for f in os.listdir(image_path) if os.path.isfile(os.path.join(image_path, f))]"
   ]
  },
  {
   "cell_type": "code",
   "execution_count": 8,
   "metadata": {},
   "outputs": [
    {
     "data": {
      "text/plain": [
       "['/home/rohit/PyWDUbuntu/DA4_1/Imgs2Detect/301246.jpg',\n",
       " '/home/rohit/PyWDUbuntu/DA4_1/Imgs2Detect/371903.jpg',\n",
       " '/home/rohit/PyWDUbuntu/DA4_1/Imgs2Detect/3765589.jpg',\n",
       " '/home/rohit/PyWDUbuntu/DA4_1/Imgs2Detect/2192573.jpg',\n",
       " '/home/rohit/PyWDUbuntu/DA4_1/Imgs2Detect/4576671.jpg',\n",
       " '/home/rohit/PyWDUbuntu/DA4_1/Imgs2Detect/5521996.jpg',\n",
       " '/home/rohit/PyWDUbuntu/DA4_1/Imgs2Detect/960092.jpg',\n",
       " '/home/rohit/PyWDUbuntu/DA4_1/Imgs2Detect/6054169.jpg',\n",
       " '/home/rohit/PyWDUbuntu/DA4_1/Imgs2Detect/5791070.jpg',\n",
       " '/home/rohit/PyWDUbuntu/DA4_1/Imgs2Detect/2868798.jpg',\n",
       " '/home/rohit/PyWDUbuntu/DA4_1/Imgs2Detect/793558.jpg',\n",
       " '/home/rohit/PyWDUbuntu/DA4_1/Imgs2Detect/5558592.jpg',\n",
       " '/home/rohit/PyWDUbuntu/DA4_1/Imgs2Detect/5217116.jpg',\n",
       " '/home/rohit/PyWDUbuntu/DA4_1/Imgs2Detect/5914327.jpg',\n",
       " '/home/rohit/PyWDUbuntu/DA4_1/Imgs2Detect/5377361.jpg',\n",
       " '/home/rohit/PyWDUbuntu/DA4_1/Imgs2Detect/5287405.jpg',\n",
       " '/home/rohit/PyWDUbuntu/DA4_1/Imgs2Detect/490870.jpg',\n",
       " '/home/rohit/PyWDUbuntu/DA4_1/Imgs2Detect/3787801.jpg',\n",
       " '/home/rohit/PyWDUbuntu/DA4_1/Imgs2Detect/2317271.jpg',\n",
       " '/home/rohit/PyWDUbuntu/DA4_1/Imgs2Detect/178045.jpg',\n",
       " '/home/rohit/PyWDUbuntu/DA4_1/Imgs2Detect/5444724.jpg',\n",
       " '/home/rohit/PyWDUbuntu/DA4_1/Imgs2Detect/881336.jpg',\n",
       " '/home/rohit/PyWDUbuntu/DA4_1/Imgs2Detect/134206.jpg',\n",
       " '/home/rohit/PyWDUbuntu/DA4_1/Imgs2Detect/5791568.jpg',\n",
       " '/home/rohit/PyWDUbuntu/DA4_1/Imgs2Detect/5570254.jpg',\n",
       " '/home/rohit/PyWDUbuntu/DA4_1/Imgs2Detect/1989609.jpg',\n",
       " '/home/rohit/PyWDUbuntu/DA4_1/Imgs2Detect/667626.jpg',\n",
       " '/home/rohit/PyWDUbuntu/DA4_1/Imgs2Detect/4413714.jpg',\n",
       " '/home/rohit/PyWDUbuntu/DA4_1/Imgs2Detect/1283466.jpg',\n",
       " '/home/rohit/PyWDUbuntu/DA4_1/Imgs2Detect/371897.jpg',\n",
       " '/home/rohit/PyWDUbuntu/DA4_1/Imgs2Detect/65567.jpg',\n",
       " '/home/rohit/PyWDUbuntu/DA4_1/Imgs2Detect/4429660.jpg',\n",
       " '/home/rohit/PyWDUbuntu/DA4_1/Imgs2Detect/726414.jpg',\n",
       " '/home/rohit/PyWDUbuntu/DA4_1/Imgs2Detect/4183120.jpg',\n",
       " '/home/rohit/PyWDUbuntu/DA4_1/Imgs2Detect/5867606.jpg',\n",
       " '/home/rohit/PyWDUbuntu/DA4_1/Imgs2Detect/6100315.jpg',\n",
       " '/home/rohit/PyWDUbuntu/DA4_1/Imgs2Detect/5624522.jpg',\n",
       " '/home/rohit/PyWDUbuntu/DA4_1/Imgs2Detect/3996401.jpg',\n",
       " '/home/rohit/PyWDUbuntu/DA4_1/Imgs2Detect/1624481.jpg',\n",
       " '/home/rohit/PyWDUbuntu/DA4_1/Imgs2Detect/3494059.jpg',\n",
       " '/home/rohit/PyWDUbuntu/DA4_1/Imgs2Detect/854749.jpg',\n",
       " '/home/rohit/PyWDUbuntu/DA4_1/Imgs2Detect/390369.jpg',\n",
       " '/home/rohit/PyWDUbuntu/DA4_1/Imgs2Detect/6261030.jpg',\n",
       " '/home/rohit/PyWDUbuntu/DA4_1/Imgs2Detect/36979.jpg',\n",
       " '/home/rohit/PyWDUbuntu/DA4_1/Imgs2Detect/5722658.jpg',\n",
       " '/home/rohit/PyWDUbuntu/DA4_1/Imgs2Detect/5919020.jpg',\n",
       " '/home/rohit/PyWDUbuntu/DA4_1/Imgs2Detect/6331511.jpg',\n",
       " '/home/rohit/PyWDUbuntu/DA4_1/Imgs2Detect/205842.jpg',\n",
       " '/home/rohit/PyWDUbuntu/DA4_1/Imgs2Detect/5060753.jpg',\n",
       " '/home/rohit/PyWDUbuntu/DA4_1/Imgs2Detect/5871970.jpg',\n",
       " '/home/rohit/PyWDUbuntu/DA4_1/Imgs2Detect/3734864.jpg',\n",
       " '/home/rohit/PyWDUbuntu/DA4_1/Imgs2Detect/3160699.jpg',\n",
       " '/home/rohit/PyWDUbuntu/DA4_1/Imgs2Detect/2760167.jpg',\n",
       " '/home/rohit/PyWDUbuntu/DA4_1/Imgs2Detect/438106.jpg',\n",
       " '/home/rohit/PyWDUbuntu/DA4_1/Imgs2Detect/3637013.jpg',\n",
       " '/home/rohit/PyWDUbuntu/DA4_1/Imgs2Detect/2806447.jpg',\n",
       " '/home/rohit/PyWDUbuntu/DA4_1/Imgs2Detect/5570219.jpg',\n",
       " '/home/rohit/PyWDUbuntu/DA4_1/Imgs2Detect/3662865.jpg',\n",
       " '/home/rohit/PyWDUbuntu/DA4_1/Imgs2Detect/3680138.jpg',\n",
       " '/home/rohit/PyWDUbuntu/DA4_1/Imgs2Detect/4307968.jpg',\n",
       " '/home/rohit/PyWDUbuntu/DA4_1/Imgs2Detect/5733760.jpg',\n",
       " '/home/rohit/PyWDUbuntu/DA4_1/Imgs2Detect/675153.jpg',\n",
       " '/home/rohit/PyWDUbuntu/DA4_1/Imgs2Detect/148284.jpg',\n",
       " '/home/rohit/PyWDUbuntu/DA4_1/Imgs2Detect/3753939.jpg',\n",
       " '/home/rohit/PyWDUbuntu/DA4_1/Imgs2Detect/4135695.jpg',\n",
       " '/home/rohit/PyWDUbuntu/DA4_1/Imgs2Detect/2209751.jpg',\n",
       " '/home/rohit/PyWDUbuntu/DA4_1/Imgs2Detect/3219606.jpg',\n",
       " '/home/rohit/PyWDUbuntu/DA4_1/Imgs2Detect/4515460.jpg',\n",
       " '/home/rohit/PyWDUbuntu/DA4_1/Imgs2Detect/5400154.jpg',\n",
       " '/home/rohit/PyWDUbuntu/DA4_1/Imgs2Detect/5088155.jpg',\n",
       " '/home/rohit/PyWDUbuntu/DA4_1/Imgs2Detect/5771732.jpg',\n",
       " '/home/rohit/PyWDUbuntu/DA4_1/Imgs2Detect/1440465.jpg',\n",
       " '/home/rohit/PyWDUbuntu/DA4_1/Imgs2Detect/6155176.jpg',\n",
       " '/home/rohit/PyWDUbuntu/DA4_1/Imgs2Detect/4414061.jpg',\n",
       " '/home/rohit/PyWDUbuntu/DA4_1/Imgs2Detect/4199555.jpg',\n",
       " '/home/rohit/PyWDUbuntu/DA4_1/Imgs2Detect/5402085.jpg',\n",
       " '/home/rohit/PyWDUbuntu/DA4_1/Imgs2Detect/4162702.jpg',\n",
       " '/home/rohit/PyWDUbuntu/DA4_1/Imgs2Detect/81641.jpg',\n",
       " '/home/rohit/PyWDUbuntu/DA4_1/Imgs2Detect/4985704.jpg',\n",
       " '/home/rohit/PyWDUbuntu/DA4_1/Imgs2Detect/5230968.jpg',\n",
       " '/home/rohit/PyWDUbuntu/DA4_1/Imgs2Detect/5333578.jpg',\n",
       " '/home/rohit/PyWDUbuntu/DA4_1/Imgs2Detect/2689611.jpg',\n",
       " '/home/rohit/PyWDUbuntu/DA4_1/Imgs2Detect/4906946.jpg',\n",
       " '/home/rohit/PyWDUbuntu/DA4_1/Imgs2Detect/2285664.jpg',\n",
       " '/home/rohit/PyWDUbuntu/DA4_1/Imgs2Detect/807129.jpg',\n",
       " '/home/rohit/PyWDUbuntu/DA4_1/Imgs2Detect/4376178.jpg',\n",
       " '/home/rohit/PyWDUbuntu/DA4_1/Imgs2Detect/1369162.jpg',\n",
       " '/home/rohit/PyWDUbuntu/DA4_1/Imgs2Detect/2069887.jpg',\n",
       " '/home/rohit/PyWDUbuntu/DA4_1/Imgs2Detect/1243756.jpg',\n",
       " '/home/rohit/PyWDUbuntu/DA4_1/Imgs2Detect/3012229.jpg',\n",
       " '/home/rohit/PyWDUbuntu/DA4_1/Imgs2Detect/3025093.jpg',\n",
       " '/home/rohit/PyWDUbuntu/DA4_1/Imgs2Detect/4280272.jpg',\n",
       " '/home/rohit/PyWDUbuntu/DA4_1/Imgs2Detect/5918840.jpg',\n",
       " '/home/rohit/PyWDUbuntu/DA4_1/Imgs2Detect/5729814.jpg',\n",
       " '/home/rohit/PyWDUbuntu/DA4_1/Imgs2Detect/4386588.jpg',\n",
       " '/home/rohit/PyWDUbuntu/DA4_1/Imgs2Detect/2148982.jpg',\n",
       " '/home/rohit/PyWDUbuntu/DA4_1/Imgs2Detect/984950.jpg',\n",
       " '/home/rohit/PyWDUbuntu/DA4_1/Imgs2Detect/1317156.jpg',\n",
       " '/home/rohit/PyWDUbuntu/DA4_1/Imgs2Detect/2656351.jpg',\n",
       " '/home/rohit/PyWDUbuntu/DA4_1/Imgs2Detect/4749855.jpg',\n",
       " '/home/rohit/PyWDUbuntu/DA4_1/Imgs2Detect/5958182.jpg',\n",
       " '/home/rohit/PyWDUbuntu/DA4_1/Imgs2Detect/1920465.jpg',\n",
       " '/home/rohit/PyWDUbuntu/DA4_1/Imgs2Detect/5104045.jpg',\n",
       " '/home/rohit/PyWDUbuntu/DA4_1/Imgs2Detect/1254659.jpg',\n",
       " '/home/rohit/PyWDUbuntu/DA4_1/Imgs2Detect/5526034.jpg',\n",
       " '/home/rohit/PyWDUbuntu/DA4_1/Imgs2Detect/5648321.jpg',\n",
       " '/home/rohit/PyWDUbuntu/DA4_1/Imgs2Detect/4926723.jpg',\n",
       " '/home/rohit/PyWDUbuntu/DA4_1/Imgs2Detect/4489731.jpg',\n",
       " '/home/rohit/PyWDUbuntu/DA4_1/Imgs2Detect/3367399.jpg',\n",
       " '/home/rohit/PyWDUbuntu/DA4_1/Imgs2Detect/5918675.jpg',\n",
       " '/home/rohit/PyWDUbuntu/DA4_1/Imgs2Detect/353913.jpg',\n",
       " '/home/rohit/PyWDUbuntu/DA4_1/Imgs2Detect/764507.jpg',\n",
       " '/home/rohit/PyWDUbuntu/DA4_1/Imgs2Detect/2209317.jpg',\n",
       " '/home/rohit/PyWDUbuntu/DA4_1/Imgs2Detect/3001353.jpg',\n",
       " '/home/rohit/PyWDUbuntu/DA4_1/Imgs2Detect/3035057.jpg',\n",
       " '/home/rohit/PyWDUbuntu/DA4_1/Imgs2Detect/2784746.jpg',\n",
       " '/home/rohit/PyWDUbuntu/DA4_1/Imgs2Detect/4378823.jpg',\n",
       " '/home/rohit/PyWDUbuntu/DA4_1/Imgs2Detect/5791244.jpg',\n",
       " '/home/rohit/PyWDUbuntu/DA4_1/Imgs2Detect/3043766.jpg',\n",
       " '/home/rohit/PyWDUbuntu/DA4_1/Imgs2Detect/5566972.jpg',\n",
       " '/home/rohit/PyWDUbuntu/DA4_1/Imgs2Detect/5858851.jpg',\n",
       " '/home/rohit/PyWDUbuntu/DA4_1/Imgs2Detect/3537322.jpg',\n",
       " '/home/rohit/PyWDUbuntu/DA4_1/Imgs2Detect/6214447.jpg',\n",
       " '/home/rohit/PyWDUbuntu/DA4_1/Imgs2Detect/574181.jpg',\n",
       " '/home/rohit/PyWDUbuntu/DA4_1/Imgs2Detect/371902.jpg',\n",
       " '/home/rohit/PyWDUbuntu/DA4_1/Imgs2Detect/256063.jpg',\n",
       " '/home/rohit/PyWDUbuntu/DA4_1/Imgs2Detect/5629300.jpg']"
      ]
     },
     "execution_count": 8,
     "metadata": {},
     "output_type": "execute_result"
    }
   ],
   "source": [
    "onlyfiles"
   ]
  },
  {
   "cell_type": "code",
   "execution_count": 37,
   "metadata": {},
   "outputs": [
    {
     "name": "stdout",
     "output_type": "stream",
     "text": [
      "301246.jpg\n"
     ]
    }
   ],
   "source": [
    "print(os.path.basename(onlyfiles[0]))"
   ]
  },
  {
   "cell_type": "code",
   "execution_count": 38,
   "metadata": {},
   "outputs": [
    {
     "name": "stdout",
     "output_type": "stream",
     "text": [
      "\n"
     ]
    }
   ],
   "source": [
    "print(os.path.basename(image_path))"
   ]
  },
  {
   "cell_type": "code",
   "execution_count": 40,
   "metadata": {},
   "outputs": [],
   "source": [
    "ar1 = []\n",
    "ar1.append({\"img_name\": os.path.basename(onlyfiles[0]) , \"detections\": [] } )"
   ]
  },
  {
   "cell_type": "code",
   "execution_count": 41,
   "metadata": {},
   "outputs": [
    {
     "data": {
      "text/plain": [
       "[{'img_name': '301246.jpg', 'detections': []}]"
      ]
     },
     "execution_count": 41,
     "metadata": {},
     "output_type": "execute_result"
    }
   ],
   "source": [
    "ar1"
   ]
  },
  {
   "cell_type": "code",
   "execution_count": 44,
   "metadata": {},
   "outputs": [
    {
     "data": {
      "text/plain": [
       "{'img_name': '301246.jpg', 'detections': []}"
      ]
     },
     "execution_count": 44,
     "metadata": {},
     "output_type": "execute_result"
    }
   ],
   "source": [
    "ar1[0]"
   ]
  },
  {
   "cell_type": "code",
   "execution_count": 45,
   "metadata": {},
   "outputs": [
    {
     "data": {
      "text/plain": [
       "[]"
      ]
     },
     "execution_count": 45,
     "metadata": {},
     "output_type": "execute_result"
    }
   ],
   "source": [
    "ar1[0][\"detections\"]"
   ]
  },
  {
   "cell_type": "code",
   "execution_count": 46,
   "metadata": {},
   "outputs": [],
   "source": [
    "ar1[0][\"detections\"].append([\"dog\",0.456])"
   ]
  },
  {
   "cell_type": "code",
   "execution_count": 47,
   "metadata": {},
   "outputs": [
    {
     "data": {
      "text/plain": [
       "[{'img_name': '301246.jpg', 'detections': [['dog', 0.456]]}]"
      ]
     },
     "execution_count": 47,
     "metadata": {},
     "output_type": "execute_result"
    }
   ],
   "source": [
    "ar1"
   ]
  },
  {
   "cell_type": "code",
   "execution_count": null,
   "metadata": {},
   "outputs": [],
   "source": []
  },
  {
   "cell_type": "code",
   "execution_count": null,
   "metadata": {},
   "outputs": [],
   "source": []
  },
  {
   "cell_type": "code",
   "execution_count": 17,
   "metadata": {},
   "outputs": [],
   "source": [
    "d = {\"a\": \"abcds\", \"b\": {\"b1\": 1, \"b2\": 2, \"b3\": \"rohit\", \"b4\": \"bewoor\"}}"
   ]
  },
  {
   "cell_type": "code",
   "execution_count": 21,
   "metadata": {},
   "outputs": [
    {
     "data": {
      "text/plain": [
       "'rohit'"
      ]
     },
     "execution_count": 21,
     "metadata": {},
     "output_type": "execute_result"
    }
   ],
   "source": [
    "d[\"b\"][\"b3\"]"
   ]
  },
  {
   "cell_type": "code",
   "execution_count": null,
   "metadata": {},
   "outputs": [],
   "source": []
  },
  {
   "cell_type": "code",
   "execution_count": 22,
   "metadata": {},
   "outputs": [],
   "source": [
    "d = [{\"img_name\": \"img1.jpg\", \"detections\": [[\"label1\", \"label1_score\"], [\"label2\", \"label2_score\"] ] } , {\"img_name\": \"img2.jpg\", \"detections\": [[\"label3\", \"label3_score\"], [\"label4\", \"label4_score\"] ] } ]"
   ]
  },
  {
   "cell_type": "code",
   "execution_count": 26,
   "metadata": {},
   "outputs": [
    {
     "name": "stdout",
     "output_type": "stream",
     "text": [
      "[{'img_name': 'img1.jpg', 'detections': [['label1', 'label1_score'], ['label2', 'label2_score']]}, {'img_name': 'img2.jpg', 'detections': [['label3', 'label3_score'], ['label4', 'label4_score']]}]\n"
     ]
    }
   ],
   "source": [
    "for eachd in d[0:1]:\n",
    "    print(f\"{d}\")"
   ]
  },
  {
   "cell_type": "code",
   "execution_count": 36,
   "metadata": {},
   "outputs": [
    {
     "name": "stdout",
     "output_type": "stream",
     "text": [
      "1 : image = img1.jpg\n",
      "class = label1\tscore = label1_score\n",
      "class = label2\tscore = label2_score\n",
      "\n",
      "\n",
      "\n",
      "2 : image = img2.jpg\n",
      "class = label3\tscore = label3_score\n",
      "class = label4\tscore = label4_score\n",
      "\n",
      "\n",
      "\n"
     ]
    }
   ],
   "source": [
    "for idx, eachd in enumerate(d):\n",
    "    print(f'{idx + 1} : image = {eachd[\"img_name\"]}')\n",
    "    for eachdet in eachd[\"detections\"]:\n",
    "        print(f'class = {eachdet[0]}\\tscore = {eachdet[1]}')\n",
    "    print(f\"\\n\\n\")"
   ]
  },
  {
   "cell_type": "code",
   "execution_count": null,
   "metadata": {},
   "outputs": [],
   "source": []
  },
  {
   "cell_type": "code",
   "execution_count": 48,
   "metadata": {},
   "outputs": [
    {
     "data": {
      "text/plain": [
       "1.445"
      ]
     },
     "execution_count": 48,
     "metadata": {},
     "output_type": "execute_result"
    }
   ],
   "source": [
    "round(1.445324, 3)"
   ]
  },
  {
   "cell_type": "code",
   "execution_count": null,
   "metadata": {},
   "outputs": [],
   "source": []
  },
  {
   "cell_type": "code",
   "execution_count": null,
   "metadata": {},
   "outputs": [],
   "source": []
  },
  {
   "cell_type": "code",
   "execution_count": 1,
   "metadata": {},
   "outputs": [],
   "source": [
    "import numpy as np"
   ]
  },
  {
   "cell_type": "code",
   "execution_count": 4,
   "metadata": {},
   "outputs": [],
   "source": [
    "ar1 = np.array(np.ones((2,3)))"
   ]
  },
  {
   "cell_type": "code",
   "execution_count": 5,
   "metadata": {},
   "outputs": [
    {
     "data": {
      "text/plain": [
       "(2, 3)"
      ]
     },
     "execution_count": 5,
     "metadata": {},
     "output_type": "execute_result"
    }
   ],
   "source": [
    "ar1.shape"
   ]
  },
  {
   "cell_type": "code",
   "execution_count": 6,
   "metadata": {},
   "outputs": [],
   "source": [
    "ar2 = np.expand_dims(ar1, 0)"
   ]
  },
  {
   "cell_type": "code",
   "execution_count": 7,
   "metadata": {},
   "outputs": [
    {
     "data": {
      "text/plain": [
       "(1, 2, 3)"
      ]
     },
     "execution_count": 7,
     "metadata": {},
     "output_type": "execute_result"
    }
   ],
   "source": [
    "ar2.shape"
   ]
  },
  {
   "cell_type": "code",
   "execution_count": null,
   "metadata": {},
   "outputs": [],
   "source": []
  },
  {
   "cell_type": "code",
   "execution_count": 8,
   "metadata": {},
   "outputs": [
    {
     "data": {
      "text/plain": [
       "140376510218688"
      ]
     },
     "execution_count": 8,
     "metadata": {},
     "output_type": "execute_result"
    }
   ],
   "source": [
    "id(ar2)"
   ]
  },
  {
   "cell_type": "code",
   "execution_count": 10,
   "metadata": {},
   "outputs": [],
   "source": [
    "ar3 = ar2.copy()"
   ]
  },
  {
   "cell_type": "code",
   "execution_count": 11,
   "metadata": {},
   "outputs": [
    {
     "data": {
      "text/plain": [
       "140376510249200"
      ]
     },
     "execution_count": 11,
     "metadata": {},
     "output_type": "execute_result"
    }
   ],
   "source": [
    "id(ar3)"
   ]
  },
  {
   "cell_type": "code",
   "execution_count": null,
   "metadata": {},
   "outputs": [],
   "source": []
  },
  {
   "cell_type": "code",
   "execution_count": null,
   "metadata": {},
   "outputs": [],
   "source": []
  },
  {
   "cell_type": "code",
   "execution_count": 1,
   "metadata": {},
   "outputs": [
    {
     "name": "stderr",
     "output_type": "stream",
     "text": [
      "Using TensorFlow backend.\n"
     ]
    }
   ],
   "source": [
    "import numpy as np\n",
    "from keras.layers import Conv2D, Input, BatchNormalization, LeakyReLU, ZeroPadding2D, UpSampling2D\n",
    "from keras.layers.merge import add, concatenate\n",
    "from keras.models import Model\n",
    "from keras import backend as K"
   ]
  },
  {
   "cell_type": "code",
   "execution_count": 5,
   "metadata": {},
   "outputs": [],
   "source": [
    "l1 = [[1., 2, 3], [4, 5, 6]]"
   ]
  },
  {
   "cell_type": "code",
   "execution_count": 6,
   "metadata": {},
   "outputs": [],
   "source": [
    "#ar1 = np.array(np.ones((1, 2, 3, 1)))\n",
    "#ar1 = np.array(np.ones((2, 3)))\n",
    "ar1 = np.array(l1)"
   ]
  },
  {
   "cell_type": "code",
   "execution_count": 7,
   "metadata": {},
   "outputs": [
    {
     "data": {
      "text/plain": [
       "array([[1., 2., 3.],\n",
       "       [4., 5., 6.]])"
      ]
     },
     "execution_count": 7,
     "metadata": {},
     "output_type": "execute_result"
    }
   ],
   "source": [
    "ar1"
   ]
  },
  {
   "cell_type": "code",
   "execution_count": 8,
   "metadata": {},
   "outputs": [
    {
     "data": {
      "text/plain": [
       "(2, 3)"
      ]
     },
     "execution_count": 8,
     "metadata": {},
     "output_type": "execute_result"
    }
   ],
   "source": [
    "ar1.shape"
   ]
  },
  {
   "cell_type": "code",
   "execution_count": 9,
   "metadata": {},
   "outputs": [],
   "source": [
    "ar1 = np.expand_dims(ar1, 0)"
   ]
  },
  {
   "cell_type": "code",
   "execution_count": 10,
   "metadata": {},
   "outputs": [
    {
     "data": {
      "text/plain": [
       "(1, 2, 3)"
      ]
     },
     "execution_count": 10,
     "metadata": {},
     "output_type": "execute_result"
    }
   ],
   "source": [
    "ar1.shape"
   ]
  },
  {
   "cell_type": "code",
   "execution_count": 11,
   "metadata": {},
   "outputs": [],
   "source": [
    "ar1 = np.expand_dims(ar1, 3)"
   ]
  },
  {
   "cell_type": "code",
   "execution_count": 12,
   "metadata": {},
   "outputs": [
    {
     "data": {
      "text/plain": [
       "(1, 2, 3, 1)"
      ]
     },
     "execution_count": 12,
     "metadata": {},
     "output_type": "execute_result"
    }
   ],
   "source": [
    "ar1.shape"
   ]
  },
  {
   "cell_type": "code",
   "execution_count": 13,
   "metadata": {},
   "outputs": [
    {
     "data": {
      "text/plain": [
       "array([[[[1.],\n",
       "         [2.],\n",
       "         [3.]],\n",
       "\n",
       "        [[4.],\n",
       "         [5.],\n",
       "         [6.]]]])"
      ]
     },
     "execution_count": 13,
     "metadata": {},
     "output_type": "execute_result"
    }
   ],
   "source": [
    "ar1"
   ]
  },
  {
   "cell_type": "code",
   "execution_count": 14,
   "metadata": {},
   "outputs": [
    {
     "data": {
      "text/plain": [
       "numpy.ndarray"
      ]
     },
     "execution_count": 14,
     "metadata": {},
     "output_type": "execute_result"
    }
   ],
   "source": [
    "type(ar1)"
   ]
  },
  {
   "cell_type": "code",
   "execution_count": 15,
   "metadata": {},
   "outputs": [],
   "source": [
    "ar2 = K.variable(value=ar1)"
   ]
  },
  {
   "cell_type": "code",
   "execution_count": 16,
   "metadata": {},
   "outputs": [
    {
     "data": {
      "text/plain": [
       "tensorflow.python.ops.resource_variable_ops.ResourceVariable"
      ]
     },
     "execution_count": 16,
     "metadata": {},
     "output_type": "execute_result"
    }
   ],
   "source": [
    "type(ar2)"
   ]
  },
  {
   "cell_type": "code",
   "execution_count": 17,
   "metadata": {},
   "outputs": [
    {
     "data": {
      "text/plain": [
       "<tf.Variable 'Variable:0' shape=(1, 2, 3, 1) dtype=float32, numpy=\n",
       "array([[[[1.],\n",
       "         [2.],\n",
       "         [3.]],\n",
       "\n",
       "        [[4.],\n",
       "         [5.],\n",
       "         [6.]]]], dtype=float32)>"
      ]
     },
     "execution_count": 17,
     "metadata": {},
     "output_type": "execute_result"
    }
   ],
   "source": [
    "ar2"
   ]
  },
  {
   "cell_type": "code",
   "execution_count": 18,
   "metadata": {},
   "outputs": [
    {
     "data": {
      "text/plain": [
       "TensorShape([1, 2, 3, 1])"
      ]
     },
     "execution_count": 18,
     "metadata": {},
     "output_type": "execute_result"
    }
   ],
   "source": [
    "ar2.shape"
   ]
  },
  {
   "cell_type": "code",
   "execution_count": 19,
   "metadata": {},
   "outputs": [],
   "source": [
    "ar2 = ZeroPadding2D(((1,0),(1,0)))(ar2)"
   ]
  },
  {
   "cell_type": "code",
   "execution_count": 20,
   "metadata": {},
   "outputs": [
    {
     "data": {
      "text/plain": [
       "<tf.Tensor 'zero_padding2d_1/Pad:0' shape=(1, 3, 4, 1) dtype=float32>"
      ]
     },
     "execution_count": 20,
     "metadata": {},
     "output_type": "execute_result"
    }
   ],
   "source": [
    "ar2"
   ]
  },
  {
   "cell_type": "code",
   "execution_count": 21,
   "metadata": {},
   "outputs": [],
   "source": [
    "ar3 = K.eval(ar2)"
   ]
  },
  {
   "cell_type": "code",
   "execution_count": 22,
   "metadata": {},
   "outputs": [
    {
     "data": {
      "text/plain": [
       "numpy.ndarray"
      ]
     },
     "execution_count": 22,
     "metadata": {},
     "output_type": "execute_result"
    }
   ],
   "source": [
    "type(ar3)"
   ]
  },
  {
   "cell_type": "code",
   "execution_count": 23,
   "metadata": {},
   "outputs": [
    {
     "data": {
      "text/plain": [
       "array([[[[0.],\n",
       "         [0.],\n",
       "         [0.],\n",
       "         [0.]],\n",
       "\n",
       "        [[0.],\n",
       "         [1.],\n",
       "         [2.],\n",
       "         [3.]],\n",
       "\n",
       "        [[0.],\n",
       "         [4.],\n",
       "         [5.],\n",
       "         [6.]]]], dtype=float32)"
      ]
     },
     "execution_count": 23,
     "metadata": {},
     "output_type": "execute_result"
    }
   ],
   "source": [
    "ar3"
   ]
  },
  {
   "cell_type": "code",
   "execution_count": null,
   "metadata": {},
   "outputs": [],
   "source": []
  },
  {
   "cell_type": "code",
   "execution_count": null,
   "metadata": {},
   "outputs": [],
   "source": []
  },
  {
   "cell_type": "code",
   "execution_count": null,
   "metadata": {},
   "outputs": [],
   "source": []
  },
  {
   "cell_type": "code",
   "execution_count": 2,
   "metadata": {},
   "outputs": [
    {
     "name": "stdout",
     "output_type": "stream",
     "text": [
      "type(neoarr) = <class 'list'>\n",
      "neoarr =\n",
      "[{'img': 'img1.jpg', 'det': [['label1', 'label1_score'], ['label2', 'label2_score']]}, {'img': 'img2.jpg', 'det': [['label3', 'label3_score'], ['label4', 'label4_score']]}]\n",
      "type(neoarr) = <class 'list'>\n",
      "neoarr =\n",
      "[{'img': 'img1.jpg', 'det': [['label1', 'label1_score'], ['label2', 'label2_score']]}, {'img': 'img2.jpg', 'det': [['label3', 'label3_score'], ['label4', 'label4_score']]}]\n"
     ]
    }
   ],
   "source": [
    "import json\n",
    "\n",
    "neoarr = [{\"img\": \"img1.jpg\", \"det\": [[\"label1\", \"label1_score\"], [\"label2\", \"label2_score\"] ] } , {\"img\": \"img2.jpg\", \"det\": [[\"label3\", \"label3_score\"], [\"label4\", \"label4_score\"] ] } ]\n",
    "print(f\"type(neoarr) = {type(neoarr)}\\nneoarr =\\n{neoarr}\")\n",
    "with open(\"data.json\", \"w\") as some_file:\n",
    "    json.dump(neoarr, some_file)\n",
    "del(neoarr)\n",
    "\n",
    "with open(\"data.json\", \"r\") as saved_file:\n",
    "    neoarr = json.load(saved_file)\n",
    "print(f\"type(neoarr) = {type(neoarr)}\\nneoarr =\\n{neoarr}\")"
   ]
  },
  {
   "cell_type": "code",
   "execution_count": null,
   "metadata": {},
   "outputs": [],
   "source": []
  },
  {
   "cell_type": "code",
   "execution_count": null,
   "metadata": {},
   "outputs": [],
   "source": []
  },
  {
   "cell_type": "code",
   "execution_count": 2,
   "metadata": {},
   "outputs": [],
   "source": [
    "#from py2neo.data import Node, Relationship\n",
    "from py2neo import Graph"
   ]
  },
  {
   "cell_type": "code",
   "execution_count": 3,
   "metadata": {},
   "outputs": [],
   "source": [
    "graph = Graph(uri=\"bolt://localhost:7687\",auth=(\"neo4j\",\"abc\"))"
   ]
  },
  {
   "cell_type": "code",
   "execution_count": 4,
   "metadata": {},
   "outputs": [
    {
     "data": {
      "text/plain": [
       "py2neo.database.Graph"
      ]
     },
     "execution_count": 4,
     "metadata": {},
     "output_type": "execute_result"
    }
   ],
   "source": [
    "type(graph)"
   ]
  },
  {
   "cell_type": "code",
   "execution_count": 5,
   "metadata": {},
   "outputs": [
    {
     "data": {
      "text/plain": [
       "<Graph database=<Database uri='bolt://localhost:7687' secure=False user_agent='py2neo/4.3.0 neobolt/1.7.17 Python/3.7.7-final-0 (linux)'> name='data'>"
      ]
     },
     "execution_count": 5,
     "metadata": {},
     "output_type": "execute_result"
    }
   ],
   "source": [
    "graph"
   ]
  },
  {
   "cell_type": "code",
   "execution_count": 6,
   "metadata": {},
   "outputs": [],
   "source": [
    "tx = graph.begin()"
   ]
  },
  {
   "cell_type": "code",
   "execution_count": 7,
   "metadata": {},
   "outputs": [
    {
     "data": {
      "text/plain": [
       "False"
      ]
     },
     "execution_count": 7,
     "metadata": {},
     "output_type": "execute_result"
    }
   ],
   "source": [
    "tx.finished()"
   ]
  },
  {
   "cell_type": "code",
   "execution_count": 8,
   "metadata": {},
   "outputs": [],
   "source": [
    "imgFile = \"img1.jpg\"\n",
    "objDetected = \"person\"\n",
    "detScore1 = 98.00\n",
    "detScore2 = 50.00"
   ]
  },
  {
   "cell_type": "code",
   "execution_count": 9,
   "metadata": {},
   "outputs": [],
   "source": [
    "stmt1 = r'MERGE (:Image {name: $_in_img_name})'\n",
    "stmt2 = r'MERGE (:Object {name: $_in_obj_det})'\n",
    "stmt3=r'MATCH (i1:Image{name: $_in_img_name}) MATCH (o1:Object{name: $_in_obj_det}) CREATE (i1)-[:HAS{score: $_in_det_score}]->(o1)'\n",
    "stmt4=r'MATCH (i1:Image{name: $_in_img_name}) MATCH (o1:Object{name: $_in_obj_det}) CREATE (i1)-[:HAS{score: $_in_det_score}]->(o1)'"
   ]
  },
  {
   "cell_type": "code",
   "execution_count": 10,
   "metadata": {},
   "outputs": [
    {
     "name": "stdout",
     "output_type": "stream",
     "text": [
      "stmt1=MERGE (:Image {name: $_in_img_name})\n",
      "stmt2=MERGE (:Object {name: $_in_obj_det})\n",
      "stmt3=MATCH (i1:Image{name: $_in_img_name}) MATCH (o1:Object{name: $_in_obj_det}) CREATE (i1)-[:HAS{score: $_in_det_score}]->(o1)\n",
      "stmt4=MATCH (i1:Image{name: $_in_img_name}) MATCH (o1:Object{name: $_in_obj_det}) CREATE (i1)-[:HAS{score: $_in_det_score}]->(o1)\n"
     ]
    }
   ],
   "source": [
    "print(f\"stmt1={stmt1}\\nstmt2={stmt2}\\nstmt3={stmt3}\\nstmt4={stmt4}\")"
   ]
  },
  {
   "cell_type": "code",
   "execution_count": 11,
   "metadata": {
    "scrolled": false
   },
   "outputs": [
    {
     "data": {
      "text/plain": [
       "<py2neo.database.Cursor at 0x7faa8aa00d90>"
      ]
     },
     "execution_count": 11,
     "metadata": {},
     "output_type": "execute_result"
    }
   ],
   "source": [
    "#tx.run(stmt1, parameters={\"_in_img_name\": in_imgFile})\n",
    "tx.run(stmt1, parameters={\"_in_img_name\": imgFile})\n",
    "tx.run(stmt2, parameters={\"_in_obj_det\": objDetected})\n",
    "tx.run(stmt3, parameters={\"_in_img_name\": imgFile, \"_in_obj_det\": objDetected, \"_in_det_score\": detScore1})\n",
    "tx.run(stmt4, parameters={\"_in_img_name\": imgFile, \"_in_obj_det\": objDetected, \"_in_det_score\": detScore2})"
   ]
  },
  {
   "cell_type": "code",
   "execution_count": 12,
   "metadata": {},
   "outputs": [],
   "source": [
    "tx.commit()"
   ]
  },
  {
   "cell_type": "code",
   "execution_count": 13,
   "metadata": {},
   "outputs": [
    {
     "data": {
      "text/plain": [
       "True"
      ]
     },
     "execution_count": 13,
     "metadata": {},
     "output_type": "execute_result"
    }
   ],
   "source": [
    "tx.finished()"
   ]
  },
  {
   "cell_type": "code",
   "execution_count": null,
   "metadata": {},
   "outputs": [],
   "source": []
  },
  {
   "cell_type": "code",
   "execution_count": 8,
   "metadata": {},
   "outputs": [],
   "source": [
    "stmt1 = 'MERGE (:Image {name: \"' + in_imgFile + '\"})'\n",
    "stmt2 = 'MERGE (:Object {name: \"' + in_objDetected + '\"})'\n",
    "stmt3 = 'MATCH (i1:Image{name: \"' +  \\\n",
    "in_imgFile +  \\\n",
    "'\"}) MATCH (o1:Object{name: \"'+  \\\n",
    "in_objDetected +  \\\n",
    "'\"}) CREATE (i1)-[:HAS{score: ' +  \\\n",
    "str(in_detScore1) +  \\\n",
    "'}]->(o1)'\n",
    "\n",
    "stmt4 = 'MATCH (i1:Image{name: \"' +  \\\n",
    "in_imgFile +  \\\n",
    "'\"}) MATCH (o1:Object{name: \"'+  \\\n",
    "in_objDetected +  \\\n",
    "'\"}) CREATE (i1)-[:HAS{score: ' +  \\\n",
    "str(in_detScore2) +  \\\n",
    "'}]->(o1)'"
   ]
  },
  {
   "cell_type": "code",
   "execution_count": 9,
   "metadata": {},
   "outputs": [
    {
     "name": "stdout",
     "output_type": "stream",
     "text": [
      "stmt1=MERGE (:Image {name: \"img1.jpg\"})\n",
      "stmt2=MERGE (:Object {name: \"person\"})\n",
      "stmt3=MATCH (i1:Image{name: \"img1.jpg\"}) MATCH (o1:Object{name: \"person\"}) CREATE (i1)-[:HAS{score: 98.0}]->(o1)\n",
      "stmt4=MATCH (i1:Image{name: \"img1.jpg\"}) MATCH (o1:Object{name: \"person\"}) CREATE (i1)-[:HAS{score: 50.0}]->(o1)\n"
     ]
    }
   ],
   "source": [
    "print(f\"stmt1={stmt1}\\nstmt2={stmt2}\\nstmt3={stmt3}\\nstmt4={stmt4}\")"
   ]
  },
  {
   "cell_type": "code",
   "execution_count": 10,
   "metadata": {
    "scrolled": true
   },
   "outputs": [
    {
     "data": {
      "text/plain": [
       "<py2neo.database.Cursor at 0x7fd18f300650>"
      ]
     },
     "execution_count": 10,
     "metadata": {},
     "output_type": "execute_result"
    }
   ],
   "source": [
    "tx.run(stmt1, parameters=None)\n",
    "tx.run(stmt2, parameters=None)\n",
    "tx.run(stmt3, parameters=None)\n",
    "tx.run(stmt4, parameters=None)"
   ]
  },
  {
   "cell_type": "code",
   "execution_count": 11,
   "metadata": {},
   "outputs": [],
   "source": [
    "tx.commit()"
   ]
  },
  {
   "cell_type": "code",
   "execution_count": 12,
   "metadata": {},
   "outputs": [
    {
     "data": {
      "text/plain": [
       "True"
      ]
     },
     "execution_count": 12,
     "metadata": {},
     "output_type": "execute_result"
    }
   ],
   "source": [
    "tx.finished()"
   ]
  },
  {
   "cell_type": "code",
   "execution_count": null,
   "metadata": {},
   "outputs": [],
   "source": []
  },
  {
   "cell_type": "code",
   "execution_count": null,
   "metadata": {},
   "outputs": [],
   "source": []
  },
  {
   "cell_type": "code",
   "execution_count": null,
   "metadata": {},
   "outputs": [],
   "source": []
  },
  {
   "cell_type": "code",
   "execution_count": null,
   "metadata": {},
   "outputs": [],
   "source": []
  },
  {
   "cell_type": "code",
   "execution_count": null,
   "metadata": {},
   "outputs": [],
   "source": []
  },
  {
   "cell_type": "code",
   "execution_count": 23,
   "metadata": {},
   "outputs": [],
   "source": [
    "#stmt1_merge_img_node = \"MERGE (:Image {name: {in_imgFile}})\"\n",
    "#stmt2_merge_obj_node = \"MERGE (:Object {name: {in_objDetected}})\"\n",
    "#stmt3_rel_img_has_obj = \"MATCH (i:Image{name: {in_imgFile}}) \" +\n",
    "#                       \"MATCH (o:Object{name: {in_objDetected}}) \" +\n",
    "#                       \"CREATE (i)-[:HAS{score: {in_detScore}}]->(o)\"\n",
    "#stmt3_rel_img_has_obj = \"MATCH (i:Image{name: {in_imgFile}}, o:Object{name: {in_objDetected}}) CREATE (i)-[:HAS{score: {in_detScore}}]->(o)\""
   ]
  },
  {
   "cell_type": "code",
   "execution_count": 35,
   "metadata": {},
   "outputs": [],
   "source": [
    "#tx.create(stmt3_rel_img_has_obj, {\"in_imgFile\": \"img1.jpg\", \"in_objDetected\": \"person\", \"in_detScore\": 98.45})"
   ]
  },
  {
   "cell_type": "code",
   "execution_count": null,
   "metadata": {},
   "outputs": [],
   "source": []
  },
  {
   "cell_type": "code",
   "execution_count": null,
   "metadata": {},
   "outputs": [],
   "source": []
  },
  {
   "cell_type": "code",
   "execution_count": null,
   "metadata": {},
   "outputs": [],
   "source": []
  },
  {
   "cell_type": "code",
   "execution_count": 3,
   "metadata": {},
   "outputs": [],
   "source": [
    "from py2neo.data import Node, Relationship\n",
    "from py2neo import Graph"
   ]
  },
  {
   "cell_type": "code",
   "execution_count": 4,
   "metadata": {},
   "outputs": [],
   "source": [
    "graph = Graph(uri=\"bolt://localhost:7687\",auth=(\"neo4j\",\"abc\"))"
   ]
  },
  {
   "cell_type": "code",
   "execution_count": 8,
   "metadata": {},
   "outputs": [
    {
     "data": {
      "text/plain": [
       "py2neo.database.Graph"
      ]
     },
     "execution_count": 8,
     "metadata": {},
     "output_type": "execute_result"
    }
   ],
   "source": [
    "type(graph)"
   ]
  },
  {
   "cell_type": "code",
   "execution_count": 9,
   "metadata": {},
   "outputs": [
    {
     "data": {
      "text/plain": [
       "<Graph database=<Database uri='bolt://localhost:7687' secure=False user_agent='py2neo/4.3.0 neobolt/1.7.17 Python/3.7.7-final-0 (linux)'> name='data'>"
      ]
     },
     "execution_count": 9,
     "metadata": {},
     "output_type": "execute_result"
    }
   ],
   "source": [
    "graph"
   ]
  },
  {
   "cell_type": "code",
   "execution_count": 11,
   "metadata": {},
   "outputs": [],
   "source": [
    "n_img = Node(\"Image\", name=\"img1.jpg\", size=1234)\n",
    "n_obj1 = Node(\"Object\", name=\"person\")\n",
    "n_obj2 = Node(\"Object\", name=\"table\")\n",
    "rel_has_1 = Relationship(n_img, \"HAS\", n_obj1)"
   ]
  },
  {
   "cell_type": "code",
   "execution_count": 12,
   "metadata": {},
   "outputs": [],
   "source": [
    "graph.create(rel_has_1)"
   ]
  },
  {
   "cell_type": "code",
   "execution_count": 7,
   "metadata": {},
   "outputs": [
    {
     "name": "stdout",
     "output_type": "stream",
     "text": [
      "Help on method create in module py2neo.database:\n",
      "\n",
      "create(subgraph) method of py2neo.database.Graph instance\n",
      "    Run a :meth:`.Transaction.create` operation within a\n",
      "    :class:`.Transaction`.\n",
      "    \n",
      "    :param subgraph: a :class:`.Node`, :class:`.Relationship` or other\n",
      "                   :class:`.Subgraph`\n",
      "\n"
     ]
    }
   ],
   "source": [
    "help(graph.create)"
   ]
  },
  {
   "cell_type": "code",
   "execution_count": 11,
   "metadata": {
    "scrolled": false
   },
   "outputs": [
    {
     "name": "stdout",
     "output_type": "stream",
     "text": [
      "Help on Graph in module py2neo.database object:\n",
      "\n",
      "data = class Graph(builtins.object)\n",
      " |  data(uri=None, **settings)\n",
      " |  \n",
      " |  The `Graph` class represents the graph data storage space within\n",
      " |  a Neo4j graph database. Connection details are provided using URIs\n",
      " |  and/or individual settings.\n",
      " |  \n",
      " |  Supported URI schemes are:\n",
      " |  \n",
      " |  - ``http``\n",
      " |  - ``https``\n",
      " |  - ``bolt``\n",
      " |  \n",
      " |  The full set of supported `settings` are:\n",
      " |  \n",
      " |  ===================  ========================================================  ==============  =========================\n",
      " |  Keyword              Description                                               Type            Default\n",
      " |  ===================  ========================================================  ==============  =========================\n",
      " |  ``auth``             A 2-tuple of (user, password)                             tuple           ``('neo4j', 'password')``\n",
      " |  ``host``             Database server host name                                 str             ``'localhost'``\n",
      " |  ``password``         Password to use for authentication                        str             ``'password'``\n",
      " |  ``port``             Database server port                                      int             ``7687``\n",
      " |  ``scheme``           Use a specific URI scheme                                 str             ``'bolt'``\n",
      " |  ``secure``           Use a secure connection (TLS)                             bool            ``False``\n",
      " |  ``user``             User to authenticate as                                   str             ``'neo4j'``\n",
      " |  ``user_agent``       User agent to send for all connections                    str             `(depends on URI scheme)`\n",
      " |  ``max_connections``  The maximum number of simultaneous connections permitted  int             40\n",
      " |  ===================  ========================================================  ==============  =========================\n",
      " |  \n",
      " |  Each setting can be provided as a keyword argument or as part of\n",
      " |  an ``http:``, ``https:`` or ``bolt:`` URI. Therefore, the examples\n",
      " |  below are equivalent::\n",
      " |  \n",
      " |      >>> from py2neo import Graph\n",
      " |      >>> graph_1 = Graph()\n",
      " |      >>> graph_2 = Graph(host=\"localhost\")\n",
      " |      >>> graph_3 = Graph(\"bolt://localhost:7687\")\n",
      " |  \n",
      " |  Once obtained, the `Graph` instance provides direct or indirect\n",
      " |  access to most of the functionality available within py2neo.\n",
      " |  \n",
      " |  Note that py2neo does not support routing with a Neo4j causal cluster\n",
      " |  (bolt+routing). For this functionality, please use the official Neo4j\n",
      " |  Driver for Python.\n",
      " |  \n",
      " |  Methods defined here:\n",
      " |  \n",
      " |  __bool__(self)\n",
      " |  \n",
      " |  __eq__(self, other)\n",
      " |      Return self==value.\n",
      " |  \n",
      " |  __len__(self)\n",
      " |  \n",
      " |  __ne__(self, other)\n",
      " |      Return self!=value.\n",
      " |  \n",
      " |  __nonzero__ = __bool__(self)\n",
      " |  \n",
      " |  __repr__(self)\n",
      " |      Return repr(self).\n",
      " |  \n",
      " |  begin(self, autocommit=False)\n",
      " |      Begin a new :class:`.Transaction`.\n",
      " |      \n",
      " |      :param autocommit: if :py:const:`True`, the transaction will\n",
      " |                       automatically commit after the first operation\n",
      " |  \n",
      " |  create(self, subgraph)\n",
      " |      Run a :meth:`.Transaction.create` operation within a\n",
      " |      :class:`.Transaction`.\n",
      " |      \n",
      " |      :param subgraph: a :class:`.Node`, :class:`.Relationship` or other\n",
      " |                     :class:`.Subgraph`\n",
      " |  \n",
      " |  delete(self, subgraph)\n",
      " |      Run a :meth:`.Transaction.delete` operation within an\n",
      " |      `autocommit` :class:`.Transaction`. To delete only the\n",
      " |      relationships, use the :meth:`.separate` method.\n",
      " |      \n",
      " |      :param subgraph: a :class:`.Node`, :class:`.Relationship` or other\n",
      " |                     :class:`.Subgraph` object\n",
      " |  \n",
      " |  delete_all(self)\n",
      " |      Delete all nodes and relationships from this :class:`.Graph`.\n",
      " |      \n",
      " |      .. warning::\n",
      " |          This method will permanently remove **all** nodes and relationships\n",
      " |          from the graph and cannot be undone.\n",
      " |  \n",
      " |  evaluate(self, cypher, parameters=None, **kwparameters)\n",
      " |      Run a :meth:`.Transaction.evaluate` operation within an\n",
      " |      `autocommit` :class:`.Transaction`.\n",
      " |      \n",
      " |      :param cypher: Cypher statement\n",
      " |      :param parameters: dictionary of parameters\n",
      " |      :return: first value from the first record returned or\n",
      " |               :py:const:`None`.\n",
      " |  \n",
      " |  exists(self, subgraph)\n",
      " |      Run a :meth:`.Transaction.exists` operation within an\n",
      " |      `autocommit` :class:`.Transaction`.\n",
      " |      \n",
      " |      :param subgraph: a :class:`.Node`, :class:`.Relationship` or other\n",
      " |                     :class:`.Subgraph` object\n",
      " |      :return:\n",
      " |  \n",
      " |  match(self, nodes=None, r_type=None, limit=None)\n",
      " |      Match and return all relationships with specific criteria.\n",
      " |      \n",
      " |      For example, to find all of Alice's friends::\n",
      " |      \n",
      " |          for rel in graph.match((alice, ), r_type=\"FRIEND\"):\n",
      " |              print(rel.end_node[\"name\"])\n",
      " |      \n",
      " |      :param nodes: Sequence or Set of start and end nodes (:const:`None` means any node);\n",
      " |              a Set implies a match in any direction\n",
      " |      :param r_type: type of relationships to match (:const:`None` means any type)\n",
      " |      :param limit: maximum number of relationships to match (:const:`None` means unlimited)\n",
      " |  \n",
      " |  match_one(self, nodes=None, r_type=None)\n",
      " |      Match and return one relationship with specific criteria.\n",
      " |      \n",
      " |      :param nodes: Sequence or Set of start and end nodes (:const:`None` means any node);\n",
      " |              a Set implies a match in any direction\n",
      " |      :param r_type: type of relationships to match (:const:`None` means any type)\n",
      " |  \n",
      " |  merge(self, subgraph, label=None, *property_keys)\n",
      " |      Run a :meth:`.Transaction.merge` operation within an\n",
      " |      `autocommit` :class:`.Transaction`.\n",
      " |      \n",
      " |      The example code below shows a simple merge for a new relationship\n",
      " |      between two new nodes:\n",
      " |      \n",
      " |          >>> from py2neo import Graph, Node, Relationship\n",
      " |          >>> g = Graph()\n",
      " |          >>> a = Node(\"Person\", name=\"Alice\", age=33)\n",
      " |          >>> b = Node(\"Person\", name=\"Bob\", age=44)\n",
      " |          >>> KNOWS = Relationship.type(\"KNOWS\")\n",
      " |          >>> g.merge(KNOWS(a, b), \"Person\", \"name\")\n",
      " |      \n",
      " |      Following on, we then create a third node (of a different type) to\n",
      " |      which both the original nodes connect:\n",
      " |      \n",
      " |          >>> c = Node(\"Company\", name=\"ACME\")\n",
      " |          >>> c.__primarylabel__ = \"Company\"\n",
      " |          >>> c.__primarykey__ = \"name\"\n",
      " |          >>> WORKS_FOR = Relationship.type(\"WORKS_FOR\")\n",
      " |          >>> g.merge(WORKS_FOR(a, c) | WORKS_FOR(b, c))\n",
      " |      \n",
      " |      For details of how the merge algorithm works, see the\n",
      " |      :meth:`.Transaction.merge` method. Note that this is different\n",
      " |      to a Cypher MERGE.\n",
      " |      \n",
      " |      :param subgraph: a :class:`.Node`, :class:`.Relationship` or other\n",
      " |                     :class:`.Subgraph` object\n",
      " |      :param label: label on which to match any existing nodes\n",
      " |      :param property_keys: property keys on which to match any existing nodes\n",
      " |  \n",
      " |  pull(self, subgraph)\n",
      " |      Pull data to one or more entities from their remote counterparts.\n",
      " |      \n",
      " |      :param subgraph: the collection of nodes and relationships to pull\n",
      " |  \n",
      " |  push(self, subgraph)\n",
      " |      Push data from one or more entities to their remote counterparts.\n",
      " |      \n",
      " |      :param subgraph: the collection of nodes and relationships to push\n",
      " |  \n",
      " |  run(self, cypher, parameters=None, **kwparameters)\n",
      " |      Run a :meth:`.Transaction.run` operation within an\n",
      " |      `autocommit` :class:`.Transaction`.\n",
      " |      \n",
      " |      :param cypher: Cypher statement\n",
      " |      :param parameters: dictionary of parameters\n",
      " |      :param kwparameters: extra keyword parameters\n",
      " |      :return:\n",
      " |  \n",
      " |  separate(self, subgraph)\n",
      " |      Run a :meth:`.Transaction.separate` operation within an\n",
      " |      `autocommit` :class:`.Transaction`.\n",
      " |      \n",
      " |      :param subgraph: a :class:`.Node`, :class:`.Relationship` or other\n",
      " |                     :class:`.Subgraph`\n",
      " |  \n",
      " |  ----------------------------------------------------------------------\n",
      " |  Static methods defined here:\n",
      " |  \n",
      " |  __new__(cls, uri=None, **settings)\n",
      " |      Create and return a new object.  See help(type) for accurate signature.\n",
      " |  \n",
      " |  ----------------------------------------------------------------------\n",
      " |  Data descriptors defined here:\n",
      " |  \n",
      " |  __dict__\n",
      " |      dictionary for instance variables (if defined)\n",
      " |  \n",
      " |  __weakref__\n",
      " |      list of weak references to the object (if defined)\n",
      " |  \n",
      " |  name\n",
      " |  \n",
      " |  nodes\n",
      " |      Obtain a :class:`.NodeMatcher` for this graph.\n",
      " |      \n",
      " |      This can be used to find nodes that match given criteria:\n",
      " |      \n",
      " |          >>> graph = Graph()\n",
      " |          >>> graph.nodes[1234]\n",
      " |          (_1234:Person {name: 'Alice'})\n",
      " |          >>> graph.nodes.get(1234)\n",
      " |          (_1234:Person {name: 'Alice'})\n",
      " |          >>> graph.nodes.match(\"Person\", name=\"Alice\").first()\n",
      " |          (_1234:Person {name: 'Alice'})\n",
      " |      \n",
      " |      Nodes can also be efficiently counted using this attribute:\n",
      " |      \n",
      " |          >>> len(graph.nodes)\n",
      " |          55691\n",
      " |          >>> len(graph.nodes.match(\"Person\", age=33))\n",
      " |          12\n",
      " |  \n",
      " |  relationships\n",
      " |      Obtain a :class:`.RelationshipMatcher` for this graph.\n",
      " |      \n",
      " |      This can be used to find relationships that match given criteria\n",
      " |      as well as efficiently count relationships.\n",
      " |  \n",
      " |  ----------------------------------------------------------------------\n",
      " |  Data and other attributes defined here:\n",
      " |  \n",
      " |  __hash__ = None\n",
      " |  \n",
      " |  database = None\n",
      " |  \n",
      " |  node_cache = <py2neo.internal.caching.ThreadLocalEntityCache object>\n",
      " |  \n",
      " |  relationship_cache = <py2neo.internal.caching.ThreadLocalEntityCache o...\n",
      " |  \n",
      " |  schema = None\n",
      "\n"
     ]
    }
   ],
   "source": [
    "help(graph)"
   ]
  },
  {
   "cell_type": "code",
   "execution_count": null,
   "metadata": {},
   "outputs": [],
   "source": []
  },
  {
   "cell_type": "code",
   "execution_count": 8,
   "metadata": {},
   "outputs": [],
   "source": [
    "import sys"
   ]
  },
  {
   "cell_type": "code",
   "execution_count": 11,
   "metadata": {},
   "outputs": [],
   "source": [
    "t1 = (\"a\", 123, 45.56)\n",
    "v1, v2, v3 = t1"
   ]
  },
  {
   "cell_type": "code",
   "execution_count": 12,
   "metadata": {},
   "outputs": [
    {
     "name": "stdout",
     "output_type": "stream",
     "text": [
      "v1 = a = 50 bytes\n",
      "v2 = 123 = 28 bytes\n",
      "v3 = 45.56 = 24 bytes\n",
      "t1 = ('a', 123, 45.56) = 80 bytes\n"
     ]
    }
   ],
   "source": [
    "print(f\"v1 = {v1} = {sys.getsizeof(v1)} bytes\")\n",
    "print(f\"v2 = {v2} = {sys.getsizeof(v2)} bytes\")\n",
    "print(f\"v3 = {v3} = {sys.getsizeof(v3)} bytes\")\n",
    "print(f\"t1 = {t1} = {sys.getsizeof(t1)} bytes\")"
   ]
  },
  {
   "cell_type": "code",
   "execution_count": null,
   "metadata": {},
   "outputs": [],
   "source": []
  },
  {
   "cell_type": "code",
   "execution_count": null,
   "metadata": {},
   "outputs": [],
   "source": []
  },
  {
   "cell_type": "code",
   "execution_count": null,
   "metadata": {},
   "outputs": [],
   "source": []
  }
 ],
 "metadata": {
  "kernelspec": {
   "display_name": "Python 3",
   "language": "python",
   "name": "python3"
  },
  "language_info": {
   "codemirror_mode": {
    "name": "ipython",
    "version": 3
   },
   "file_extension": ".py",
   "mimetype": "text/x-python",
   "name": "python",
   "nbconvert_exporter": "python",
   "pygments_lexer": "ipython3",
   "version": "3.7.7"
  }
 },
 "nbformat": 4,
 "nbformat_minor": 4
}
