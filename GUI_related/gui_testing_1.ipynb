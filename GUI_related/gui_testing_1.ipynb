{
 "cells": [
  {
   "cell_type": "code",
   "execution_count": null,
   "metadata": {},
   "outputs": [],
   "source": []
  },
  {
   "cell_type": "code",
   "execution_count": null,
   "metadata": {},
   "outputs": [],
   "source": []
  },
  {
   "cell_type": "code",
   "execution_count": null,
   "metadata": {},
   "outputs": [],
   "source": []
  },
  {
   "cell_type": "markdown",
   "metadata": {},
   "source": [
    "# Tkinter - displaying images using PIL\n",
    "#### https://www.geeksforgeeks.org/reading-images-with-python-tkinter/amp/?ref=rp\n",
    "## --\n",
    "## An image is loaded using the PhotoImage() method and then it is read by using the Label() method.\n",
    "## The pack() method arranges the main window and the mainloop() function is used to run the application in an infinite loop."
   ]
  },
  {
   "cell_type": "code",
   "execution_count": 1,
   "metadata": {},
   "outputs": [],
   "source": [
    "# importing required packages\n",
    "import tkinter\n",
    "from PIL import ImageTk, Image\n",
    "import os"
   ]
  },
  {
   "cell_type": "code",
   "execution_count": 2,
   "metadata": {},
   "outputs": [],
   "source": [
    "img_folder = r'/home/rohit/PyWDUbuntu/thesis/Imgs2Detect_20imgs/'"
   ]
  },
  {
   "cell_type": "code",
   "execution_count": 5,
   "metadata": {},
   "outputs": [
    {
     "data": {
      "text/plain": [
       "['/home/rohit/PyWDUbuntu/thesis/Imgs2Detect_20imgs/371903.jpg',\n",
       " '/home/rohit/PyWDUbuntu/thesis/Imgs2Detect_20imgs/2192573.jpg',\n",
       " '/home/rohit/PyWDUbuntu/thesis/Imgs2Detect_20imgs/1989609.jpg',\n",
       " '/home/rohit/PyWDUbuntu/thesis/Imgs2Detect_20imgs/1283466.jpg',\n",
       " '/home/rohit/PyWDUbuntu/thesis/Imgs2Detect_20imgs/371897.jpg']"
      ]
     },
     "execution_count": 5,
     "metadata": {},
     "output_type": "execute_result"
    }
   ],
   "source": [
    "image_files_list = [os.path.join(img_folder, f) \\\n",
    "                    for f in os.listdir(img_folder) \\\n",
    "                    if os.path.isfile(os.path.join(img_folder, f))]\n",
    "image_files_list[:5]"
   ]
  },
  {
   "cell_type": "code",
   "execution_count": 6,
   "metadata": {},
   "outputs": [],
   "source": [
    "# creating main window\n",
    "root = tkinter.Tk()\n",
    "\n",
    "# loading the image\n",
    "img = ImageTk.PhotoImage(Image.open(image_files_list[0]))\n",
    "\n",
    "# reading the image\n",
    "panel = tkinter.Label(root, image = img)\n",
    "  \n",
    "# setting the application \n",
    "panel.pack(side = \"bottom\", fill = \"both\",\n",
    "           expand = \"yes\")\n",
    "\n",
    "# running the application \n",
    "root.mainloop() "
   ]
  },
  {
   "cell_type": "code",
   "execution_count": null,
   "metadata": {},
   "outputs": [],
   "source": []
  },
  {
   "cell_type": "code",
   "execution_count": null,
   "metadata": {},
   "outputs": [],
   "source": []
  },
  {
   "cell_type": "code",
   "execution_count": null,
   "metadata": {},
   "outputs": [],
   "source": []
  },
  {
   "cell_type": "markdown",
   "metadata": {},
   "source": [
    "## Own logic using approach from link below\n",
    "### https://realpython.com/python-gui-tkinter/"
   ]
  },
  {
   "cell_type": "code",
   "execution_count": 1,
   "metadata": {},
   "outputs": [],
   "source": [
    "import tkinter as tk"
   ]
  },
  {
   "cell_type": "code",
   "execution_count": 4,
   "metadata": {},
   "outputs": [],
   "source": [
    "## A window is an instance of Tkinter’s Tk class. Go ahead and create a new window and assign it to the variable window\n",
    "window = tk.Tk()\n",
    "## When you execute the above code, a new window pops up on your screen.\n",
    "##      Look feel is OS specific"
   ]
  },
  {
   "cell_type": "code",
   "execution_count": null,
   "metadata": {},
   "outputs": [],
   "source": []
  },
  {
   "cell_type": "code",
   "execution_count": 3,
   "metadata": {},
   "outputs": [],
   "source": [
    "########## Adding a Widget\n",
    "## Now that you have a window, you can add a widget. Use the tk.Label class to \n",
    "##     add some text to a window. Create a Label widget with the text \n",
    "##     \"Hello, Tkinter\" and assign it to a variable called greeting\n",
    "greeting = tk.Label(text=\"Hello, Tkinter\")\n",
    "## The window you created earlier doesn’t change. You just created a Label widget, \n",
    "##     but you haven’t added it to the window yet. There are several ways to add \n",
    "##   widgets to a window. Right now, you can use the Label widget’s .pack() method"
   ]
  },
  {
   "cell_type": "code",
   "execution_count": 4,
   "metadata": {},
   "outputs": [],
   "source": [
    "## To show some you need to pack it\n",
    "greeting.pack()\n",
    "## When you .pack() a widget into a window, Tkinter sizes the window as small as it \n",
    "##      can while still fully encompassing the widget"
   ]
  },
  {
   "cell_type": "code",
   "execution_count": 5,
   "metadata": {},
   "outputs": [],
   "source": [
    "## run this to actually show the window\n",
    "## window.mainloop() tells Python to run the Tkinter event loop. This method listens after\n",
    "##  for events, such as button clicks or keypresses, and blocks any code that comes \n",
    "##  it from running until the window it’s called on is closed. Go ahead and close the \n",
    "##  window you’ve created, and you’ll see a new prompt displayed in the shell.\n",
    "window.mainloop()"
   ]
  },
  {
   "cell_type": "code",
   "execution_count": null,
   "metadata": {},
   "outputs": [],
   "source": []
  },
  {
   "cell_type": "code",
   "execution_count": 3,
   "metadata": {},
   "outputs": [],
   "source": [
    "########## Working With Widgets\n",
    "## Widgets are the bread and butter of the Python GUI framework Tkinter. They are the \n",
    "##   elements through which users interact with your program. Each widget in Tkinter is \n",
    "##   defined by a class. Here are some of the widgets available\n",
    "## -------------------------------------------------------------------------------------\n",
    "## Widget Class     Description\n",
    "## Label            A widget used to display text on the screen\n",
    "## Button           A button that can contain text and can perform an action when clicked\n",
    "## Entry            A text entry widget that allows only a single line of text\n",
    "## Text             A text entry widget that allows multiline text entry\n",
    "## Frame            A rectangular region used to group related widgets or provide \n",
    "##                    padding between widgets\n",
    "## -------------------------------------------------------------------------------------\n",
    "## Basic widgets: https://tkdocs.com/tutorial/widgets.html\n",
    "## More  widgets: https://tkdocs.com/tutorial/morewidgets.html\n",
    "## -------------------------------------------------------------------------------------"
   ]
  },
  {
   "cell_type": "code",
   "execution_count": 3,
   "metadata": {},
   "outputs": [],
   "source": [
    "########## Displaying Text and Images With Label Widgets\n",
    "## Label widgets are used to display text or images.\n",
    "##     The text displayed by a Label widget can’t be edited by the user.\n",
    "##     It’s for display purposes only.\n",
    "##     Label widgets display text with the default system text color and the default\n",
    "##        system text background color. \n",
    "##     You can control Label text and background colors using the foreground and\n",
    "##        background parameters\n",
    "##     Colors can be specified by name or hex RGB values\n"
   ]
  },
  {
   "cell_type": "code",
   "execution_count": null,
   "metadata": {},
   "outputs": [],
   "source": [
    "window = tk.Tk()"
   ]
  },
  {
   "cell_type": "code",
   "execution_count": null,
   "metadata": {},
   "outputs": [],
   "source": [
    "## color specified as strings\n",
    "label = tk.Label(\n",
    "    text=\"Hello, Tkinter\",\n",
    "    foreground=\"white\",  # Set the text color to white\n",
    "    background=\"black\"  # Set the background color to black\n",
    ")"
   ]
  },
  {
   "cell_type": "code",
   "execution_count": 7,
   "metadata": {},
   "outputs": [],
   "source": [
    "## or shortform for fore and back groud parameters\n",
    "label = tk.Label(text=\"Hello, Tkinter\", fg=\"white\", bg=\"black\")"
   ]
  },
  {
   "cell_type": "code",
   "execution_count": 9,
   "metadata": {},
   "outputs": [],
   "source": [
    "## or example of hex RGB usage\n",
    "label = tk.Label(text=\"Hello, Tkinter\", bg=\"#34A2FE\")"
   ]
  },
  {
   "cell_type": "code",
   "execution_count": null,
   "metadata": {},
   "outputs": [],
   "source": []
  },
  {
   "cell_type": "code",
   "execution_count": 13,
   "metadata": {},
   "outputs": [],
   "source": [
    "########## Control the width and height of a label\n",
    "## NOTE: width and height are measured in text units.\n",
    "##       One horizontal text unit is determined by the width of the character \"0\", in the\n",
    "##       default system font. One vertical text unit is determined by the height of  \"0\"\n",
    "window = tk.Tk()\n",
    "label = tk.Label(\n",
    "    text=\"Hello, Tkinter\",\n",
    "    fg=\"white\",\n",
    "    bg=\"black\",\n",
    "    width=15,\n",
    "    height=10\n",
    ")"
   ]
  },
  {
   "cell_type": "code",
   "execution_count": 14,
   "metadata": {},
   "outputs": [],
   "source": [
    "label.pack()\n",
    "window.mainloop()"
   ]
  },
  {
   "cell_type": "code",
   "execution_count": null,
   "metadata": {},
   "outputs": [],
   "source": []
  },
  {
   "cell_type": "code",
   "execution_count": null,
   "metadata": {},
   "outputs": [],
   "source": [
    "########## Displaying Clickable Buttons With Button Widgets\n",
    "## Button widgets are used to display clickable buttons. They can be configured to \n",
    "##   call a function whenever they’re clicked - which we cover later.\n",
    "##   In many ways, a Button is just a Label that you can click! The same keyword\n",
    "##   arguments used to create and style a Label will work with Button widgets."
   ]
  },
  {
   "cell_type": "code",
   "execution_count": 17,
   "metadata": {},
   "outputs": [],
   "source": [
    "## E.g. Code to create a Button with a blue background and yellow text.\n",
    "##      Also sets the width = 25 text units and height = 5 text units\n",
    "window = tk.Tk()\n",
    "button = tk.Button(\n",
    "    text=\"Click me!\",\n",
    "    width=25,\n",
    "    height=5,\n",
    "    bg=\"blue\",\n",
    "    fg=\"yellow\",\n",
    ")"
   ]
  },
  {
   "cell_type": "code",
   "execution_count": 16,
   "metadata": {},
   "outputs": [],
   "source": [
    "button.pack()\n",
    "window.mainloop()"
   ]
  },
  {
   "cell_type": "code",
   "execution_count": 14,
   "metadata": {},
   "outputs": [],
   "source": [
    "button.pack(side=\"top\")\n",
    "window.mainloop()"
   ]
  },
  {
   "cell_type": "code",
   "execution_count": 18,
   "metadata": {},
   "outputs": [],
   "source": [
    "button.pack(side=\"bottom\")\n",
    "window.mainloop()"
   ]
  },
  {
   "cell_type": "code",
   "execution_count": null,
   "metadata": {},
   "outputs": [],
   "source": []
  },
  {
   "cell_type": "code",
   "execution_count": 21,
   "metadata": {},
   "outputs": [],
   "source": [
    "########## Assigning Widgets to Frames With Frame Widgets\n",
    "## Frame widgets are important for organizing the layout of your widgets in an application.\n",
    "## Frames are best thought of as containers for other widgets. You can assign a widget\n",
    "##    to a frame by setting the widget’s master attribute.\n",
    "## All four of the widget types covered so far\n",
    "##      Label, Button, Entry, and Text\n",
    "##      have a master attribute that’s set when you instantiate them. That way, you can \n",
    "##      control which Frame a widget is assigned to. Frame widgets are great for \n",
    "##      organizing other widgets in a logical manner. Related widgets can be assigned to\n",
    "##      the same frame so that, if the frame is ever moved in the window, then the related\n",
    "##      widgets stay together.\n",
    "\n",
    "import tkinter as tk\n",
    "\n",
    "window = tk.Tk()\n",
    "\n",
    "frame_a = tk.Frame()\n",
    "frame_b = tk.Frame()\n",
    "\n",
    "label_a = tk.Label(master=frame_a, text=\"I'm in Frame A\")\n",
    "label_a.pack()\n",
    "\n",
    "label_b = tk.Label(master=frame_b, text=\"I'm in Frame B\")\n",
    "label_b.pack()\n",
    "\n",
    "frame_a.pack()\n",
    "frame_b.pack()\n",
    "\n",
    "window.mainloop()"
   ]
  },
  {
   "cell_type": "code",
   "execution_count": null,
   "metadata": {},
   "outputs": [],
   "source": []
  },
  {
   "cell_type": "code",
   "execution_count": 22,
   "metadata": {},
   "outputs": [],
   "source": [
    "########## Adjusting Frame Appearance With Reliefs\n",
    "## Frame widgets can be configured with a relief attribute that creates a border around \n",
    "##    the frame. You can set relief to be any of the following values:\n",
    "##         tk.FLAT    : Has no border effect (the default value).\n",
    "##         tk.SUNKEN  : Creates a sunken effect.\n",
    "##         tk.RAISED  : Creates a raised effect.\n",
    "##         tk.GROOVE  : Creates a grooved border effect.\n",
    "##         tk.RIDGE   : Creates a ridged effect.\n",
    "## To apply the border effect, you must set the borderwidth attribute to a value greater \n",
    "##    than 1. This attribute adjusts the width of the border in pixels. Sample script below\n",
    "##    packs five Frame widgets into a window, each with a different value for the\n",
    "##    relief argument:\n",
    "\n",
    "border_effects = {\n",
    "    \"flat\": tk.FLAT,\n",
    "    \"sunken\": tk.SUNKEN,\n",
    "    \"raised\": tk.RAISED,\n",
    "    \"groove\": tk.GROOVE,\n",
    "    \"ridge\": tk.RIDGE,\n",
    "}\n",
    "\n",
    "window = tk.Tk()\n",
    "\n",
    "for relief_name, relief in border_effects.items():\n",
    "    frame = tk.Frame(master=window, relief=relief, borderwidth=5)\n",
    "    frame.pack(side=tk.LEFT)\n",
    "    label = tk.Label(master=frame, text=relief_name)\n",
    "    label.pack()\n",
    "\n",
    "window.mainloop()"
   ]
  },
  {
   "cell_type": "code",
   "execution_count": null,
   "metadata": {},
   "outputs": [],
   "source": []
  },
  {
   "cell_type": "code",
   "execution_count": null,
   "metadata": {},
   "outputs": [],
   "source": []
  },
  {
   "cell_type": "code",
   "execution_count": null,
   "metadata": {},
   "outputs": [],
   "source": []
  },
  {
   "cell_type": "code",
   "execution_count": null,
   "metadata": {},
   "outputs": [],
   "source": [
    "########## Controlling Layout With Geometry Managers\n",
    "## Application layout in Tkinter is controlled with geometry managers.\n",
    "## There are three options:\n",
    "##      .pack()\n",
    "##      .place()\n",
    "##      .grid()"
   ]
  },
  {
   "cell_type": "code",
   "execution_count": null,
   "metadata": {},
   "outputs": [],
   "source": [
    "########## Controlling Layout With Geometry Managers\n",
    "########## The .pack() Geometry Manager\n",
    "## .pack() uses a packing algorithm to place widgets in a Frame or window in a \n",
    "##    specified order. Algorithm has two primary steps:\n",
    "##        1. Compute a rectangular area called a parcel that’s just tall (or wide) enough \n",
    "##           to hold the widget and fills the remaining width (or height) in the window \n",
    "##           with blank space\n",
    "##        2. Center the widget in the parcel unless a different location is specified.\n",
    "## .pack() places each Frame below the previous one by default, in the order that they \n",
    "##    are assigned to the window. Each Frame is placed at the top-most available position.\n",
    "##    The red Frame is placed at the top of the window. Then the yellow Frame is placed \n",
    "##    just below the red one and the blue Frame just below the yellow one.\n",
    "##    There are three invisible parcels containing each of the three Frame widgets. \n",
    "##    Each parcel is as wide as the window and as tall as the Frame that it contains. \n",
    "##    Since no anchor point was specified when .pack() was called for each Frame, they \n",
    "##    are all centered inside of their parcels. That’s why each Frame is centered in the \n",
    "##    window."
   ]
  },
  {
   "cell_type": "code",
   "execution_count": 33,
   "metadata": {},
   "outputs": [],
   "source": [
    "## Frame widgets don’t expand in the vertical direction\n",
    "## One of the nice things about filling the window with .pack() is that the fill is \n",
    "##     responsive to window resizing. Try widening the window generated by the previous \n",
    "##     script to see how this works. As you widen the window, the width of the three \n",
    "##     Frame widgets grow to fill the window\n",
    "\n",
    "window = tk.Tk()\n",
    "\n",
    "frame1 = tk.Frame(master=window, width=100, height=100, bg=\"red\")\n",
    "frame1.pack()\n",
    "\n",
    "frame2 = tk.Frame(master=window, width=50, height=50, bg=\"yellow\")\n",
    "frame2.pack()\n",
    "\n",
    "frame3 = tk.Frame(master=window, width=25, height=25, bg=\"blue\")\n",
    "frame3.pack()\n",
    "\n",
    "window.mainloop()"
   ]
  },
  {
   "cell_type": "code",
   "execution_count": null,
   "metadata": {},
   "outputs": [],
   "source": [
    "## .pack() accepts some keyword arguments for more precisely configuring widget placement. \n",
    "##     For example, you can set the fill keyword argument to specify in which direction \n",
    "##     the frames should fill. The options are tk.X to fill in the horizontal direction, \n",
    "##     tk.Y to fill vertically, and tk.BOTH to fill in both directions."
   ]
  },
  {
   "cell_type": "code",
   "execution_count": 29,
   "metadata": {},
   "outputs": [],
   "source": [
    "##  Here’s how you would stack the three frames so that each one fills the whole window \n",
    "##    horizontally.\n",
    "## Notice that the width is not set on any of the Frame widgets. width is no longer \n",
    "##    necessary because each frame sets .pack() to fill horizontally, overriding any \n",
    "##    width you may set.\n",
    "window = tk.Tk()\n",
    "\n",
    "frame1 = tk.Frame(master=window, height=100, bg=\"red\")\n",
    "frame1.pack(fill=tk.X)\n",
    "\n",
    "frame2 = tk.Frame(master=window, height=50, bg=\"yellow\")\n",
    "frame2.pack(fill=tk.X)\n",
    "\n",
    "frame3 = tk.Frame(master=window, height=25, bg=\"blue\")\n",
    "frame3.pack(fill=tk.X)\n",
    "\n",
    "window.mainloop()"
   ]
  },
  {
   "cell_type": "code",
   "execution_count": null,
   "metadata": {},
   "outputs": [],
   "source": [
    "## Just like when you set fill=tk.X to make the frames responsive when you resized the \n",
    "##    window horizontally, you can set fill=tk.Y to make the frames responsive when you \n",
    "##    resize the window vertically\n",
    "\n",
    "window = tk.Tk()\n",
    "\n",
    "frame1 = tk.Frame(master=window, height=100, bg=\"red\")\n",
    "frame1.pack(fill=tk.Y)\n",
    "\n",
    "frame2 = tk.Frame(master=window, height=50, bg=\"yellow\")\n",
    "frame2.pack(fill=tk.Y)\n",
    "\n",
    "frame3 = tk.Frame(master=window, height=25, bg=\"blue\")\n",
    "frame3.pack(fill=tk.Y)\n",
    "\n",
    "window.mainloop()"
   ]
  },
  {
   "cell_type": "code",
   "execution_count": 28,
   "metadata": {},
   "outputs": [],
   "source": [
    "## The side keyword argument of .pack() specifies on which side of the window the widget \n",
    "## should be placed. These are the available options:\n",
    "##        tk.TOP\n",
    "##        tk.BOTTOM\n",
    "##        tk.LEFT\n",
    "##        tk.RIGHT\n",
    "## If you don’t set side, then .pack() will automatically use tk.TOP and place new widgets \n",
    "##    at the top of the window, or at the top-most portion of the window that isn’t \n",
    "##    already occupied by a widget. For example, the following script places three \n",
    "##    frames side-by-side from left to right and expands each frame to fill the window \n",
    "##    vertically\n",
    "\n",
    "## This time, you have to specify the height keyword argument on at least one of the frames \n",
    "##      to force the window to have some height.\n",
    "\n",
    "window = tk.Tk()\n",
    "\n",
    "frame1 = tk.Frame(master=window, width=200, height=100, bg=\"red\")\n",
    "frame1.pack(fill=tk.Y, side=tk.LEFT)\n",
    "\n",
    "frame2 = tk.Frame(master=window, width=100, bg=\"yellow\")\n",
    "frame2.pack(fill=tk.Y, side=tk.LEFT)\n",
    "\n",
    "frame3 = tk.Frame(master=window, width=50, bg=\"blue\")\n",
    "frame3.pack(fill=tk.Y, side=tk.LEFT)\n",
    "\n",
    "window.mainloop()"
   ]
  },
  {
   "cell_type": "code",
   "execution_count": 32,
   "metadata": {},
   "outputs": [],
   "source": [
    "## To make the layout truly responsive, you can set an initial size for your frames using \n",
    "##    the width and height attributes. Then, set the fill keyword argument of .pack() to \n",
    "##    tk.BOTH and set the expand keyword argument to True\n",
    "\n",
    "window = tk.Tk()\n",
    "\n",
    "frame1 = tk.Frame(master=window, width=200, height=100, bg=\"red\")\n",
    "frame1.pack(fill=tk.BOTH, side=tk.LEFT, expand=True)\n",
    "\n",
    "frame2 = tk.Frame(master=window, width=100, bg=\"yellow\")\n",
    "frame2.pack(fill=tk.BOTH, side=tk.LEFT, expand=True)\n",
    "\n",
    "frame3 = tk.Frame(master=window, width=50, bg=\"blue\")\n",
    "frame3.pack(fill=tk.BOTH, side=tk.LEFT, expand=True)\n",
    "\n",
    "window.mainloop()"
   ]
  },
  {
   "cell_type": "code",
   "execution_count": null,
   "metadata": {},
   "outputs": [],
   "source": []
  },
  {
   "cell_type": "code",
   "execution_count": null,
   "metadata": {},
   "outputs": [],
   "source": []
  },
  {
   "cell_type": "code",
   "execution_count": null,
   "metadata": {},
   "outputs": [],
   "source": []
  },
  {
   "cell_type": "code",
   "execution_count": 36,
   "metadata": {},
   "outputs": [],
   "source": [
    "########## Controlling Layout With Geometry Managers\n",
    "########## The .place() Geometry Manager\n",
    "## Use .place() to control the precise location that a widget should occupy in a window \n",
    "##   or Frame. You must provide two keyword arguments, x and y, which specify the \n",
    "##   x- and y-coordinates for the top-left corner of the widget. Both x and y are measured \n",
    "##   in pixels, not text units.\n",
    "## Keep in mind that the origin (where x and y are both 0) is the top-left corner of the \n",
    "##   Frame or window. So, you can think of the y argument of .place() as the number of \n",
    "##   pixels from the top of the window, and the x argument as the number of pixels from \n",
    "##   the left of the window.\n",
    "\n",
    "## .place() is not used often. It has two main drawbacks:\n",
    "##    1. Layout can be difficult to manage with .place(). This is especially true if your \n",
    "##       application has lots of widgets.\n",
    "##    2. Layouts created with .place() are not responsive. They don’t change as the window \n",
    "##       is resized.\n",
    "\n",
    "## E.g. of how the .place() geometry manager works:\n",
    "\n",
    "window = tk.Tk()\n",
    "\n",
    "frame = tk.Frame(master=window, width=150, height=150)\n",
    "frame.pack()\n",
    "\n",
    "label1 = tk.Label(master=frame, text=\"I'm at (0, 0)\", bg=\"red\")\n",
    "label1.place(x=0, y=0)\n",
    "\n",
    "label2 = tk.Label(master=frame, text=\"I'm at (75, 75)\", bg=\"yellow\")\n",
    "label2.place(x=75, y=75)\n",
    "\n",
    "window.mainloop()"
   ]
  },
  {
   "cell_type": "code",
   "execution_count": null,
   "metadata": {},
   "outputs": [],
   "source": []
  },
  {
   "cell_type": "code",
   "execution_count": null,
   "metadata": {},
   "outputs": [],
   "source": []
  },
  {
   "cell_type": "code",
   "execution_count": null,
   "metadata": {},
   "outputs": [],
   "source": []
  },
  {
   "cell_type": "code",
   "execution_count": 39,
   "metadata": {},
   "outputs": [],
   "source": [
    "########## Controlling Layout With Geometry Managers\n",
    "########## The .grid() Geometry Manager\n",
    "## Most useful is .grid(), which provides all the power of .pack() in a format that’s \n",
    "##   easier to understand and maintain.\n",
    "## .grid() works by splitting a window or Frame into rows and columns. \n",
    "## You specify the location of a widget by calling .grid() and passing the row and \n",
    "##     column indices to the row and column keyword arguments, respectively. \n",
    "##     Both row and column indices start at 0, so a row index of 1 and a column index \n",
    "##     of 2 tells .grid() to place a widget in the third column of the second row.\n",
    "\n",
    "## E.g. script creates a 3 × 3 grid of frames with Label widgets packed into them:\n",
    "##   Two geometry managers are being used in this example. \n",
    "##   Each Frame is attached to the window with the .grid() geometry manager.\n",
    "##   Each label is attached to its master Frame with .pack().\n",
    "\n",
    "## The important thing to realize here is that even though .grid() is called on each \n",
    "##    Frame object, the geometry manager applies to the window object. Similarly, the \n",
    "##    layout of each frame is controlled with the .pack() geometry manager.\n",
    "\n",
    "window = tk.Tk()\n",
    "\n",
    "for i in range(3):\n",
    "    for j in range(3):\n",
    "        frame = tk.Frame(\n",
    "            master=window,\n",
    "            relief=tk.RAISED,\n",
    "            borderwidth=4\n",
    "        )\n",
    "        frame.grid(row=i, column=j)\n",
    "        label = tk.Label(master=frame, text=f\"Row {i}\\nColumn {j}\")\n",
    "        label.pack()\n",
    "\n",
    "window.mainloop()"
   ]
  },
  {
   "cell_type": "code",
   "execution_count": 45,
   "metadata": {},
   "outputs": [],
   "source": [
    "## The frames in the previous example are placed tightly next to one another. \n",
    "## To add some space around each Frame, you can set the padding of each cell in the grid. \n",
    "## Padding is just some blank space that surrounds a widget and separates it visually \n",
    "## from its contents.\n",
    "\n",
    "## Two types of padding are external and internal padding.\n",
    "\n",
    "## External padding adds some space around the outside of a grid cell. Controlled with \n",
    "##    parameters padx and pady (both measured in pixels, NOT text units!):\n",
    "##       1. padx adds padding in the horizontal direction.\n",
    "##       2. pady adds padding in the vertical direction.\n",
    "\n",
    "window = tk.Tk()\n",
    "\n",
    "for i in range(3):\n",
    "    for j in range(3):\n",
    "        frame = tk.Frame(\n",
    "            master=window,\n",
    "            relief=tk.RAISED,\n",
    "            borderwidth=3\n",
    "        )\n",
    "        frame.grid(row=i, column=j, padx=5, pady=5)\n",
    "        label = tk.Label(master=frame, text=f\"Row {i}\\nColumn {j}\")\n",
    "        label.pack()\n",
    "\n",
    "window.mainloop()"
   ]
  },
  {
   "cell_type": "code",
   "execution_count": 46,
   "metadata": {},
   "outputs": [],
   "source": [
    "## .pack() also has padx and pady parameters. The following code is nearly identical to the previous code, except that you add 5 pixels of additional padding around each Label in both the x and y\n",
    "##    directions:\n",
    "\n",
    "window = tk.Tk()\n",
    "\n",
    "for i in range(3):\n",
    "    for j in range(3):\n",
    "        frame = tk.Frame(\n",
    "            master=window,\n",
    "            relief=tk.RAISED,\n",
    "            borderwidth=3\n",
    "        )\n",
    "        frame.grid(row=i, column=j, padx=5, pady=5)\n",
    "\n",
    "        label = tk.Label(master=frame, text=f\"Row {i}\\nColumn {j}\")\n",
    "        label.pack(padx=5, pady=5)\n",
    "\n",
    "window.mainloop()"
   ]
  },
  {
   "cell_type": "code",
   "execution_count": 47,
   "metadata": {},
   "outputs": [],
   "source": [
    "## BUT in above examples, the whole grid stays at the top-left corner as the window expands.\n",
    "\n",
    "## You can adjust how the rows and columns of the grid grow as the window is resized \n",
    "##    using .columnconfigure() and .rowconfigure() on the window object. \n",
    "## Remember, the grid is attached to window, even though you’re calling .grid() on each \n",
    "##    Frame widget. \n",
    "## Both .columnconfigure() and .rowconfigure() take three essential arguments:\n",
    "##     1. The index of the grid column or row that you want to configure (or a list of \n",
    "##        indices to configure multiple rows or columns at the same time)\n",
    "##     2. A keyword argument called weight that determines how the column or row should \n",
    "##        respond to window resizing, relative to the other columns and rows\n",
    "##     3. A keyword argument called minsize that sets the minimum size of the row height \n",
    "##        or column width in pixels\n",
    "\n",
    "## weight is set to 0 by default, which means that the column or row doesn’t expand as the\n",
    "##      window resizes. \n",
    "## If every column and row is given a weight of 1, then they all grow at the same rate. \n",
    "## If one column has a weight of 1 and another a weight of 2, then the second column \n",
    "##    expands at twice the rate of the first. \n",
    "\n",
    "## Adjust the previous script to better handle window resizing:\n",
    "\n",
    "## .columnconfigure() and .rowconfigure() are placed in the body of the outer for loop. \n",
    "## You could explicitly configure each column and row outside of the for loop, but that \n",
    "##    would require writing an additional six lines of code.\n",
    "\n",
    "window = tk.Tk()\n",
    "\n",
    "for i in range(3):\n",
    "    window.columnconfigure(i, weight=1, minsize=75)\n",
    "    window.rowconfigure(i, weight=1, minsize=50)\n",
    "\n",
    "    for j in range(0, 3):\n",
    "        frame = tk.Frame(\n",
    "            master=window,\n",
    "            relief=tk.RAISED,\n",
    "            borderwidth=1\n",
    "        )\n",
    "        frame.grid(row=i, column=j, padx=5, pady=5)\n",
    "\n",
    "        label = tk.Label(master=frame, text=f\"Row {i}\\nColumn {j}\")\n",
    "        label.pack(padx=5, pady=5)\n",
    "\n",
    "window.mainloop()"
   ]
  },
  {
   "cell_type": "code",
   "execution_count": 52,
   "metadata": {},
   "outputs": [],
   "source": [
    "## By default, widgets are centered in their grid cells. \n",
    "## E.g., the following code creates two Label widgets and places them in a grid with one \n",
    "## column and two rows.\n",
    "\n",
    "## Label placement can be controlled using sticky argument as follows:\n",
    "##    \"n\" or \"N\" to align to the top-center part of the cell\n",
    "##    \"e\" or \"E\" to align to the right-center side of the cell\n",
    "##    \"s\" or \"S\" to align to the bottom-center part of the cell\n",
    "##    \"w\" or \"W\" to align to the left-center side of the cell\n",
    "##    combo allowed e.g. \"ne\" for top-right of frame\n",
    "##    To fill the entire cell, set sticky to \"nsew\"\n",
    "\n",
    "window = tk.Tk()\n",
    "window.columnconfigure(0, minsize=250)\n",
    "window.rowconfigure([0, 1, 2], minsize=100)\n",
    "\n",
    "label1 = tk.Label(text=\"A\", bg=\"black\", fg=\"white\")\n",
    "label1.grid(row=0, column=0, sticky=\"w\")\n",
    "\n",
    "label2 = tk.Label(text=\"B\", bg=\"black\", fg=\"white\")\n",
    "label2.grid(row=1, column=0, sticky=\"ne\")\n",
    "\n",
    "label3 = tk.Label(text=\"C\", bg=\"black\", fg=\"white\")\n",
    "label3.grid(row=2, column=0, sticky=\"nsew\")\n",
    "\n",
    "window.mainloop()"
   ]
  },
  {
   "cell_type": "code",
   "execution_count": null,
   "metadata": {},
   "outputs": [],
   "source": []
  },
  {
   "cell_type": "code",
   "execution_count": null,
   "metadata": {},
   "outputs": [],
   "source": []
  },
  {
   "cell_type": "code",
   "execution_count": null,
   "metadata": {},
   "outputs": [],
   "source": []
  },
  {
   "cell_type": "code",
   "execution_count": null,
   "metadata": {},
   "outputs": [],
   "source": [
    "########## Making Your Applications Interactive\n",
    "## How to perform actions whenever certain events occur -- EVENTS and EVENT HANDLERS\n",
    "\n",
    "## The event loop is provided for you with Tkinter, so you don’t have to write any code \n",
    "##   that checks for events yourself. However, you do have to write the code that will be \n",
    "##   executed in response to an event. \n",
    "## In Tkinter, you write functions called event handlers for the events that you use \n",
    "##   in your application.\n",
    "\n",
    "## EVENT: An event is any action that occurs during the event loop that might trigger \n",
    "##        some behavior in the application, such as when a key or mouse button is pressed.\n",
    "\n",
    "## EVENT HANDLER: When an event occurs, an event object is emitted, which means that an \n",
    "##        instance of a class representing the event is instantiated. You don’t need to \n",
    "##        worry about creating these classes yourself. Tkinter will create instances of \n",
    "##        event classes for you automatically."
   ]
  },
  {
   "cell_type": "code",
   "execution_count": null,
   "metadata": {},
   "outputs": [],
   "source": [
    "## Assume there’s a list called events_list that contains event objects. \n",
    "## A new event object is automatically appended to events_list every time an event occurs\n",
    "##    in your program. (You don’t need to implement this updating mechanism. \n",
    "## It just automatically happens for you in this conceptual example.) Using an infinite \n",
    "##    loop, you can continually check if there are any event objects in events_list:\n",
    "## BUT in this cells code, the event loop created doesn’t do anything with event. \n",
    "\n",
    "\n",
    "# Assume that this list gets updated automatically\n",
    "events_list = []\n",
    "\n",
    "# Run the event loop\n",
    "while True:\n",
    "    # If events_list is empty, then no events have occurred and you\n",
    "    # can skip to the next iteration of the loop\n",
    "    if events_list == []:\n",
    "        continue\n",
    "\n",
    "    # If execution reaches this point, then there is at least one\n",
    "    # event object in events_list\n",
    "    event = events_list[0]"
   ]
  },
  {
   "cell_type": "code",
   "execution_count": null,
   "metadata": {},
   "outputs": [],
   "source": [
    "## In above code, the event loop you’ve created doesn’t do anything with event. \n",
    "## Let’s change that. Suppose your application needs to respond to keypresses. \n",
    "## You need to check that event was generated by a user pressing a key on their keyboard,\n",
    "##    and, if so, pass event to an event handler function for key presses.\n",
    "\n",
    "## Assume that event has a .type attribute set to the string \"keypress\" if the event \n",
    "##    is a keypress event object, and a .char attribute containing the character of the \n",
    "##    key that was pressed. Create a new function handle_keypress() and update your \n",
    "##    event loop code:\n",
    "\n",
    "events_list = []\n",
    "\n",
    "# Create an event handler\n",
    "def handle_keypress(event):\n",
    "    \"\"\"Print the character associated to the key pressed\"\"\"\n",
    "    print(event.char)\n",
    "\n",
    "while True:\n",
    "    if events_list == []:\n",
    "        continue\n",
    "    event = events_list[0]\n",
    "\n",
    "    # If event is a keypress event object\n",
    "    if event.type == \"keypress\":\n",
    "        # Call the keypress event handler\n",
    "        handle_keypress(event)"
   ]
  },
  {
   "cell_type": "code",
   "execution_count": null,
   "metadata": {},
   "outputs": [],
   "source": [
    "## When you call window.mainloop(), something like the above loop is run for you. \n",
    "## This method takes care of two parts of the loop for you:\n",
    "##      1. It maintains a list of events that have occurred.\n",
    "##      2. It runs an event handler any time a new event is added to that list.\n",
    "\n",
    "## .mainloop() takes care of a lot for you, but there’s something missing from the \n",
    "##     above code. How does Tkinter know when to use handle_keypress()? Tkinter widgets \n",
    "##     have a method called .bind() for just this purpose.\n",
    "\n",
    "# Create a window object\n",
    "window = tk.Tk()\n",
    "\n",
    "# Create an event handler\n",
    "def handle_keypress(event):\n",
    "    \"\"\"Print the character associated to the key pressed\"\"\"\n",
    "    print(event.char)\n",
    "\n",
    "# Run the event loop\n",
    "window.mainloop()"
   ]
  },
  {
   "cell_type": "code",
   "execution_count": 53,
   "metadata": {},
   "outputs": [
    {
     "name": "stdout",
     "output_type": "stream",
     "text": [
      "f\n",
      "s\n",
      "s\n"
     ]
    }
   ],
   "source": [
    "## Using .bind()\n",
    "## To call an event handler whenever an event occurs on a widget, use .bind(). \n",
    "## The event handler is said to be bound to the event because it’s called every time \n",
    "##    the event occurs. You’ll continue with the keypress example from the previous \n",
    "##    section and use .bind() to bind handle_keypress() to the keypress event:\n",
    "\n",
    "## Here, the handle_keypress() event handler is bound to a \"<Key>\" event using \n",
    "##     window.bind(). Whenever a key is pressed while the application is running, \n",
    "##     your program will print the character of the key pressed.\n",
    "\n",
    "## Note: The output of the above program is not printed in the Tkinter application window. \n",
    "##       It is printed to stdout.\n",
    "##       If you run the program in IDLE, you’ll see the output in the interactive window. \n",
    "##       If you run the program from a terminal, you should see the output in your terminal.\n",
    "\n",
    "window = tk.Tk()\n",
    "\n",
    "def handle_keypress(event):\n",
    "    \"\"\"Print the character associated to the key pressed\"\"\"\n",
    "    print(event.char)\n",
    "\n",
    "# Bind keypress event to handle_keypress()\n",
    "window.bind(\"<Key>\", handle_keypress)\n",
    "\n",
    "window.mainloop()"
   ]
  },
  {
   "cell_type": "code",
   "execution_count": null,
   "metadata": {},
   "outputs": [],
   "source": [
    "## .bind() always takes at least two arguments:\n",
    "##     1. An event that’s represented by a string of the form \"<event_name>\", where \n",
    "##        event_name can be any of Tkinter’s events\n",
    "##     2. An event handler that’s the name of the function to be called whenever the \n",
    "##        event occurs\n",
    "\n",
    "## The event handler is bound to the widget on which .bind() is called. When the \n",
    "## event handler is called, the event object is passed to the event handler function."
   ]
  },
  {
   "cell_type": "code",
   "execution_count": null,
   "metadata": {},
   "outputs": [],
   "source": [
    "\n",
    "## In the example above, the event handler is bound to the window itself, but you can \n",
    "## bind an event handler to any widget in your application. For example, you can bind \n",
    "## an event handler to a Button widget that will perform some action whenever the button \n",
    "## is pressed.\n",
    "## In this example, the \"<Button-1>\" event on the button widget is bound to the \n",
    "##    handle_click event handler. The \"<Button-1>\" event occurs whenever the left mouse \n",
    "##    button is pressed while the mouse is over the widget. There are other events for \n",
    "##    mouse button clicks, including \"<Button-2>\" for the middle mouse button and \n",
    "##    \"<Button-3>\" for the right mouse button.\n",
    "\n",
    "## Note: \n",
    "##     For a list of commonly used events, see the Event types section of the Tkinter 8.5 \n",
    "##     reference.\n",
    "## https://web.archive.org/web/20190512164300/http://infohost.nmt.edu/tcc/help/pubs/tkinter/web/event-types.html\n",
    "## https://web.archive.org/web/20190524140835/https://infohost.nmt.edu/tcc/help/pubs/tkinter/web/index.html\n",
    "\n",
    "def handle_click(event):\n",
    "    print(\"The button was clicked!\")\n",
    "\n",
    "button = tk.Button(text=\"Click me!\")\n",
    "\n",
    "button.bind(\"<Button-1>\", handle_click)"
   ]
  },
  {
   "cell_type": "code",
   "execution_count": null,
   "metadata": {},
   "outputs": [],
   "source": []
  },
  {
   "cell_type": "code",
   "execution_count": null,
   "metadata": {},
   "outputs": [],
   "source": []
  },
  {
   "cell_type": "code",
   "execution_count": null,
   "metadata": {},
   "outputs": [],
   "source": []
  },
  {
   "cell_type": "code",
   "execution_count": 2,
   "metadata": {},
   "outputs": [],
   "source": [
    "######## Easier way to bind a button widget\n",
    "######## using Command\n",
    "\n",
    "## You can bind any event handler to any kind of widget with .bind(), \n",
    "## but there’s an easier way to bind event handlers to button clicks \n",
    "## using the Button widget’s command attribute.\n",
    "\n",
    "## Every Button widget has a command attribute that you can assign to a function. \n",
    "## Whenever the button is pressed, the function is executed."
   ]
  },
  {
   "cell_type": "code",
   "execution_count": null,
   "metadata": {},
   "outputs": [],
   "source": [
    "## Take a look at an example. \n",
    "## First, you’ll create a window with a Label widget that holds a numerical value. \n",
    "## You’ll put buttons on the left and right side of the label. \n",
    "## The left button will be used to decrease the value in the Label, and the right one \n",
    "## will increase the value. Here’s the code for the window:\n",
    "\n",
    "window = tk.Tk()\n",
    "\n",
    "window.rowconfigure(0, minsize=50, weight=1)\n",
    "window.columnconfigure([0, 1, 2], minsize=50, weight=1)\n",
    "\n",
    "btn_decrease = tk.Button(master=window, text=\"-\")\n",
    "btn_decrease.grid(row=0, column=0, sticky=\"nsew\")\n",
    "\n",
    "lbl_value = tk.Label(master=window, text=\"0\")\n",
    "lbl_value.grid(row=0, column=1)\n",
    "\n",
    "btn_increase = tk.Button(master=window, text=\"+\")\n",
    "btn_increase.grid(row=0, column=2, sticky=\"nsew\")\n",
    "\n",
    "window.mainloop()"
   ]
  },
  {
   "cell_type": "code",
   "execution_count": null,
   "metadata": {},
   "outputs": [],
   "source": [
    "## With the app layout defined, you can bring it to life by giving the buttons some \n",
    "## commands. Start with the left button. When this button is pressed, it should decrease \n",
    "## the value in the label by 1. \n",
    "\n",
    "## There are two things you need to know how to do in order to do this:\n",
    "##        1. How do you get the text in a Label?\n",
    "##        2. How do you update the text in a Label?\n",
    "\n",
    "## Label widgets don’t have .get() like Entry and Text widgets do. \n",
    "## However, you can retrieve the text from the label by accessing the text attribute \n",
    "## with a dictionary-style subscript notation:\n",
    "\n",
    "label = Tk.Label(text=\"Hello\")\n",
    "\n",
    "# Retrieve a Label's text\n",
    "text = label[\"text\"]\n",
    "\n",
    "# Set new text for the label\n",
    "label[\"text\"] = \"Good bye\""
   ]
  },
  {
   "cell_type": "code",
   "execution_count": null,
   "metadata": {},
   "outputs": [],
   "source": [
    "## Now that you know how to get and set a label’s text, write a function increase() \n",
    "## that increases the value in the lbl_value by 1:\n",
    "def increase():\n",
    "    value = int(lbl_value[\"text\"])\n",
    "    lbl_value[\"text\"] = f\"{value + 1}\"\n",
    "\n",
    "## Similarly for decrease\n",
    "def decrease():\n",
    "    value = int(lbl_value[\"text\"])\n",
    "    lbl_value[\"text\"] = f\"{value - 1}\""
   ]
  },
  {
   "cell_type": "code",
   "execution_count": 3,
   "metadata": {},
   "outputs": [],
   "source": [
    "## Incorporating the functions\n",
    "## Put increase() and decrease() in your code just after the import statement.\n",
    "\n",
    "import tkinter as tk\n",
    "\n",
    "def increase():\n",
    "    value = int(lbl_value[\"text\"])\n",
    "    lbl_value[\"text\"] = f\"{value + 1}\"\n",
    "\n",
    "def decrease():\n",
    "    value = int(lbl_value[\"text\"])\n",
    "    lbl_value[\"text\"] = f\"{value - 1}\"\n",
    "\n",
    "window = tk.Tk()\n",
    "\n",
    "window.rowconfigure(0, minsize=50, weight=1)\n",
    "window.columnconfigure([0, 1, 2], minsize=50, weight=1)\n",
    "\n",
    "btn_decrease = tk.Button(master=window, text=\"-\", command=decrease)\n",
    "btn_decrease.grid(row=0, column=0, sticky=\"nsew\")\n",
    "\n",
    "lbl_value = tk.Label(master=window, text=\"0\")\n",
    "lbl_value.grid(row=0, column=1)\n",
    "\n",
    "btn_increase = tk.Button(master=window, text=\"+\", command=increase)\n",
    "btn_increase.grid(row=0, column=2, sticky=\"nsew\")\n",
    "\n",
    "window.mainloop()"
   ]
  },
  {
   "cell_type": "code",
   "execution_count": null,
   "metadata": {},
   "outputs": [],
   "source": []
  },
  {
   "cell_type": "code",
   "execution_count": null,
   "metadata": {},
   "outputs": [],
   "source": []
  },
  {
   "cell_type": "code",
   "execution_count": null,
   "metadata": {},
   "outputs": [],
   "source": []
  },
  {
   "cell_type": "code",
   "execution_count": null,
   "metadata": {},
   "outputs": [],
   "source": []
  },
  {
   "cell_type": "markdown",
   "metadata": {},
   "source": [
    "## Small test to display text from array and make it clicakable"
   ]
  },
  {
   "cell_type": "code",
   "execution_count": null,
   "metadata": {},
   "outputs": [],
   "source": [
    "but_text_arr = ['B11', 'B22', 'B33', 'B44', 'B55']"
   ]
  },
  {
   "cell_type": "code",
   "execution_count": null,
   "metadata": {},
   "outputs": [],
   "source": []
  },
  {
   "cell_type": "code",
   "execution_count": null,
   "metadata": {},
   "outputs": [],
   "source": []
  },
  {
   "cell_type": "code",
   "execution_count": null,
   "metadata": {},
   "outputs": [],
   "source": []
  },
  {
   "cell_type": "code",
   "execution_count": null,
   "metadata": {},
   "outputs": [],
   "source": []
  },
  {
   "cell_type": "code",
   "execution_count": null,
   "metadata": {},
   "outputs": [],
   "source": []
  }
 ],
 "metadata": {
  "kernelspec": {
   "display_name": "Python 3",
   "language": "python",
   "name": "python3"
  },
  "language_info": {
   "codemirror_mode": {
    "name": "ipython",
    "version": 3
   },
   "file_extension": ".py",
   "mimetype": "text/x-python",
   "name": "python",
   "nbconvert_exporter": "python",
   "pygments_lexer": "ipython3",
   "version": "3.7.7"
  }
 },
 "nbformat": 4,
 "nbformat_minor": 4
}
