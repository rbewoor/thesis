{
 "cells": [
  {
   "cell_type": "markdown",
   "metadata": {
    "id": "Kz0bgkocQeg0"
   },
   "source": [
    "# Show and Tell model training - attention based\n",
    "### Based on link: https://www.tensorflow.org/tutorials/text/image_captioning\n",
    "\n",
    "### The model architecture is similar to Show, Attend and Tell: Neural Image Caption Generation with Visual Attention.\n",
    "#### Arch paper: https://arxiv.org/abs/1502.03044"
   ]
  },
  {
   "cell_type": "markdown",
   "metadata": {
    "id": "G-rBS0Z-E4p8"
   },
   "source": [
    "# Training model on images of Coco_Train2017 dataset by splitting into Train and Test parts.\n",
    "\n",
    "## First phase of training already done and pickled various files to resume training with the data being split in a deterministic manner.\n",
    "\n",
    "### The encoder is pre-trained Google Inception-v3 trained on Imagenet.\n",
    "### All the 118k images run through encoder already and the data is saved as .npy files. Uploaded as kaggle dataset:\n",
    "### https://www.kaggle.com/pandasudipt/rohits-encodings   = 57 gb file\n",
    "\n",
    "## AVAILABLE data :\n",
    "### Coco_Train2017     = has 118287 images\n",
    "### Coco_Val2017       = has 5000   images\n",
    "### Combined total     = 123287     images\n",
    "\n",
    "## USED data :\n",
    "## Only 100k images of the Coco_Train2017 dataset.\n",
    "### In each run, split with 95:05 = Train:Test ratio\n",
    "### Kept aside 5k images for bleu scoring after model is trained\n",
    "\n",
    "### Note: 1) Each image will have multiple captions (up to 5 as some may be discarded)\n",
    "###       2) Not using the Coco_Test2017 dataset at all as it has no annotations json file which has the captions."
   ]
  },
  {
   "cell_type": "code",
   "execution_count": null,
   "metadata": {
    "id": "FDmoo_5pQehD"
   },
   "outputs": [],
   "source": [
    "# You'll generate plots of attention in order to see which parts of an image\n",
    "# our model focuses on during captioning\n",
    "\n",
    "#import collections\n",
    "#import random\n",
    "#import re\n",
    "#from glob import glob\n",
    "#from PIL import Image"
   ]
  },
  {
   "cell_type": "code",
   "execution_count": 1,
   "metadata": {
    "executionInfo": {
     "elapsed": 3268,
     "status": "ok",
     "timestamp": 1604934803335,
     "user": {
      "displayName": "Rohit Bewoor",
      "photoUrl": "",
      "userId": "15886637137210861287"
     },
     "user_tz": -60
    },
    "id": "buTVBtveEpqr"
   },
   "outputs": [],
   "source": [
    "import os\n",
    "import sys\n",
    "import json\n",
    "import time\n",
    "import datetime\n",
    "import string\n",
    "import pandas as pd\n",
    "import numpy as np\n",
    "from sklearn.model_selection import train_test_split\n",
    "from sklearn.utils import shuffle\n",
    "import time\n",
    "import tensorflow as tf\n",
    "from tensorflow import keras\n",
    "#from tensorflow.keras import layers\n",
    "import matplotlib.pyplot as plt\n",
    "import re\n",
    "import pickle\n",
    "from glob import glob\n",
    "import collections\n",
    "import random\n",
    "import PIL\n",
    "#import itertools\n",
    "#import PIL.Image\n",
    "\n",
    "## to be able to download files from output directory of kaggle\n",
    "from IPython.display import FileLink\n",
    "\n",
    "## for emailing\n",
    "import smtplib\n",
    "from email.mime.text import MIMEText\n",
    "from email.mime.application import MIMEApplication\n",
    "from email.mime.multipart import MIMEMultipart\n",
    "from email.header import Header\n",
    "\n",
    "#from zipfile import ZipFile "
   ]
  },
  {
   "cell_type": "code",
   "execution_count": 2,
   "metadata": {},
   "outputs": [
    {
     "data": {
      "text/plain": [
       "'/kaggle/working'"
      ]
     },
     "execution_count": 2,
     "metadata": {},
     "output_type": "execute_result"
    }
   ],
   "source": [
    "os.getcwd()"
   ]
  },
  {
   "cell_type": "code",
   "execution_count": 3,
   "metadata": {},
   "outputs": [],
   "source": [
    "#!pip install -q kaggle"
   ]
  },
  {
   "cell_type": "code",
   "execution_count": 4,
   "metadata": {
    "executionInfo": {
     "elapsed": 65514,
     "status": "ok",
     "timestamp": 1604934865626,
     "user": {
      "displayName": "Rohit Bewoor",
      "photoUrl": "",
      "userId": "15886637137210861287"
     },
     "user_tz": -60
    },
    "id": "ebw9HVoxEptM",
    "outputId": "91978d5b-636e-43bb-b8b5-751bef42a665"
   },
   "outputs": [],
   "source": [
    "#from google.colab import drive\n",
    "#drive.flush_and_unmount()\n",
    "#drive.mount('/content/gdrive')"
   ]
  },
  {
   "cell_type": "code",
   "execution_count": 5,
   "metadata": {
    "executionInfo": {
     "elapsed": 65487,
     "status": "ok",
     "timestamp": 1604934865628,
     "user": {
      "displayName": "Rohit Bewoor",
      "photoUrl": "",
      "userId": "15886637137210861287"
     },
     "user_tz": -60
    },
    "id": "s9aPP1BYQ7V5",
    "outputId": "1cce14f8-2a15-4cb6-b890-02eeaf04edf4"
   },
   "outputs": [
    {
     "name": "stdout",
     "output_type": "stream",
     "text": [
      "input  lib  working\r\n"
     ]
    }
   ],
   "source": [
    "!ls '../'"
   ]
  },
  {
   "cell_type": "code",
   "execution_count": 6,
   "metadata": {
    "executionInfo": {
     "elapsed": 65460,
     "status": "ok",
     "timestamp": 1604934865630,
     "user": {
      "displayName": "Rohit Bewoor",
      "photoUrl": "",
      "userId": "15886637137210861287"
     },
     "user_tz": -60
    },
    "id": "l9KqUsVNRLIu",
    "outputId": "6e72981f-cc60-4cbb-bb65-19d1a2459125"
   },
   "outputs": [
    {
     "name": "stdout",
     "output_type": "stream",
     "text": [
      "coco-2017-dataset  rohits-encodings\r\n"
     ]
    }
   ],
   "source": [
    "!ls '../input/'"
   ]
  },
  {
   "cell_type": "code",
   "execution_count": 7,
   "metadata": {},
   "outputs": [
    {
     "name": "stdout",
     "output_type": "stream",
     "text": [
      "annotations  test2017  train2017  val2017\r\n"
     ]
    }
   ],
   "source": [
    "!ls '../input/coco-2017-dataset/coco2017/'"
   ]
  },
  {
   "cell_type": "code",
   "execution_count": 8,
   "metadata": {},
   "outputs": [
    {
     "name": "stdout",
     "output_type": "stream",
     "text": [
      "captions_train2017.json   instances_val2017.json\r\n",
      "captions_val2017.json\t  person_keypoints_train2017.json\r\n",
      "instances_train2017.json  person_keypoints_val2017.json\r\n"
     ]
    }
   ],
   "source": [
    "!ls '../input/coco-2017-dataset/coco2017/annotations/'"
   ]
  },
  {
   "cell_type": "code",
   "execution_count": 9,
   "metadata": {},
   "outputs": [
    {
     "name": "stdout",
     "output_type": "stream",
     "text": [
      "118287\r\n"
     ]
    }
   ],
   "source": [
    "!ls '../input/coco-2017-dataset/coco2017/train2017/' | wc -l"
   ]
  },
  {
   "cell_type": "code",
   "execution_count": 10,
   "metadata": {},
   "outputs": [
    {
     "name": "stdout",
     "output_type": "stream",
     "text": [
      "118287\r\n"
     ]
    }
   ],
   "source": [
    "!ls '../input/rohits-encodings/media/rohit/DATA/EverythingD/01SRHBDBA_Acads/Thesis/StoryGenerator/Code/ModelsRuns/ImgCapAttention/SavedData/Thesis_ImgCapATTENTION_saved_encodings_TRAIN_118k/' | wc -l"
   ]
  },
  {
   "cell_type": "code",
   "execution_count": null,
   "metadata": {},
   "outputs": [],
   "source": []
  },
  {
   "cell_type": "code",
   "execution_count": 11,
   "metadata": {},
   "outputs": [
    {
     "name": "stdout",
     "output_type": "stream",
     "text": [
      "__notebook_source__.ipynb\r\n"
     ]
    }
   ],
   "source": [
    "!ls '../working/'"
   ]
  },
  {
   "cell_type": "code",
   "execution_count": 12,
   "metadata": {},
   "outputs": [],
   "source": [
    "!mkdir '../working/weights_out/'\n",
    "!mkdir '../working/chkpt_out/'\n",
    "!mkdir '../working/saved_model/'"
   ]
  },
  {
   "cell_type": "code",
   "execution_count": 13,
   "metadata": {},
   "outputs": [
    {
     "name": "stdout",
     "output_type": "stream",
     "text": [
      "__notebook_source__.ipynb  chkpt_out  saved_model  weights_out\r\n"
     ]
    }
   ],
   "source": [
    "!ls '../working/'"
   ]
  },
  {
   "cell_type": "code",
   "execution_count": 14,
   "metadata": {},
   "outputs": [],
   "source": [
    "!ls '../working/weights_out/'"
   ]
  },
  {
   "cell_type": "code",
   "execution_count": 15,
   "metadata": {},
   "outputs": [],
   "source": [
    "!ls '/kaggle/working/weights_out/'"
   ]
  },
  {
   "cell_type": "code",
   "execution_count": 16,
   "metadata": {},
   "outputs": [],
   "source": [
    "!ls '../working/chkpt_out/'"
   ]
  },
  {
   "cell_type": "code",
   "execution_count": 17,
   "metadata": {},
   "outputs": [],
   "source": [
    "!ls '../working/saved_model/'"
   ]
  },
  {
   "cell_type": "code",
   "execution_count": null,
   "metadata": {},
   "outputs": [],
   "source": [
    "#!rm -r '../working/weights_out/'"
   ]
  },
  {
   "cell_type": "code",
   "execution_count": null,
   "metadata": {},
   "outputs": [],
   "source": [
    "#!rm -r '../working/chkpt_out/'"
   ]
  },
  {
   "cell_type": "code",
   "execution_count": null,
   "metadata": {},
   "outputs": [],
   "source": [
    "#!rm -r '../working/saved_model/'"
   ]
  },
  {
   "cell_type": "code",
   "execution_count": null,
   "metadata": {},
   "outputs": [],
   "source": []
  },
  {
   "cell_type": "code",
   "execution_count": 18,
   "metadata": {
    "executionInfo": {
     "elapsed": 1241,
     "status": "ok",
     "timestamp": 1604934866295,
     "user": {
      "displayName": "Rohit Bewoor",
      "photoUrl": "",
      "userId": "15886637137210861287"
     },
     "user_tz": -60
    },
    "id": "0b0aXNyCEd3p"
   },
   "outputs": [],
   "source": [
    "## Kaggle versions\n",
    "\n",
    "## Weights from training till now\n",
    "OPDIR = r'../working/'\n",
    "\n",
    "## New weights to save here\n",
    "OPDIR_WEIGHTS = r'../working/weights_out/'\n",
    "\n",
    "## Training checkpoint directory\n",
    "CHKPT_DIR_OUT = r'../working/chkpt_out/'\n",
    "\n",
    "## Saved model directory\n",
    "SAVED_MODEL_DIR_OUT = r'../working/saved_model/'\n",
    "\n",
    "## Images locations\n",
    "IPDIR_IMGS_COCO_TRAIN = r'../input/coco-2017-dataset/coco2017/train2017/'\n",
    "\n",
    "## Attention model encodings saved as .npy files here for all the 118k train images\n",
    "IPDIR_SAVED_ENCODINGS =  r'../input/rohits-encodings/media/rohit/DATA/EverythingD/01SRHBDBA_Acads/Thesis/StoryGenerator/Code/ModelsRuns/ImgCapAttention/SavedData/Thesis_ImgCapATTENTION_saved_encodings_TRAIN_118k/'\n",
    "\n",
    "## Annotations location\n",
    "IPDIR_ANNO = r'../input/coco-2017-dataset/coco2017/annotations/'\n",
    "\n",
    "## Weights from previous stage of training\n",
    "#IPDIR_WEIGHTS_IN = r'pending/'"
   ]
  },
  {
   "cell_type": "code",
   "execution_count": 19,
   "metadata": {
    "executionInfo": {
     "elapsed": 1142,
     "status": "ok",
     "timestamp": 1604934869426,
     "user": {
      "displayName": "Rohit Bewoor",
      "photoUrl": "",
      "userId": "15886637137210861287"
     },
     "user_tz": -60
    },
    "id": "FMdF4xoJQehg",
    "outputId": "6b2984a2-ee9d-42d6-913f-b8d65300a95e"
   },
   "outputs": [
    {
     "data": {
      "text/plain": [
       "(True, True, True, True)"
      ]
     },
     "execution_count": 19,
     "metadata": {},
     "output_type": "execute_result"
    }
   ],
   "source": [
    "## VERIFY IT IS TRUE\n",
    "os.path.exists(OPDIR_WEIGHTS), os.path.exists(CHKPT_DIR_OUT), os.path.exists(SAVED_MODEL_DIR_OUT), os.path.exists(IPDIR_SAVED_ENCODINGS)"
   ]
  },
  {
   "cell_type": "code",
   "execution_count": null,
   "metadata": {
    "id": "lCOLNwwxQeh-"
   },
   "outputs": [],
   "source": []
  },
  {
   "cell_type": "markdown",
   "metadata": {
    "id": "H3M1GMA6QeiD"
   },
   "source": [
    "# Prepare the data"
   ]
  },
  {
   "cell_type": "code",
   "execution_count": 20,
   "metadata": {
    "executionInfo": {
     "elapsed": 3222,
     "status": "ok",
     "timestamp": 1604934880550,
     "user": {
      "displayName": "Rohit Bewoor",
      "photoUrl": "",
      "userId": "15886637137210861287"
     },
     "user_tz": -60
    },
    "id": "HSvBhQ2QQeiE",
    "outputId": "4fda5eae-83bd-4826-8765-f2f2a4ed9692"
   },
   "outputs": [
    {
     "data": {
      "text/plain": [
       "'/kaggle/input/coco-2017-dataset/coco2017/train2017/'"
      ]
     },
     "execution_count": 20,
     "metadata": {},
     "output_type": "execute_result"
    }
   ],
   "source": [
    "PATH = os.path.abspath(IPDIR_IMGS_COCO_TRAIN) + r'/'\n",
    "PATH"
   ]
  },
  {
   "cell_type": "code",
   "execution_count": 21,
   "metadata": {
    "executionInfo": {
     "elapsed": 55115,
     "status": "ok",
     "timestamp": 1604934933424,
     "user": {
      "displayName": "Rohit Bewoor",
      "photoUrl": "",
      "userId": "15886637137210861287"
     },
     "user_tz": -60
    },
    "id": "Yw1KPJBbWBXB"
   },
   "outputs": [
    {
     "name": "stdout",
     "output_type": "stream",
     "text": [
      "118287\r\n"
     ]
    }
   ],
   "source": [
    "!ls '/kaggle/input/coco-2017-dataset/coco2017/train2017/' | wc -l"
   ]
  },
  {
   "cell_type": "code",
   "execution_count": 22,
   "metadata": {},
   "outputs": [
    {
     "data": {
      "text/plain": [
       "True"
      ]
     },
     "execution_count": 22,
     "metadata": {},
     "output_type": "execute_result"
    }
   ],
   "source": [
    "os.path.exists(PATH + '000000044704.jpg')"
   ]
  },
  {
   "cell_type": "code",
   "execution_count": 23,
   "metadata": {
    "executionInfo": {
     "elapsed": 52187,
     "status": "ok",
     "timestamp": 1604934933428,
     "user": {
      "displayName": "Rohit Bewoor",
      "photoUrl": "",
      "userId": "15886637137210861287"
     },
     "user_tz": -60
    },
    "id": "SWLLlVYmQeiZ",
    "outputId": "d9e06a59-1b79-4898-a887-35032b4832e3"
   },
   "outputs": [
    {
     "data": {
      "text/plain": [
       "'../input/coco-2017-dataset/coco2017/annotations/'"
      ]
     },
     "execution_count": 23,
     "metadata": {},
     "output_type": "execute_result"
    }
   ],
   "source": [
    "IPDIR_ANNO"
   ]
  },
  {
   "cell_type": "code",
   "execution_count": 24,
   "metadata": {
    "executionInfo": {
     "elapsed": 5759,
     "status": "ok",
     "timestamp": 1604934939205,
     "user": {
      "displayName": "Rohit Bewoor",
      "photoUrl": "",
      "userId": "15886637137210861287"
     },
     "user_tz": -60
    },
    "id": "w2zB88yrQein"
   },
   "outputs": [],
   "source": [
    "with open(IPDIR_ANNO+'captions_train2017.json', 'r') as f:\n",
    "    annotations = json.load(f)"
   ]
  },
  {
   "cell_type": "markdown",
   "metadata": {},
   "source": [
    "## set MAX_IMAGES_FOR_TRAINING"
   ]
  },
  {
   "cell_type": "code",
   "execution_count": 25,
   "metadata": {},
   "outputs": [
    {
     "data": {
      "text/plain": [
       "100000"
      ]
     },
     "execution_count": 25,
     "metadata": {},
     "output_type": "execute_result"
    }
   ],
   "source": [
    "MAX_IMAGES_FOR_TRAINING = 100000\n",
    "MAX_IMAGES_FOR_TRAINING"
   ]
  },
  {
   "cell_type": "code",
   "execution_count": 26,
   "metadata": {
    "executionInfo": {
     "elapsed": 54611,
     "status": "ok",
     "timestamp": 1604934988121,
     "user": {
      "displayName": "Rohit Bewoor",
      "photoUrl": "",
      "userId": "15886637137210861287"
     },
     "user_tz": -60
    },
    "id": "b2pcMWCyXdsP",
    "outputId": "a087450c-46f1-4bf9-e647-b55b1ef13640"
   },
   "outputs": [
    {
     "name": "stdout",
     "output_type": "stream",
     "text": [
      "Start time = 07:21:48\n",
      "End time = 07:21:49\n"
     ]
    }
   ],
   "source": [
    "print(f\"Start time = {datetime.datetime.now().strftime('%H:%M:%S')}\")\n",
    "\n",
    "## Group all captions together having the same image ID.\n",
    "##    Add the start and end sequence tokens at each end of existing captions\n",
    "\n",
    "\n",
    "image_path_to_caption = collections.defaultdict(list)\n",
    "for value in annotations['annotations']:\n",
    "    caption = f\"<start> {value['caption']} <end>\"\n",
    "    image_path = PATH + '%012d.jpg' % (value['image_id'])\n",
    "    image_path_to_caption[image_path].append(caption)\n",
    "\n",
    "print(f\"End time = {datetime.datetime.now().strftime('%H:%M:%S')}\")"
   ]
  },
  {
   "cell_type": "code",
   "execution_count": 27,
   "metadata": {
    "executionInfo": {
     "elapsed": 54593,
     "status": "ok",
     "timestamp": 1604934988124,
     "user": {
      "displayName": "Rohit Bewoor",
      "photoUrl": "",
      "userId": "15886637137210861287"
     },
     "user_tz": -60
    },
    "id": "J_pgdiOTXdz8",
    "outputId": "6eb5ad36-a42d-4217-ecda-97ab4e42efb5"
   },
   "outputs": [
    {
     "data": {
      "text/plain": [
       "118287"
      ]
     },
     "execution_count": 27,
     "metadata": {},
     "output_type": "execute_result"
    }
   ],
   "source": [
    "len(image_path_to_caption)"
   ]
  },
  {
   "cell_type": "code",
   "execution_count": 28,
   "metadata": {
    "executionInfo": {
     "elapsed": 54570,
     "status": "ok",
     "timestamp": 1604934988126,
     "user": {
      "displayName": "Rohit Bewoor",
      "photoUrl": "",
      "userId": "15886637137210861287"
     },
     "user_tz": -60
    },
    "id": "-saJQwqkQei2",
    "outputId": "ff79e29b-1116-475c-fedb-3df8cb8c0e15"
   },
   "outputs": [
    {
     "data": {
      "text/plain": [
       "collections.defaultdict"
      ]
     },
     "execution_count": 28,
     "metadata": {},
     "output_type": "execute_result"
    }
   ],
   "source": [
    "type(image_path_to_caption)"
   ]
  },
  {
   "cell_type": "code",
   "execution_count": 29,
   "metadata": {
    "executionInfo": {
     "elapsed": 54539,
     "status": "ok",
     "timestamp": 1604934988127,
     "user": {
      "displayName": "Rohit Bewoor",
      "photoUrl": "",
      "userId": "15886637137210861287"
     },
     "user_tz": -60
    },
    "id": "v1UZcNwCQei9",
    "outputId": "832287ec-8b22-4b5a-d42a-a5bc81069d02"
   },
   "outputs": [
    {
     "data": {
      "text/plain": [
       "['/kaggle/input/coco-2017-dataset/coco2017/train2017/000000203564.jpg',\n",
       " '/kaggle/input/coco-2017-dataset/coco2017/train2017/000000322141.jpg']"
      ]
     },
     "execution_count": 29,
     "metadata": {},
     "output_type": "execute_result"
    }
   ],
   "source": [
    "list(image_path_to_caption.keys())[:2]"
   ]
  },
  {
   "cell_type": "code",
   "execution_count": 30,
   "metadata": {
    "executionInfo": {
     "elapsed": 54510,
     "status": "ok",
     "timestamp": 1604934988129,
     "user": {
      "displayName": "Rohit Bewoor",
      "photoUrl": "",
      "userId": "15886637137210861287"
     },
     "user_tz": -60
    },
    "id": "qJyPR3mcQejD",
    "outputId": "3384b8b8-319b-4225-eb1e-da6b8d0fd909"
   },
   "outputs": [
    {
     "data": {
      "text/plain": [
       "[('/kaggle/input/coco-2017-dataset/coco2017/train2017/000000203564.jpg',\n",
       "  ['<start> A bicycle replica with a clock as the front wheel. <end>',\n",
       "   '<start> The bike has a clock as a tire. <end>',\n",
       "   '<start> A black metal bicycle with a clock inside the front wheel. <end>',\n",
       "   '<start> A bicycle figurine in which the front wheel is replaced with a clock\\n <end>',\n",
       "   '<start> A clock with the appearance of the wheel of a bicycle  <end>']),\n",
       " ('/kaggle/input/coco-2017-dataset/coco2017/train2017/000000322141.jpg',\n",
       "  ['<start> A room with blue walls and a white sink and door. <end>',\n",
       "   '<start> Blue and white color scheme in a small bathroom. <end>',\n",
       "   '<start> This is a blue and white bathroom with a wall sink and a lifesaver on the wall. <end>',\n",
       "   '<start> A blue boat themed bathroom with a life preserver on the wall <end>',\n",
       "   '<start> A bathroom with walls that are painted baby blue. <end>'])]"
      ]
     },
     "execution_count": 30,
     "metadata": {},
     "output_type": "execute_result"
    }
   ],
   "source": [
    "list(image_path_to_caption.items())[:2]"
   ]
  },
  {
   "cell_type": "code",
   "execution_count": 31,
   "metadata": {
    "executionInfo": {
     "elapsed": 54491,
     "status": "ok",
     "timestamp": 1604934988131,
     "user": {
      "displayName": "Rohit Bewoor",
      "photoUrl": "",
      "userId": "15886637137210861287"
     },
     "user_tz": -60
    },
    "id": "Vu3KfW7eQejI",
    "outputId": "10af27af-ef8f-44e1-983a-20abdcd7431e"
   },
   "outputs": [
    {
     "name": "stdout",
     "output_type": "stream",
     "text": [
      "len should be = 118287\n",
      "Actual value = 118287\n"
     ]
    }
   ],
   "source": [
    "print(f\"len should be = 118287\\nActual value = {len(list(image_path_to_caption.keys()))}\")"
   ]
  },
  {
   "cell_type": "markdown",
   "metadata": {},
   "source": [
    "## Keep only 100k images\n",
    "## Set aside 5k from this as the images to do Bleu score evaluation"
   ]
  },
  {
   "cell_type": "code",
   "execution_count": 32,
   "metadata": {},
   "outputs": [
    {
     "name": "stdout",
     "output_type": "stream",
     "text": [
      "Count of images used for training = 100000\n"
     ]
    }
   ],
   "source": [
    "image_paths = list(image_path_to_caption.keys())[:MAX_IMAGES_FOR_TRAINING]\n",
    "print(f\"Count of images used for training = {len(image_paths)}\")"
   ]
  },
  {
   "cell_type": "code",
   "execution_count": 33,
   "metadata": {},
   "outputs": [],
   "source": [
    "#images_5k_for_bleu_scoring = [os.path.basename(v) for v in list(image_path_to_caption.keys())[MAX_IMAGES_FOR_TRAINING : MAX_IMAGES_FOR_TRAINING+5000]]\n",
    "#print(f\"Count of images set aside for bleu scoring after model training = {len(images_5k_for_bleu_scoring)}\")\n",
    "#print(f\"Few entries =\\n{images_5k_for_bleu_scoring[:3]}\")"
   ]
  },
  {
   "cell_type": "markdown",
   "metadata": {},
   "source": [
    "### Done this already and pickled the 5k images"
   ]
  },
  {
   "cell_type": "code",
   "execution_count": null,
   "metadata": {},
   "outputs": [],
   "source": [
    "## pickle the 5000 image filenames\n",
    "\n",
    "# variable = images_5k_for_bleu_scoring\n",
    "#with open(OPDIR+'ATTEND_images_5k_for_bleu_scoring.pkl', 'wb') as handle:\n",
    "#  pickle.dump(images_5k_for_bleu_scoring, handle, protocol=pickle.HIGHEST_PROTOCOL)"
   ]
  },
  {
   "cell_type": "code",
   "execution_count": 34,
   "metadata": {},
   "outputs": [
    {
     "name": "stdout",
     "output_type": "stream",
     "text": [
      "Expected length = 100000\n",
      "\n",
      "length = 100000\n"
     ]
    }
   ],
   "source": [
    "print(f\"Expected length = {MAX_IMAGES_FOR_TRAINING}\\n\\nlength = {len(image_paths)}\")"
   ]
  },
  {
   "cell_type": "code",
   "execution_count": 35,
   "metadata": {
    "executionInfo": {
     "elapsed": 54486,
     "status": "ok",
     "timestamp": 1604934988132,
     "user": {
      "displayName": "Rohit Bewoor",
      "photoUrl": "",
      "userId": "15886637137210861287"
     },
     "user_tz": -60
    },
    "id": "1vnSRPW9QejQ"
   },
   "outputs": [],
   "source": [
    "random.shuffle(image_paths)\n",
    "train_image_paths = image_paths"
   ]
  },
  {
   "cell_type": "code",
   "execution_count": 36,
   "metadata": {
    "executionInfo": {
     "elapsed": 54465,
     "status": "ok",
     "timestamp": 1604934988134,
     "user": {
      "displayName": "Rohit Bewoor",
      "photoUrl": "",
      "userId": "15886637137210861287"
     },
     "user_tz": -60
    },
    "id": "e8qXXKcuQejU",
    "outputId": "5f605dca-283b-480e-f742-91f55fdd056d"
   },
   "outputs": [
    {
     "data": {
      "text/plain": [
       "list"
      ]
     },
     "execution_count": 36,
     "metadata": {},
     "output_type": "execute_result"
    }
   ],
   "source": [
    "type(train_image_paths)"
   ]
  },
  {
   "cell_type": "code",
   "execution_count": 37,
   "metadata": {
    "executionInfo": {
     "elapsed": 54444,
     "status": "ok",
     "timestamp": 1604934988135,
     "user": {
      "displayName": "Rohit Bewoor",
      "photoUrl": "",
      "userId": "15886637137210861287"
     },
     "user_tz": -60
    },
    "id": "WcfZBrsEQejZ",
    "outputId": "9718bf6d-e501-4836-af4e-9c9fc0321ba4"
   },
   "outputs": [
    {
     "name": "stdout",
     "output_type": "stream",
     "text": [
      "length should be = 100000\n",
      "\n",
      "actual value = 100000\n"
     ]
    }
   ],
   "source": [
    "## keeping all the images, not reducing to 30k as the tutorial did\n",
    "print(f\"length should be = {MAX_IMAGES_FOR_TRAINING}\\n\\nactual value = {len(train_image_paths)}\")"
   ]
  },
  {
   "cell_type": "code",
   "execution_count": 38,
   "metadata": {
    "executionInfo": {
     "elapsed": 54439,
     "status": "ok",
     "timestamp": 1604934988137,
     "user": {
      "displayName": "Rohit Bewoor",
      "photoUrl": "",
      "userId": "15886637137210861287"
     },
     "user_tz": -60
    },
    "id": "aLICigcUQeje"
   },
   "outputs": [],
   "source": [
    "## for all images in the subset folder\n",
    "train_captions = []\n",
    "img_name_vector = []\n",
    "for image_path in train_image_paths:\n",
    "    caption_list = image_path_to_caption[image_path]\n",
    "    train_captions.extend(caption_list)\n",
    "    img_name_vector.extend([image_path] * len(caption_list))"
   ]
  },
  {
   "cell_type": "code",
   "execution_count": 39,
   "metadata": {
    "executionInfo": {
     "elapsed": 54417,
     "status": "ok",
     "timestamp": 1604934988138,
     "user": {
      "displayName": "Rohit Bewoor",
      "photoUrl": "",
      "userId": "15886637137210861287"
     },
     "user_tz": -60
    },
    "id": "BbJvGdhlQejj",
    "outputId": "e4821e06-cbe3-4ca6-bdaa-11c1e0706d82"
   },
   "outputs": [
    {
     "data": {
      "text/plain": [
       "['/kaggle/input/coco-2017-dataset/coco2017/train2017/000000091080.jpg',\n",
       " '/kaggle/input/coco-2017-dataset/coco2017/train2017/000000058075.jpg']"
      ]
     },
     "execution_count": 39,
     "metadata": {},
     "output_type": "execute_result"
    }
   ],
   "source": [
    "train_image_paths[:2]"
   ]
  },
  {
   "cell_type": "code",
   "execution_count": 40,
   "metadata": {
    "executionInfo": {
     "elapsed": 54393,
     "status": "ok",
     "timestamp": 1604934988140,
     "user": {
      "displayName": "Rohit Bewoor",
      "photoUrl": "",
      "userId": "15886637137210861287"
     },
     "user_tz": -60
    },
    "id": "u9lRuxlSQejq",
    "outputId": "47bb58cb-bf08-49dc-d019-7e56fb945a8a"
   },
   "outputs": [
    {
     "data": {
      "text/plain": [
       "list"
      ]
     },
     "execution_count": 40,
     "metadata": {},
     "output_type": "execute_result"
    }
   ],
   "source": [
    "type(train_captions)"
   ]
  },
  {
   "cell_type": "code",
   "execution_count": 41,
   "metadata": {
    "executionInfo": {
     "elapsed": 54363,
     "status": "ok",
     "timestamp": 1604934988142,
     "user": {
      "displayName": "Rohit Bewoor",
      "photoUrl": "",
      "userId": "15886637137210861287"
     },
     "user_tz": -60
    },
    "id": "VoH4WCq0Qejv",
    "outputId": "36f7abaa-bca9-4fde-b525-3ed428bfd486"
   },
   "outputs": [
    {
     "data": {
      "text/plain": [
       "['<start> A white refrigerator freezer sitting next to a stove top oven. <end>',\n",
       " '<start> A tea kettle that is sitting on a stove. <end>']"
      ]
     },
     "execution_count": 41,
     "metadata": {},
     "output_type": "execute_result"
    }
   ],
   "source": [
    "train_captions[:2]"
   ]
  },
  {
   "cell_type": "code",
   "execution_count": 42,
   "metadata": {
    "executionInfo": {
     "elapsed": 54327,
     "status": "ok",
     "timestamp": 1604934988143,
     "user": {
      "displayName": "Rohit Bewoor",
      "photoUrl": "",
      "userId": "15886637137210861287"
     },
     "user_tz": -60
    },
    "id": "UAeBgc9GQej0",
    "outputId": "3205071c-8b42-45ee-9d5c-4b06cf7e7196"
   },
   "outputs": [
    {
     "data": {
      "text/plain": [
       "list"
      ]
     },
     "execution_count": 42,
     "metadata": {},
     "output_type": "execute_result"
    }
   ],
   "source": [
    "type(img_name_vector)"
   ]
  },
  {
   "cell_type": "code",
   "execution_count": 43,
   "metadata": {
    "executionInfo": {
     "elapsed": 54306,
     "status": "ok",
     "timestamp": 1604934988144,
     "user": {
      "displayName": "Rohit Bewoor",
      "photoUrl": "",
      "userId": "15886637137210861287"
     },
     "user_tz": -60
    },
    "id": "32goU9OvQej5",
    "outputId": "cc2009a8-09c4-4e2e-b8ea-98c9df611e0e"
   },
   "outputs": [
    {
     "data": {
      "text/plain": [
       "['/kaggle/input/coco-2017-dataset/coco2017/train2017/000000091080.jpg',\n",
       " '/kaggle/input/coco-2017-dataset/coco2017/train2017/000000091080.jpg']"
      ]
     },
     "execution_count": 43,
     "metadata": {},
     "output_type": "execute_result"
    }
   ],
   "source": [
    "img_name_vector[:2]"
   ]
  },
  {
   "cell_type": "code",
   "execution_count": 44,
   "metadata": {
    "executionInfo": {
     "elapsed": 54284,
     "status": "ok",
     "timestamp": 1604934988146,
     "user": {
      "displayName": "Rohit Bewoor",
      "photoUrl": "",
      "userId": "15886637137210861287"
     },
     "user_tz": -60
    },
    "id": "_x3ETgXNQej9",
    "outputId": "aaa9b2b0-273b-4923-e3fc-3f2bb112dfd7"
   },
   "outputs": [
    {
     "data": {
      "text/plain": [
       "500281"
      ]
     },
     "execution_count": 44,
     "metadata": {},
     "output_type": "execute_result"
    }
   ],
   "source": [
    "len(img_name_vector)"
   ]
  },
  {
   "cell_type": "code",
   "execution_count": 45,
   "metadata": {
    "executionInfo": {
     "elapsed": 54269,
     "status": "ok",
     "timestamp": 1604934988149,
     "user": {
      "displayName": "Rohit Bewoor",
      "photoUrl": "",
      "userId": "15886637137210861287"
     },
     "user_tz": -60
    },
    "id": "yPuNz6GfQekD",
    "outputId": "90029006-a681-47c0-a850-a3dc86f6a58c"
   },
   "outputs": [
    {
     "name": "stdout",
     "output_type": "stream",
     "text": [
      "<start> A white refrigerator freezer sitting next to a stove top oven. <end>\n"
     ]
    },
    {
     "data": {
      "image/png": "[encoded data removed]",
      "text/plain": [
       "<PIL.JpegImagePlugin.JpegImageFile image mode=RGB size=640x480 at 0x7F606E9BB150>"
      ]
     },
     "execution_count": 45,
     "metadata": {},
     "output_type": "execute_result"
    }
   ],
   "source": [
    "print(train_captions[0])\n",
    "PIL.Image.open(img_name_vector[0])"
   ]
  },
  {
   "cell_type": "code",
   "execution_count": null,
   "metadata": {
    "id": "yJQzs9cUQekI"
   },
   "outputs": [],
   "source": []
  },
  {
   "cell_type": "markdown",
   "metadata": {
    "id": "b9e4x_rnQekM"
   },
   "source": [
    "# One-time Create image encodings\n",
    "\n",
    "## Preprocess the images using InceptionV3\n",
    "\n",
    "### Next, you will use InceptionV3 (which is pretrained on Imagenet) to classify each image. You will extract features from the last convolutional layer.\n",
    "\n",
    "### First, you will convert the images into InceptionV3's expected format by:\n",
    "\n",
    "#### Resizing the image to 299px by 299px\n",
    "#### Preprocess the images using the preprocess_input method to normalize the image so that it contains pixels in the range of -1 to 1, which matches the format of the images used to train InceptionV3."
   ]
  },
  {
   "cell_type": "code",
   "execution_count": null,
   "metadata": {
    "id": "c2nc5cyqQekN"
   },
   "outputs": [],
   "source": [
    "purposely written this so it fails\n",
    "def load_image(image_path):\n",
    "    img = tf.io.read_file(image_path)\n",
    "    img = tf.image.decode_jpeg(img, channels=3)\n",
    "    img = tf.image.resize(img, (299, 299))\n",
    "    img = tf.keras.applications.inception_v3.preprocess_input(img)\n",
    "    return img, image_path"
   ]
  },
  {
   "cell_type": "markdown",
   "metadata": {
    "id": "HQlc_P9CQekS"
   },
   "source": [
    "## Initialize InceptionV3 and load the pretrained Imagenet weights\n",
    "### Now you'll create a tf.keras model where the output layer is the last convolutional layer in the InceptionV3 architecture. The shape of the output of this layer is 8x8x2048. You use the last convolutional layer because you are using attention in this example. You don't perform this initialization during training because it could become a bottleneck.\n",
    "\n",
    "#### You forward each image through the network and store the resulting vector in a dictionary (image_name --> feature_vector).\n",
    "#### After all the images are passed through the network, you pickle the dictionary and save it to disk.\n"
   ]
  },
  {
   "cell_type": "code",
   "execution_count": null,
   "metadata": {
    "id": "_6seNUuVQekS"
   },
   "outputs": [],
   "source": [
    "## Initialize InceptionV3 and load the pretrained Imagenet weights\n",
    "image_model = tf.keras.applications.InceptionV3(include_top=False, weights='imagenet')\n",
    "new_input = image_model.input\n",
    "hidden_layer = image_model.layers[-1].output\n",
    "\n",
    "image_features_extract_model = tf.keras.Model(new_input, hidden_layer)"
   ]
  },
  {
   "cell_type": "code",
   "execution_count": null,
   "metadata": {
    "id": "D7qHpmNCQekX",
    "outputId": "63dfdacb-c46c-4e5b-f424-d111d82ce282"
   },
   "outputs": [],
   "source": [
    "type(image_model)"
   ]
  },
  {
   "cell_type": "code",
   "execution_count": null,
   "metadata": {
    "id": "da-7fYwOQekd",
    "outputId": "d50cd292-1af7-475c-ae99-5479a701102d"
   },
   "outputs": [],
   "source": [
    "IPDIR_SAVED_ENCODINGS"
   ]
  },
  {
   "cell_type": "code",
   "execution_count": null,
   "metadata": {
    "id": "1YB6dm0ZQekj",
    "outputId": "27728ceb-1fb2-4f51-e5dd-a643edd8e77b"
   },
   "outputs": [],
   "source": [
    "!ls '/media/rohit/DATA/EverythingD/01SRHBDBA_Acads/Thesis/StoryGenerator/Data/COCO_train2017_118k/' | wc -l"
   ]
  },
  {
   "cell_type": "code",
   "execution_count": null,
   "metadata": {
    "id": "gbdvc78CQekn",
    "outputId": "e716d89c-2792-4155-f8d7-558559a4c6c3"
   },
   "outputs": [],
   "source": [
    "## check files before saving the encodings\n",
    "##     folder contains only the .jpg files\n",
    "len(os.listdir(IPDIR_SAVED_ENCODINGS))"
   ]
  },
  {
   "cell_type": "code",
   "execution_count": null,
   "metadata": {
    "id": "h3PTpv7HQeks",
    "outputId": "1c7d8ab6-c6df-4288-936b-ab446e194c19"
   },
   "outputs": [],
   "source": [
    "img_name_vector[:2]"
   ]
  },
  {
   "cell_type": "code",
   "execution_count": null,
   "metadata": {
    "id": "7lZIDPHOQekx",
    "outputId": "df42914f-a355-4a1a-850d-ac8b134a1bad"
   },
   "outputs": [],
   "source": [
    "## output of this cell was:\n",
    "## output starts\n",
    "#Start time = 21:26:44\n",
    "#path =\n",
    "#b'/media/rohit/DATA/EverythingD/01SRHBDBA_Acads/Thesis/StoryGenerator/Data/COCO_train2017_118k/000000000009.jpg'\n",
    "#path_of_feature =\n",
    "#/media/rohit/DATA/EverythingD/01SRHBDBA_Acads/Thesis/StoryGenerator/Data/COCO_train2017_118k/000000000009.jpg\n",
    "#bf.shape = (64, 2048)\n",
    "#End time = 23:57:10\n",
    "## output ends\n",
    "\n",
    "## type(image_dataset) = tensorflow.python.data.ops.dataset_ops.BatchDataset\n",
    "\n",
    "printflag = True\n",
    "print(f\"Start time = {datetime.datetime.now().strftime('%H:%M:%S')}\")\n",
    "\n",
    "# Get unique images\n",
    "encode_train = sorted(set(img_name_vector))\n",
    "\n",
    "# Feel free to change batch_size according to your system configuration\n",
    "image_dataset = tf.data.Dataset.from_tensor_slices(encode_train)\n",
    "image_dataset = image_dataset.map(\n",
    "    load_image, num_parallel_calls=tf.data.experimental.AUTOTUNE).batch(4)\n",
    "\n",
    "## now the dataset has the pre-processed img vector and its path\n",
    "for img, path in image_dataset:\n",
    "    batch_features = image_features_extract_model(img)\n",
    "    batch_features = tf.reshape(batch_features, \n",
    "                                (batch_features.shape[0], -1, batch_features.shape[3]))\n",
    "    for bf, p in zip(batch_features, path):\n",
    "        path_of_feature = p.numpy().decode(\"utf-8\")\n",
    "        ## now save the info to disk\n",
    "        np.save(path_of_feature, bf.numpy())\n",
    "        if printflag:\n",
    "            print(f\"path =\\n{p}\")\n",
    "            print(f\"path_of_feature =\\n{path_of_feature}\")\n",
    "            print(f\"bf.shape = {bf.shape}\")\n",
    "            printflag = False\n",
    "\n",
    "print(f\"End time = {datetime.datetime.now().strftime('%H:%M:%S')}\")"
   ]
  },
  {
   "cell_type": "code",
   "execution_count": null,
   "metadata": {
    "id": "yQPk0IGmQek4",
    "outputId": "a8d73513-4570-4022-8891-36d2efef4929"
   },
   "outputs": [],
   "source": [
    "type(image_dataset)"
   ]
  },
  {
   "cell_type": "code",
   "execution_count": null,
   "metadata": {
    "id": "t1BJxBuGQek9",
    "outputId": "d2d1993f-d328-4dc9-972c-79304be86bb6"
   },
   "outputs": [],
   "source": [
    "type(encode_train)"
   ]
  },
  {
   "cell_type": "code",
   "execution_count": null,
   "metadata": {
    "id": "rv-1jkjrQelC",
    "outputId": "4cf6afe2-958b-4c26-92a7-8f15348d191e"
   },
   "outputs": [],
   "source": [
    "encode_train[:2]"
   ]
  },
  {
   "cell_type": "code",
   "execution_count": null,
   "metadata": {
    "id": "-Kjamz39QelL",
    "outputId": "1c46d008-f895-4278-ad45-3d1ec0deb09b"
   },
   "outputs": [],
   "source": [
    "type(batch_features)"
   ]
  },
  {
   "cell_type": "code",
   "execution_count": null,
   "metadata": {
    "id": "pb-4hehcQelQ",
    "outputId": "63b57763-2b10-45f8-a892-457d53e49141"
   },
   "outputs": [],
   "source": [
    "batch_features[:1]"
   ]
  },
  {
   "cell_type": "code",
   "execution_count": null,
   "metadata": {
    "id": "Hdr2uhx8QelV",
    "outputId": "054d3c8f-bc76-4f18-cb2a-a50f6882933f"
   },
   "outputs": [],
   "source": [
    "batch_features[:2]"
   ]
  },
  {
   "cell_type": "code",
   "execution_count": null,
   "metadata": {
    "id": "p-SBopz3QelZ",
    "outputId": "1ec08206-ca20-4a83-9a68-eb237ae69f2d"
   },
   "outputs": [],
   "source": [
    "## check files after saving the encodings\n",
    "##     folder contains the .jpg files and its corresponding .npy file\n",
    "## should be doubled i.e. 118287 * 2 = 236574\n",
    "len(os.listdir(IPDIR_SAVED_ENCODINGS))"
   ]
  },
  {
   "cell_type": "code",
   "execution_count": null,
   "metadata": {
    "id": "RNP6Zu90Qeld",
    "outputId": "a9f114a3-124c-4cdd-b213-465e14607071",
    "scrolled": true
   },
   "outputs": [],
   "source": [
    "!ls /media/rohit/DATA/EverythingD/01SRHBDBA_Acads/Thesis/StoryGenerator/Data/COCO_train2017_118k/ | head -10"
   ]
  },
  {
   "cell_type": "code",
   "execution_count": null,
   "metadata": {
    "id": "ercfl4-9Qeli",
    "outputId": "627203b6-77fb-4733-c72c-d64b50be5827"
   },
   "outputs": [],
   "source": [
    "!ls /media/rohit/DATA/EverythingD/01SRHBDBA_Acads/Thesis/StoryGenerator/Data/COCO_train2017_118k/ | wc -l"
   ]
  },
  {
   "cell_type": "code",
   "execution_count": null,
   "metadata": {
    "id": "y7cI3RXyQeln"
   },
   "outputs": [],
   "source": []
  },
  {
   "cell_type": "markdown",
   "metadata": {
    "id": "Fw5CTApfQelt"
   },
   "source": [
    "## to compress a file\n",
    "### For example, say you have a directory called /home/jerry/prog and you would like to compress this directory then you can type tar command as follows:\n",
    "### tar -zcvf prog-1-jan-2005.tar.gz /home/jerry/prog\n",
    "\n",
    "## to extract a file\n",
    "### If you wish to restore your archive then you need to use the following command (it will extract all files in current directory):\n",
    "### tar -zxvf prog-1-jan-2005.tar.gz"
   ]
  },
  {
   "cell_type": "code",
   "execution_count": null,
   "metadata": {
    "id": "WpwwStJOQelu"
   },
   "outputs": [],
   "source": [
    "#!tar -zcvf '../working/saved_encodings_TRAIN.tar.gz' '../working/saved_encodings_TRAIN'"
   ]
  },
  {
   "cell_type": "code",
   "execution_count": null,
   "metadata": {
    "id": "In0ZqwSQQel8"
   },
   "outputs": [],
   "source": []
  },
  {
   "cell_type": "markdown",
   "metadata": {
    "id": "q51NlVi_QemR"
   },
   "source": [
    "# Preprocess and tokenize the captions\n",
    "\n",
    "### First, you'll tokenize the captions (for example, by splitting on spaces). This gives us a vocabulary of all of the unique words in the data (for example, \"surfing\", \"football\", and so on).\n",
    "### Next, you'll limit the vocabulary size to the top 5,000 words (to save memory). You'll replace all other words with the token \"UNK\" (unknown).\n",
    "### You then create word-to-index and index-to-word mappings.\n",
    "### Finally, you pad all sequences to be the same length as the longest one."
   ]
  },
  {
   "cell_type": "code",
   "execution_count": 46,
   "metadata": {
    "executionInfo": {
     "elapsed": 43862,
     "status": "ok",
     "timestamp": 1604934988151,
     "user": {
      "displayName": "Rohit Bewoor",
      "photoUrl": "",
      "userId": "15886637137210861287"
     },
     "user_tz": -60
    },
    "id": "fjp06kD9QemS"
   },
   "outputs": [],
   "source": [
    "# Find the maximum length of any caption in our dataset\n",
    "def calc_max_length(tensor):\n",
    "    return max(len(t) for t in tensor)"
   ]
  },
  {
   "cell_type": "code",
   "execution_count": 47,
   "metadata": {
    "executionInfo": {
     "elapsed": 42637,
     "status": "ok",
     "timestamp": 1604934988152,
     "user": {
      "displayName": "Rohit Bewoor",
      "photoUrl": "",
      "userId": "15886637137210861287"
     },
     "user_tz": -60
    },
    "id": "sFB42fCXQemV",
    "outputId": "4a816f83-4c54-447a-e89c-5d6779f0621c"
   },
   "outputs": [
    {
     "data": {
      "text/plain": [
       "['<start> A white refrigerator freezer sitting next to a stove top oven. <end>',\n",
       " '<start> A tea kettle that is sitting on a stove. <end>']"
      ]
     },
     "execution_count": 47,
     "metadata": {},
     "output_type": "execute_result"
    }
   ],
   "source": [
    "train_captions[:2]"
   ]
  },
  {
   "cell_type": "code",
   "execution_count": 48,
   "metadata": {
    "executionInfo": {
     "elapsed": 41438,
     "status": "ok",
     "timestamp": 1604934988154,
     "user": {
      "displayName": "Rohit Bewoor",
      "photoUrl": "",
      "userId": "15886637137210861287"
     },
     "user_tz": -60
    },
    "id": "NI7F2wtoQemb",
    "outputId": "924d9cf4-c237-43bc-af3d-ce9b0ebaa01d"
   },
   "outputs": [
    {
     "data": {
      "text/plain": [
       "500281"
      ]
     },
     "execution_count": 48,
     "metadata": {},
     "output_type": "execute_result"
    }
   ],
   "source": [
    "len(train_captions)"
   ]
  },
  {
   "cell_type": "code",
   "execution_count": 49,
   "metadata": {
    "executionInfo": {
     "elapsed": 40077,
     "status": "ok",
     "timestamp": 1604934988156,
     "user": {
      "displayName": "Rohit Bewoor",
      "photoUrl": "",
      "userId": "15886637137210861287"
     },
     "user_tz": -60
    },
    "id": "qxAA6UUWQemf"
   },
   "outputs": [],
   "source": [
    "# Choose the top 5000 words from the vocabulary\n",
    "top_k = 5000\n",
    "tokenizer = tf.keras.preprocessing.text.Tokenizer(num_words=top_k,\n",
    "                                                  oov_token=\"<unk>\",\n",
    "                                                  filters='!\"#$%&()*+.,-/:;=?@[\\]^_`{|}~ ')\n",
    "tokenizer.fit_on_texts(train_captions)\n",
    "train_seqs = tokenizer.texts_to_sequences(train_captions)"
   ]
  },
  {
   "cell_type": "code",
   "execution_count": 50,
   "metadata": {
    "executionInfo": {
     "elapsed": 38354,
     "status": "ok",
     "timestamp": 1604934988157,
     "user": {
      "displayName": "Rohit Bewoor",
      "photoUrl": "",
      "userId": "15886637137210861287"
     },
     "user_tz": -60
    },
    "id": "DyNZ20r6Qemk"
   },
   "outputs": [],
   "source": [
    "tokenizer.word_index['<pad>'] = 0\n",
    "tokenizer.index_word[0] = '<pad>'"
   ]
  },
  {
   "cell_type": "code",
   "execution_count": 51,
   "metadata": {
    "executionInfo": {
     "elapsed": 5788,
     "status": "ok",
     "timestamp": 1604934993995,
     "user": {
      "displayName": "Rohit Bewoor",
      "photoUrl": "",
      "userId": "15886637137210861287"
     },
     "user_tz": -60
    },
    "id": "6GL6n-CiQemn"
   },
   "outputs": [],
   "source": [
    "# Create the tokenized vectors\n",
    "train_seqs = tokenizer.texts_to_sequences(train_captions)"
   ]
  },
  {
   "cell_type": "code",
   "execution_count": 52,
   "metadata": {
    "executionInfo": {
     "elapsed": 5785,
     "status": "ok",
     "timestamp": 1604934993997,
     "user": {
      "displayName": "Rohit Bewoor",
      "photoUrl": "",
      "userId": "15886637137210861287"
     },
     "user_tz": -60
    },
    "id": "xkvl9DfdQemr"
   },
   "outputs": [],
   "source": [
    "# Pad each vector to the max_length of the captions\n",
    "# If you do not provide a max_length value, pad_sequences calculates it automatically\n",
    "cap_vector = tf.keras.preprocessing.sequence.pad_sequences(train_seqs, padding='post')"
   ]
  },
  {
   "cell_type": "code",
   "execution_count": 53,
   "metadata": {
    "executionInfo": {
     "elapsed": 5738,
     "status": "ok",
     "timestamp": 1604934993999,
     "user": {
      "displayName": "Rohit Bewoor",
      "photoUrl": "",
      "userId": "15886637137210861287"
     },
     "user_tz": -60
    },
    "id": "Bh_EVLcVQemv",
    "outputId": "071ed6df-68ad-4e67-8f9f-036f1e5ceb15"
   },
   "outputs": [
    {
     "name": "stdout",
     "output_type": "stream",
     "text": [
      "max_length = 52\n"
     ]
    }
   ],
   "source": [
    "# Calculates the max_length, which is used to store the attention weights\n",
    "max_length = calc_max_length(train_seqs)\n",
    "print(f\"max_length = {max_length}\")"
   ]
  },
  {
   "cell_type": "code",
   "execution_count": 54,
   "metadata": {
    "id": "wvOaf3NgQem0"
   },
   "outputs": [
    {
     "data": {
      "text/plain": [
       "52"
      ]
     },
     "execution_count": 54,
     "metadata": {},
     "output_type": "execute_result"
    }
   ],
   "source": [
    "## Setting max_length to 52 as that was the length in the full 118k data\n",
    "max_length = 52\n",
    "max_length"
   ]
  },
  {
   "cell_type": "code",
   "execution_count": 55,
   "metadata": {},
   "outputs": [
    {
     "data": {
      "text/plain": [
       "'../working/'"
      ]
     },
     "execution_count": 55,
     "metadata": {},
     "output_type": "execute_result"
    }
   ],
   "source": [
    "OPDIR"
   ]
  },
  {
   "cell_type": "code",
   "execution_count": null,
   "metadata": {},
   "outputs": [],
   "source": [
    "## ONE-TIME-ONLY\n",
    "\n",
    "## pickle the tokenizer for use during inference stage later on\n",
    "\n",
    "# variable tokenizer\n",
    "#with open(OPDIR + 'tokenizer_from_training_100k.pickle', 'wb') as handle:\n",
    "#    pickle.dump(tokenizer, handle, protocol=pickle.HIGHEST_PROTOCOL)\n",
    "#print(f\"Pickled tokenizer\")"
   ]
  },
  {
   "cell_type": "code",
   "execution_count": null,
   "metadata": {},
   "outputs": [],
   "source": []
  },
  {
   "cell_type": "markdown",
   "metadata": {
    "id": "NtjslyL2Qem3"
   },
   "source": [
    "## Split the data into training and testing\n",
    "\n",
    "### used split ratio of 95:5\n",
    "### For total whatever count of images in this subset\n",
    "#### Total         data points = len(img_name_vector)\n",
    "#### Train         data points = train % ratio\n",
    "#### Test          data points = test  % ratio"
   ]
  },
  {
   "cell_type": "code",
   "execution_count": 56,
   "metadata": {
    "executionInfo": {
     "elapsed": 5732,
     "status": "ok",
     "timestamp": 1604934994001,
     "user": {
      "displayName": "Rohit Bewoor",
      "photoUrl": "",
      "userId": "15886637137210861287"
     },
     "user_tz": -60
    },
    "id": "zOMGcf0HQem3"
   },
   "outputs": [],
   "source": [
    "img_to_cap_vector = collections.defaultdict(list)\n",
    "for img, cap in zip(img_name_vector, cap_vector):\n",
    "    img_to_cap_vector[img].append(cap)\n",
    "\n",
    "# Create training and validation sets using an 95-05 split randomly.\n",
    "img_keys = list(img_to_cap_vector.keys())\n",
    "random.shuffle(img_keys)\n",
    "slice_index = int(len(img_keys)*0.95)\n",
    "img_name_train_keys, img_name_val_keys = img_keys[:slice_index], img_keys[slice_index:]\n",
    "\n",
    "img_name_train = []\n",
    "cap_train = []\n",
    "for imgt in img_name_train_keys:\n",
    "    capt_len = len(img_to_cap_vector[imgt])\n",
    "    img_name_train.extend([imgt] * capt_len)\n",
    "    cap_train.extend(img_to_cap_vector[imgt])\n",
    "\n",
    "img_name_val = []\n",
    "cap_val = []\n",
    "for imgv in img_name_val_keys:\n",
    "    capv_len = len(img_to_cap_vector[imgv])\n",
    "    img_name_val.extend([imgv] * capv_len)\n",
    "    cap_val.extend(img_to_cap_vector[imgv])"
   ]
  },
  {
   "cell_type": "code",
   "execution_count": 57,
   "metadata": {
    "executionInfo": {
     "elapsed": 5707,
     "status": "ok",
     "timestamp": 1604934994002,
     "user": {
      "displayName": "Rohit Bewoor",
      "photoUrl": "",
      "userId": "15886637137210861287"
     },
     "user_tz": -60
    },
    "id": "BjwqIa5NQem7",
    "outputId": "239c1e80-c93a-4fb8-d54a-6253a574147c"
   },
   "outputs": [
    {
     "data": {
      "text/plain": [
       "(500281, 475263, 475263, 25018, 25018)"
      ]
     },
     "execution_count": 57,
     "metadata": {},
     "output_type": "execute_result"
    }
   ],
   "source": [
    "len(img_name_vector), len(img_name_train), len(cap_train), len(img_name_val), len(cap_val)"
   ]
  },
  {
   "cell_type": "code",
   "execution_count": 58,
   "metadata": {
    "executionInfo": {
     "elapsed": 5683,
     "status": "ok",
     "timestamp": 1604934994004,
     "user": {
      "displayName": "Rohit Bewoor",
      "photoUrl": "",
      "userId": "15886637137210861287"
     },
     "user_tz": -60
    },
    "id": "PxHVBpN6Qem_",
    "outputId": "1dc3f0c9-76ac-4a71-89db-a6e95267af24"
   },
   "outputs": [
    {
     "data": {
      "text/plain": [
       "100000"
      ]
     },
     "execution_count": 58,
     "metadata": {},
     "output_type": "execute_result"
    }
   ],
   "source": [
    "len(img_to_cap_vector)"
   ]
  },
  {
   "cell_type": "code",
   "execution_count": 59,
   "metadata": {
    "executionInfo": {
     "elapsed": 5657,
     "status": "ok",
     "timestamp": 1604934994005,
     "user": {
      "displayName": "Rohit Bewoor",
      "photoUrl": "",
      "userId": "15886637137210861287"
     },
     "user_tz": -60
    },
    "id": "m6ewywvFQenC",
    "outputId": "e7980c32-7b58-490b-fb41-59bb3eaf5bd4"
   },
   "outputs": [
    {
     "data": {
      "text/plain": [
       "['/kaggle/input/coco-2017-dataset/coco2017/train2017/000000184889.jpg',\n",
       " '/kaggle/input/coco-2017-dataset/coco2017/train2017/000000184889.jpg']"
      ]
     },
     "execution_count": 59,
     "metadata": {},
     "output_type": "execute_result"
    }
   ],
   "source": [
    "img_name_train[:2]"
   ]
  },
  {
   "cell_type": "code",
   "execution_count": 60,
   "metadata": {
    "executionInfo": {
     "elapsed": 5613,
     "status": "ok",
     "timestamp": 1604934994007,
     "user": {
      "displayName": "Rohit Bewoor",
      "photoUrl": "",
      "userId": "15886637137210861287"
     },
     "user_tz": -60
    },
    "id": "CbxEPrNwQenJ",
    "outputId": "fc7313db-b2cd-40e5-d6b4-24542a8d21a0"
   },
   "outputs": [
    {
     "data": {
      "text/plain": [
       "[array([  3,   2,  37,   6, 474, 246,   8,  44,   6,   2,  33,   4,   0,\n",
       "          0,   0,   0,   0,   0,   0,   0,   0,   0,   0,   0,   0,   0,\n",
       "          0,   0,   0,   0,   0,   0,   0,   0,   0,   0,   0,   0,   0,\n",
       "          0,   0,   0,   0,   0,   0,   0,   0,   0,   0,   0,   0,   0],\n",
       "       dtype=int32),\n",
       " array([   3,  284, 1196,    9,  114,  218,    5,    2,   33,  483,    4,\n",
       "           0,    0,    0,    0,    0,    0,    0,    0,    0,    0,    0,\n",
       "           0,    0,    0,    0,    0,    0,    0,    0,    0,    0,    0,\n",
       "           0,    0,    0,    0,    0,    0,    0,    0,    0,    0,    0,\n",
       "           0,    0,    0,    0,    0,    0,    0,    0], dtype=int32)]"
      ]
     },
     "execution_count": 60,
     "metadata": {},
     "output_type": "execute_result"
    }
   ],
   "source": [
    "cap_train[:2]"
   ]
  },
  {
   "cell_type": "code",
   "execution_count": null,
   "metadata": {
    "id": "b75kELbtQenW"
   },
   "outputs": [],
   "source": []
  },
  {
   "cell_type": "markdown",
   "metadata": {
    "id": "vppyWoAPQenZ"
   },
   "source": [
    "# Create a tf.data dataset for training\n",
    "\n",
    "### Our images and captions are ready! Next, let's create a tf.data dataset to use for training our model."
   ]
  },
  {
   "cell_type": "code",
   "execution_count": 61,
   "metadata": {
    "executionInfo": {
     "elapsed": 5580,
     "status": "ok",
     "timestamp": 1604934994008,
     "user": {
      "displayName": "Rohit Bewoor",
      "photoUrl": "",
      "userId": "15886637137210861287"
     },
     "user_tz": -60
    },
    "id": "zo-1iiNkQena",
    "outputId": "25e03c20-13b8-47e6-9113-52130ae1768a",
    "scrolled": true
   },
   "outputs": [
    {
     "data": {
      "text/plain": [
       "475263"
      ]
     },
     "execution_count": 61,
     "metadata": {},
     "output_type": "execute_result"
    }
   ],
   "source": [
    "len(img_name_train)"
   ]
  },
  {
   "cell_type": "code",
   "execution_count": 62,
   "metadata": {
    "executionInfo": {
     "elapsed": 5551,
     "status": "ok",
     "timestamp": 1604934994010,
     "user": {
      "displayName": "Rohit Bewoor",
      "photoUrl": "",
      "userId": "15886637137210861287"
     },
     "user_tz": -60
    },
    "id": "OmI55_AEbbwP",
    "outputId": "b8461e69-e23e-4162-914d-c4fc9688f76f"
   },
   "outputs": [
    {
     "data": {
      "text/plain": [
       "['/kaggle/input/coco-2017-dataset/coco2017/train2017/000000184889.jpg',\n",
       " '/kaggle/input/coco-2017-dataset/coco2017/train2017/000000184889.jpg',\n",
       " '/kaggle/input/coco-2017-dataset/coco2017/train2017/000000184889.jpg']"
      ]
     },
     "execution_count": 62,
     "metadata": {},
     "output_type": "execute_result"
    }
   ],
   "source": [
    "img_name_train[:3]"
   ]
  },
  {
   "cell_type": "code",
   "execution_count": 63,
   "metadata": {
    "executionInfo": {
     "elapsed": 5520,
     "status": "ok",
     "timestamp": 1604934994012,
     "user": {
      "displayName": "Rohit Bewoor",
      "photoUrl": "",
      "userId": "15886637137210861287"
     },
     "user_tz": -60
    },
    "id": "3RQ6qe8lbw_C",
    "outputId": "3b077174-19db-48ea-94e0-b67f2e498405"
   },
   "outputs": [
    {
     "data": {
      "text/plain": [
       "list"
      ]
     },
     "execution_count": 63,
     "metadata": {},
     "output_type": "execute_result"
    }
   ],
   "source": [
    "type(img_name_train)"
   ]
  },
  {
   "cell_type": "code",
   "execution_count": 64,
   "metadata": {
    "executionInfo": {
     "elapsed": 5492,
     "status": "ok",
     "timestamp": 1604934994013,
     "user": {
      "displayName": "Rohit Bewoor",
      "photoUrl": "",
      "userId": "15886637137210861287"
     },
     "user_tz": -60
    },
    "id": "ew9M2_tQcEm0",
    "outputId": "93effc09-3edc-46f0-f91e-76ccbea61292"
   },
   "outputs": [
    {
     "data": {
      "text/plain": [
       "'../input/rohits-encodings/media/rohit/DATA/EverythingD/01SRHBDBA_Acads/Thesis/StoryGenerator/Code/ModelsRuns/ImgCapAttention/SavedData/Thesis_ImgCapATTENTION_saved_encodings_TRAIN_118k/'"
      ]
     },
     "execution_count": 64,
     "metadata": {},
     "output_type": "execute_result"
    }
   ],
   "source": [
    "IPDIR_SAVED_ENCODINGS"
   ]
  },
  {
   "cell_type": "code",
   "execution_count": 65,
   "metadata": {
    "executionInfo": {
     "elapsed": 5486,
     "status": "ok",
     "timestamp": 1604934994014,
     "user": {
      "displayName": "Rohit Bewoor",
      "photoUrl": "",
      "userId": "15886637137210861287"
     },
     "user_tz": -60
    },
    "id": "YBpehaKUbkUt"
   },
   "outputs": [],
   "source": [
    "## current img_name_train points to the actual .jpg file location.\n",
    "## Original code expects the .npy file of the saved encoding to also be here - but this is not so in my use case\n",
    "## so create new list with entries pointing to the encodings location\n",
    "img_name_train_correct_enc_locs = [IPDIR_SAVED_ENCODINGS + os.path.basename(val) for val in img_name_train]"
   ]
  },
  {
   "cell_type": "code",
   "execution_count": 66,
   "metadata": {
    "executionInfo": {
     "elapsed": 5443,
     "status": "ok",
     "timestamp": 1604934994015,
     "user": {
      "displayName": "Rohit Bewoor",
      "photoUrl": "",
      "userId": "15886637137210861287"
     },
     "user_tz": -60
    },
    "id": "s2H4CY2weQ6h",
    "outputId": "19492b68-59ea-49e5-c5b5-23ec0d11d33c"
   },
   "outputs": [
    {
     "data": {
      "text/plain": [
       "475263"
      ]
     },
     "execution_count": 66,
     "metadata": {},
     "output_type": "execute_result"
    }
   ],
   "source": [
    "len(img_name_train_correct_enc_locs)"
   ]
  },
  {
   "cell_type": "code",
   "execution_count": 67,
   "metadata": {
    "executionInfo": {
     "elapsed": 5400,
     "status": "ok",
     "timestamp": 1604934994016,
     "user": {
      "displayName": "Rohit Bewoor",
      "photoUrl": "",
      "userId": "15886637137210861287"
     },
     "user_tz": -60
    },
    "id": "VC-76g48eQ3C",
    "outputId": "46759332-c9c3-4ddf-f4fa-0e478bbd2d56"
   },
   "outputs": [
    {
     "data": {
      "text/plain": [
       "['../input/rohits-encodings/media/rohit/DATA/EverythingD/01SRHBDBA_Acads/Thesis/StoryGenerator/Code/ModelsRuns/ImgCapAttention/SavedData/Thesis_ImgCapATTENTION_saved_encodings_TRAIN_118k/000000184889.jpg',\n",
       " '../input/rohits-encodings/media/rohit/DATA/EverythingD/01SRHBDBA_Acads/Thesis/StoryGenerator/Code/ModelsRuns/ImgCapAttention/SavedData/Thesis_ImgCapATTENTION_saved_encodings_TRAIN_118k/000000184889.jpg',\n",
       " '../input/rohits-encodings/media/rohit/DATA/EverythingD/01SRHBDBA_Acads/Thesis/StoryGenerator/Code/ModelsRuns/ImgCapAttention/SavedData/Thesis_ImgCapATTENTION_saved_encodings_TRAIN_118k/000000184889.jpg']"
      ]
     },
     "execution_count": 67,
     "metadata": {},
     "output_type": "execute_result"
    }
   ],
   "source": [
    "img_name_train_correct_enc_locs[:3]"
   ]
  },
  {
   "cell_type": "code",
   "execution_count": 68,
   "metadata": {
    "executionInfo": {
     "elapsed": 5396,
     "status": "ok",
     "timestamp": 1604934994017,
     "user": {
      "displayName": "Rohit Bewoor",
      "photoUrl": "",
      "userId": "15886637137210861287"
     },
     "user_tz": -60
    },
    "id": "QLUoxyx1Qend"
   },
   "outputs": [],
   "source": [
    "# Feel free to change these parameters according to your system's configuration\n",
    "\n",
    "BATCH_SIZE = 128\n",
    "BUFFER_SIZE = 250\n",
    "embedding_dim = 256\n",
    "units = 512\n",
    "vocab_size = top_k + 1\n",
    "num_steps = len(img_name_train) // BATCH_SIZE\n",
    "# Shape of the vector extracted from InceptionV3 is (64, 2048)\n",
    "# These two variables represent that vector shape\n",
    "features_shape = 2048\n",
    "attention_features_shape = 64"
   ]
  },
  {
   "cell_type": "code",
   "execution_count": 69,
   "metadata": {
    "executionInfo": {
     "elapsed": 5369,
     "status": "ok",
     "timestamp": 1604934994019,
     "user": {
      "displayName": "Rohit Bewoor",
      "photoUrl": "",
      "userId": "15886637137210861287"
     },
     "user_tz": -60
    },
    "id": "FIndTepdQenm",
    "outputId": "3b9a153f-ab81-45d5-a897-70692b77298f"
   },
   "outputs": [
    {
     "data": {
      "text/plain": [
       "3712"
      ]
     },
     "execution_count": 69,
     "metadata": {},
     "output_type": "execute_result"
    }
   ],
   "source": [
    "num_steps"
   ]
  },
  {
   "cell_type": "code",
   "execution_count": 70,
   "metadata": {
    "executionInfo": {
     "elapsed": 5366,
     "status": "ok",
     "timestamp": 1604934994021,
     "user": {
      "displayName": "Rohit Bewoor",
      "photoUrl": "",
      "userId": "15886637137210861287"
     },
     "user_tz": -60
    },
    "id": "pbX_n3mUQenp"
   },
   "outputs": [],
   "source": [
    "# Load the numpy files\n",
    "def map_func(img_name, cap):\n",
    "  img_tensor = np.load(img_name.decode('utf-8')+'.npy')\n",
    "  return img_tensor, cap"
   ]
  },
  {
   "cell_type": "code",
   "execution_count": 71,
   "metadata": {
    "executionInfo": {
     "elapsed": 9308,
     "status": "ok",
     "timestamp": 1604934997968,
     "user": {
      "displayName": "Rohit Bewoor",
      "photoUrl": "",
      "userId": "15886637137210861287"
     },
     "user_tz": -60
    },
    "id": "EOPlm_O1Qent"
   },
   "outputs": [],
   "source": [
    "dataset = tf.data.Dataset.from_tensor_slices((img_name_train_correct_enc_locs, cap_train))\n",
    "\n",
    "# Use map to load the numpy files in parallel\n",
    "dataset = dataset.map(lambda item1, item2: tf.numpy_function(\n",
    "          map_func, [item1, item2], [tf.float32, tf.int32]),\n",
    "          num_parallel_calls=tf.data.experimental.AUTOTUNE)\n",
    "\n",
    "# Shuffle and batch\n",
    "dataset = dataset.shuffle(BUFFER_SIZE).batch(BATCH_SIZE)\n",
    "dataset = dataset.prefetch(buffer_size=tf.data.experimental.AUTOTUNE)"
   ]
  },
  {
   "cell_type": "code",
   "execution_count": null,
   "metadata": {
    "id": "Fl7xMN3MQenw"
   },
   "outputs": [],
   "source": []
  },
  {
   "cell_type": "markdown",
   "metadata": {
    "id": "IX8OYajdQenz"
   },
   "source": [
    "# Model\n",
    "### Fun fact: the decoder below is identical to the one in the example for Neural Machine Translation with Attention (https://www.tensorflow.org/tutorials/sequences/nmt_with_attention).\n",
    "\n",
    "### The model architecture is inspired by the Show, Attend and Tell paper (https://arxiv.org/pdf/1502.03044.pdf).\n",
    "\n",
    "### In this example, you extract the features from the lower convolutional layer of InceptionV3 giving us a vector of shape (8, 8, 2048).\n",
    "### You squash that to a shape of (64, 2048).\n",
    "### This vector is then passed through the CNN Encoder (which consists of a single Fully connected layer).\n",
    "### The RNN (here GRU) attends over the image to predict the next word."
   ]
  },
  {
   "cell_type": "code",
   "execution_count": 72,
   "metadata": {
    "executionInfo": {
     "elapsed": 635,
     "status": "ok",
     "timestamp": 1604934998619,
     "user": {
      "displayName": "Rohit Bewoor",
      "photoUrl": "",
      "userId": "15886637137210861287"
     },
     "user_tz": -60
    },
    "id": "p1HAqbiaQen1"
   },
   "outputs": [],
   "source": [
    "class BahdanauAttention(tf.keras.Model):\n",
    "  def __init__(self, units):\n",
    "    super(BahdanauAttention, self).__init__()\n",
    "    self.W1 = tf.keras.layers.Dense(units)\n",
    "    self.W2 = tf.keras.layers.Dense(units)\n",
    "    self.V = tf.keras.layers.Dense(1)\n",
    "\n",
    "  def call(self, features, hidden):\n",
    "    # features(CNN_encoder output) shape == (batch_size, 64, embedding_dim)\n",
    "\n",
    "    # hidden shape == (batch_size, hidden_size)\n",
    "    # hidden_with_time_axis shape == (batch_size, 1, hidden_size)\n",
    "    hidden_with_time_axis = tf.expand_dims(hidden, 1)\n",
    "\n",
    "    # attention_hidden_layer shape == (batch_size, 64, units)\n",
    "    attention_hidden_layer = (tf.nn.tanh(self.W1(features) +\n",
    "                                         self.W2(hidden_with_time_axis)))\n",
    "\n",
    "    # score shape == (batch_size, 64, 1)\n",
    "    # This gives you an unnormalized score for each image feature.\n",
    "    score = self.V(attention_hidden_layer)\n",
    "\n",
    "    # attention_weights shape == (batch_size, 64, 1)\n",
    "    attention_weights = tf.nn.softmax(score, axis=1)\n",
    "\n",
    "    # context_vector shape after sum == (batch_size, hidden_size)\n",
    "    context_vector = attention_weights * features\n",
    "    context_vector = tf.reduce_sum(context_vector, axis=1)\n",
    "\n",
    "    return context_vector, attention_weights"
   ]
  },
  {
   "cell_type": "code",
   "execution_count": 73,
   "metadata": {
    "executionInfo": {
     "elapsed": 1602,
     "status": "ok",
     "timestamp": 1604935002434,
     "user": {
      "displayName": "Rohit Bewoor",
      "photoUrl": "",
      "userId": "15886637137210861287"
     },
     "user_tz": -60
    },
    "id": "N5dNYCHEQen4"
   },
   "outputs": [],
   "source": [
    "class CNN_Encoder(tf.keras.Model):\n",
    "    # Since you have already extracted the features and dumped it using pickle\n",
    "    # This encoder passes those features through a Fully connected layer\n",
    "    def __init__(self, embedding_dim):\n",
    "        super(CNN_Encoder, self).__init__()\n",
    "        # shape after fc == (batch_size, 64, embedding_dim)\n",
    "        self.fc = tf.keras.layers.Dense(embedding_dim)\n",
    "\n",
    "    def call(self, x):\n",
    "        x = self.fc(x)\n",
    "        x = tf.nn.relu(x)\n",
    "        return x"
   ]
  },
  {
   "cell_type": "code",
   "execution_count": 74,
   "metadata": {
    "executionInfo": {
     "elapsed": 1645,
     "status": "ok",
     "timestamp": 1604935003690,
     "user": {
      "displayName": "Rohit Bewoor",
      "photoUrl": "",
      "userId": "15886637137210861287"
     },
     "user_tz": -60
    },
    "id": "9kbUZSfLQen9"
   },
   "outputs": [],
   "source": [
    "class RNN_Decoder(tf.keras.Model):\n",
    "  def __init__(self, embedding_dim, units, vocab_size):\n",
    "    super(RNN_Decoder, self).__init__()\n",
    "    self.units = units\n",
    "\n",
    "    self.embedding = tf.keras.layers.Embedding(vocab_size, embedding_dim)\n",
    "    self.gru = tf.keras.layers.GRU(self.units,\n",
    "                                   return_sequences=True,\n",
    "                                   return_state=True,\n",
    "                                   recurrent_initializer='glorot_uniform')\n",
    "    self.fc1 = tf.keras.layers.Dense(self.units)\n",
    "    self.fc2 = tf.keras.layers.Dense(vocab_size)\n",
    "\n",
    "    self.attention = BahdanauAttention(self.units)\n",
    "\n",
    "  def call(self, x, features, hidden):\n",
    "    # defining attention as a separate model\n",
    "    context_vector, attention_weights = self.attention(features, hidden)\n",
    "\n",
    "    # x shape after passing through embedding == (batch_size, 1, embedding_dim)\n",
    "    x = self.embedding(x)\n",
    "\n",
    "    # x shape after concatenation == (batch_size, 1, embedding_dim + hidden_size)\n",
    "    x = tf.concat([tf.expand_dims(context_vector, 1), x], axis=-1)\n",
    "\n",
    "    # passing the concatenated vector to the GRU\n",
    "    output, state = self.gru(x)\n",
    "\n",
    "    # shape == (batch_size, max_length, hidden_size)\n",
    "    x = self.fc1(output)\n",
    "\n",
    "    # x shape == (batch_size * max_length, hidden_size)\n",
    "    x = tf.reshape(x, (-1, x.shape[2]))\n",
    "\n",
    "    # output shape == (batch_size * max_length, vocab)\n",
    "    x = self.fc2(x)\n",
    "\n",
    "    return x, state, attention_weights\n",
    "\n",
    "  def reset_state(self, batch_size):\n",
    "    return tf.zeros((batch_size, self.units))"
   ]
  },
  {
   "cell_type": "code",
   "execution_count": 75,
   "metadata": {
    "executionInfo": {
     "elapsed": 1284,
     "status": "ok",
     "timestamp": 1604935006108,
     "user": {
      "displayName": "Rohit Bewoor",
      "photoUrl": "",
      "userId": "15886637137210861287"
     },
     "user_tz": -60
    },
    "id": "jwa8NdWtQeoE"
   },
   "outputs": [],
   "source": [
    "encoder = CNN_Encoder(embedding_dim)\n",
    "decoder = RNN_Decoder(embedding_dim, units, vocab_size)"
   ]
  },
  {
   "cell_type": "code",
   "execution_count": 76,
   "metadata": {
    "executionInfo": {
     "elapsed": 1007,
     "status": "ok",
     "timestamp": 1604935006832,
     "user": {
      "displayName": "Rohit Bewoor",
      "photoUrl": "",
      "userId": "15886637137210861287"
     },
     "user_tz": -60
    },
    "id": "sQUE46COQeoH",
    "outputId": "03d160cf-7a3f-440b-f9c4-7ea30798b1c8"
   },
   "outputs": [
    {
     "data": {
      "text/plain": [
       "__main__.CNN_Encoder"
      ]
     },
     "execution_count": 76,
     "metadata": {},
     "output_type": "execute_result"
    }
   ],
   "source": [
    "type(encoder)"
   ]
  },
  {
   "cell_type": "code",
   "execution_count": 77,
   "metadata": {
    "executionInfo": {
     "elapsed": 1024,
     "status": "ok",
     "timestamp": 1604935008471,
     "user": {
      "displayName": "Rohit Bewoor",
      "photoUrl": "",
      "userId": "15886637137210861287"
     },
     "user_tz": -60
    },
    "id": "ysJEDB01QeoK",
    "outputId": "16a09da1-8e39-4970-d49e-75004b7db3e3"
   },
   "outputs": [
    {
     "data": {
      "text/plain": [
       "__main__.RNN_Decoder"
      ]
     },
     "execution_count": 77,
     "metadata": {},
     "output_type": "execute_result"
    }
   ],
   "source": [
    "type(decoder)"
   ]
  },
  {
   "cell_type": "code",
   "execution_count": 78,
   "metadata": {
    "executionInfo": {
     "elapsed": 3042,
     "status": "ok",
     "timestamp": 1604935018355,
     "user": {
      "displayName": "Rohit Bewoor",
      "photoUrl": "",
      "userId": "15886637137210861287"
     },
     "user_tz": -60
    },
    "id": "nNL0jorVQeoN"
   },
   "outputs": [],
   "source": [
    "optimizer = tf.keras.optimizers.Adam()"
   ]
  },
  {
   "cell_type": "code",
   "execution_count": 80,
   "metadata": {
    "executionInfo": {
     "elapsed": 1844,
     "status": "ok",
     "timestamp": 1604935024116,
     "user": {
      "displayName": "Rohit Bewoor",
      "photoUrl": "",
      "userId": "15886637137210861287"
     },
     "user_tz": -60
    },
    "id": "AbGf1cVtQeoT"
   },
   "outputs": [],
   "source": [
    "loss_object = tf.keras.losses.SparseCategoricalCrossentropy(\n",
    "    from_logits=True, reduction='none')"
   ]
  },
  {
   "cell_type": "code",
   "execution_count": 81,
   "metadata": {
    "executionInfo": {
     "elapsed": 1029,
     "status": "ok",
     "timestamp": 1604935024403,
     "user": {
      "displayName": "Rohit Bewoor",
      "photoUrl": "",
      "userId": "15886637137210861287"
     },
     "user_tz": -60
    },
    "id": "RQF4ovM0QeoW"
   },
   "outputs": [],
   "source": [
    "def loss_function(real, pred):\n",
    "    mask = tf.math.logical_not(tf.math.equal(real, 0))\n",
    "    loss_ = loss_object(real, pred)\n",
    "    \n",
    "    mask = tf.cast(mask, dtype=loss_.dtype)\n",
    "    loss_ *= mask\n",
    "    \n",
    "    return tf.reduce_mean(loss_)"
   ]
  },
  {
   "cell_type": "code",
   "execution_count": null,
   "metadata": {
    "id": "JJ7Vb-7aQeoa"
   },
   "outputs": [],
   "source": []
  },
  {
   "cell_type": "markdown",
   "metadata": {
    "id": "J6gPxOc0Qeod"
   },
   "source": [
    "# Checkpoint"
   ]
  },
  {
   "cell_type": "code",
   "execution_count": 82,
   "metadata": {
    "executionInfo": {
     "elapsed": 1552,
     "status": "ok",
     "timestamp": 1604935027505,
     "user": {
      "displayName": "Rohit Bewoor",
      "photoUrl": "",
      "userId": "15886637137210861287"
     },
     "user_tz": -60
    },
    "id": "8Oq1fSQVQeod",
    "outputId": "83ab4456-8eb1-488f-ae57-c74ee4caa04e"
   },
   "outputs": [
    {
     "data": {
      "text/plain": [
       "'../working/chkpt_out/'"
      ]
     },
     "execution_count": 82,
     "metadata": {},
     "output_type": "execute_result"
    }
   ],
   "source": [
    "CHKPT_DIR_OUT"
   ]
  },
  {
   "cell_type": "code",
   "execution_count": 83,
   "metadata": {
    "executionInfo": {
     "elapsed": 1251,
     "status": "ok",
     "timestamp": 1604935028266,
     "user": {
      "displayName": "Rohit Bewoor",
      "photoUrl": "",
      "userId": "15886637137210861287"
     },
     "user_tz": -60
    },
    "id": "Xq-xTIY-Qeoh"
   },
   "outputs": [],
   "source": [
    "checkpoint_path = CHKPT_DIR_OUT\n",
    "ckpt = tf.train.Checkpoint(encoder=encoder,\n",
    "                           decoder=decoder,\n",
    "                           optimizer = optimizer)\n",
    "ckpt_manager = tf.train.CheckpointManager(ckpt, checkpoint_path, max_to_keep=5)"
   ]
  },
  {
   "cell_type": "code",
   "execution_count": 84,
   "metadata": {
    "executionInfo": {
     "elapsed": 1568,
     "status": "ok",
     "timestamp": 1604935038588,
     "user": {
      "displayName": "Rohit Bewoor",
      "photoUrl": "",
      "userId": "15886637137210861287"
     },
     "user_tz": -60
    },
    "id": "xDwJ-vn1Qeok"
   },
   "outputs": [],
   "source": [
    "start_epoch = 0\n",
    "if ckpt_manager.latest_checkpoint:\n",
    "    start_epoch = int(ckpt_manager.latest_checkpoint.split('-')[-1])\n",
    "    # restoring the latest checkpoint in checkpoint_path\n",
    "    ckpt.restore(ckpt_manager.latest_checkpoint)"
   ]
  },
  {
   "cell_type": "code",
   "execution_count": null,
   "metadata": {},
   "outputs": [],
   "source": []
  },
  {
   "cell_type": "markdown",
   "metadata": {
    "id": "nqorEsviQeoo"
   },
   "source": [
    "# Training\n",
    "\n",
    "### You extract the features stored in the respective .npy files and then pass those features through the encoder.\n",
    "### The encoder output, hidden state(initialized to 0) and the decoder input (which is the start token) is passed to the decoder.\n",
    "### The decoder returns the predictions and the decoder hidden state.\n",
    "### The decoder hidden state is then passed back into the model and the predictions are used to calculate the loss.\n",
    "### Use teacher forcing to decide the next input to the decoder.\n",
    "### Teacher forcing is the technique where the target word is passed as the next input to the decoder.\n",
    "### The final step is to calculate the gradients and apply it to the optimizer and backpropagate."
   ]
  },
  {
   "cell_type": "code",
   "execution_count": 85,
   "metadata": {
    "executionInfo": {
     "elapsed": 981,
     "status": "ok",
     "timestamp": 1604935046269,
     "user": {
      "displayName": "Rohit Bewoor",
      "photoUrl": "",
      "userId": "15886637137210861287"
     },
     "user_tz": -60
    },
    "id": "clppURgZQeop"
   },
   "outputs": [],
   "source": [
    "# adding this in a separate cell because if you run the training cell\n",
    "# many times, the loss_plot array will be reset\n",
    "loss_plot = []"
   ]
  },
  {
   "cell_type": "code",
   "execution_count": 86,
   "metadata": {
    "executionInfo": {
     "elapsed": 1707,
     "status": "ok",
     "timestamp": 1604935048671,
     "user": {
      "displayName": "Rohit Bewoor",
      "photoUrl": "",
      "userId": "15886637137210861287"
     },
     "user_tz": -60
    },
    "id": "VjJKTHp-Qeor"
   },
   "outputs": [],
   "source": [
    "@tf.function\n",
    "def train_step(img_tensor, target):\n",
    "    loss = 0\n",
    "    \n",
    "    # initializing the hidden state for each batch\n",
    "    # because the captions are not related from image to image\n",
    "    hidden = decoder.reset_state(batch_size=target.shape[0])\n",
    "    \n",
    "    dec_input = tf.expand_dims([tokenizer.word_index['<start>']] * target.shape[0], 1)\n",
    "    \n",
    "    with tf.GradientTape() as tape:\n",
    "        features = encoder(img_tensor)\n",
    "        \n",
    "        for i in range(1, target.shape[1]):\n",
    "            # passing the features through the decoder\n",
    "            predictions, hidden, _ = decoder(dec_input, features, hidden)\n",
    "            \n",
    "            loss += loss_function(target[:, i], predictions)\n",
    "            \n",
    "            # using teacher forcing\n",
    "            dec_input = tf.expand_dims(target[:, i], 1)\n",
    "    \n",
    "    total_loss = (loss / int(target.shape[1]))\n",
    "    \n",
    "    trainable_variables = encoder.trainable_variables + decoder.trainable_variables\n",
    "    \n",
    "    gradients = tape.gradient(loss, trainable_variables)\n",
    "    \n",
    "    optimizer.apply_gradients(zip(gradients, trainable_variables))\n",
    "    \n",
    "    return loss, total_loss"
   ]
  },
  {
   "cell_type": "code",
   "execution_count": 87,
   "metadata": {
    "executionInfo": {
     "elapsed": 1584,
     "status": "ok",
     "timestamp": 1604935052166,
     "user": {
      "displayName": "Rohit Bewoor",
      "photoUrl": "",
      "userId": "15886637137210861287"
     },
     "user_tz": -60
    },
    "id": "Q8elpst8Qeoy",
    "outputId": "e7d18c58-1265-4835-c4a6-7bd2182bbbc2"
   },
   "outputs": [
    {
     "data": {
      "text/plain": [
       "'../working/weights_out/'"
      ]
     },
     "execution_count": 87,
     "metadata": {},
     "output_type": "execute_result"
    }
   ],
   "source": [
    "OPDIR_WEIGHTS"
   ]
  },
  {
   "cell_type": "code",
   "execution_count": 88,
   "metadata": {
    "id": "7UffJO-CQeo2"
   },
   "outputs": [
    {
     "data": {
      "text/plain": [
       "[]"
      ]
     },
     "execution_count": 88,
     "metadata": {},
     "output_type": "execute_result"
    }
   ],
   "source": [
    "os.listdir(OPDIR_WEIGHTS)"
   ]
  },
  {
   "cell_type": "code",
   "execution_count": null,
   "metadata": {},
   "outputs": [],
   "source": []
  },
  {
   "cell_type": "code",
   "execution_count": 89,
   "metadata": {},
   "outputs": [],
   "source": [
    "def send_email_NO_zip(_inFile, _epoch):\n",
    "    sender = 'xxx' # your email address\n",
    "    receivers = ['xxx','xxx']\n",
    "    mail_host = 'smtp.gmail.com' # check your email provider's doc\n",
    "\n",
    "    # email and passwd\n",
    "    mail_user = 'xxx' # your email address\n",
    "    mail_pass = 'xxxx' # password\n",
    "\n",
    "    # email\n",
    "    message = MIMEMultipart()\n",
    "    message['To'] =  Header('self', 'utf-8') # receive's name, optional\n",
    "    message['Subject'] = Header(f'Weights Zip file - ep_{_epoch}', 'utf-8') # email subject\n",
    "    message.attach(MIMEText('New weights file', 'plain', 'utf-8')) # email body\n",
    "\n",
    "    # attachment\n",
    "    att1 = MIMEApplication(open(_inFile, 'rb').read())\n",
    "    att1.add_header('Content-Disposition', 'attachment', filename=os.path.basename(_inFile))\n",
    "    # att1['Content-Type'] = 'application/octet-stream'\n",
    "    # att1[\"Content-Disposition\"] = 'attachment; filename=\"simnet.pt\"'\n",
    "    message.attach(att1)\n",
    "\n",
    "    try:\n",
    "        server = smtplib.SMTP('smtp.gmail.com', 587)\n",
    "        server.ehlo()\n",
    "        server.starttls()\n",
    "        server.ehlo()\n",
    "        server.login(mail_user, mail_pass)\n",
    "        server.sendmail(sender, receivers, message.as_string())\n",
    "        server.quit()\n",
    "        print(f'\\nEMAIL SUCCESS - for epoch {_epoch}\\n')\n",
    "    except smtplib.SMTPException as e_SMPTException:\n",
    "        print(f'\\nEMAIL FAILED - SMTPException - for epoch {_epoch}\\n{e_SMPTException}\\n')\n",
    "    except Exception as e_unknown:\n",
    "        print(f'\\nEMAIL FAILED - Unknown - for epoch {_epoch}\\n{e_unknown}\\n')"
   ]
  },
  {
   "cell_type": "code",
   "execution_count": 90,
   "metadata": {},
   "outputs": [
    {
     "data": {
      "text/plain": [
       "0"
      ]
     },
     "execution_count": 90,
     "metadata": {},
     "output_type": "execute_result"
    }
   ],
   "source": [
    "start_epoch"
   ]
  },
  {
   "cell_type": "code",
   "execution_count": 91,
   "metadata": {},
   "outputs": [
    {
     "name": "stdout",
     "output_type": "stream",
     "text": [
      "Using learning rate = 0.0010000000474974513\n"
     ]
    }
   ],
   "source": [
    "print(f\"Using learning rate = {optimizer.learning_rate.numpy()}\")"
   ]
  },
  {
   "cell_type": "code",
   "execution_count": null,
   "metadata": {
    "executionInfo": {
     "elapsed": 1541,
     "status": "error",
     "timestamp": 1604935536504,
     "user": {
      "displayName": "Rohit Bewoor",
      "photoUrl": "",
      "userId": "15886637137210861287"
     },
     "user_tz": -60
    },
    "id": "F282s7mdQeo4",
    "outputId": "512365e9-2247-4888-f9a4-bd1f7c2de3a0",
    "scrolled": false
   },
   "outputs": [
    {
     "name": "stdout",
     "output_type": "stream",
     "text": [
      "Training Start time = 07:23:58\n",
      "Epoch 1 Batch 0 Loss 1.8278\n",
      "Epoch 1 Batch 1000 Loss 0.6619\n",
      "Epoch 1 Batch 2000 Loss 0.6780\n",
      "Epoch 1 Batch 3000 Loss 0.6088\n",
      "Epoch 1 Loss 0.681300\n",
      "Time taken for 1 epoch 1398.9130482673645 sec\n",
      "\n",
      "\n",
      "Saved weights for epoch 0 to:\n",
      "../working/weights_out/ATTEND_Decoder_wts_ep_0.h5\n",
      "\n",
      "\n",
      "EMAIL SUCCESS - for epoch 0\n",
      "\n",
      "Epoch 2 Batch 0 Loss 0.6061\n",
      "Epoch 2 Batch 1000 Loss 0.5746\n",
      "Epoch 2 Batch 2000 Loss 0.6007\n",
      "Epoch 2 Batch 3000 Loss 0.5830\n",
      "Epoch 2 Loss 0.590444\n",
      "Time taken for 1 epoch 1337.541874885559 sec\n",
      "\n",
      "\n",
      "Saved weights for epoch 1 to:\n",
      "../working/weights_out/ATTEND_Decoder_wts_ep_1.h5\n",
      "\n",
      "\n",
      "EMAIL SUCCESS - for epoch 1\n",
      "\n",
      "Epoch 3 Batch 0 Loss 0.5523\n",
      "Epoch 3 Batch 1000 Loss 0.6112\n",
      "Epoch 3 Batch 2000 Loss 0.5818\n",
      "Epoch 3 Batch 3000 Loss 0.5446\n",
      "Epoch 3 Loss 0.565615\n",
      "Time taken for 1 epoch 1370.633472919464 sec\n",
      "\n",
      "\n",
      "Saved weights for epoch 2 to:\n",
      "../working/weights_out/ATTEND_Decoder_wts_ep_2.h5\n",
      "\n",
      "\n",
      "EMAIL SUCCESS - for epoch 2\n",
      "\n",
      "Epoch 4 Batch 0 Loss 0.5487\n",
      "Epoch 4 Batch 1000 Loss 0.5929\n",
      "Epoch 4 Batch 2000 Loss 0.5590\n",
      "Epoch 4 Batch 3000 Loss 0.5221\n",
      "Epoch 4 Loss 0.549883\n",
      "Time taken for 1 epoch 1371.0921394824982 sec\n",
      "\n",
      "\n",
      "Saved weights for epoch 3 to:\n",
      "../working/weights_out/ATTEND_Decoder_wts_ep_3.h5\n",
      "\n",
      "\n",
      "EMAIL SUCCESS - for epoch 3\n",
      "\n",
      "Epoch 5 Batch 0 Loss 0.4804\n",
      "Epoch 5 Batch 1000 Loss 0.5733\n",
      "Epoch 5 Batch 2000 Loss 0.5184\n",
      "Epoch 5 Batch 3000 Loss 0.4857\n",
      "Epoch 5 Loss 0.537857\n",
      "Time taken for 1 epoch 1363.1268725395203 sec\n",
      "\n",
      "\n",
      "Saved weights for epoch 4 to:\n",
      "../working/weights_out/ATTEND_Decoder_wts_ep_4.h5\n",
      "\n",
      "\n",
      "EMAIL SUCCESS - for epoch 4\n",
      "\n",
      "Epoch 6 Batch 0 Loss 0.5413\n",
      "Epoch 6 Batch 1000 Loss 0.5503\n",
      "Epoch 6 Batch 2000 Loss 0.5475\n",
      "Epoch 6 Batch 3000 Loss 0.4947\n",
      "Epoch 6 Loss 0.528016\n",
      "Time taken for 1 epoch 1379.4155132770538 sec\n",
      "\n",
      "\n",
      "Saved weights for epoch 5 to:\n",
      "../working/weights_out/ATTEND_Decoder_wts_ep_5.h5\n",
      "\n",
      "\n",
      "EMAIL SUCCESS - for epoch 5\n",
      "\n",
      "Epoch 7 Batch 0 Loss 0.4923\n",
      "Epoch 7 Batch 1000 Loss 0.5541\n",
      "Epoch 7 Batch 2000 Loss 0.5436\n",
      "Epoch 7 Batch 3000 Loss 0.4782\n",
      "Epoch 7 Loss 0.519586\n",
      "Time taken for 1 epoch 1361.2525305747986 sec\n",
      "\n",
      "\n",
      "Saved weights for epoch 6 to:\n",
      "../working/weights_out/ATTEND_Decoder_wts_ep_6.h5\n",
      "\n",
      "\n",
      "EMAIL SUCCESS - for epoch 6\n",
      "\n",
      "Epoch 8 Batch 0 Loss 0.4829\n",
      "Epoch 8 Batch 1000 Loss 0.5125\n",
      "Epoch 8 Batch 2000 Loss 0.5126\n",
      "Epoch 8 Batch 3000 Loss 0.4986\n",
      "Epoch 8 Loss 0.512232\n",
      "Time taken for 1 epoch 1351.617451429367 sec\n",
      "\n",
      "\n",
      "Saved weights for epoch 7 to:\n",
      "../working/weights_out/ATTEND_Decoder_wts_ep_7.h5\n",
      "\n",
      "\n",
      "EMAIL SUCCESS - for epoch 7\n",
      "\n",
      "Epoch 9 Batch 0 Loss 0.4836\n"
     ]
    }
   ],
   "source": [
    "EPOCHS = 20\n",
    "\n",
    "print(f\"Training Start time = {datetime.datetime.now().strftime('%H:%M:%S')}\")\n",
    "for epoch in range(start_epoch, EPOCHS):\n",
    "    start = time.time()\n",
    "    total_loss = 0\n",
    "\n",
    "    for (batch, (img_tensor, target)) in enumerate(dataset):\n",
    "        batch_loss, t_loss = train_step(img_tensor, target)\n",
    "        total_loss += t_loss\n",
    "\n",
    "        if batch % 1000 == 0:\n",
    "            print ('Epoch {} Batch {} Loss {:.4f}'.format(\n",
    "                epoch + 1, batch, batch_loss.numpy() / int(target.shape[1])))\n",
    "    # storing the epoch end loss value to plot later\n",
    "    loss_plot.append(total_loss / num_steps)\n",
    "\n",
    "    if epoch % 1 == 0:\n",
    "        ckpt_manager.save()\n",
    "    \n",
    "    print ('Epoch {} Loss {:.6f}'.format(epoch + 1,\n",
    "                                         total_loss/num_steps))\n",
    "    print ('Time taken for 1 epoch {} sec\\n'.format(time.time() - start))\n",
    "    \n",
    "    ## save the weights\n",
    "    new_weights_file = OPDIR_WEIGHTS + 'ATTEND_Decoder_wts_ep_' + str(epoch) + '.h5'\n",
    "    decoder.save_weights( new_weights_file )\n",
    "    print(f\"\"\"\\nSaved weights for epoch {epoch} to:\\n{new_weights_file}\\n\"\"\")\n",
    "    send_email_NO_zip(new_weights_file, epoch)\n",
    "\n",
    "print(f\"Training End time = {datetime.datetime.now().strftime('%H:%M:%S')}\")"
   ]
  },
  {
   "cell_type": "code",
   "execution_count": null,
   "metadata": {
    "id": "Nc2oSR0pQepL"
   },
   "outputs": [],
   "source": [
    "plt.plot(loss_plot)\n",
    "plt.xlabel('Epochs')\n",
    "plt.ylabel('Loss')\n",
    "plt.title('Loss Plot')\n",
    "plt.show()"
   ]
  },
  {
   "cell_type": "code",
   "execution_count": null,
   "metadata": {},
   "outputs": [],
   "source": [
    "optimizer.learning_rate.numpy()"
   ]
  },
  {
   "cell_type": "code",
   "execution_count": null,
   "metadata": {
    "id": "lNGXIOxwQepQ"
   },
   "outputs": [],
   "source": [
    "decoder.summary()"
   ]
  },
  {
   "cell_type": "code",
   "execution_count": null,
   "metadata": {
    "id": "G7jzE8Q7j9od"
   },
   "outputs": [],
   "source": [
    "decoder.attention.summary()"
   ]
  },
  {
   "cell_type": "code",
   "execution_count": null,
   "metadata": {
    "id": "Ds7NW1yVQeqq"
   },
   "outputs": [],
   "source": []
  },
  {
   "cell_type": "code",
   "execution_count": null,
   "metadata": {
    "id": "179fT9EEQeqt"
   },
   "outputs": [],
   "source": []
  },
  {
   "cell_type": "code",
   "execution_count": null,
   "metadata": {
    "id": "0D3b7izSIqUb"
   },
   "outputs": [],
   "source": []
  }
 ],
 "metadata": {
  "kernelspec": {
   "display_name": "Python 3",
   "language": "python",
   "name": "python3"
  },
  "language_info": {
   "codemirror_mode": {
    "name": "ipython",
    "version": 3
   },
   "file_extension": ".py",
   "mimetype": "text/x-python",
   "name": "python",
   "nbconvert_exporter": "python",
   "pygments_lexer": "ipython3",
   "version": "3.7.7"
  }
 },
 "nbformat": 4,
 "nbformat_minor": 4
}
